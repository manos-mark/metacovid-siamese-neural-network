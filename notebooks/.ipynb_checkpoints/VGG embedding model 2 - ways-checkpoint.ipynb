{
 "cells": [
  {
   "cell_type": "markdown",
   "metadata": {
    "id": "view-in-github"
   },
   "source": [
    "<a href=\"https://colab.research.google.com/github/manos-mark/metacovid-siamese-neural-network/blob/main/Siamese_NN_for_MetaCovid.ipynb\" target=\"_parent\"><img src=\"https://colab.research.google.com/assets/colab-badge.svg\" alt=\"Open In Colab\"/></a>"
   ]
  },
  {
   "cell_type": "markdown",
   "metadata": {
    "id": "2muxqaxvTlzk"
   },
   "source": [
    "# Transfer Learning\n",
    "\n",
    "In this notebook, we are going to use pre-trained networks to solve covid diagnosis challenge. Specifically, we will use a network trained on [ImageNet](http://www.image-net.org/). ImageNet is a massive dataset with over 1 million labeled images in 1,000 categories.\n",
    "\n",
    "These pre-trained models work astonishingly well as feature detectors for images they weren't trained on. Using a pre-trained network on images not in the training set is called **Transfer Learning**. Here we'll use transfer learning to train a network that can classify our covid, non-covid and pneumonia classes."
   ]
  },
  {
   "cell_type": "markdown",
   "metadata": {
    "id": "9QNYGxmtIXQP"
   },
   "source": [
    "## Import Resources"
   ]
  },
  {
   "cell_type": "code",
   "execution_count": 1,
   "metadata": {
    "execution": {
     "iopub.execute_input": "2021-10-11T15:41:34.434577Z",
     "iopub.status.busy": "2021-10-11T15:41:34.434165Z",
     "iopub.status.idle": "2021-10-11T15:41:34.561558Z",
     "shell.execute_reply": "2021-10-11T15:41:34.560620Z",
     "shell.execute_reply.started": "2021-10-11T15:41:34.434483Z"
    },
    "id": "BIlEbfVnroms"
   },
   "outputs": [],
   "source": [
    "import warnings\n",
    "warnings.filterwarnings('ignore')"
   ]
  },
  {
   "cell_type": "code",
   "execution_count": 2,
   "metadata": {
    "execution": {
     "iopub.execute_input": "2021-10-11T16:14:19.217291Z",
     "iopub.status.busy": "2021-10-11T16:14:19.216834Z",
     "iopub.status.idle": "2021-10-11T16:14:19.244161Z",
     "shell.execute_reply": "2021-10-11T16:14:19.242091Z",
     "shell.execute_reply.started": "2021-10-11T16:14:19.217246Z"
    },
    "id": "BmUJmdTpU1Pz"
   },
   "outputs": [
    {
     "ename": "ModuleNotFoundError",
     "evalue": "No module named 'scripts.utils'",
     "output_type": "error",
     "traceback": [
      "\u001b[1;31m---------------------------------------------------------------------------\u001b[0m",
      "\u001b[1;31mModuleNotFoundError\u001b[0m                       Traceback (most recent call last)",
      "\u001b[1;32m~\\AppData\\Local\\Temp/ipykernel_13164/3598053512.py\u001b[0m in \u001b[0;36m<module>\u001b[1;34m\u001b[0m\n\u001b[0;32m      6\u001b[0m \u001b[1;32mimport\u001b[0m \u001b[0mmath\u001b[0m\u001b[1;33m\u001b[0m\u001b[1;33m\u001b[0m\u001b[0m\n\u001b[0;32m      7\u001b[0m \u001b[1;33m\u001b[0m\u001b[0m\n\u001b[1;32m----> 8\u001b[1;33m \u001b[1;32mimport\u001b[0m \u001b[0mscripts\u001b[0m\u001b[1;33m.\u001b[0m\u001b[0mutils\u001b[0m \u001b[1;32mas\u001b[0m \u001b[0mutils\u001b[0m\u001b[1;33m\u001b[0m\u001b[1;33m\u001b[0m\u001b[0m\n\u001b[0m\u001b[0;32m      9\u001b[0m \u001b[1;33m\u001b[0m\u001b[0m\n\u001b[0;32m     10\u001b[0m \u001b[1;32mfrom\u001b[0m \u001b[0mtensorflow\u001b[0m\u001b[1;33m.\u001b[0m\u001b[0mkeras\u001b[0m\u001b[1;33m.\u001b[0m\u001b[0mpreprocessing\u001b[0m\u001b[1;33m.\u001b[0m\u001b[0mimage\u001b[0m \u001b[1;32mimport\u001b[0m \u001b[0mImageDataGenerator\u001b[0m\u001b[1;33m\u001b[0m\u001b[1;33m\u001b[0m\u001b[0m\n",
      "\u001b[1;31mModuleNotFoundError\u001b[0m: No module named 'scripts.utils'"
     ]
    }
   ],
   "source": [
    "import os\n",
    "import time\n",
    "import numpy as np\n",
    "import matplotlib.pyplot as plt\n",
    "import tensorflow as tf\n",
    "import math\n",
    "\n",
    "import scripts.utils as utils\n",
    "\n",
    "from tensorflow.keras.preprocessing.image import ImageDataGenerator\n",
    "from tensorflow.keras.preprocessing import image\n",
    "from tensorflow.keras.applications import vgg16, imagenet_utils\n",
    "from tensorflow.keras.optimizers import Adam, RMSprop\n",
    "from tensorflow.keras.regularizers import l2\n",
    "from tensorflow.keras.metrics import binary_crossentropy\n",
    "from tensorflow.keras.layers import Dense, Flatten, Input, Lambda, Dropout, BatchNormalization\n",
    "from tensorflow.keras.models import Model\n",
    "from tensorflow.keras.callbacks import EarlyStopping, ModelCheckpoint, ReduceLROnPlateau\n",
    "\n",
    "from sklearn.metrics import confusion_matrix, ConfusionMatrixDisplay, accuracy_score, precision_score, recall_score\n",
    "import itertools\n",
    "\n",
    "from skimage import exposure\n",
    "\n",
    "import logging\n",
    "from tensorflow.keras.models import load_model"
   ]
  },
  {
   "cell_type": "code",
   "execution_count": null,
   "metadata": {
    "execution": {
     "iopub.execute_input": "2021-10-11T15:41:45.240101Z",
     "iopub.status.busy": "2021-10-11T15:41:45.239760Z",
     "iopub.status.idle": "2021-10-11T15:41:45.246260Z",
     "shell.execute_reply": "2021-10-11T15:41:45.245058Z",
     "shell.execute_reply.started": "2021-10-11T15:41:45.240062Z"
    },
    "id": "V9eJKqfJromz"
   },
   "outputs": [],
   "source": [
    "import logging\n",
    "logger = tf.get_logger()\n",
    "logger.setLevel(logging.ERROR)"
   ]
  },
  {
   "cell_type": "code",
   "execution_count": null,
   "metadata": {
    "execution": {
     "iopub.execute_input": "2021-10-11T15:41:47.617635Z",
     "iopub.status.busy": "2021-10-11T15:41:47.616929Z",
     "iopub.status.idle": "2021-10-11T15:41:49.899282Z",
     "shell.execute_reply": "2021-10-11T15:41:49.898359Z",
     "shell.execute_reply.started": "2021-10-11T15:41:47.617603Z"
    },
    "id": "_Abet3-Yydgw",
    "outputId": "6e6ba2b9-62b5-4bd5-a0d8-6dd19770a65e"
   },
   "outputs": [],
   "source": [
    "print('Using:')\n",
    "print('\\t\\u2022 TensorFlow version:', tf.__version__)\n",
    "print('\\t\\u2022 tf.keras version:', tf.keras.__version__)\n",
    "print('\\t\\u2022 Running on GPU' if tf.test.is_gpu_available() else '\\t\\u2022 GPU device not found. Running on CPU')"
   ]
  },
  {
   "cell_type": "markdown",
   "metadata": {
    "id": "RMr2MeTCIhJd"
   },
   "source": [
    "## Load the Dataset"
   ]
  },
  {
   "cell_type": "code",
   "execution_count": null,
   "metadata": {
    "execution": {
     "iopub.execute_input": "2021-10-11T15:41:54.286979Z",
     "iopub.status.busy": "2021-10-11T15:41:54.286690Z",
     "iopub.status.idle": "2021-10-11T15:41:54.296405Z",
     "shell.execute_reply": "2021-10-11T15:41:54.294635Z",
     "shell.execute_reply.started": "2021-10-11T15:41:54.286943Z"
    },
    "id": "vByiTDeFyMBv"
   },
   "outputs": [],
   "source": [
    "base_dir = os.path.join('dataset', 'pretrain')\n",
    "\n",
    "train_dir = os.path.join(base_dir, 'train')\n",
    "val_dir = os.path.join(base_dir, 'validation')\n",
    "test_dir = os.path.join(base_dir, 'test')\n",
    "\n",
    "train_covid_dir = os.path.join(train_dir, 'covid')\n",
    "train_normal_dir = os.path.join(train_dir, 'normal')\n",
    "#train_pneumonia_dir = os.path.join(train_dir, 'pneumonia')\n",
    "\n",
    "val_covid_dir = os.path.join(val_dir, 'covid')\n",
    "val_normal_dir = os.path.join(val_dir, 'normal')\n",
    "#val_pneumonia_dir = os.path.join(val_dir, 'pneumonia')\n",
    "\n",
    "INPUT_SIZE = 100\n",
    "BATCH_SIZE = 16"
   ]
  },
  {
   "cell_type": "code",
   "execution_count": null,
   "metadata": {},
   "outputs": [],
   "source": [
    "\"\"\" Investigate train - val datasets \"\"\"\n",
    "\n",
    "train_batches = ImageDataGenerator(rescale = 1 / 255.).flow_from_directory(train_dir,\n",
    "                                                         target_size=(INPUT_SIZE,INPUT_SIZE),\n",
    "                                                         class_mode='categorical',\n",
    "                                                         shuffle=True,\n",
    "                                                         seed=42,\n",
    "                                                         batch_size=BATCH_SIZE)\n",
    "\n",
    "val_batches = ImageDataGenerator(rescale = 1 / 255.).flow_from_directory(val_dir,\n",
    "                                                         target_size=(INPUT_SIZE,INPUT_SIZE),\n",
    "                                                         class_mode='categorical',\n",
    "                                                         shuffle=True,\n",
    "                                                         seed=42,\n",
    "                                                         batch_size=BATCH_SIZE)\n",
    "\n"
   ]
  },
  {
   "cell_type": "markdown",
   "metadata": {
    "id": "yotXUFkbI-9B"
   },
   "source": [
    "## Explore the Dataset"
   ]
  },
  {
   "cell_type": "code",
   "execution_count": null,
   "metadata": {
    "execution": {
     "iopub.execute_input": "2021-10-11T15:41:57.637188Z",
     "iopub.status.busy": "2021-10-11T15:41:57.636806Z",
     "iopub.status.idle": "2021-10-11T15:41:57.655701Z",
     "shell.execute_reply": "2021-10-11T15:41:57.654173Z",
     "shell.execute_reply.started": "2021-10-11T15:41:57.637159Z"
    },
    "id": "V7Vii2eIEBPl",
    "outputId": "33d79750-cf9d-4955-afb8-0ca49bd8eaa8"
   },
   "outputs": [],
   "source": [
    "num_covid_train = int(len(os.listdir(train_covid_dir)))\n",
    "num_normal_train = int(len(os.listdir(train_normal_dir)))\n",
    "#num_pneumonia_train = int(len(os.listdir(train_pneumonia_dir)))\n",
    "\n",
    "num_covid_val = int(len(os.listdir(val_covid_dir)))\n",
    "num_normal_val = int(len(os.listdir(val_normal_dir)))\n",
    "#num_pneumonia_val = int(len(os.listdir(val_pneumonia_dir)))\n",
    "\n",
    "print('The dataset contains:')\n",
    "print(f'\\u2022 %d training images'%(num_covid_train + num_normal_train))\n",
    "print(f'\\u2022 %d validation images'%(num_covid_val + num_normal_val))\n",
    "\n",
    "print('\\nThe training set contains:')\n",
    "print(f'\\u2022 %d covid images'%(num_covid_train))\n",
    "print(f'\\u2022 %d normal images'%(num_normal_train))\n",
    "#print(f'\\u2022 %d pneumonia images'%(num_pneumonia_train))\n",
    "\n",
    "print('\\nThe validation set contains:')\n",
    "print(f'\\u2022 %d covid images'%(num_covid_val))\n",
    "print(f'\\u2022 %d normal images'%(num_normal_val))\n",
    "#print(f'\\u2022 %d pneumonia images'%(num_pneumonia_val))"
   ]
  },
  {
   "cell_type": "markdown",
   "metadata": {
    "id": "9OFVEQQSleKF"
   },
   "source": [
    "## Transfer Learning \n"
   ]
  },
  {
   "cell_type": "code",
   "execution_count": null,
   "metadata": {
    "execution": {
     "iopub.execute_input": "2021-10-11T16:30:00.583147Z",
     "iopub.status.busy": "2021-10-11T16:30:00.582161Z",
     "iopub.status.idle": "2021-10-11T16:30:00.607487Z",
     "shell.execute_reply": "2021-10-11T16:30:00.605574Z",
     "shell.execute_reply.started": "2021-10-11T16:30:00.583111Z"
    },
    "id": "AqtAGNlZnjvE",
    "outputId": "ca4779c2-df0a-4b27-91a6-4ce2bb76927f"
   },
   "outputs": [],
   "source": [
    "base_model = vgg16.VGG16(weights='imagenet', include_top=False, input_shape=(INPUT_SIZE,INPUT_SIZE,3))\n",
    "    \n",
    "print(\"Number of layers in the base model: \", len(base_model.layers))\n",
    "\n",
    "base_model.trainable = True\n",
    "\n",
    "base_model.summary()"
   ]
  },
  {
   "cell_type": "markdown",
   "metadata": {
    "id": "_VEEN4oUoZMW"
   },
   "source": [
    "## Build the Convolutional Model"
   ]
  },
  {
   "cell_type": "code",
   "execution_count": null,
   "metadata": {
    "execution": {
     "iopub.execute_input": "2021-10-11T16:30:04.670676Z",
     "iopub.status.busy": "2021-10-11T16:30:04.670309Z",
     "iopub.status.idle": "2021-10-11T16:30:04.792950Z",
     "shell.execute_reply": "2021-10-11T16:30:04.792106Z",
     "shell.execute_reply.started": "2021-10-11T16:30:04.670647Z"
    },
    "id": "le6eV8RfoQHc",
    "outputId": "b877a16e-eca3-413c-d690-d1e53dff677b"
   },
   "outputs": [],
   "source": [
    "last_output = base_model.output\n",
    "\n",
    "x = Flatten()(last_output)\n",
    "x = Dense(3, activation='softmax')(x)\n",
    "\n",
    "embedding_network = Model(inputs=[base_model.input], outputs=[x])\n",
    "\n",
    "optimizer = Adam(learning_rate=0.00001) \n",
    "embedding_network.compile(loss='categorical_crossentropy', optimizer=optimizer, metrics=[\"accuracy\"])\n",
    "embedding_network.summary()"
   ]
  },
  {
   "cell_type": "markdown",
   "metadata": {
    "id": "SMjLsIIFILgN"
   },
   "source": [
    "## Train the Convolutional model"
   ]
  },
  {
   "cell_type": "code",
   "execution_count": null,
   "metadata": {
    "execution": {
     "iopub.execute_input": "2021-10-11T16:30:08.522503Z",
     "iopub.status.busy": "2021-10-11T16:30:08.522179Z",
     "iopub.status.idle": "2021-10-11T16:46:05.523185Z",
     "shell.execute_reply": "2021-10-11T16:46:05.522215Z",
     "shell.execute_reply.started": "2021-10-11T16:30:08.522474Z"
    },
    "id": "gRwMTjJ5IQER",
    "outputId": "ea1d404d-6eff-4f5d-ae1a-a956cd52dc13"
   },
   "outputs": [],
   "source": [
    "\"\"\" callbacks \"\"\"\n",
    "    \n",
    "early_stopping = EarlyStopping(monitor='val_loss', patience=10)\n",
    "\n",
    "checkpointer = ModelCheckpoint(filepath='embedding_network.h5', verbose=1, \n",
    "                               save_best_only=True)\n",
    "\n",
    "\"\"\" Train the model \"\"\"\n",
    "\n",
    "history = embedding_network.fit(\n",
    "    train_batches,\n",
    "    validation_data = val_batches,\n",
    "    epochs = 140,\n",
    "    verbose = 1,\n",
    "    shuffle = True,\n",
    "    callbacks = [early_stopping, checkpointer]\n",
    ")"
   ]
  },
  {
   "cell_type": "code",
   "execution_count": null,
   "metadata": {},
   "outputs": [],
   "source": []
  },
  {
   "cell_type": "markdown",
   "metadata": {
    "id": "is6rI1xWWUlh"
   },
   "source": [
    "## Evaluate the Convolutional model"
   ]
  },
  {
   "cell_type": "code",
   "execution_count": null,
   "metadata": {
    "execution": {
     "iopub.execute_input": "2021-10-11T16:46:05.525970Z",
     "iopub.status.busy": "2021-10-11T16:46:05.525602Z",
     "iopub.status.idle": "2021-10-11T16:46:05.819254Z",
     "shell.execute_reply": "2021-10-11T16:46:05.818332Z",
     "shell.execute_reply.started": "2021-10-11T16:46:05.525922Z"
    },
    "id": "RTEcoRMgWXDm"
   },
   "outputs": [],
   "source": [
    "\"\"\" plot the train and val accuracies \"\"\"\n",
    "# Plot the accuracy\n",
    "utils.plt_metric(history=history.history, metric=\"acc\", title=\"Model accuracy\")"
   ]
  },
  {
   "cell_type": "code",
   "execution_count": null,
   "metadata": {},
   "outputs": [],
   "source": [
    "# Plot the constrastive loss\n",
    "utils.plt_metric(history=history.history, metric=\"loss\", title=\"Constrastive Loss\")"
   ]
  },
  {
   "cell_type": "markdown",
   "metadata": {
    "id": "VBfxg0GoPdiO"
   },
   "source": [
    "# Check Predictions"
   ]
  },
  {
   "cell_type": "code",
   "execution_count": null,
   "metadata": {
    "id": "41kBLcTJVX3y"
   },
   "outputs": [],
   "source": [
    "test_batches = ImageDataGenerator(rescale = 1 / 255.).flow_from_directory(test_dir,\n",
    "                                                         target_size=(INPUT_SIZE,INPUT_SIZE),\n",
    "                                                         class_mode='categorical',\n",
    "                                                         shuffle=False,\n",
    "                                                         seed=42,\n",
    "                                                         batch_size=BATCH_SIZE)\n",
    "\n",
    "test_covid_dir = os.path.join(test_dir, 'covid')\n",
    "test_normal_dir = os.path.join(test_dir, 'normal')\n",
    "test_pneumonia_dir = os.path.join(test_dir, 'pneumonia')\n",
    "\n",
    "num_covid_test = int(len(os.listdir(test_covid_dir)))\n",
    "num_normal_test = int(len(os.listdir(test_normal_dir)))\n",
    "num_pneumonia_test = int(len(os.listdir(test_pneumonia_dir)))\n",
    "\n",
    "print('\\nThe test set contains:')\n",
    "print('\\u2022 {} covid images'.format(num_covid_test))\n",
    "print('\\u2022 {} normal images'.format(num_normal_test))\n",
    "print('\\u2022 {} pneumonia images'.format(num_pneumonia_test))"
   ]
  },
  {
   "cell_type": "code",
   "execution_count": null,
   "metadata": {},
   "outputs": [],
   "source": [
    "\"\"\" Test the model \"\"\"\n",
    "y_test = test_batches.classes\n",
    "\n",
    "#Confution Matrix and Classification Report\n",
    "Y_pred = model.predict_generator(test_batches, (num_covid_test + num_normal_test + num_pneumonia_test) // BATCH_SIZE+1)\n",
    "y_pred = np.argmax(Y_pred, axis=1)\n",
    "\n",
    "class_labels = list(test_batches.class_indices.keys())   \n",
    "\n",
    "cm = confusion_matrix(test_batches.classes, y_pred)    \n",
    "cm_display = ConfusionMatrixDisplay(cm, class_labels).plot()\n",
    "\n",
    "# results = model.evaluate_generator(test_batches)\n",
    "print(\"\\nEvaluate on test data\")\n",
    "print(\"Accuracy:\", accuracy_score(y_test, y_pred))\n",
    "print(\"Precision:\", precision_score(y_test, y_pred, average='weighted'))\n",
    "print(\"Recall:\", recall_score(y_test, y_pred, average='weighted'))"
   ]
  },
  {
   "cell_type": "code",
   "execution_count": null,
   "metadata": {},
   "outputs": [],
   "source": [
    "tf.keras.backend.clear_session()"
   ]
  }
 ],
 "metadata": {
  "kernelspec": {
   "display_name": "Python 3 (ipykernel)",
   "language": "python",
   "name": "python3"
  },
  "language_info": {
   "codemirror_mode": {
    "name": "ipython",
    "version": 3
   },
   "file_extension": ".py",
   "mimetype": "text/x-python",
   "name": "python",
   "nbconvert_exporter": "python",
   "pygments_lexer": "ipython3",
   "version": "3.7.10"
  },
  "toc": {
   "base_numbering": 1,
   "nav_menu": {},
   "number_sections": true,
   "sideBar": true,
   "skip_h1_title": false,
   "title_cell": "Table of Contents",
   "title_sidebar": "Contents",
   "toc_cell": false,
   "toc_position": {},
   "toc_section_display": true,
   "toc_window_display": false
  },
  "varInspector": {
   "cols": {
    "lenName": 16,
    "lenType": 16,
    "lenVar": 40
   },
   "kernels_config": {
    "python": {
     "delete_cmd_postfix": "",
     "delete_cmd_prefix": "del ",
     "library": "var_list.py",
     "varRefreshCmd": "print(var_dic_list())"
    },
    "r": {
     "delete_cmd_postfix": ") ",
     "delete_cmd_prefix": "rm(",
     "library": "var_list.r",
     "varRefreshCmd": "cat(var_dic_list()) "
    }
   },
   "types_to_exclude": [
    "module",
    "function",
    "builtin_function_or_method",
    "instance",
    "_Feature"
   ],
   "window_display": false
  }
 },
 "nbformat": 4,
 "nbformat_minor": 4
}
