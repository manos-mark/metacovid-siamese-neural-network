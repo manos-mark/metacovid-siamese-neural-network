{
 "cells": [
  {
   "cell_type": "code",
   "execution_count": 1,
   "id": "fc42bd44",
   "metadata": {},
   "outputs": [],
   "source": [
    "import utils\n",
    "\n",
    "import tensorflow as tf\n",
    "from tensorflow.keras.layers import Dense, Input, Flatten, Lambda\n",
    "from tensorflow.keras.models import Model\n",
    "from tensorflow.keras.optimizers import Adam\n",
    "from sklearn.metrics import confusion_matrix, ConfusionMatrixDisplay, accuracy_score, precision_score, recall_score, roc_auc_score, f1_score\n",
    "\n",
    "import numpy as np\n",
    "import os\n",
    "\n",
    "from tensorflow.keras.callbacks import EarlyStopping, ModelCheckpoint, ReduceLROnPlateau\n",
    "\n",
    "import logging"
   ]
  },
  {
   "cell_type": "code",
   "execution_count": 2,
   "id": "fde1ea84",
   "metadata": {},
   "outputs": [
    {
     "name": "stdout",
     "output_type": "stream",
     "text": [
      "Using:\n",
      "\t• TensorFlow version: 2.1.0\n",
      "\t• tf.keras version: 2.2.4-tf\n",
      "\t• Running on GPU\n"
     ]
    }
   ],
   "source": [
    "logger = tf.get_logger()\n",
    "logger.setLevel(logging.ERROR)\n",
    "\n",
    "print('Using:')\n",
    "print('\\t\\u2022 TensorFlow version:', tf.__version__)\n",
    "print('\\t\\u2022 tf.keras version:', tf.keras.__version__)\n",
    "print('\\t\\u2022 Running on GPU' if tf.test.is_gpu_available() else '\\t\\u2022 GPU device not found. Running on CPU')"
   ]
  },
  {
   "cell_type": "code",
   "execution_count": 3,
   "id": "51e983b7",
   "metadata": {},
   "outputs": [
    {
     "name": "stdout",
     "output_type": "stream",
     "text": [
      "Found 24 images belonging to 3 classes.\n",
      "The train set contains 24\n",
      "Found 24 images belonging to 3 classes.\n",
      "The valid set contains 24\n",
      "Found 648 images belonging to 3 classes.\n",
      "The test set contains 648\n"
     ]
    }
   ],
   "source": [
    "basedir = os.path.join(\"C:\\\\Users\\\\aktas\\\\Desktop\\\\VIBOT\\\\3.semester\\\\Meta-Learning\\\\project_final\\\\metacovid-siamese-neural-network\", \"dataset\", \"siamese\") \n",
    "\n",
    "train_image_list, train_y_list = utils.load_images(basedir, 'train', (100,100))\n",
    "print(\"The train set contains\",len(train_image_list)) \n",
    "\n",
    "valid_image_list, valid_y_list = utils.load_images(basedir, 'validation', (100,100))   \n",
    "print(\"The valid set contains\", len(valid_image_list))  \n",
    "\n",
    "test_image_list, test_y_list = utils.load_images(basedir, 'test', (100,100))   \n",
    "print(\"The test set contains\", len(test_image_list)) "
   ]
  },
  {
   "cell_type": "code",
   "execution_count": 4,
   "id": "b9e510ea",
   "metadata": {},
   "outputs": [
    {
     "name": "stdout",
     "output_type": "stream",
     "text": [
      "number of pairs for training 48\n",
      "number of pairs for validation 48\n",
      "number of pairs for test 1296\n"
     ]
    }
   ],
   "source": [
    "# make train pairs\n",
    "pairs_train, labels_train = utils.make_pairs(train_image_list, train_y_list)\n",
    "\n",
    "# make validation pairs\n",
    "pairs_val, labels_val = utils.make_pairs(valid_image_list, valid_y_list)\n",
    "\n",
    "# make test pairs\n",
    "pairs_test, labels_test = utils.make_pairs(test_image_list, test_y_list)\n",
    "\n",
    "x_train_1 = pairs_train[:, 0]  \n",
    "x_train_2 = pairs_train[:, 1]\n",
    "print(\"number of pairs for training\", np.shape(x_train_1)[0]) \n",
    "\n",
    "x_val_1 = pairs_val[:, 0] \n",
    "x_val_2 = pairs_val[:, 1]\n",
    "print(\"number of pairs for validation\", np.shape(x_val_1)[0]) \n",
    "\n",
    "x_test_1 = pairs_test[:, 0] \n",
    "x_test_2 = pairs_test[:, 1]\n",
    "print(\"number of pairs for test\", np.shape(x_test_1)[0]) "
   ]
  },
  {
   "cell_type": "code",
   "execution_count": 5,
   "id": "0ab81282",
   "metadata": {},
   "outputs": [
    {
     "name": "stdout",
     "output_type": "stream",
     "text": [
      "Model: \"model\"\n",
      "__________________________________________________________________________________________________\n",
      "Layer (type)                    Output Shape         Param #     Connected to                     \n",
      "==================================================================================================\n",
      "input_1 (InputLayer)            [(None, 100, 100, 3) 0                                            \n",
      "__________________________________________________________________________________________________\n",
      "input_2 (InputLayer)            [(None, 100, 100, 3) 0                                            \n",
      "__________________________________________________________________________________________________\n",
      "sequential (Sequential)         (None, 5120)         14748995    input_1[0][0]                    \n",
      "                                                                 input_2[0][0]                    \n",
      "__________________________________________________________________________________________________\n",
      "lambda (Lambda)                 (None, 1)            0           sequential[1][0]                 \n",
      "                                                                 sequential[2][0]                 \n",
      "__________________________________________________________________________________________________\n",
      "dense (Dense)                   (None, 1)            2           lambda[0][0]                     \n",
      "==================================================================================================\n",
      "Total params: 14,748,997\n",
      "Trainable params: 20,482\n",
      "Non-trainable params: 14,728,515\n",
      "__________________________________________________________________________________________________\n"
     ]
    }
   ],
   "source": [
    "tf.compat.v1.reset_default_graph()\n",
    "\n",
    "SIAMESE_MODEL_FNAME = 'siamese_network.h5'\n",
    "EMBEDDING_MODEL_FNAME = 'embedding_network.h5'\n",
    "\n",
    "input_1 = Input((100,100,3))\n",
    "input_2 = Input((100,100,3))\n",
    "\n",
    "embedding_network = tf.keras.models.load_model(EMBEDDING_MODEL_FNAME)\n",
    "embedding_network.trainable = False\n",
    "\n",
    "model = tf.keras.Sequential() \n",
    "for layer in embedding_network.layers:  \n",
    "    model.add(layer) \n",
    "\n",
    "model.add(Flatten(name='flat'))\n",
    "model.add(Dense(5120, name='den', activation='sigmoid', kernel_regularizer='l2')) \n",
    " \n",
    "output_1 = model(input_1) \n",
    "output_2 = model(input_2) \n",
    " \n",
    "merge_layer = Lambda(utils.manhattan_distance)([output_1, output_2]) \n",
    "output_layer = Dense(1, activation=\"sigmoid\")(merge_layer) \n",
    "siamese = Model(inputs=[input_1, input_2], outputs=output_layer) \n",
    "siamese.summary()"
   ]
  },
  {
   "cell_type": "code",
   "execution_count": 6,
   "id": "84bde165",
   "metadata": {},
   "outputs": [],
   "source": [
    "\"\"\" callbacks \"\"\"\n",
    "\n",
    "reduce_lr = ReduceLROnPlateau(monitor='val_loss', factor=0.2, patience=5, min_lr=0.00001)\n",
    "\n",
    "early_stopping = EarlyStopping(monitor='val_loss', patience=10, verbose=1, min_delta=0.0001)\n",
    "\n",
    "checkpointer = ModelCheckpoint(filepath='siamese_network.h5', verbose=1, \n",
    "                                save_best_only=True)"
   ]
  },
  {
   "cell_type": "code",
   "execution_count": 7,
   "id": "4aa63961",
   "metadata": {},
   "outputs": [
    {
     "name": "stdout",
     "output_type": "stream",
     "text": [
      "Model: \"model\"\n",
      "__________________________________________________________________________________________________\n",
      "Layer (type)                    Output Shape         Param #     Connected to                     \n",
      "==================================================================================================\n",
      "input_1 (InputLayer)            [(None, 100, 100, 3) 0                                            \n",
      "__________________________________________________________________________________________________\n",
      "input_2 (InputLayer)            [(None, 100, 100, 3) 0                                            \n",
      "__________________________________________________________________________________________________\n",
      "sequential (Sequential)         (None, 5120)         14748995    input_1[0][0]                    \n",
      "                                                                 input_2[0][0]                    \n",
      "__________________________________________________________________________________________________\n",
      "lambda (Lambda)                 (None, 1)            0           sequential[1][0]                 \n",
      "                                                                 sequential[2][0]                 \n",
      "__________________________________________________________________________________________________\n",
      "dense (Dense)                   (None, 1)            2           lambda[0][0]                     \n",
      "==================================================================================================\n",
      "Total params: 14,748,997\n",
      "Trainable params: 20,482\n",
      "Non-trainable params: 14,728,515\n",
      "__________________________________________________________________________________________________\n",
      "Train on 48 samples, validate on 48 samples\n",
      "Epoch 1/100\n",
      "43/48 [=========================>....] - ETA: 0s - loss: 0.6379 - accuracy: 0.5814\n",
      "Epoch 00001: val_loss improved from inf to 0.64688, saving model to siamese_network.h5\n",
      "48/48 [==============================] - 4s 77ms/sample - loss: 0.6388 - accuracy: 0.5833 - val_loss: 0.6469 - val_accuracy: 0.6042\n",
      "Epoch 2/100\n",
      "42/48 [=========================>....] - ETA: 0s - loss: 0.6163 - accuracy: 0.5714\n",
      "Epoch 00002: val_loss improved from 0.64688 to 0.63032, saving model to siamese_network.h5\n",
      "48/48 [==============================] - 1s 21ms/sample - loss: 0.6201 - accuracy: 0.6250 - val_loss: 0.6303 - val_accuracy: 0.6250\n",
      "Epoch 3/100\n",
      "43/48 [=========================>....] - ETA: 0s - loss: 0.6061 - accuracy: 0.6279\n",
      "Epoch 00003: val_loss improved from 0.63032 to 0.62009, saving model to siamese_network.h5\n",
      "48/48 [==============================] - 1s 21ms/sample - loss: 0.6079 - accuracy: 0.6667 - val_loss: 0.6201 - val_accuracy: 0.6458\n",
      "Epoch 4/100\n",
      "42/48 [=========================>....] - ETA: 0s - loss: 0.6063 - accuracy: 0.7143\n",
      "Epoch 00004: val_loss improved from 0.62009 to 0.61492, saving model to siamese_network.h5\n",
      "48/48 [==============================] - 1s 21ms/sample - loss: 0.6009 - accuracy: 0.6875 - val_loss: 0.6149 - val_accuracy: 0.6458\n",
      "Epoch 5/100\n",
      "43/48 [=========================>....] - ETA: 0s - loss: 0.5995 - accuracy: 0.7907\n",
      "Epoch 00005: val_loss improved from 0.61492 to 0.61246, saving model to siamese_network.h5\n",
      "48/48 [==============================] - 1s 21ms/sample - loss: 0.5974 - accuracy: 0.7708 - val_loss: 0.6125 - val_accuracy: 0.6458\n",
      "Epoch 6/100\n",
      "42/48 [=========================>....] - ETA: 0s - loss: 0.5953 - accuracy: 0.8095\n",
      "Epoch 00006: val_loss improved from 0.61246 to 0.61082, saving model to siamese_network.h5\n",
      "48/48 [==============================] - 1s 21ms/sample - loss: 0.5954 - accuracy: 0.7917 - val_loss: 0.6108 - val_accuracy: 0.6458\n",
      "Epoch 7/100\n",
      "42/48 [=========================>....] - ETA: 0s - loss: 0.6050 - accuracy: 0.8571\n",
      "Epoch 00007: val_loss improved from 0.61082 to 0.61028, saving model to siamese_network.h5\n",
      "48/48 [==============================] - 1s 21ms/sample - loss: 0.5943 - accuracy: 0.8333 - val_loss: 0.6103 - val_accuracy: 0.6458\n",
      "Epoch 8/100\n",
      "47/48 [============================>.] - ETA: 0s - loss: 0.5956 - accuracy: 0.8511\n",
      "Epoch 00008: val_loss improved from 0.61028 to 0.60961, saving model to siamese_network.h5\n",
      "48/48 [==============================] - 1s 21ms/sample - loss: 0.5935 - accuracy: 0.8333 - val_loss: 0.6096 - val_accuracy: 0.6667\n",
      "Epoch 9/100\n",
      "43/48 [=========================>....] - ETA: 0s - loss: 0.5906 - accuracy: 0.8140\n",
      "Epoch 00009: val_loss improved from 0.60961 to 0.60925, saving model to siamese_network.h5\n",
      "48/48 [==============================] - 1s 21ms/sample - loss: 0.5930 - accuracy: 0.8333 - val_loss: 0.6093 - val_accuracy: 0.6875\n",
      "Epoch 10/100\n",
      "42/48 [=========================>....] - ETA: 0s - loss: 0.5931 - accuracy: 0.8095\n",
      "Epoch 00010: val_loss improved from 0.60925 to 0.60889, saving model to siamese_network.h5\n",
      "48/48 [==============================] - 1s 21ms/sample - loss: 0.5928 - accuracy: 0.8333 - val_loss: 0.6089 - val_accuracy: 0.7083\n",
      "Epoch 11/100\n",
      "43/48 [=========================>....] - ETA: 0s - loss: 0.5900 - accuracy: 0.8140\n",
      "Epoch 00011: val_loss improved from 0.60889 to 0.60863, saving model to siamese_network.h5\n",
      "48/48 [==============================] - 1s 21ms/sample - loss: 0.5924 - accuracy: 0.8333 - val_loss: 0.6086 - val_accuracy: 0.7500\n",
      "Epoch 12/100\n",
      "47/48 [============================>.] - ETA: 0s - loss: 0.5898 - accuracy: 0.8298\n",
      "Epoch 00012: val_loss improved from 0.60863 to 0.60861, saving model to siamese_network.h5\n",
      "48/48 [==============================] - 1s 21ms/sample - loss: 0.5921 - accuracy: 0.8333 - val_loss: 0.6086 - val_accuracy: 0.7500\n",
      "Epoch 13/100\n",
      "42/48 [=========================>....] - ETA: 0s - loss: 0.5976 - accuracy: 0.8095\n",
      "Epoch 00013: val_loss improved from 0.60861 to 0.60850, saving model to siamese_network.h5\n",
      "48/48 [==============================] - 1s 21ms/sample - loss: 0.5919 - accuracy: 0.8333 - val_loss: 0.6085 - val_accuracy: 0.7500\n",
      "Epoch 14/100\n",
      "42/48 [=========================>....] - ETA: 0s - loss: 0.5920 - accuracy: 0.8095\n",
      "Epoch 00014: val_loss improved from 0.60850 to 0.60813, saving model to siamese_network.h5\n",
      "48/48 [==============================] - 1s 21ms/sample - loss: 0.5916 - accuracy: 0.8333 - val_loss: 0.6081 - val_accuracy: 0.7500\n",
      "Epoch 15/100\n",
      "43/48 [=========================>....] - ETA: 0s - loss: 0.5942 - accuracy: 0.8605\n",
      "Epoch 00015: val_loss did not improve from 0.60813\n",
      "48/48 [==============================] - 1s 19ms/sample - loss: 0.5915 - accuracy: 0.8542 - val_loss: 0.6082 - val_accuracy: 0.7500\n",
      "Epoch 16/100\n",
      "42/48 [=========================>....] - ETA: 0s - loss: 0.5751 - accuracy: 0.8333\n",
      "Epoch 00016: val_loss improved from 0.60813 to 0.60791, saving model to siamese_network.h5\n",
      "48/48 [==============================] - 1s 21ms/sample - loss: 0.5912 - accuracy: 0.8542 - val_loss: 0.6079 - val_accuracy: 0.7500\n",
      "Epoch 17/100\n",
      "43/48 [=========================>....] - ETA: 0s - loss: 0.5882 - accuracy: 0.8605\n",
      "Epoch 00017: val_loss improved from 0.60791 to 0.60762, saving model to siamese_network.h5\n",
      "48/48 [==============================] - 1s 21ms/sample - loss: 0.5909 - accuracy: 0.8542 - val_loss: 0.6076 - val_accuracy: 0.7500\n",
      "Epoch 18/100\n",
      "45/48 [===========================>..] - ETA: 0s - loss: 0.5981 - accuracy: 0.8667\n",
      "Epoch 00018: val_loss improved from 0.60762 to 0.60731, saving model to siamese_network.h5\n",
      "48/48 [==============================] - 1s 21ms/sample - loss: 0.5908 - accuracy: 0.8542 - val_loss: 0.6073 - val_accuracy: 0.7500\n",
      "Epoch 19/100\n",
      "47/48 [============================>.] - ETA: 0s - loss: 0.5932 - accuracy: 0.8511\n",
      "Epoch 00019: val_loss improved from 0.60731 to 0.60710, saving model to siamese_network.h5\n",
      "48/48 [==============================] - 1s 21ms/sample - loss: 0.5906 - accuracy: 0.8542 - val_loss: 0.6071 - val_accuracy: 0.7500\n",
      "Epoch 20/100\n",
      "43/48 [=========================>....] - ETA: 0s - loss: 0.5881 - accuracy: 0.8372\n",
      "Epoch 00020: val_loss did not improve from 0.60710\n",
      "48/48 [==============================] - 1s 19ms/sample - loss: 0.5905 - accuracy: 0.8542 - val_loss: 0.6072 - val_accuracy: 0.7500\n",
      "Epoch 21/100\n",
      "42/48 [=========================>....] - ETA: 0s - loss: 0.5850 - accuracy: 0.8333\n",
      "Epoch 00021: val_loss improved from 0.60710 to 0.60688, saving model to siamese_network.h5\n",
      "48/48 [==============================] - 1s 21ms/sample - loss: 0.5903 - accuracy: 0.8542 - val_loss: 0.6069 - val_accuracy: 0.7500\n"
     ]
    },
    {
     "name": "stdout",
     "output_type": "stream",
     "text": [
      "Epoch 22/100\n",
      "43/48 [=========================>....] - ETA: 0s - loss: 0.5873 - accuracy: 0.8605\n",
      "Epoch 00022: val_loss improved from 0.60688 to 0.60640, saving model to siamese_network.h5\n",
      "48/48 [==============================] - 1s 21ms/sample - loss: 0.5901 - accuracy: 0.8542 - val_loss: 0.6064 - val_accuracy: 0.7500\n",
      "Epoch 23/100\n",
      "43/48 [=========================>....] - ETA: 0s - loss: 0.5920 - accuracy: 0.8837\n",
      "Epoch 00023: val_loss did not improve from 0.60640\n",
      "48/48 [==============================] - 1s 19ms/sample - loss: 0.5899 - accuracy: 0.8542 - val_loss: 0.6064 - val_accuracy: 0.7500\n",
      "Epoch 24/100\n",
      "42/48 [=========================>....] - ETA: 0s - loss: 0.5896 - accuracy: 0.8571\n",
      "Epoch 00024: val_loss did not improve from 0.60640\n",
      "48/48 [==============================] - 1s 19ms/sample - loss: 0.5896 - accuracy: 0.8542 - val_loss: 0.6064 - val_accuracy: 0.7500\n",
      "Epoch 25/100\n",
      "47/48 [============================>.] - ETA: 0s - loss: 0.5920 - accuracy: 0.8511\n",
      "Epoch 00025: val_loss improved from 0.60640 to 0.60625, saving model to siamese_network.h5\n",
      "48/48 [==============================] - 1s 21ms/sample - loss: 0.5895 - accuracy: 0.8542 - val_loss: 0.6063 - val_accuracy: 0.7500\n",
      "Epoch 26/100\n",
      "42/48 [=========================>....] - ETA: 0s - loss: 0.5943 - accuracy: 0.8810\n",
      "Epoch 00026: val_loss improved from 0.60625 to 0.60621, saving model to siamese_network.h5\n",
      "48/48 [==============================] - 1s 21ms/sample - loss: 0.5893 - accuracy: 0.8542 - val_loss: 0.6062 - val_accuracy: 0.7500\n",
      "Epoch 27/100\n",
      "42/48 [=========================>....] - ETA: 0s - loss: 0.5839 - accuracy: 0.8571\n",
      "Epoch 00027: val_loss improved from 0.60621 to 0.60594, saving model to siamese_network.h5\n",
      "48/48 [==============================] - 1s 21ms/sample - loss: 0.5891 - accuracy: 0.8750 - val_loss: 0.6059 - val_accuracy: 0.7500\n",
      "Epoch 28/100\n",
      "42/48 [=========================>....] - ETA: 0s - loss: 0.5838 - accuracy: 0.8571\n",
      "Epoch 00028: val_loss improved from 0.60594 to 0.60559, saving model to siamese_network.h5\n",
      "48/48 [==============================] - 1s 21ms/sample - loss: 0.5890 - accuracy: 0.8750 - val_loss: 0.6056 - val_accuracy: 0.7500\n",
      "Epoch 29/100\n",
      "42/48 [=========================>....] - ETA: 0s - loss: 0.5947 - accuracy: 0.8571\n",
      "Epoch 00029: val_loss improved from 0.60559 to 0.60544, saving model to siamese_network.h5\n",
      "48/48 [==============================] - 1s 21ms/sample - loss: 0.5887 - accuracy: 0.8750 - val_loss: 0.6054 - val_accuracy: 0.7500\n",
      "Epoch 30/100\n",
      "43/48 [=========================>....] - ETA: 0s - loss: 0.5807 - accuracy: 0.8605\n",
      "Epoch 00030: val_loss did not improve from 0.60544\n",
      "48/48 [==============================] - 1s 19ms/sample - loss: 0.5885 - accuracy: 0.8750 - val_loss: 0.6055 - val_accuracy: 0.7500\n",
      "Epoch 31/100\n",
      "42/48 [=========================>....] - ETA: 0s - loss: 0.5884 - accuracy: 0.8810\n",
      "Epoch 00031: val_loss did not improve from 0.60544\n",
      "48/48 [==============================] - 1s 20ms/sample - loss: 0.5884 - accuracy: 0.8750 - val_loss: 0.6055 - val_accuracy: 0.7500\n",
      "Epoch 32/100\n",
      "46/48 [===========================>..] - ETA: 0s - loss: 0.5933 - accuracy: 0.8696\n",
      "Epoch 00032: val_loss improved from 0.60544 to 0.60517, saving model to siamese_network.h5\n",
      "48/48 [==============================] - 1s 21ms/sample - loss: 0.5881 - accuracy: 0.8750 - val_loss: 0.6052 - val_accuracy: 0.7500\n",
      "Epoch 33/100\n",
      "47/48 [============================>.] - ETA: 0s - loss: 0.5906 - accuracy: 0.8723\n",
      "Epoch 00033: val_loss improved from 0.60517 to 0.60495, saving model to siamese_network.h5\n",
      "48/48 [==============================] - 1s 21ms/sample - loss: 0.5880 - accuracy: 0.8750 - val_loss: 0.6050 - val_accuracy: 0.7500\n",
      "Epoch 34/100\n",
      "43/48 [=========================>....] - ETA: 0s - loss: 0.5853 - accuracy: 0.8605\n",
      "Epoch 00034: val_loss improved from 0.60495 to 0.60494, saving model to siamese_network.h5\n",
      "48/48 [==============================] - 1s 21ms/sample - loss: 0.5878 - accuracy: 0.8750 - val_loss: 0.6049 - val_accuracy: 0.7500\n",
      "Epoch 35/100\n",
      "43/48 [=========================>....] - ETA: 0s - loss: 0.5957 - accuracy: 0.8837\n",
      "Epoch 00035: val_loss improved from 0.60494 to 0.60452, saving model to siamese_network.h5\n",
      "48/48 [==============================] - 1s 21ms/sample - loss: 0.5876 - accuracy: 0.8750 - val_loss: 0.6045 - val_accuracy: 0.7500\n",
      "Epoch 36/100\n",
      "43/48 [=========================>....] - ETA: 0s - loss: 0.6007 - accuracy: 0.8837\n",
      "Epoch 00036: val_loss improved from 0.60452 to 0.60441, saving model to siamese_network.h5\n",
      "48/48 [==============================] - 1s 21ms/sample - loss: 0.5875 - accuracy: 0.8750 - val_loss: 0.6044 - val_accuracy: 0.7500\n",
      "Epoch 37/100\n",
      "43/48 [=========================>....] - ETA: 0s - loss: 0.5899 - accuracy: 0.8837\n",
      "Epoch 00037: val_loss improved from 0.60441 to 0.60428, saving model to siamese_network.h5\n",
      "48/48 [==============================] - 1s 21ms/sample - loss: 0.5872 - accuracy: 0.8750 - val_loss: 0.6043 - val_accuracy: 0.7500\n",
      "Epoch 38/100\n",
      "43/48 [=========================>....] - ETA: 0s - loss: 0.5844 - accuracy: 0.8837\n",
      "Epoch 00038: val_loss did not improve from 0.60428\n",
      "48/48 [==============================] - 1s 19ms/sample - loss: 0.5872 - accuracy: 0.8750 - val_loss: 0.6043 - val_accuracy: 0.7500\n",
      "Epoch 39/100\n",
      "43/48 [=========================>....] - ETA: 0s - loss: 0.5941 - accuracy: 0.9302\n",
      "Epoch 00039: val_loss improved from 0.60428 to 0.60402, saving model to siamese_network.h5\n",
      "48/48 [==============================] - 1s 21ms/sample - loss: 0.5869 - accuracy: 0.8750 - val_loss: 0.6040 - val_accuracy: 0.7708\n",
      "Epoch 40/100\n",
      "42/48 [=========================>....] - ETA: 0s - loss: 0.5870 - accuracy: 0.8571\n",
      "Epoch 00040: val_loss improved from 0.60402 to 0.60399, saving model to siamese_network.h5\n",
      "48/48 [==============================] - 1s 21ms/sample - loss: 0.5867 - accuracy: 0.8750 - val_loss: 0.6040 - val_accuracy: 0.7708\n",
      "Epoch 41/100\n",
      "43/48 [=========================>....] - ETA: 0s - loss: 0.5786 - accuracy: 0.8605\n",
      "Epoch 00041: val_loss improved from 0.60399 to 0.60376, saving model to siamese_network.h5\n",
      "48/48 [==============================] - 1s 21ms/sample - loss: 0.5866 - accuracy: 0.8750 - val_loss: 0.6038 - val_accuracy: 0.7708\n",
      "Epoch 42/100\n",
      "43/48 [=========================>....] - ETA: 0s - loss: 0.5886 - accuracy: 0.9070\n",
      "Epoch 00042: val_loss improved from 0.60376 to 0.60352, saving model to siamese_network.h5\n",
      "48/48 [==============================] - 1s 21ms/sample - loss: 0.5864 - accuracy: 0.8750 - val_loss: 0.6035 - val_accuracy: 0.7708\n",
      "Epoch 43/100\n",
      "42/48 [=========================>....] - ETA: 0s - loss: 0.5809 - accuracy: 0.8571\n",
      "Epoch 00043: val_loss did not improve from 0.60352\n",
      "48/48 [==============================] - 1s 19ms/sample - loss: 0.5863 - accuracy: 0.8750 - val_loss: 0.6036 - val_accuracy: 0.7708\n",
      "Epoch 44/100\n",
      "43/48 [=========================>....] - ETA: 0s - loss: 0.5834 - accuracy: 0.8605\n",
      "Epoch 00044: val_loss improved from 0.60352 to 0.60311, saving model to siamese_network.h5\n",
      "48/48 [==============================] - 1s 21ms/sample - loss: 0.5860 - accuracy: 0.8750 - val_loss: 0.6031 - val_accuracy: 0.8125\n",
      "Epoch 45/100\n",
      "46/48 [===========================>..] - ETA: 0s - loss: 0.5859 - accuracy: 0.8696\n",
      "Epoch 00045: val_loss did not improve from 0.60311\n",
      "48/48 [==============================] - 1s 20ms/sample - loss: 0.5858 - accuracy: 0.8750 - val_loss: 0.6033 - val_accuracy: 0.8125\n",
      "Epoch 46/100\n",
      "42/48 [=========================>....] - ETA: 0s - loss: 0.5748 - accuracy: 0.8571\n",
      "Epoch 00046: val_loss improved from 0.60311 to 0.60309, saving model to siamese_network.h5\n",
      "48/48 [==============================] - 1s 21ms/sample - loss: 0.5857 - accuracy: 0.8750 - val_loss: 0.6031 - val_accuracy: 0.8125\n",
      "Epoch 47/100\n",
      "47/48 [============================>.] - ETA: 0s - loss: 0.5831 - accuracy: 0.8723\n",
      "Epoch 00047: val_loss improved from 0.60309 to 0.60281, saving model to siamese_network.h5\n",
      "48/48 [==============================] - 1s 21ms/sample - loss: 0.5856 - accuracy: 0.8750 - val_loss: 0.6028 - val_accuracy: 0.8125\n",
      "Epoch 48/100\n",
      "43/48 [=========================>....] - ETA: 0s - loss: 0.5773 - accuracy: 0.8605\n",
      "Epoch 00048: val_loss improved from 0.60281 to 0.60261, saving model to siamese_network.h5\n",
      "48/48 [==============================] - 1s 21ms/sample - loss: 0.5854 - accuracy: 0.8750 - val_loss: 0.6026 - val_accuracy: 0.8125\n"
     ]
    },
    {
     "name": "stdout",
     "output_type": "stream",
     "text": [
      "Epoch 49/100\n",
      "47/48 [============================>.] - ETA: 0s - loss: 0.5874 - accuracy: 0.8936\n",
      "Epoch 00049: val_loss improved from 0.60261 to 0.60251, saving model to siamese_network.h5\n",
      "48/48 [==============================] - 1s 21ms/sample - loss: 0.5852 - accuracy: 0.8750 - val_loss: 0.6025 - val_accuracy: 0.8125\n",
      "Epoch 50/100\n",
      "42/48 [=========================>....] - ETA: 0s - loss: 0.5850 - accuracy: 0.8810\n",
      "Epoch 00050: val_loss improved from 0.60251 to 0.60218, saving model to siamese_network.h5\n",
      "48/48 [==============================] - 1s 21ms/sample - loss: 0.5850 - accuracy: 0.8750 - val_loss: 0.6022 - val_accuracy: 0.8125\n",
      "Epoch 51/100\n",
      "43/48 [=========================>....] - ETA: 0s - loss: 0.5819 - accuracy: 0.8837\n",
      "Epoch 00051: val_loss improved from 0.60218 to 0.60209, saving model to siamese_network.h5\n",
      "48/48 [==============================] - 1s 21ms/sample - loss: 0.5849 - accuracy: 0.8750 - val_loss: 0.6021 - val_accuracy: 0.8125\n",
      "Epoch 52/100\n",
      "43/48 [=========================>....] - ETA: 0s - loss: 0.5929 - accuracy: 0.8837\n",
      "Epoch 00052: val_loss improved from 0.60209 to 0.60208, saving model to siamese_network.h5\n",
      "48/48 [==============================] - 1s 21ms/sample - loss: 0.5848 - accuracy: 0.8750 - val_loss: 0.6021 - val_accuracy: 0.8125\n",
      "Epoch 53/100\n",
      "43/48 [=========================>....] - ETA: 0s - loss: 0.5765 - accuracy: 0.8837\n",
      "Epoch 00053: val_loss improved from 0.60208 to 0.60190, saving model to siamese_network.h5\n",
      "48/48 [==============================] - 1s 21ms/sample - loss: 0.5845 - accuracy: 0.8958 - val_loss: 0.6019 - val_accuracy: 0.8125\n",
      "Epoch 54/100\n",
      "43/48 [=========================>....] - ETA: 0s - loss: 0.5820 - accuracy: 0.8837\n",
      "Epoch 00054: val_loss improved from 0.60190 to 0.60159, saving model to siamese_network.h5\n",
      "48/48 [==============================] - 1s 21ms/sample - loss: 0.5844 - accuracy: 0.8958 - val_loss: 0.6016 - val_accuracy: 0.8125\n",
      "Epoch 55/100\n",
      "43/48 [=========================>....] - ETA: 0s - loss: 0.5813 - accuracy: 0.8837\n",
      "Epoch 00055: val_loss improved from 0.60159 to 0.60158, saving model to siamese_network.h5\n",
      "48/48 [==============================] - 1s 22ms/sample - loss: 0.5841 - accuracy: 0.8750 - val_loss: 0.6016 - val_accuracy: 0.8125\n",
      "Epoch 56/100\n",
      "43/48 [=========================>....] - ETA: 0s - loss: 0.5810 - accuracy: 0.9070\n",
      "Epoch 00056: val_loss did not improve from 0.60158\n",
      "48/48 [==============================] - 1s 19ms/sample - loss: 0.5840 - accuracy: 0.8958 - val_loss: 0.6016 - val_accuracy: 0.8125\n",
      "Epoch 57/100\n",
      "43/48 [=========================>....] - ETA: 0s - loss: 0.5702 - accuracy: 0.8605\n",
      "Epoch 00057: val_loss improved from 0.60158 to 0.60136, saving model to siamese_network.h5\n",
      "48/48 [==============================] - 1s 21ms/sample - loss: 0.5840 - accuracy: 0.8750 - val_loss: 0.6014 - val_accuracy: 0.8125\n",
      "Epoch 58/100\n",
      "42/48 [=========================>....] - ETA: 0s - loss: 0.5839 - accuracy: 0.8571\n",
      "Epoch 00058: val_loss improved from 0.60136 to 0.60120, saving model to siamese_network.h5\n",
      "48/48 [==============================] - 1s 21ms/sample - loss: 0.5837 - accuracy: 0.8750 - val_loss: 0.6012 - val_accuracy: 0.8125\n",
      "Epoch 59/100\n",
      "47/48 [============================>.] - ETA: 0s - loss: 0.5861 - accuracy: 0.9362\n",
      "Epoch 00059: val_loss did not improve from 0.60120\n",
      "48/48 [==============================] - 1s 20ms/sample - loss: 0.5835 - accuracy: 0.9375 - val_loss: 0.6012 - val_accuracy: 0.8125\n",
      "Epoch 60/100\n",
      "42/48 [=========================>....] - ETA: 0s - loss: 0.5837 - accuracy: 0.9048\n",
      "Epoch 00060: val_loss improved from 0.60120 to 0.60105, saving model to siamese_network.h5\n",
      "48/48 [==============================] - 1s 21ms/sample - loss: 0.5833 - accuracy: 0.9167 - val_loss: 0.6010 - val_accuracy: 0.8125\n",
      "Epoch 61/100\n",
      "42/48 [=========================>....] - ETA: 0s - loss: 0.5774 - accuracy: 0.9762\n",
      "Epoch 00061: val_loss improved from 0.60105 to 0.60073, saving model to siamese_network.h5\n",
      "48/48 [==============================] - 1s 21ms/sample - loss: 0.5832 - accuracy: 0.9583 - val_loss: 0.6007 - val_accuracy: 0.8125\n",
      "Epoch 62/100\n",
      "42/48 [=========================>....] - ETA: 0s - loss: 0.5776 - accuracy: 0.9048\n",
      "Epoch 00062: val_loss improved from 0.60073 to 0.60049, saving model to siamese_network.h5\n",
      "48/48 [==============================] - 1s 21ms/sample - loss: 0.5830 - accuracy: 0.9167 - val_loss: 0.6005 - val_accuracy: 0.8125\n",
      "Epoch 63/100\n",
      "42/48 [=========================>....] - ETA: 0s - loss: 0.5942 - accuracy: 0.9524\n",
      "Epoch 00063: val_loss improved from 0.60049 to 0.60037, saving model to siamese_network.h5\n",
      "48/48 [==============================] - 1s 21ms/sample - loss: 0.5828 - accuracy: 0.9375 - val_loss: 0.6004 - val_accuracy: 0.8125\n",
      "Epoch 64/100\n",
      "46/48 [===========================>..] - ETA: 0s - loss: 0.5872 - accuracy: 0.9783\n",
      "Epoch 00064: val_loss improved from 0.60037 to 0.60007, saving model to siamese_network.h5\n",
      "48/48 [==============================] - 1s 21ms/sample - loss: 0.5826 - accuracy: 0.9583 - val_loss: 0.6001 - val_accuracy: 0.8125\n",
      "Epoch 65/100\n",
      "43/48 [=========================>....] - ETA: 0s - loss: 0.5856 - accuracy: 0.9535\n",
      "Epoch 00065: val_loss did not improve from 0.60007\n",
      "48/48 [==============================] - 1s 20ms/sample - loss: 0.5825 - accuracy: 0.9583 - val_loss: 0.6001 - val_accuracy: 0.8125\n",
      "Epoch 66/100\n",
      "43/48 [=========================>....] - ETA: 0s - loss: 0.5798 - accuracy: 0.9767\n",
      "Epoch 00066: val_loss improved from 0.60007 to 0.59994, saving model to siamese_network.h5\n",
      "48/48 [==============================] - 1s 21ms/sample - loss: 0.5823 - accuracy: 0.9792 - val_loss: 0.5999 - val_accuracy: 0.8125\n",
      "Epoch 67/100\n",
      "47/48 [============================>.] - ETA: 0s - loss: 0.5846 - accuracy: 0.9787\n",
      "Epoch 00067: val_loss improved from 0.59994 to 0.59991, saving model to siamese_network.h5\n",
      "48/48 [==============================] - 1s 21ms/sample - loss: 0.5821 - accuracy: 0.9792 - val_loss: 0.5999 - val_accuracy: 0.8125\n",
      "Epoch 68/100\n",
      "42/48 [=========================>....] - ETA: 0s - loss: 0.5707 - accuracy: 0.9762\n",
      "Epoch 00068: val_loss improved from 0.59991 to 0.59971, saving model to siamese_network.h5\n",
      "48/48 [==============================] - 1s 21ms/sample - loss: 0.5820 - accuracy: 0.9792 - val_loss: 0.5997 - val_accuracy: 0.8125\n",
      "Epoch 69/100\n",
      "47/48 [============================>.] - ETA: 0s - loss: 0.5794 - accuracy: 0.9787\n",
      "Epoch 00069: val_loss improved from 0.59971 to 0.59956, saving model to siamese_network.h5\n",
      "48/48 [==============================] - 1s 21ms/sample - loss: 0.5819 - accuracy: 0.9792 - val_loss: 0.5996 - val_accuracy: 0.8125\n",
      "Epoch 70/100\n",
      "43/48 [=========================>....] - ETA: 0s - loss: 0.5848 - accuracy: 0.9767\n",
      "Epoch 00070: val_loss improved from 0.59956 to 0.59944, saving model to siamese_network.h5\n",
      "48/48 [==============================] - 1s 22ms/sample - loss: 0.5817 - accuracy: 0.9792 - val_loss: 0.5994 - val_accuracy: 0.8125\n",
      "Epoch 71/100\n",
      "43/48 [=========================>....] - ETA: 0s - loss: 0.5789 - accuracy: 1.0000\n",
      "Epoch 00071: val_loss improved from 0.59944 to 0.59917, saving model to siamese_network.h5\n",
      "48/48 [==============================] - 1s 21ms/sample - loss: 0.5815 - accuracy: 1.0000 - val_loss: 0.5992 - val_accuracy: 0.8125\n",
      "Epoch 72/100\n",
      "47/48 [============================>.] - ETA: 0s - loss: 0.5836 - accuracy: 1.0000\n",
      "Epoch 00072: val_loss improved from 0.59917 to 0.59911, saving model to siamese_network.h5\n",
      "48/48 [==============================] - 1s 21ms/sample - loss: 0.5814 - accuracy: 1.0000 - val_loss: 0.5991 - val_accuracy: 0.8125\n",
      "Epoch 73/100\n",
      "43/48 [=========================>....] - ETA: 0s - loss: 0.5783 - accuracy: 0.9767\n",
      "Epoch 00073: val_loss improved from 0.59911 to 0.59901, saving model to siamese_network.h5\n",
      "48/48 [==============================] - 1s 21ms/sample - loss: 0.5811 - accuracy: 0.9792 - val_loss: 0.5990 - val_accuracy: 0.8125\n",
      "Epoch 74/100\n",
      "42/48 [=========================>....] - ETA: 0s - loss: 0.5754 - accuracy: 1.0000\n",
      "Epoch 00074: val_loss did not improve from 0.59901\n",
      "48/48 [==============================] - 1s 20ms/sample - loss: 0.5810 - accuracy: 1.0000 - val_loss: 0.5991 - val_accuracy: 0.8125\n",
      "Epoch 75/100\n"
     ]
    },
    {
     "name": "stdout",
     "output_type": "stream",
     "text": [
      "43/48 [=========================>....] - ETA: 0s - loss: 0.5888 - accuracy: 1.0000\n",
      "Epoch 00075: val_loss improved from 0.59901 to 0.59859, saving model to siamese_network.h5\n",
      "48/48 [==============================] - 1s 21ms/sample - loss: 0.5808 - accuracy: 1.0000 - val_loss: 0.5986 - val_accuracy: 0.8125\n",
      "Epoch 76/100\n",
      "42/48 [=========================>....] - ETA: 0s - loss: 0.5810 - accuracy: 1.0000\n",
      "Epoch 00076: val_loss did not improve from 0.59859\n",
      "48/48 [==============================] - 1s 19ms/sample - loss: 0.5807 - accuracy: 1.0000 - val_loss: 0.5986 - val_accuracy: 0.8125\n",
      "Epoch 77/100\n",
      "46/48 [===========================>..] - ETA: 0s - loss: 0.5806 - accuracy: 0.9783\n",
      "Epoch 00077: val_loss improved from 0.59859 to 0.59849, saving model to siamese_network.h5\n",
      "48/48 [==============================] - 1s 21ms/sample - loss: 0.5805 - accuracy: 0.9792 - val_loss: 0.5985 - val_accuracy: 0.8125\n",
      "Epoch 78/100\n",
      "43/48 [=========================>....] - ETA: 0s - loss: 0.5720 - accuracy: 1.0000\n",
      "Epoch 00078: val_loss improved from 0.59849 to 0.59844, saving model to siamese_network.h5\n",
      "48/48 [==============================] - 1s 21ms/sample - loss: 0.5803 - accuracy: 1.0000 - val_loss: 0.5984 - val_accuracy: 0.8125\n",
      "Epoch 79/100\n",
      "46/48 [===========================>..] - ETA: 0s - loss: 0.5750 - accuracy: 1.0000\n",
      "Epoch 00079: val_loss improved from 0.59844 to 0.59798, saving model to siamese_network.h5\n",
      "48/48 [==============================] - 1s 21ms/sample - loss: 0.5802 - accuracy: 1.0000 - val_loss: 0.5980 - val_accuracy: 0.8125\n",
      "Epoch 80/100\n",
      "42/48 [=========================>....] - ETA: 0s - loss: 0.5970 - accuracy: 1.0000\n",
      "Epoch 00080: val_loss improved from 0.59798 to 0.59782, saving model to siamese_network.h5\n",
      "48/48 [==============================] - 1s 21ms/sample - loss: 0.5800 - accuracy: 1.0000 - val_loss: 0.5978 - val_accuracy: 0.8125\n",
      "Epoch 81/100\n",
      "42/48 [=========================>....] - ETA: 0s - loss: 0.5805 - accuracy: 1.0000\n",
      "Epoch 00081: val_loss did not improve from 0.59782\n",
      "48/48 [==============================] - 1s 20ms/sample - loss: 0.5800 - accuracy: 1.0000 - val_loss: 0.5979 - val_accuracy: 0.8125\n",
      "Epoch 82/100\n",
      "47/48 [============================>.] - ETA: 0s - loss: 0.5819 - accuracy: 1.0000\n",
      "Epoch 00082: val_loss improved from 0.59782 to 0.59757, saving model to siamese_network.h5\n",
      "48/48 [==============================] - 1s 21ms/sample - loss: 0.5797 - accuracy: 1.0000 - val_loss: 0.5976 - val_accuracy: 0.8125\n",
      "Epoch 83/100\n",
      "42/48 [=========================>....] - ETA: 0s - loss: 0.5849 - accuracy: 1.0000\n",
      "Epoch 00083: val_loss improved from 0.59757 to 0.59753, saving model to siamese_network.h5\n",
      "48/48 [==============================] - 1s 21ms/sample - loss: 0.5796 - accuracy: 1.0000 - val_loss: 0.5975 - val_accuracy: 0.8125\n",
      "Epoch 84/100\n",
      "42/48 [=========================>....] - ETA: 0s - loss: 0.5738 - accuracy: 1.0000\n",
      "Epoch 00084: val_loss improved from 0.59753 to 0.59744, saving model to siamese_network.h5\n",
      "48/48 [==============================] - 1s 21ms/sample - loss: 0.5794 - accuracy: 1.0000 - val_loss: 0.5974 - val_accuracy: 0.8125\n",
      "Epoch 85/100\n",
      "42/48 [=========================>....] - ETA: 0s - loss: 0.5737 - accuracy: 1.0000\n",
      "Epoch 00085: val_loss improved from 0.59744 to 0.59724, saving model to siamese_network.h5\n",
      "48/48 [==============================] - 1s 21ms/sample - loss: 0.5793 - accuracy: 1.0000 - val_loss: 0.5972 - val_accuracy: 0.8125\n",
      "Epoch 86/100\n",
      "43/48 [=========================>....] - ETA: 0s - loss: 0.5766 - accuracy: 1.0000\n",
      "Epoch 00086: val_loss improved from 0.59724 to 0.59712, saving model to siamese_network.h5\n",
      "48/48 [==============================] - 1s 21ms/sample - loss: 0.5791 - accuracy: 1.0000 - val_loss: 0.5971 - val_accuracy: 0.8125\n",
      "Epoch 87/100\n",
      "43/48 [=========================>....] - ETA: 0s - loss: 0.5756 - accuracy: 1.0000\n",
      "Epoch 00087: val_loss improved from 0.59712 to 0.59702, saving model to siamese_network.h5\n",
      "48/48 [==============================] - 1s 21ms/sample - loss: 0.5789 - accuracy: 1.0000 - val_loss: 0.5970 - val_accuracy: 0.8125\n",
      "Epoch 88/100\n",
      "47/48 [============================>.] - ETA: 0s - loss: 0.5762 - accuracy: 1.0000\n",
      "Epoch 00088: val_loss improved from 0.59702 to 0.59682, saving model to siamese_network.h5\n",
      "48/48 [==============================] - 1s 21ms/sample - loss: 0.5788 - accuracy: 1.0000 - val_loss: 0.5968 - val_accuracy: 0.8125\n",
      "Epoch 89/100\n",
      "43/48 [=========================>....] - ETA: 0s - loss: 0.5868 - accuracy: 1.0000\n",
      "Epoch 00089: val_loss did not improve from 0.59682\n",
      "48/48 [==============================] - 1s 19ms/sample - loss: 0.5786 - accuracy: 1.0000 - val_loss: 0.5970 - val_accuracy: 0.8125\n",
      "Epoch 90/100\n",
      "42/48 [=========================>....] - ETA: 0s - loss: 0.5898 - accuracy: 1.0000\n",
      "Epoch 00090: val_loss improved from 0.59682 to 0.59643, saving model to siamese_network.h5\n",
      "48/48 [==============================] - 1s 21ms/sample - loss: 0.5785 - accuracy: 1.0000 - val_loss: 0.5964 - val_accuracy: 0.8125\n",
      "Epoch 91/100\n",
      "47/48 [============================>.] - ETA: 0s - loss: 0.5759 - accuracy: 1.0000\n",
      "Epoch 00091: val_loss did not improve from 0.59643\n",
      "48/48 [==============================] - 1s 20ms/sample - loss: 0.5785 - accuracy: 1.0000 - val_loss: 0.5969 - val_accuracy: 0.8125\n",
      "Epoch 92/100\n",
      "47/48 [============================>.] - ETA: 0s - loss: 0.5755 - accuracy: 1.0000\n",
      "Epoch 00092: val_loss improved from 0.59643 to 0.59628, saving model to siamese_network.h5\n",
      "48/48 [==============================] - 1s 21ms/sample - loss: 0.5781 - accuracy: 1.0000 - val_loss: 0.5963 - val_accuracy: 0.8125\n",
      "Epoch 93/100\n",
      "47/48 [============================>.] - ETA: 0s - loss: 0.5753 - accuracy: 1.0000\n",
      "Epoch 00093: val_loss improved from 0.59628 to 0.59613, saving model to siamese_network.h5\n",
      "48/48 [==============================] - 1s 21ms/sample - loss: 0.5780 - accuracy: 1.0000 - val_loss: 0.5961 - val_accuracy: 0.8333\n",
      "Epoch 94/100\n",
      "43/48 [=========================>....] - ETA: 0s - loss: 0.5694 - accuracy: 1.0000\n",
      "Epoch 00094: val_loss improved from 0.59613 to 0.59612, saving model to siamese_network.h5\n",
      "48/48 [==============================] - 1s 21ms/sample - loss: 0.5778 - accuracy: 1.0000 - val_loss: 0.5961 - val_accuracy: 0.8333\n",
      "Epoch 95/100\n",
      "43/48 [=========================>....] - ETA: 0s - loss: 0.5805 - accuracy: 1.0000\n",
      "Epoch 00095: val_loss improved from 0.59612 to 0.59571, saving model to siamese_network.h5\n",
      "48/48 [==============================] - 1s 21ms/sample - loss: 0.5777 - accuracy: 1.0000 - val_loss: 0.5957 - val_accuracy: 0.8333\n",
      "Epoch 96/100\n",
      "43/48 [=========================>....] - ETA: 0s - loss: 0.5807 - accuracy: 1.0000\n",
      "Epoch 00096: val_loss improved from 0.59571 to 0.59559, saving model to siamese_network.h5\n",
      "48/48 [==============================] - 1s 21ms/sample - loss: 0.5775 - accuracy: 1.0000 - val_loss: 0.5956 - val_accuracy: 0.8333\n",
      "Epoch 97/100\n",
      "43/48 [=========================>....] - ETA: 0s - loss: 0.5805 - accuracy: 1.0000\n",
      "Epoch 00097: val_loss improved from 0.59559 to 0.59558, saving model to siamese_network.h5\n",
      "48/48 [==============================] - 1s 21ms/sample - loss: 0.5773 - accuracy: 1.0000 - val_loss: 0.5956 - val_accuracy: 0.8333\n",
      "Epoch 98/100\n",
      "43/48 [=========================>....] - ETA: 0s - loss: 0.5745 - accuracy: 1.0000\n",
      "Epoch 00098: val_loss improved from 0.59558 to 0.59552, saving model to siamese_network.h5\n",
      "48/48 [==============================] - 1s 21ms/sample - loss: 0.5772 - accuracy: 1.0000 - val_loss: 0.5955 - val_accuracy: 0.8542\n",
      "Epoch 99/100\n",
      "42/48 [=========================>....] - ETA: 0s - loss: 0.5829 - accuracy: 1.0000\n",
      "Epoch 00099: val_loss improved from 0.59552 to 0.59543, saving model to siamese_network.h5\n",
      "48/48 [==============================] - 1s 21ms/sample - loss: 0.5770 - accuracy: 1.0000 - val_loss: 0.5954 - val_accuracy: 0.8333\n",
      "Epoch 100/100\n",
      "43/48 [=========================>....] - ETA: 0s - loss: 0.5625 - accuracy: 1.0000\n",
      "Epoch 00100: val_loss improved from 0.59543 to 0.59525, saving model to siamese_network.h5\n",
      "48/48 [==============================] - 1s 21ms/sample - loss: 0.5769 - accuracy: 1.0000 - val_loss: 0.5952 - val_accuracy: 0.8542\n"
     ]
    }
   ],
   "source": [
    "\"\"\" train the model \"\"\"\n",
    "\n",
    "optimizer = Adam(learning_rate=0.0001)\n",
    "siamese.compile(loss=tf.keras.losses.BinaryCrossentropy(from_logits=True), optimizer=optimizer, metrics=[\"accuracy\"])\n",
    "# siamese.compile(loss='sparse_categorical_crossentropy', optimizer=optimizer, metrics=[\"accuracy\"])\n",
    "\n",
    "siamese.summary()\n",
    "history = siamese.fit([x_train_1, x_train_2],\n",
    "    labels_train,\n",
    "    validation_data=([x_val_1, x_val_2], labels_val),\n",
    "    batch_size=1,\n",
    "    epochs=100,   # 175 for contrastive 100 for cross ent\n",
    "    callbacks = [checkpointer, early_stopping, reduce_lr]\n",
    ")"
   ]
  },
  {
   "cell_type": "code",
   "execution_count": 8,
   "id": "929bb5c9",
   "metadata": {},
   "outputs": [
    {
     "data": {
      "image/png": "[encoded data removed]",
      "text/plain": [
       "<Figure size 432x288 with 1 Axes>"
      ]
     },
     "metadata": {
      "needs_background": "light"
     },
     "output_type": "display_data"
    }
   ],
   "source": [
    "# Plot the accuracy\n",
    "utils.plt_metric(history=history.history, metric=\"accuracy\", title=\"Model accuracy\")"
   ]
  },
  {
   "cell_type": "code",
   "execution_count": 9,
   "id": "61c90ddf",
   "metadata": {},
   "outputs": [
    {
     "data": {
      "image/png": "[encoded data removed]",
      "text/plain": [
       "<Figure size 432x288 with 1 Axes>"
      ]
     },
     "metadata": {
      "needs_background": "light"
     },
     "output_type": "display_data"
    }
   ],
   "source": [
    "# Plot the cross entropy binary loss\n",
    "utils.plt_metric(history=history.history, metric=\"loss\", title=\"Binary Loss\")"
   ]
  },
  {
   "cell_type": "code",
   "execution_count": 10,
   "id": "3064505e",
   "metadata": {},
   "outputs": [
    {
     "name": "stdout",
     "output_type": "stream",
     "text": [
      "1296/1296 [==============================] - 5s 4ms/sample - loss: 0.5855 - accuracy: 0.9151\n",
      "test loss, test acc: [0.5855032544077179, 0.91512346]\n"
     ]
    }
   ],
   "source": [
    "\"\"\" Test the model \"\"\"\n",
    "results = siamese.evaluate([x_test_1, x_test_2], labels_test)\n",
    "print(\"test loss, test acc:\", results)"
   ]
  },
  {
   "cell_type": "code",
   "execution_count": 11,
   "id": "4ce353a7",
   "metadata": {},
   "outputs": [
    {
     "data": {
      "text/plain": [
       "array([0.1498915 , 0.03659326, 0.57890034, ..., 0.00566136, 0.56869376,\n",
       "       0.01053633], dtype=float32)"
      ]
     },
     "execution_count": 11,
     "metadata": {},
     "output_type": "execute_result"
    }
   ],
   "source": [
    "Y_pred = siamese.predict([x_test_1, x_test_2]).squeeze()\n",
    "Y_pred"
   ]
  },
  {
   "cell_type": "code",
   "execution_count": 12,
   "id": "36581777",
   "metadata": {},
   "outputs": [
    {
     "data": {
      "text/plain": [
       "0.26812783"
      ]
     },
     "execution_count": 12,
     "metadata": {},
     "output_type": "execute_result"
    }
   ],
   "source": [
    "Y_pred.mean()"
   ]
  },
  {
   "cell_type": "code",
   "execution_count": 13,
   "id": "d1a7a1ac",
   "metadata": {},
   "outputs": [
    {
     "data": {
      "text/plain": [
       "array([False, False,  True, ..., False,  True, False])"
      ]
     },
     "execution_count": 13,
     "metadata": {},
     "output_type": "execute_result"
    }
   ],
   "source": [
    "# y_pred = np.argmax(Y_pred, axis=1)\n",
    "y_pred = Y_pred > 0.5\n",
    "y_pred"
   ]
  },
  {
   "cell_type": "code",
   "execution_count": 14,
   "id": "934e3302",
   "metadata": {},
   "outputs": [
    {
     "data": {
      "text/plain": [
       "array([1., 0., 1., ..., 0., 1., 0.], dtype=float32)"
      ]
     },
     "execution_count": 14,
     "metadata": {},
     "output_type": "execute_result"
    }
   ],
   "source": [
    "y_test = labels_test\n",
    "y_test"
   ]
  },
  {
   "cell_type": "code",
   "execution_count": 15,
   "id": "b3151112",
   "metadata": {},
   "outputs": [
    {
     "name": "stdout",
     "output_type": "stream",
     "text": [
      "\n",
      "Evaluate on test data\n",
      "Accuracy: 0.9151234567901234\n",
      "Precision: 0.9274406332453825\n",
      "Recall: 0.9151234567901234\n",
      "ROC AUC: 0.9151234567901234\n",
      "F1: 0.9145075669438855\n"
     ]
    }
   ],
   "source": [
    "print(\"\\nEvaluate on test data\")\n",
    "print(\"Accuracy:\", accuracy_score(y_test, y_pred))\n",
    "print(\"Precision:\", precision_score(y_test, y_pred, average='weighted'))\n",
    "print(\"Recall:\", recall_score(y_test, y_pred, average='weighted'))\n",
    "print(\"ROC AUC:\", roc_auc_score(y_test, y_pred, average='weighted'))\n",
    "print(\"F1:\", f1_score(y_test, y_pred, average='weighted'))"
   ]
  },
  {
   "cell_type": "code",
   "execution_count": 16,
   "id": "f2089133",
   "metadata": {},
   "outputs": [
    {
     "name": "stdout",
     "output_type": "stream",
     "text": [
      "Specificity: 1.0\n"
     ]
    }
   ],
   "source": [
    "cm = confusion_matrix(y_test, y_pred)    \n",
    "# cm_display = ConfusionMatrixDisplay(cm, labels_test).plot()\n",
    "\n",
    "tn, fp, fn, tp = cm.ravel()\n",
    "specificity = tn / (tn+fp)\n",
    "print(\"Specificity:\", specificity)"
   ]
  },
  {
   "cell_type": "code",
   "execution_count": 17,
   "id": "a10b0a3d",
   "metadata": {},
   "outputs": [],
   "source": [
    "tf.keras.backend.clear_session()"
   ]
  },
  {
   "cell_type": "code",
   "execution_count": null,
   "id": "9ca300cd",
   "metadata": {},
   "outputs": [],
   "source": []
  }
 ],
 "metadata": {
  "kernelspec": {
   "display_name": "Python 3 (ipykernel)",
   "language": "python",
   "name": "python3"
  },
  "language_info": {
   "codemirror_mode": {
    "name": "ipython",
    "version": 3
   },
   "file_extension": ".py",
   "mimetype": "text/x-python",
   "name": "python",
   "nbconvert_exporter": "python",
   "pygments_lexer": "ipython3",
   "version": "3.7.10"
  },
  "toc": {
   "base_numbering": 1,
   "nav_menu": {},
   "number_sections": true,
   "sideBar": true,
   "skip_h1_title": false,
   "title_cell": "Table of Contents",
   "title_sidebar": "Contents",
   "toc_cell": false,
   "toc_position": {},
   "toc_section_display": true,
   "toc_window_display": false
  },
  "varInspector": {
   "cols": {
    "lenName": 16,
    "lenType": 16,
    "lenVar": 40
   },
   "kernels_config": {
    "python": {
     "delete_cmd_postfix": "",
     "delete_cmd_prefix": "del ",
     "library": "var_list.py",
     "varRefreshCmd": "print(var_dic_list())"
    },
    "r": {
     "delete_cmd_postfix": ") ",
     "delete_cmd_prefix": "rm(",
     "library": "var_list.r",
     "varRefreshCmd": "cat(var_dic_list()) "
    }
   },
   "types_to_exclude": [
    "module",
    "function",
    "builtin_function_or_method",
    "instance",
    "_Feature"
   ],
   "window_display": false
  }
 },
 "nbformat": 4,
 "nbformat_minor": 5
}
