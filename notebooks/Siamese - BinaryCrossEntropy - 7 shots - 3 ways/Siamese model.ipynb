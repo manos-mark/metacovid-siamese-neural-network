{
 "cells": [
  {
   "cell_type": "code",
   "execution_count": 1,
   "id": "fc42bd44",
   "metadata": {},
   "outputs": [],
   "source": [
    "import utils\n",
    "\n",
    "import tensorflow as tf\n",
    "from tensorflow.keras.layers import Dense, Input, Flatten, Lambda\n",
    "from tensorflow.keras.models import Model\n",
    "from tensorflow.keras.optimizers import Adam\n",
    "from sklearn.metrics import confusion_matrix, ConfusionMatrixDisplay, accuracy_score, precision_score, recall_score, roc_auc_score, f1_score\n",
    "\n",
    "import numpy as np\n",
    "import os\n",
    "\n",
    "from tensorflow.keras.callbacks import EarlyStopping, ModelCheckpoint, ReduceLROnPlateau\n",
    "\n",
    "import logging"
   ]
  },
  {
   "cell_type": "code",
   "execution_count": 2,
   "id": "fde1ea84",
   "metadata": {},
   "outputs": [
    {
     "name": "stdout",
     "output_type": "stream",
     "text": [
      "Using:\n",
      "\t• TensorFlow version: 2.1.0\n",
      "\t• tf.keras version: 2.2.4-tf\n",
      "\t• Running on GPU\n"
     ]
    }
   ],
   "source": [
    "logger = tf.get_logger()\n",
    "logger.setLevel(logging.ERROR)\n",
    "\n",
    "print('Using:')\n",
    "print('\\t\\u2022 TensorFlow version:', tf.__version__)\n",
    "print('\\t\\u2022 tf.keras version:', tf.keras.__version__)\n",
    "print('\\t\\u2022 Running on GPU' if tf.test.is_gpu_available() else '\\t\\u2022 GPU device not found. Running on CPU')"
   ]
  },
  {
   "cell_type": "code",
   "execution_count": 3,
   "id": "51e983b7",
   "metadata": {},
   "outputs": [
    {
     "name": "stdout",
     "output_type": "stream",
     "text": [
      "Found 21 images belonging to 3 classes.\n",
      "The train set contains 21\n",
      "Found 21 images belonging to 3 classes.\n",
      "The valid set contains 21\n",
      "Found 648 images belonging to 3 classes.\n",
      "The test set contains 648\n"
     ]
    }
   ],
   "source": [
    "basedir = os.path.join(\"C:\\\\Users\\\\aktas\\\\Desktop\\\\VIBOT\\\\3.semester\\\\Meta-Learning\\\\project_final\\\\metacovid-siamese-neural-network\", \"dataset\", \"siamese\") \n",
    "\n",
    "train_image_list, train_y_list = utils.load_images(basedir, 'train', (100,100))\n",
    "print(\"The train set contains\",len(train_image_list)) \n",
    "\n",
    "valid_image_list, valid_y_list = utils.load_images(basedir, 'validation', (100,100))   \n",
    "print(\"The valid set contains\", len(valid_image_list))  \n",
    "\n",
    "test_image_list, test_y_list = utils.load_images(basedir, 'test', (100,100))   \n",
    "print(\"The test set contains\", len(test_image_list)) "
   ]
  },
  {
   "cell_type": "code",
   "execution_count": 4,
   "id": "b9e510ea",
   "metadata": {},
   "outputs": [
    {
     "name": "stdout",
     "output_type": "stream",
     "text": [
      "number of pairs for training 42\n",
      "number of pairs for validation 42\n",
      "number of pairs for test 1296\n"
     ]
    }
   ],
   "source": [
    "# make train pairs\n",
    "pairs_train, labels_train = utils.make_pairs(train_image_list, train_y_list)\n",
    "\n",
    "# make validation pairs\n",
    "pairs_val, labels_val = utils.make_pairs(valid_image_list, valid_y_list)\n",
    "\n",
    "# make test pairs\n",
    "pairs_test, labels_test = utils.make_pairs(test_image_list, test_y_list)\n",
    "\n",
    "x_train_1 = pairs_train[:, 0]  \n",
    "x_train_2 = pairs_train[:, 1]\n",
    "print(\"number of pairs for training\", np.shape(x_train_1)[0]) \n",
    "\n",
    "x_val_1 = pairs_val[:, 0] \n",
    "x_val_2 = pairs_val[:, 1]\n",
    "print(\"number of pairs for validation\", np.shape(x_val_1)[0]) \n",
    "\n",
    "x_test_1 = pairs_test[:, 0] \n",
    "x_test_2 = pairs_test[:, 1]\n",
    "print(\"number of pairs for test\", np.shape(x_test_1)[0]) "
   ]
  },
  {
   "cell_type": "code",
   "execution_count": 5,
   "id": "0ab81282",
   "metadata": {},
   "outputs": [
    {
     "name": "stdout",
     "output_type": "stream",
     "text": [
      "Model: \"model\"\n",
      "__________________________________________________________________________________________________\n",
      "Layer (type)                    Output Shape         Param #     Connected to                     \n",
      "==================================================================================================\n",
      "input_1 (InputLayer)            [(None, 100, 100, 3) 0                                            \n",
      "__________________________________________________________________________________________________\n",
      "input_2 (InputLayer)            [(None, 100, 100, 3) 0                                            \n",
      "__________________________________________________________________________________________________\n",
      "sequential (Sequential)         (None, 5120)         14748995    input_1[0][0]                    \n",
      "                                                                 input_2[0][0]                    \n",
      "__________________________________________________________________________________________________\n",
      "lambda (Lambda)                 (None, 1)            0           sequential[1][0]                 \n",
      "                                                                 sequential[2][0]                 \n",
      "__________________________________________________________________________________________________\n",
      "dense (Dense)                   (None, 1)            2           lambda[0][0]                     \n",
      "==================================================================================================\n",
      "Total params: 14,748,997\n",
      "Trainable params: 20,482\n",
      "Non-trainable params: 14,728,515\n",
      "__________________________________________________________________________________________________\n"
     ]
    }
   ],
   "source": [
    "tf.compat.v1.reset_default_graph()\n",
    "\n",
    "SIAMESE_MODEL_FNAME = 'siamese_network.h5'\n",
    "EMBEDDING_MODEL_FNAME = 'embedding_network.h5'\n",
    "\n",
    "input_1 = Input((100,100,3))\n",
    "input_2 = Input((100,100,3))\n",
    "\n",
    "embedding_network = tf.keras.models.load_model(EMBEDDING_MODEL_FNAME)\n",
    "embedding_network.trainable = False\n",
    "\n",
    "model = tf.keras.Sequential() \n",
    "for layer in embedding_network.layers:  \n",
    "    model.add(layer) \n",
    "\n",
    "model.add(Flatten(name='flat'))\n",
    "model.add(Dense(5120, name='den', activation='sigmoid', kernel_regularizer='l2')) \n",
    " \n",
    "output_1 = model(input_1) \n",
    "output_2 = model(input_2) \n",
    " \n",
    "merge_layer = Lambda(utils.manhattan_distance)([output_1, output_2]) \n",
    "output_layer = Dense(1, activation=\"sigmoid\")(merge_layer) \n",
    "siamese = Model(inputs=[input_1, input_2], outputs=output_layer) \n",
    "siamese.summary()"
   ]
  },
  {
   "cell_type": "code",
   "execution_count": 6,
   "id": "84bde165",
   "metadata": {},
   "outputs": [],
   "source": [
    "\"\"\" callbacks \"\"\"\n",
    "\n",
    "reduce_lr = ReduceLROnPlateau(monitor='val_loss', factor=0.2, patience=5, min_lr=0.00001)\n",
    "\n",
    "early_stopping = EarlyStopping(monitor='val_loss', patience=10, verbose=1, min_delta=0.0001)\n",
    "\n",
    "checkpointer = ModelCheckpoint(filepath='siamese_network.h5', verbose=1, \n",
    "                                save_best_only=True)"
   ]
  },
  {
   "cell_type": "code",
   "execution_count": 7,
   "id": "4aa63961",
   "metadata": {},
   "outputs": [
    {
     "name": "stdout",
     "output_type": "stream",
     "text": [
      "Model: \"model\"\n",
      "__________________________________________________________________________________________________\n",
      "Layer (type)                    Output Shape         Param #     Connected to                     \n",
      "==================================================================================================\n",
      "input_1 (InputLayer)            [(None, 100, 100, 3) 0                                            \n",
      "__________________________________________________________________________________________________\n",
      "input_2 (InputLayer)            [(None, 100, 100, 3) 0                                            \n",
      "__________________________________________________________________________________________________\n",
      "sequential (Sequential)         (None, 5120)         14748995    input_1[0][0]                    \n",
      "                                                                 input_2[0][0]                    \n",
      "__________________________________________________________________________________________________\n",
      "lambda (Lambda)                 (None, 1)            0           sequential[1][0]                 \n",
      "                                                                 sequential[2][0]                 \n",
      "__________________________________________________________________________________________________\n",
      "dense (Dense)                   (None, 1)            2           lambda[0][0]                     \n",
      "==================================================================================================\n",
      "Total params: 14,748,997\n",
      "Trainable params: 20,482\n",
      "Non-trainable params: 14,728,515\n",
      "__________________________________________________________________________________________________\n",
      "Train on 42 samples, validate on 42 samples\n",
      "Epoch 1/100\n",
      "41/42 [============================>.] - ETA: 0s - loss: 0.6532 - accuracy: 0.5854\n",
      "Epoch 00001: val_loss improved from inf to 0.65636, saving model to siamese_network.h5\n",
      "42/42 [==============================] - 4s 85ms/sample - loss: 0.6501 - accuracy: 0.5714 - val_loss: 0.6564 - val_accuracy: 0.5714\n",
      "Epoch 2/100\n",
      "41/42 [============================>.] - ETA: 0s - loss: 0.6374 - accuracy: 0.6098\n",
      "Epoch 00002: val_loss improved from 0.65636 to 0.64795, saving model to siamese_network.h5\n",
      "42/42 [==============================] - 1s 21ms/sample - loss: 0.6403 - accuracy: 0.6190 - val_loss: 0.6480 - val_accuracy: 0.5714\n",
      "Epoch 3/100\n",
      "36/42 [========================>.....] - ETA: 0s - loss: 0.6337 - accuracy: 0.6667\n",
      "Epoch 00003: val_loss improved from 0.64795 to 0.64202, saving model to siamese_network.h5\n",
      "42/42 [==============================] - 1s 21ms/sample - loss: 0.6335 - accuracy: 0.6667 - val_loss: 0.6420 - val_accuracy: 0.5952\n",
      "Epoch 4/100\n",
      "41/42 [============================>.] - ETA: 0s - loss: 0.6257 - accuracy: 0.6829\n",
      "Epoch 00004: val_loss improved from 0.64202 to 0.63777, saving model to siamese_network.h5\n",
      "42/42 [==============================] - 1s 21ms/sample - loss: 0.6287 - accuracy: 0.6905 - val_loss: 0.6378 - val_accuracy: 0.6429\n",
      "Epoch 5/100\n",
      "37/42 [=========================>....] - ETA: 0s - loss: 0.6285 - accuracy: 0.7297\n",
      "Epoch 00005: val_loss improved from 0.63777 to 0.63492, saving model to siamese_network.h5\n",
      "42/42 [==============================] - 1s 21ms/sample - loss: 0.6249 - accuracy: 0.7381 - val_loss: 0.6349 - val_accuracy: 0.6429\n",
      "Epoch 6/100\n",
      "40/42 [===========================>..] - ETA: 0s - loss: 0.6222 - accuracy: 0.7500\n",
      "Epoch 00006: val_loss improved from 0.63492 to 0.63254, saving model to siamese_network.h5\n",
      "42/42 [==============================] - 1s 21ms/sample - loss: 0.6221 - accuracy: 0.7619 - val_loss: 0.6325 - val_accuracy: 0.6429\n",
      "Epoch 7/100\n",
      "40/42 [===========================>..] - ETA: 0s - loss: 0.6261 - accuracy: 0.7750\n",
      "Epoch 00007: val_loss improved from 0.63254 to 0.63082, saving model to siamese_network.h5\n",
      "42/42 [==============================] - 1s 21ms/sample - loss: 0.6200 - accuracy: 0.7619 - val_loss: 0.6308 - val_accuracy: 0.6667\n",
      "Epoch 8/100\n",
      "37/42 [=========================>....] - ETA: 0s - loss: 0.6150 - accuracy: 0.7297\n",
      "Epoch 00008: val_loss improved from 0.63082 to 0.62901, saving model to siamese_network.h5\n",
      "42/42 [==============================] - 1s 21ms/sample - loss: 0.6181 - accuracy: 0.7619 - val_loss: 0.6290 - val_accuracy: 0.6667\n",
      "Epoch 9/100\n",
      "41/42 [============================>.] - ETA: 0s - loss: 0.6136 - accuracy: 0.8049\n",
      "Epoch 00009: val_loss improved from 0.62901 to 0.62779, saving model to siamese_network.h5\n",
      "42/42 [==============================] - 1s 22ms/sample - loss: 0.6166 - accuracy: 0.8095 - val_loss: 0.6278 - val_accuracy: 0.6905\n",
      "Epoch 10/100\n",
      "38/42 [==========================>...] - ETA: 0s - loss: 0.6091 - accuracy: 0.8421\n",
      "Epoch 00010: val_loss improved from 0.62779 to 0.62670, saving model to siamese_network.h5\n",
      "42/42 [==============================] - 1s 22ms/sample - loss: 0.6155 - accuracy: 0.8571 - val_loss: 0.6267 - val_accuracy: 0.6905\n",
      "Epoch 11/100\n",
      "39/42 [==========================>...] - ETA: 0s - loss: 0.6176 - accuracy: 0.8718\n",
      "Epoch 00011: val_loss improved from 0.62670 to 0.62599, saving model to siamese_network.h5\n",
      "42/42 [==============================] - 1s 22ms/sample - loss: 0.6144 - accuracy: 0.8810 - val_loss: 0.6260 - val_accuracy: 0.6905\n",
      "Epoch 12/100\n",
      "37/42 [=========================>....] - ETA: 0s - loss: 0.6170 - accuracy: 0.8649\n",
      "Epoch 00012: val_loss improved from 0.62599 to 0.62547, saving model to siamese_network.h5\n",
      "42/42 [==============================] - 1s 21ms/sample - loss: 0.6135 - accuracy: 0.8810 - val_loss: 0.6255 - val_accuracy: 0.6905\n",
      "Epoch 13/100\n",
      "41/42 [============================>.] - ETA: 0s - loss: 0.6099 - accuracy: 0.8780\n",
      "Epoch 00013: val_loss improved from 0.62547 to 0.62472, saving model to siamese_network.h5\n",
      "42/42 [==============================] - 1s 22ms/sample - loss: 0.6128 - accuracy: 0.8810 - val_loss: 0.6247 - val_accuracy: 0.6905\n",
      "Epoch 14/100\n",
      "39/42 [==========================>...] - ETA: 0s - loss: 0.6151 - accuracy: 0.9231\n",
      "Epoch 00014: val_loss improved from 0.62472 to 0.62409, saving model to siamese_network.h5\n",
      "42/42 [==============================] - 1s 22ms/sample - loss: 0.6122 - accuracy: 0.9048 - val_loss: 0.6241 - val_accuracy: 0.7143\n",
      "Epoch 15/100\n",
      "39/42 [==========================>...] - ETA: 0s - loss: 0.6147 - accuracy: 0.8974\n",
      "Epoch 00015: val_loss improved from 0.62409 to 0.62328, saving model to siamese_network.h5\n",
      "42/42 [==============================] - 1s 22ms/sample - loss: 0.6115 - accuracy: 0.9048 - val_loss: 0.6233 - val_accuracy: 0.7143\n",
      "Epoch 16/100\n",
      "40/42 [===========================>..] - ETA: 0s - loss: 0.6107 - accuracy: 0.9000\n",
      "Epoch 00016: val_loss improved from 0.62328 to 0.62300, saving model to siamese_network.h5\n",
      "42/42 [==============================] - 1s 22ms/sample - loss: 0.6107 - accuracy: 0.9048 - val_loss: 0.6230 - val_accuracy: 0.7143\n",
      "Epoch 17/100\n",
      "41/42 [============================>.] - ETA: 0s - loss: 0.6131 - accuracy: 0.9024\n",
      "Epoch 00017: val_loss improved from 0.62300 to 0.62249, saving model to siamese_network.h5\n",
      "42/42 [==============================] - 1s 22ms/sample - loss: 0.6101 - accuracy: 0.9048 - val_loss: 0.6225 - val_accuracy: 0.7381\n",
      "Epoch 18/100\n",
      "38/42 [==========================>...] - ETA: 0s - loss: 0.6160 - accuracy: 0.8947\n",
      "Epoch 00018: val_loss improved from 0.62249 to 0.62189, saving model to siamese_network.h5\n",
      "42/42 [==============================] - 1s 21ms/sample - loss: 0.6095 - accuracy: 0.9048 - val_loss: 0.6219 - val_accuracy: 0.7381\n",
      "Epoch 19/100\n",
      "37/42 [=========================>....] - ETA: 0s - loss: 0.5991 - accuracy: 0.9189\n",
      "Epoch 00019: val_loss improved from 0.62189 to 0.62131, saving model to siamese_network.h5\n",
      "42/42 [==============================] - 1s 21ms/sample - loss: 0.6090 - accuracy: 0.9048 - val_loss: 0.6213 - val_accuracy: 0.7381\n",
      "Epoch 20/100\n",
      "36/42 [========================>.....] - ETA: 0s - loss: 0.6087 - accuracy: 0.8889\n",
      "Epoch 00020: val_loss improved from 0.62131 to 0.62109, saving model to siamese_network.h5\n",
      "42/42 [==============================] - 1s 22ms/sample - loss: 0.6084 - accuracy: 0.9048 - val_loss: 0.6211 - val_accuracy: 0.7381\n",
      "Epoch 21/100\n",
      "41/42 [============================>.] - ETA: 0s - loss: 0.6108 - accuracy: 0.9268\n",
      "Epoch 00021: val_loss improved from 0.62109 to 0.62063, saving model to siamese_network.h5\n",
      "42/42 [==============================] - 1s 22ms/sample - loss: 0.6079 - accuracy: 0.9048 - val_loss: 0.6206 - val_accuracy: 0.7381\n"
     ]
    },
    {
     "name": "stdout",
     "output_type": "stream",
     "text": [
      "Epoch 22/100\n",
      "39/42 [==========================>...] - ETA: 0s - loss: 0.6044 - accuracy: 0.8974\n",
      "Epoch 00022: val_loss improved from 0.62063 to 0.61995, saving model to siamese_network.h5\n",
      "42/42 [==============================] - 1s 22ms/sample - loss: 0.6075 - accuracy: 0.9048 - val_loss: 0.6200 - val_accuracy: 0.7381\n",
      "Epoch 23/100\n",
      "40/42 [===========================>..] - ETA: 0s - loss: 0.6070 - accuracy: 0.9000\n",
      "Epoch 00023: val_loss improved from 0.61995 to 0.61982, saving model to siamese_network.h5\n",
      "42/42 [==============================] - 1s 22ms/sample - loss: 0.6069 - accuracy: 0.9048 - val_loss: 0.6198 - val_accuracy: 0.7381\n",
      "Epoch 24/100\n",
      "39/42 [==========================>...] - ETA: 0s - loss: 0.5974 - accuracy: 0.8974\n",
      "Epoch 00024: val_loss improved from 0.61982 to 0.61926, saving model to siamese_network.h5\n",
      "42/42 [==============================] - 1s 21ms/sample - loss: 0.6066 - accuracy: 0.9048 - val_loss: 0.6193 - val_accuracy: 0.7381\n",
      "Epoch 25/100\n",
      "40/42 [===========================>..] - ETA: 0s - loss: 0.6058 - accuracy: 0.9250\n",
      "Epoch 00025: val_loss improved from 0.61926 to 0.61895, saving model to siamese_network.h5\n",
      "42/42 [==============================] - 1s 21ms/sample - loss: 0.6061 - accuracy: 0.9048 - val_loss: 0.6190 - val_accuracy: 0.7381\n",
      "Epoch 26/100\n",
      "36/42 [========================>.....] - ETA: 0s - loss: 0.6125 - accuracy: 0.9167\n",
      "Epoch 00026: val_loss improved from 0.61895 to 0.61853, saving model to siamese_network.h5\n",
      "42/42 [==============================] - 1s 21ms/sample - loss: 0.6057 - accuracy: 0.9048 - val_loss: 0.6185 - val_accuracy: 0.7381\n",
      "Epoch 27/100\n",
      "39/42 [==========================>...] - ETA: 0s - loss: 0.6084 - accuracy: 0.8974\n",
      "Epoch 00027: val_loss improved from 0.61853 to 0.61803, saving model to siamese_network.h5\n",
      "42/42 [==============================] - 1s 21ms/sample - loss: 0.6053 - accuracy: 0.9048 - val_loss: 0.6180 - val_accuracy: 0.7381\n",
      "Epoch 28/100\n",
      "37/42 [=========================>....] - ETA: 0s - loss: 0.5951 - accuracy: 0.8919\n",
      "Epoch 00028: val_loss improved from 0.61803 to 0.61789, saving model to siamese_network.h5\n",
      "42/42 [==============================] - 1s 21ms/sample - loss: 0.6048 - accuracy: 0.9048 - val_loss: 0.6179 - val_accuracy: 0.7381\n",
      "Epoch 29/100\n",
      "37/42 [=========================>....] - ETA: 0s - loss: 0.6078 - accuracy: 0.8919\n",
      "Epoch 00029: val_loss improved from 0.61789 to 0.61744, saving model to siamese_network.h5\n",
      "42/42 [==============================] - 1s 22ms/sample - loss: 0.6044 - accuracy: 0.9048 - val_loss: 0.6174 - val_accuracy: 0.7381\n",
      "Epoch 30/100\n",
      "40/42 [===========================>..] - ETA: 0s - loss: 0.6041 - accuracy: 0.9250\n",
      "Epoch 00030: val_loss improved from 0.61744 to 0.61725, saving model to siamese_network.h5\n",
      "42/42 [==============================] - 1s 22ms/sample - loss: 0.6040 - accuracy: 0.9286 - val_loss: 0.6172 - val_accuracy: 0.7381\n",
      "Epoch 31/100\n",
      "41/42 [============================>.] - ETA: 0s - loss: 0.6008 - accuracy: 0.9268\n",
      "Epoch 00031: val_loss improved from 0.61725 to 0.61675, saving model to siamese_network.h5\n",
      "42/42 [==============================] - 1s 21ms/sample - loss: 0.6036 - accuracy: 0.9286 - val_loss: 0.6167 - val_accuracy: 0.7381\n",
      "Epoch 32/100\n",
      "36/42 [========================>.....] - ETA: 0s - loss: 0.6102 - accuracy: 0.9167\n",
      "Epoch 00032: val_loss improved from 0.61675 to 0.61648, saving model to siamese_network.h5\n",
      "42/42 [==============================] - 1s 22ms/sample - loss: 0.6032 - accuracy: 0.9286 - val_loss: 0.6165 - val_accuracy: 0.7381\n",
      "Epoch 33/100\n",
      "36/42 [========================>.....] - ETA: 0s - loss: 0.6031 - accuracy: 0.9167\n",
      "Epoch 00033: val_loss improved from 0.61648 to 0.61633, saving model to siamese_network.h5\n",
      "42/42 [==============================] - 1s 22ms/sample - loss: 0.6028 - accuracy: 0.9286 - val_loss: 0.6163 - val_accuracy: 0.7381\n",
      "Epoch 34/100\n",
      "39/42 [==========================>...] - ETA: 0s - loss: 0.5996 - accuracy: 0.9231\n",
      "Epoch 00034: val_loss improved from 0.61633 to 0.61584, saving model to siamese_network.h5\n",
      "42/42 [==============================] - 1s 22ms/sample - loss: 0.6026 - accuracy: 0.9286 - val_loss: 0.6158 - val_accuracy: 0.7381\n",
      "Epoch 35/100\n",
      "41/42 [============================>.] - ETA: 0s - loss: 0.5992 - accuracy: 0.9268\n",
      "Epoch 00035: val_loss improved from 0.61584 to 0.61544, saving model to siamese_network.h5\n",
      "42/42 [==============================] - 1s 22ms/sample - loss: 0.6022 - accuracy: 0.9286 - val_loss: 0.6154 - val_accuracy: 0.7381\n",
      "Epoch 36/100\n",
      "37/42 [=========================>....] - ETA: 0s - loss: 0.5988 - accuracy: 0.9189\n",
      "Epoch 00036: val_loss improved from 0.61544 to 0.61530, saving model to siamese_network.h5\n",
      "42/42 [==============================] - 1s 21ms/sample - loss: 0.6019 - accuracy: 0.9286 - val_loss: 0.6153 - val_accuracy: 0.7381\n",
      "Epoch 37/100\n",
      "41/42 [============================>.] - ETA: 0s - loss: 0.5985 - accuracy: 0.9268\n",
      "Epoch 00037: val_loss improved from 0.61530 to 0.61506, saving model to siamese_network.h5\n",
      "42/42 [==============================] - 1s 22ms/sample - loss: 0.6014 - accuracy: 0.9286 - val_loss: 0.6151 - val_accuracy: 0.7381\n",
      "Epoch 38/100\n",
      "39/42 [==========================>...] - ETA: 0s - loss: 0.5981 - accuracy: 0.9231\n",
      "Epoch 00038: val_loss improved from 0.61506 to 0.61463, saving model to siamese_network.h5\n",
      "42/42 [==============================] - 1s 22ms/sample - loss: 0.6012 - accuracy: 0.9286 - val_loss: 0.6146 - val_accuracy: 0.7381\n",
      "Epoch 39/100\n",
      "36/42 [========================>.....] - ETA: 0s - loss: 0.6010 - accuracy: 0.9167\n",
      "Epoch 00039: val_loss improved from 0.61463 to 0.61455, saving model to siamese_network.h5\n",
      "42/42 [==============================] - 1s 22ms/sample - loss: 0.6008 - accuracy: 0.9286 - val_loss: 0.6145 - val_accuracy: 0.7381\n",
      "Epoch 40/100\n",
      "37/42 [=========================>....] - ETA: 0s - loss: 0.6106 - accuracy: 0.9189\n",
      "Epoch 00040: val_loss improved from 0.61455 to 0.61420, saving model to siamese_network.h5\n",
      "42/42 [==============================] - 1s 22ms/sample - loss: 0.6006 - accuracy: 0.9286 - val_loss: 0.6142 - val_accuracy: 0.7381\n",
      "Epoch 41/100\n",
      "39/42 [==========================>...] - ETA: 0s - loss: 0.6033 - accuracy: 0.9231\n",
      "Epoch 00041: val_loss improved from 0.61420 to 0.61374, saving model to siamese_network.h5\n",
      "42/42 [==============================] - 1s 22ms/sample - loss: 0.6001 - accuracy: 0.9286 - val_loss: 0.6137 - val_accuracy: 0.7619\n",
      "Epoch 42/100\n",
      "36/42 [========================>.....] - ETA: 0s - loss: 0.5934 - accuracy: 0.9167\n",
      "Epoch 00042: val_loss improved from 0.61374 to 0.61362, saving model to siamese_network.h5\n",
      "42/42 [==============================] - 1s 21ms/sample - loss: 0.5999 - accuracy: 0.9286 - val_loss: 0.6136 - val_accuracy: 0.7619\n",
      "Epoch 43/100\n",
      "37/42 [=========================>....] - ETA: 0s - loss: 0.5965 - accuracy: 0.9189\n",
      "Epoch 00043: val_loss improved from 0.61362 to 0.61326, saving model to siamese_network.h5\n",
      "42/42 [==============================] - 1s 21ms/sample - loss: 0.5995 - accuracy: 0.9286 - val_loss: 0.6133 - val_accuracy: 0.7619\n",
      "Epoch 44/100\n",
      "40/42 [===========================>..] - ETA: 0s - loss: 0.5993 - accuracy: 0.9250\n",
      "Epoch 00044: val_loss improved from 0.61326 to 0.61303, saving model to siamese_network.h5\n",
      "42/42 [==============================] - 1s 22ms/sample - loss: 0.5993 - accuracy: 0.9286 - val_loss: 0.6130 - val_accuracy: 0.7619\n",
      "Epoch 45/100\n",
      "37/42 [=========================>....] - ETA: 0s - loss: 0.5892 - accuracy: 0.9189\n",
      "Epoch 00045: val_loss improved from 0.61303 to 0.61274, saving model to siamese_network.h5\n",
      "42/42 [==============================] - 1s 22ms/sample - loss: 0.5989 - accuracy: 0.9286 - val_loss: 0.6127 - val_accuracy: 0.7619\n",
      "Epoch 46/100\n",
      "38/42 [==========================>...] - ETA: 0s - loss: 0.5923 - accuracy: 0.9211\n",
      "Epoch 00046: val_loss improved from 0.61274 to 0.61242, saving model to siamese_network.h5\n",
      "42/42 [==============================] - 1s 22ms/sample - loss: 0.5986 - accuracy: 0.9286 - val_loss: 0.6124 - val_accuracy: 0.7619\n",
      "Epoch 47/100\n",
      "40/42 [===========================>..] - ETA: 0s - loss: 0.5923 - accuracy: 0.9250\n",
      "Epoch 00047: val_loss improved from 0.61242 to 0.61229, saving model to siamese_network.h5\n",
      "42/42 [==============================] - 1s 22ms/sample - loss: 0.5983 - accuracy: 0.9286 - val_loss: 0.6123 - val_accuracy: 0.7619\n"
     ]
    },
    {
     "name": "stdout",
     "output_type": "stream",
     "text": [
      "Epoch 48/100\n",
      "40/42 [===========================>..] - ETA: 0s - loss: 0.5981 - accuracy: 0.9250\n",
      "Epoch 00048: val_loss improved from 0.61229 to 0.61209, saving model to siamese_network.h5\n",
      "42/42 [==============================] - 1s 21ms/sample - loss: 0.5980 - accuracy: 0.9286 - val_loss: 0.6121 - val_accuracy: 0.7619\n",
      "Epoch 49/100\n",
      "40/42 [===========================>..] - ETA: 0s - loss: 0.5978 - accuracy: 0.9250\n",
      "Epoch 00049: val_loss improved from 0.61209 to 0.61180, saving model to siamese_network.h5\n",
      "42/42 [==============================] - 1s 21ms/sample - loss: 0.5978 - accuracy: 0.9286 - val_loss: 0.6118 - val_accuracy: 0.7619\n",
      "Epoch 50/100\n",
      "41/42 [============================>.] - ETA: 0s - loss: 0.5945 - accuracy: 0.9268\n",
      "Epoch 00050: val_loss improved from 0.61180 to 0.61178, saving model to siamese_network.h5\n",
      "42/42 [==============================] - 1s 21ms/sample - loss: 0.5974 - accuracy: 0.9286 - val_loss: 0.6118 - val_accuracy: 0.7619\n",
      "Epoch 51/100\n",
      "36/42 [========================>.....] - ETA: 0s - loss: 0.6042 - accuracy: 0.9167\n",
      "Epoch 00051: val_loss improved from 0.61178 to 0.61123, saving model to siamese_network.h5\n",
      "42/42 [==============================] - 1s 22ms/sample - loss: 0.5972 - accuracy: 0.9286 - val_loss: 0.6112 - val_accuracy: 0.7619\n",
      "Epoch 52/100\n",
      "41/42 [============================>.] - ETA: 0s - loss: 0.5940 - accuracy: 0.9268\n",
      "Epoch 00052: val_loss improved from 0.61123 to 0.61111, saving model to siamese_network.h5\n",
      "42/42 [==============================] - 1s 22ms/sample - loss: 0.5969 - accuracy: 0.9286 - val_loss: 0.6111 - val_accuracy: 0.8095\n",
      "Epoch 53/100\n",
      "40/42 [===========================>..] - ETA: 0s - loss: 0.5906 - accuracy: 0.9250\n",
      "Epoch 00053: val_loss improved from 0.61111 to 0.61074, saving model to siamese_network.h5\n",
      "42/42 [==============================] - 1s 22ms/sample - loss: 0.5966 - accuracy: 0.9286 - val_loss: 0.6107 - val_accuracy: 0.8095\n",
      "Epoch 54/100\n",
      "40/42 [===========================>..] - ETA: 0s - loss: 0.5964 - accuracy: 0.9250\n",
      "Epoch 00054: val_loss improved from 0.61074 to 0.61072, saving model to siamese_network.h5\n",
      "42/42 [==============================] - 1s 22ms/sample - loss: 0.5963 - accuracy: 0.9286 - val_loss: 0.6107 - val_accuracy: 0.8095\n",
      "Epoch 55/100\n",
      "39/42 [==========================>...] - ETA: 0s - loss: 0.5933 - accuracy: 0.9231\n",
      "Epoch 00055: val_loss improved from 0.61072 to 0.61039, saving model to siamese_network.h5\n",
      "42/42 [==============================] - 1s 22ms/sample - loss: 0.5962 - accuracy: 0.9286 - val_loss: 0.6104 - val_accuracy: 0.8095\n",
      "Epoch 56/100\n",
      "39/42 [==========================>...] - ETA: 0s - loss: 0.5989 - accuracy: 0.9231\n",
      "Epoch 00056: val_loss improved from 0.61039 to 0.61027, saving model to siamese_network.h5\n",
      "42/42 [==============================] - 1s 22ms/sample - loss: 0.5958 - accuracy: 0.9286 - val_loss: 0.6103 - val_accuracy: 0.8095\n",
      "Epoch 57/100\n",
      "37/42 [=========================>....] - ETA: 0s - loss: 0.6051 - accuracy: 0.9459\n",
      "Epoch 00057: val_loss improved from 0.61027 to 0.61000, saving model to siamese_network.h5\n",
      "42/42 [==============================] - 1s 22ms/sample - loss: 0.5955 - accuracy: 0.9286 - val_loss: 0.6100 - val_accuracy: 0.8095\n",
      "Epoch 58/100\n",
      "39/42 [==========================>...] - ETA: 0s - loss: 0.5983 - accuracy: 0.9231\n",
      "Epoch 00058: val_loss improved from 0.61000 to 0.60974, saving model to siamese_network.h5\n",
      "42/42 [==============================] - 1s 22ms/sample - loss: 0.5952 - accuracy: 0.9286 - val_loss: 0.6097 - val_accuracy: 0.8095\n",
      "Epoch 59/100\n",
      "40/42 [===========================>..] - ETA: 0s - loss: 0.5950 - accuracy: 0.9250\n",
      "Epoch 00059: val_loss improved from 0.60974 to 0.60954, saving model to siamese_network.h5\n",
      "42/42 [==============================] - 1s 21ms/sample - loss: 0.5950 - accuracy: 0.9286 - val_loss: 0.6095 - val_accuracy: 0.8095\n",
      "Epoch 60/100\n",
      "40/42 [===========================>..] - ETA: 0s - loss: 0.5948 - accuracy: 0.9250\n",
      "Epoch 00060: val_loss improved from 0.60954 to 0.60926, saving model to siamese_network.h5\n",
      "42/42 [==============================] - 1s 22ms/sample - loss: 0.5947 - accuracy: 0.9286 - val_loss: 0.6093 - val_accuracy: 0.8095\n",
      "Epoch 61/100\n",
      "39/42 [==========================>...] - ETA: 0s - loss: 0.5912 - accuracy: 0.9487\n",
      "Epoch 00061: val_loss improved from 0.60926 to 0.60898, saving model to siamese_network.h5\n",
      "42/42 [==============================] - 1s 22ms/sample - loss: 0.5945 - accuracy: 0.9286 - val_loss: 0.6090 - val_accuracy: 0.8095\n",
      "Epoch 62/100\n",
      "41/42 [============================>.] - ETA: 0s - loss: 0.5974 - accuracy: 0.9268\n",
      "Epoch 00062: val_loss did not improve from 0.60898\n",
      "42/42 [==============================] - 1s 20ms/sample - loss: 0.5944 - accuracy: 0.9286 - val_loss: 0.6090 - val_accuracy: 0.8095\n",
      "Epoch 63/100\n",
      "41/42 [============================>.] - ETA: 0s - loss: 0.5911 - accuracy: 0.9268\n",
      "Epoch 00063: val_loss improved from 0.60898 to 0.60844, saving model to siamese_network.h5\n",
      "42/42 [==============================] - 1s 22ms/sample - loss: 0.5940 - accuracy: 0.9286 - val_loss: 0.6084 - val_accuracy: 0.8095\n",
      "Epoch 64/100\n",
      "40/42 [===========================>..] - ETA: 0s - loss: 0.5938 - accuracy: 0.9250\n",
      "Epoch 00064: val_loss improved from 0.60844 to 0.60823, saving model to siamese_network.h5\n",
      "42/42 [==============================] - 1s 22ms/sample - loss: 0.5938 - accuracy: 0.9286 - val_loss: 0.6082 - val_accuracy: 0.8095\n",
      "Epoch 65/100\n",
      "38/42 [==========================>...] - ETA: 0s - loss: 0.5999 - accuracy: 0.9474\n",
      "Epoch 00065: val_loss did not improve from 0.60823\n",
      "42/42 [==============================] - 1s 20ms/sample - loss: 0.5935 - accuracy: 0.9524 - val_loss: 0.6082 - val_accuracy: 0.8095\n",
      "Epoch 66/100\n",
      "40/42 [===========================>..] - ETA: 0s - loss: 0.5872 - accuracy: 0.9500\n",
      "Epoch 00066: val_loss improved from 0.60823 to 0.60795, saving model to siamese_network.h5\n",
      "42/42 [==============================] - 1s 22ms/sample - loss: 0.5932 - accuracy: 0.9524 - val_loss: 0.6080 - val_accuracy: 0.8095\n",
      "Epoch 67/100\n",
      "41/42 [============================>.] - ETA: 0s - loss: 0.5901 - accuracy: 0.9512\n",
      "Epoch 00067: val_loss improved from 0.60795 to 0.60772, saving model to siamese_network.h5\n",
      "42/42 [==============================] - 1s 22ms/sample - loss: 0.5930 - accuracy: 0.9524 - val_loss: 0.6077 - val_accuracy: 0.8095\n",
      "Epoch 68/100\n",
      "39/42 [==========================>...] - ETA: 0s - loss: 0.6022 - accuracy: 0.9487\n",
      "Epoch 00068: val_loss improved from 0.60772 to 0.60756, saving model to siamese_network.h5\n",
      "42/42 [==============================] - 1s 21ms/sample - loss: 0.5927 - accuracy: 0.9524 - val_loss: 0.6076 - val_accuracy: 0.8095\n",
      "Epoch 69/100\n",
      "36/42 [========================>.....] - ETA: 0s - loss: 0.5925 - accuracy: 0.9444\n",
      "Epoch 00069: val_loss improved from 0.60756 to 0.60752, saving model to siamese_network.h5\n",
      "42/42 [==============================] - 1s 22ms/sample - loss: 0.5925 - accuracy: 0.9524 - val_loss: 0.6075 - val_accuracy: 0.8095\n",
      "Epoch 70/100\n",
      "40/42 [===========================>..] - ETA: 0s - loss: 0.5923 - accuracy: 0.9750\n",
      "Epoch 00070: val_loss improved from 0.60752 to 0.60712, saving model to siamese_network.h5\n",
      "42/42 [==============================] - 1s 22ms/sample - loss: 0.5923 - accuracy: 0.9762 - val_loss: 0.6071 - val_accuracy: 0.8095\n",
      "Epoch 71/100\n",
      "40/42 [===========================>..] - ETA: 0s - loss: 0.5920 - accuracy: 0.9750\n",
      "Epoch 00071: val_loss improved from 0.60712 to 0.60699, saving model to siamese_network.h5\n",
      "42/42 [==============================] - 1s 22ms/sample - loss: 0.5920 - accuracy: 0.9762 - val_loss: 0.6070 - val_accuracy: 0.8095\n",
      "Epoch 72/100\n",
      "39/42 [==========================>...] - ETA: 0s - loss: 0.5889 - accuracy: 0.9744\n",
      "Epoch 00072: val_loss improved from 0.60699 to 0.60681, saving model to siamese_network.h5\n",
      "42/42 [==============================] - 1s 21ms/sample - loss: 0.5919 - accuracy: 0.9762 - val_loss: 0.6068 - val_accuracy: 0.8095\n",
      "Epoch 73/100\n",
      "36/42 [========================>.....] - ETA: 0s - loss: 0.5918 - accuracy: 0.9722\n",
      "Epoch 00073: val_loss did not improve from 0.60681\n",
      "42/42 [==============================] - 1s 20ms/sample - loss: 0.5917 - accuracy: 0.9762 - val_loss: 0.6068 - val_accuracy: 0.8095\n",
      "Epoch 74/100\n"
     ]
    },
    {
     "name": "stdout",
     "output_type": "stream",
     "text": [
      "39/42 [==========================>...] - ETA: 0s - loss: 0.5942 - accuracy: 1.0000\n",
      "Epoch 00074: val_loss improved from 0.60681 to 0.60621, saving model to siamese_network.h5\n",
      "42/42 [==============================] - 1s 22ms/sample - loss: 0.5913 - accuracy: 1.0000 - val_loss: 0.6062 - val_accuracy: 0.8095\n",
      "Epoch 75/100\n",
      "38/42 [==========================>...] - ETA: 0s - loss: 0.5973 - accuracy: 1.0000\n",
      "Epoch 00075: val_loss improved from 0.60621 to 0.60613, saving model to siamese_network.h5\n",
      "42/42 [==============================] - 1s 22ms/sample - loss: 0.5911 - accuracy: 1.0000 - val_loss: 0.6061 - val_accuracy: 0.8095\n",
      "Epoch 76/100\n",
      "39/42 [==========================>...] - ETA: 0s - loss: 0.5879 - accuracy: 1.0000\n",
      "Epoch 00076: val_loss improved from 0.60613 to 0.60553, saving model to siamese_network.h5\n",
      "42/42 [==============================] - 1s 22ms/sample - loss: 0.5910 - accuracy: 1.0000 - val_loss: 0.6055 - val_accuracy: 0.8095\n",
      "Epoch 77/100\n",
      "37/42 [=========================>....] - ETA: 0s - loss: 0.5809 - accuracy: 1.0000\n",
      "Epoch 00077: val_loss did not improve from 0.60553\n",
      "42/42 [==============================] - 1s 20ms/sample - loss: 0.5907 - accuracy: 1.0000 - val_loss: 0.6056 - val_accuracy: 0.8095\n",
      "Epoch 78/100\n",
      "37/42 [=========================>....] - ETA: 0s - loss: 0.5808 - accuracy: 1.0000\n",
      "Epoch 00078: val_loss did not improve from 0.60553\n",
      "42/42 [==============================] - 1s 20ms/sample - loss: 0.5905 - accuracy: 1.0000 - val_loss: 0.6058 - val_accuracy: 0.8095\n",
      "Epoch 79/100\n",
      "39/42 [==========================>...] - ETA: 0s - loss: 0.5870 - accuracy: 1.0000\n",
      "Epoch 00079: val_loss did not improve from 0.60553\n",
      "42/42 [==============================] - 1s 20ms/sample - loss: 0.5904 - accuracy: 1.0000 - val_loss: 0.6056 - val_accuracy: 0.8095\n",
      "Epoch 80/100\n",
      "39/42 [==========================>...] - ETA: 0s - loss: 0.5870 - accuracy: 1.0000\n",
      "Epoch 00080: val_loss improved from 0.60553 to 0.60511, saving model to siamese_network.h5\n",
      "42/42 [==============================] - 1s 22ms/sample - loss: 0.5900 - accuracy: 1.0000 - val_loss: 0.6051 - val_accuracy: 0.8095\n",
      "Epoch 81/100\n",
      "37/42 [=========================>....] - ETA: 0s - loss: 0.5861 - accuracy: 1.0000\n",
      "Epoch 00081: val_loss improved from 0.60511 to 0.60450, saving model to siamese_network.h5\n",
      "42/42 [==============================] - 1s 22ms/sample - loss: 0.5898 - accuracy: 1.0000 - val_loss: 0.6045 - val_accuracy: 0.8095\n",
      "Epoch 82/100\n",
      "41/42 [============================>.] - ETA: 0s - loss: 0.5926 - accuracy: 1.0000\n",
      "Epoch 00082: val_loss did not improve from 0.60450\n",
      "42/42 [==============================] - 1s 20ms/sample - loss: 0.5896 - accuracy: 1.0000 - val_loss: 0.6049 - val_accuracy: 0.8095\n",
      "Epoch 83/100\n",
      "38/42 [==========================>...] - ETA: 0s - loss: 0.5831 - accuracy: 1.0000\n",
      "Epoch 00083: val_loss did not improve from 0.60450\n",
      "42/42 [==============================] - 1s 20ms/sample - loss: 0.5894 - accuracy: 1.0000 - val_loss: 0.6047 - val_accuracy: 0.8095\n",
      "Epoch 84/100\n",
      "37/42 [=========================>....] - ETA: 0s - loss: 0.5987 - accuracy: 1.0000\n",
      "Epoch 00084: val_loss did not improve from 0.60450\n",
      "42/42 [==============================] - 1s 20ms/sample - loss: 0.5892 - accuracy: 1.0000 - val_loss: 0.6046 - val_accuracy: 0.8095\n",
      "Epoch 85/100\n",
      "39/42 [==========================>...] - ETA: 0s - loss: 0.5860 - accuracy: 1.0000\n",
      "Epoch 00085: val_loss improved from 0.60450 to 0.60444, saving model to siamese_network.h5\n",
      "42/42 [==============================] - 1s 22ms/sample - loss: 0.5890 - accuracy: 1.0000 - val_loss: 0.6044 - val_accuracy: 0.8095\n",
      "Epoch 86/100\n",
      "40/42 [===========================>..] - ETA: 0s - loss: 0.5889 - accuracy: 1.0000\n",
      "Epoch 00086: val_loss improved from 0.60444 to 0.60403, saving model to siamese_network.h5\n",
      "42/42 [==============================] - 1s 22ms/sample - loss: 0.5888 - accuracy: 1.0000 - val_loss: 0.6040 - val_accuracy: 0.8095\n",
      "Epoch 87/100\n",
      "40/42 [===========================>..] - ETA: 0s - loss: 0.5883 - accuracy: 1.0000\n",
      "Epoch 00087: val_loss improved from 0.60403 to 0.60391, saving model to siamese_network.h5\n",
      "42/42 [==============================] - 1s 22ms/sample - loss: 0.5886 - accuracy: 1.0000 - val_loss: 0.6039 - val_accuracy: 0.8095\n",
      "Epoch 88/100\n",
      "39/42 [==========================>...] - ETA: 0s - loss: 0.5853 - accuracy: 1.0000\n",
      "Epoch 00088: val_loss improved from 0.60391 to 0.60369, saving model to siamese_network.h5\n",
      "42/42 [==============================] - 1s 22ms/sample - loss: 0.5883 - accuracy: 1.0000 - val_loss: 0.6037 - val_accuracy: 0.8095\n",
      "Epoch 89/100\n",
      "39/42 [==========================>...] - ETA: 0s - loss: 0.5846 - accuracy: 1.0000\n",
      "Epoch 00089: val_loss improved from 0.60369 to 0.60328, saving model to siamese_network.h5\n",
      "42/42 [==============================] - 1s 22ms/sample - loss: 0.5881 - accuracy: 1.0000 - val_loss: 0.6033 - val_accuracy: 0.8095\n",
      "Epoch 90/100\n",
      "41/42 [============================>.] - ETA: 0s - loss: 0.5910 - accuracy: 1.0000\n",
      "Epoch 00090: val_loss did not improve from 0.60328\n",
      "42/42 [==============================] - 1s 20ms/sample - loss: 0.5880 - accuracy: 1.0000 - val_loss: 0.6033 - val_accuracy: 0.8095\n",
      "Epoch 91/100\n",
      "40/42 [===========================>..] - ETA: 0s - loss: 0.5874 - accuracy: 1.0000\n",
      "Epoch 00091: val_loss did not improve from 0.60328\n",
      "42/42 [==============================] - 1s 20ms/sample - loss: 0.5877 - accuracy: 1.0000 - val_loss: 0.6034 - val_accuracy: 0.8095\n",
      "Epoch 92/100\n",
      "39/42 [==========================>...] - ETA: 0s - loss: 0.5845 - accuracy: 1.0000\n",
      "Epoch 00092: val_loss improved from 0.60328 to 0.60308, saving model to siamese_network.h5\n",
      "42/42 [==============================] - 1s 22ms/sample - loss: 0.5875 - accuracy: 1.0000 - val_loss: 0.6031 - val_accuracy: 0.8095\n",
      "Epoch 93/100\n",
      "36/42 [========================>.....] - ETA: 0s - loss: 0.5807 - accuracy: 1.0000\n",
      "Epoch 00093: val_loss improved from 0.60308 to 0.60279, saving model to siamese_network.h5\n",
      "42/42 [==============================] - 1s 22ms/sample - loss: 0.5873 - accuracy: 1.0000 - val_loss: 0.6028 - val_accuracy: 0.8095\n",
      "Epoch 94/100\n",
      "41/42 [============================>.] - ETA: 0s - loss: 0.5841 - accuracy: 1.0000\n",
      "Epoch 00094: val_loss improved from 0.60279 to 0.60234, saving model to siamese_network.h5\n",
      "42/42 [==============================] - 1s 22ms/sample - loss: 0.5872 - accuracy: 1.0000 - val_loss: 0.6023 - val_accuracy: 0.8095\n",
      "Epoch 95/100\n",
      "40/42 [===========================>..] - ETA: 0s - loss: 0.5808 - accuracy: 1.0000\n",
      "Epoch 00095: val_loss did not improve from 0.60234\n",
      "42/42 [==============================] - 1s 20ms/sample - loss: 0.5869 - accuracy: 1.0000 - val_loss: 0.6024 - val_accuracy: 0.8095\n",
      "Epoch 96/100\n",
      "39/42 [==========================>...] - ETA: 0s - loss: 0.5899 - accuracy: 1.0000\n",
      "Epoch 00096: val_loss did not improve from 0.60234\n",
      "42/42 [==============================] - 1s 20ms/sample - loss: 0.5867 - accuracy: 1.0000 - val_loss: 0.6024 - val_accuracy: 0.8095\n",
      "Epoch 97/100\n",
      "41/42 [============================>.] - ETA: 0s - loss: 0.5835 - accuracy: 1.0000\n",
      "Epoch 00097: val_loss improved from 0.60234 to 0.60220, saving model to siamese_network.h5\n",
      "42/42 [==============================] - 1s 22ms/sample - loss: 0.5865 - accuracy: 1.0000 - val_loss: 0.6022 - val_accuracy: 0.8095\n",
      "Epoch 98/100\n",
      "41/42 [============================>.] - ETA: 0s - loss: 0.5833 - accuracy: 1.0000\n",
      "Epoch 00098: val_loss improved from 0.60220 to 0.60206, saving model to siamese_network.h5\n",
      "42/42 [==============================] - 1s 22ms/sample - loss: 0.5863 - accuracy: 1.0000 - val_loss: 0.6021 - val_accuracy: 0.8333\n",
      "Epoch 99/100\n",
      "41/42 [============================>.] - ETA: 0s - loss: 0.5892 - accuracy: 1.0000\n",
      "Epoch 00099: val_loss did not improve from 0.60206\n",
      "42/42 [==============================] - 1s 20ms/sample - loss: 0.5862 - accuracy: 1.0000 - val_loss: 0.6022 - val_accuracy: 0.8095\n",
      "Epoch 100/100\n",
      "40/42 [===========================>..] - ETA: 0s - loss: 0.5798 - accuracy: 1.0000\n",
      "Epoch 00100: val_loss improved from 0.60206 to 0.60161, saving model to siamese_network.h5\n",
      "42/42 [==============================] - 1s 22ms/sample - loss: 0.5859 - accuracy: 1.0000 - val_loss: 0.6016 - val_accuracy: 0.8333\n"
     ]
    }
   ],
   "source": [
    "\"\"\" train the model \"\"\"\n",
    "\n",
    "optimizer = Adam(learning_rate=0.0001)\n",
    "siamese.compile(loss=tf.keras.losses.BinaryCrossentropy(from_logits=True), optimizer=optimizer, metrics=[\"accuracy\"])\n",
    "# siamese.compile(loss='sparse_categorical_crossentropy', optimizer=optimizer, metrics=[\"accuracy\"])\n",
    "\n",
    "siamese.summary()\n",
    "history = siamese.fit([x_train_1, x_train_2],\n",
    "    labels_train,\n",
    "    validation_data=([x_val_1, x_val_2], labels_val),\n",
    "    batch_size=1,\n",
    "    epochs=100,   # 175 for contrastive 100 for cross ent\n",
    "    callbacks = [checkpointer, early_stopping, reduce_lr]\n",
    ")"
   ]
  },
  {
   "cell_type": "code",
   "execution_count": 8,
   "id": "929bb5c9",
   "metadata": {},
   "outputs": [
    {
     "data": {
      "image/png": "[encoded data removed]",
      "text/plain": [
       "<Figure size 432x288 with 1 Axes>"
      ]
     },
     "metadata": {
      "needs_background": "light"
     },
     "output_type": "display_data"
    }
   ],
   "source": [
    "# Plot the accuracy\n",
    "utils.plt_metric(history=history.history, metric=\"accuracy\", title=\"Model accuracy\")"
   ]
  },
  {
   "cell_type": "code",
   "execution_count": 9,
   "id": "61c90ddf",
   "metadata": {},
   "outputs": [
    {
     "data": {
      "image/png": "[encoded data removed]",
      "text/plain": [
       "<Figure size 432x288 with 1 Axes>"
      ]
     },
     "metadata": {
      "needs_background": "light"
     },
     "output_type": "display_data"
    }
   ],
   "source": [
    "# Plot the cross entropy binary loss\n",
    "utils.plt_metric(history=history.history, metric=\"loss\", title=\"Binary Loss\")"
   ]
  },
  {
   "cell_type": "code",
   "execution_count": 10,
   "id": "3064505e",
   "metadata": {},
   "outputs": [
    {
     "name": "stdout",
     "output_type": "stream",
     "text": [
      "1296/1296 [==============================] - 5s 4ms/sample - loss: 0.5940 - accuracy: 0.9059\n",
      "test loss, test acc: [0.593962550163269, 0.9058642]\n"
     ]
    }
   ],
   "source": [
    "\"\"\" Test the model \"\"\"\n",
    "results = siamese.evaluate([x_test_1, x_test_2], labels_test)\n",
    "print(\"test loss, test acc:\", results)"
   ]
  },
  {
   "cell_type": "code",
   "execution_count": 11,
   "id": "4ce353a7",
   "metadata": {},
   "outputs": [
    {
     "data": {
      "text/plain": [
       "array([0.17942132, 0.04258977, 0.48759615, ..., 0.02411232, 0.5514468 ,\n",
       "       0.01384273], dtype=float32)"
      ]
     },
     "execution_count": 11,
     "metadata": {},
     "output_type": "execute_result"
    }
   ],
   "source": [
    "Y_pred = siamese.predict([x_test_1, x_test_2]).squeeze()\n",
    "Y_pred"
   ]
  },
  {
   "cell_type": "code",
   "execution_count": 12,
   "id": "36581777",
   "metadata": {},
   "outputs": [
    {
     "data": {
      "text/plain": [
       "0.2678831"
      ]
     },
     "execution_count": 12,
     "metadata": {},
     "output_type": "execute_result"
    }
   ],
   "source": [
    "Y_pred.mean()"
   ]
  },
  {
   "cell_type": "code",
   "execution_count": 13,
   "id": "d1a7a1ac",
   "metadata": {},
   "outputs": [
    {
     "data": {
      "text/plain": [
       "array([False, False, False, ..., False,  True, False])"
      ]
     },
     "execution_count": 13,
     "metadata": {},
     "output_type": "execute_result"
    }
   ],
   "source": [
    "# y_pred = np.argmax(Y_pred, axis=1)\n",
    "y_pred = Y_pred > 0.5\n",
    "y_pred"
   ]
  },
  {
   "cell_type": "code",
   "execution_count": 14,
   "id": "934e3302",
   "metadata": {},
   "outputs": [
    {
     "data": {
      "text/plain": [
       "array([1., 0., 1., ..., 0., 1., 0.], dtype=float32)"
      ]
     },
     "execution_count": 14,
     "metadata": {},
     "output_type": "execute_result"
    }
   ],
   "source": [
    "y_test = labels_test\n",
    "y_test"
   ]
  },
  {
   "cell_type": "code",
   "execution_count": 15,
   "id": "b3151112",
   "metadata": {},
   "outputs": [
    {
     "name": "stdout",
     "output_type": "stream",
     "text": [
      "\n",
      "Evaluate on test data\n",
      "Accuracy: 0.9058641975308642\n",
      "Precision: 0.9207792207792207\n",
      "Recall: 0.9058641975308642\n",
      "ROC AUC: 0.9058641975308642\n",
      "F1: 0.9050225501762446\n"
     ]
    }
   ],
   "source": [
    "print(\"\\nEvaluate on test data\")\n",
    "print(\"Accuracy:\", accuracy_score(y_test, y_pred))\n",
    "print(\"Precision:\", precision_score(y_test, y_pred, average='weighted'))\n",
    "print(\"Recall:\", recall_score(y_test, y_pred, average='weighted'))\n",
    "print(\"ROC AUC:\", roc_auc_score(y_test, y_pred, average='weighted'))\n",
    "print(\"F1:\", f1_score(y_test, y_pred, average='weighted'))"
   ]
  },
  {
   "cell_type": "code",
   "execution_count": 16,
   "id": "f2089133",
   "metadata": {},
   "outputs": [
    {
     "name": "stdout",
     "output_type": "stream",
     "text": [
      "Specificity: 1.0\n"
     ]
    }
   ],
   "source": [
    "cm = confusion_matrix(y_test, y_pred)    \n",
    "# cm_display = ConfusionMatrixDisplay(cm, labels_test).plot()\n",
    "\n",
    "tn, fp, fn, tp = cm.ravel()\n",
    "specificity = tn / (tn+fp)\n",
    "print(\"Specificity:\", specificity)"
   ]
  },
  {
   "cell_type": "code",
   "execution_count": 17,
   "id": "a10b0a3d",
   "metadata": {},
   "outputs": [],
   "source": [
    "tf.keras.backend.clear_session()"
   ]
  },
  {
   "cell_type": "code",
   "execution_count": null,
   "id": "9ca300cd",
   "metadata": {},
   "outputs": [],
   "source": []
  }
 ],
 "metadata": {
  "kernelspec": {
   "display_name": "Python 3 (ipykernel)",
   "language": "python",
   "name": "python3"
  },
  "language_info": {
   "codemirror_mode": {
    "name": "ipython",
    "version": 3
   },
   "file_extension": ".py",
   "mimetype": "text/x-python",
   "name": "python",
   "nbconvert_exporter": "python",
   "pygments_lexer": "ipython3",
   "version": "3.7.10"
  },
  "toc": {
   "base_numbering": 1,
   "nav_menu": {},
   "number_sections": true,
   "sideBar": true,
   "skip_h1_title": false,
   "title_cell": "Table of Contents",
   "title_sidebar": "Contents",
   "toc_cell": false,
   "toc_position": {},
   "toc_section_display": true,
   "toc_window_display": false
  },
  "varInspector": {
   "cols": {
    "lenName": 16,
    "lenType": 16,
    "lenVar": 40
   },
   "kernels_config": {
    "python": {
     "delete_cmd_postfix": "",
     "delete_cmd_prefix": "del ",
     "library": "var_list.py",
     "varRefreshCmd": "print(var_dic_list())"
    },
    "r": {
     "delete_cmd_postfix": ") ",
     "delete_cmd_prefix": "rm(",
     "library": "var_list.r",
     "varRefreshCmd": "cat(var_dic_list()) "
    }
   },
   "types_to_exclude": [
    "module",
    "function",
    "builtin_function_or_method",
    "instance",
    "_Feature"
   ],
   "window_display": false
  }
 },
 "nbformat": 4,
 "nbformat_minor": 5
}
