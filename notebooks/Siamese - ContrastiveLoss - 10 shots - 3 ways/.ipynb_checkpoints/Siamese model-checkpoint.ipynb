{
 "cells": [
  {
   "cell_type": "code",
   "execution_count": 1,
   "id": "3c9bc068",
   "metadata": {},
   "outputs": [],
   "source": [
    "import utils\n",
    "\n",
    "import tensorflow as tf\n",
    "from tensorflow.keras.layers import Dense, Input, Flatten, Lambda\n",
    "from tensorflow.keras.models import Model\n",
    "from tensorflow.keras.optimizers import Adam\n",
    "from sklearn.metrics import confusion_matrix, ConfusionMatrixDisplay, accuracy_score, precision_score, recall_score, roc_auc_score, f1_score\n",
    "\n",
    "import numpy as np\n",
    "import os\n",
    "\n",
    "from tensorflow.keras.callbacks import EarlyStopping, ModelCheckpoint, ReduceLROnPlateau\n",
    "\n",
    "import logging"
   ]
  },
  {
   "cell_type": "code",
   "execution_count": 2,
   "id": "e0927a79",
   "metadata": {},
   "outputs": [
    {
     "name": "stdout",
     "output_type": "stream",
     "text": [
      "Using:\n",
      "\t• TensorFlow version: 1.15.5\n",
      "\t• tf.keras version: 2.2.4-tf\n",
      "\t• Running on GPU\n"
     ]
    }
   ],
   "source": [
    "logger = tf.get_logger()\n",
    "logger.setLevel(logging.ERROR)\n",
    "\n",
    "print('Using:')\n",
    "print('\\t\\u2022 TensorFlow version:', tf.__version__)\n",
    "print('\\t\\u2022 tf.keras version:', tf.keras.__version__)\n",
    "print('\\t\\u2022 Running on GPU' if tf.test.is_gpu_available() else '\\t\\u2022 GPU device not found. Running on CPU')"
   ]
  },
  {
   "cell_type": "code",
   "execution_count": 3,
   "id": "73f60667",
   "metadata": {},
   "outputs": [
    {
     "name": "stdout",
     "output_type": "stream",
     "text": [
      "Found 27 images belonging to 3 classes.\n",
      "The train set contains 27\n",
      "Found 27 images belonging to 3 classes.\n",
      "The valid set contains 27\n",
      "Found 648 images belonging to 3 classes.\n",
      "The test set contains 648\n"
     ]
    }
   ],
   "source": [
    "basedir = os.path.join(\"C:\\\\Users\\\\manos\\\\git\\\\metacovid-siamese-neural-network\", \"dataset\", \"siamese\") \n",
    "\n",
    "train_image_list, train_y_list = utils.load_images(basedir, 'train', (100,100))\n",
    "print(\"The train set contains\",len(train_image_list)) \n",
    "\n",
    "valid_image_list, valid_y_list = utils.load_images(basedir, 'validation', (100,100))   \n",
    "print(\"The valid set contains\", len(valid_image_list))  \n",
    "\n",
    "test_image_list, test_y_list = utils.load_images(basedir, 'test', (100,100))   \n",
    "print(\"The test set contains\", len(test_image_list)) "
   ]
  },
  {
   "cell_type": "code",
   "execution_count": 4,
   "id": "a873fba7",
   "metadata": {},
   "outputs": [
    {
     "name": "stdout",
     "output_type": "stream",
     "text": [
      "number of pairs for training 54\n",
      "number of pairs for validation 54\n",
      "number of pairs for test 1296\n"
     ]
    }
   ],
   "source": [
    "# make train pairs\n",
    "pairs_train, labels_train = utils.make_pairs(train_image_list, train_y_list)\n",
    "\n",
    "# make validation pairs\n",
    "pairs_val, labels_val = utils.make_pairs(valid_image_list, valid_y_list)\n",
    "\n",
    "# make test pairs\n",
    "pairs_test, labels_test = utils.make_pairs(test_image_list, test_y_list)\n",
    "\n",
    "x_train_1 = pairs_train[:, 0]  \n",
    "x_train_2 = pairs_train[:, 1]\n",
    "print(\"number of pairs for training\", np.shape(x_train_1)[0]) \n",
    "\n",
    "x_val_1 = pairs_val[:, 0] \n",
    "x_val_2 = pairs_val[:, 1]\n",
    "print(\"number of pairs for validation\", np.shape(x_val_1)[0]) \n",
    "\n",
    "x_test_1 = pairs_test[:, 0] \n",
    "x_test_2 = pairs_test[:, 1]\n",
    "print(\"number of pairs for test\", np.shape(x_test_1)[0]) "
   ]
  },
  {
   "cell_type": "code",
   "execution_count": 5,
   "id": "8b9dade0",
   "metadata": {},
   "outputs": [
    {
     "name": "stdout",
     "output_type": "stream",
     "text": [
      "Model: \"model\"\n",
      "__________________________________________________________________________________________________\n",
      "Layer (type)                    Output Shape         Param #     Connected to                     \n",
      "==================================================================================================\n",
      "input_1 (InputLayer)            [(None, 100, 100, 3) 0                                            \n",
      "__________________________________________________________________________________________________\n",
      "input_2 (InputLayer)            [(None, 100, 100, 3) 0                                            \n",
      "__________________________________________________________________________________________________\n",
      "sequential (Sequential)         (None, 5120)         14748995    input_1[0][0]                    \n",
      "                                                                 input_2[0][0]                    \n",
      "__________________________________________________________________________________________________\n",
      "lambda (Lambda)                 (None, 1)            0           sequential[1][0]                 \n",
      "                                                                 sequential[2][0]                 \n",
      "__________________________________________________________________________________________________\n",
      "dense (Dense)                   (None, 1)            2           lambda[0][0]                     \n",
      "==================================================================================================\n",
      "Total params: 14,748,997\n",
      "Trainable params: 20,482\n",
      "Non-trainable params: 14,728,515\n",
      "__________________________________________________________________________________________________\n"
     ]
    }
   ],
   "source": [
    "tf.compat.v1.reset_default_graph()\n",
    "\n",
    "SIAMESE_MODEL_FNAME = 'siamese_network.h5'\n",
    "EMBEDDING_MODEL_FNAME = 'embedding_network.h5'\n",
    "\n",
    "input_1 = Input((100,100,3))\n",
    "input_2 = Input((100,100,3))\n",
    "\n",
    "embedding_network = tf.keras.models.load_model(EMBEDDING_MODEL_FNAME)\n",
    "embedding_network.trainable = False\n",
    "\n",
    "model = tf.keras.Sequential() \n",
    "for layer in embedding_network.layers:  \n",
    "    model.add(layer) \n",
    "\n",
    "model.add(Flatten(name='flat'))\n",
    "model.add(Dense(5120, name='den', activation='sigmoid', kernel_regularizer='l2')) \n",
    " \n",
    "output_1 = model(input_1) \n",
    "output_2 = model(input_2) \n",
    " \n",
    "merge_layer = Lambda(utils.manhattan_distance)([output_1, output_2]) \n",
    "output_layer = Dense(1, activation=\"sigmoid\")(merge_layer) \n",
    "siamese = Model(inputs=[input_1, input_2], outputs=output_layer) \n",
    "siamese.summary()"
   ]
  },
  {
   "cell_type": "code",
   "execution_count": 6,
   "id": "c8b4a648",
   "metadata": {},
   "outputs": [],
   "source": [
    "\"\"\" callbacks \"\"\"\n",
    "\n",
    "reduce_lr = ReduceLROnPlateau(monitor='val_loss', factor=0.2, patience=5, min_lr=0.00001)\n",
    "\n",
    "early_stopping = EarlyStopping(monitor='val_loss', patience=10, verbose=1, min_delta=0.0001)\n",
    "\n",
    "checkpointer = ModelCheckpoint(filepath='siamese_network.h5', verbose=1, \n",
    "                                save_best_only=True)"
   ]
  },
  {
   "cell_type": "code",
   "execution_count": 7,
   "id": "e5b21af7",
   "metadata": {},
   "outputs": [
    {
     "name": "stdout",
     "output_type": "stream",
     "text": [
      "Model: \"model\"\n",
      "__________________________________________________________________________________________________\n",
      "Layer (type)                    Output Shape         Param #     Connected to                     \n",
      "==================================================================================================\n",
      "input_1 (InputLayer)            [(None, 100, 100, 3) 0                                            \n",
      "__________________________________________________________________________________________________\n",
      "input_2 (InputLayer)            [(None, 100, 100, 3) 0                                            \n",
      "__________________________________________________________________________________________________\n",
      "sequential (Sequential)         (None, 5120)         14748995    input_1[0][0]                    \n",
      "                                                                 input_2[0][0]                    \n",
      "__________________________________________________________________________________________________\n",
      "lambda (Lambda)                 (None, 1)            0           sequential[1][0]                 \n",
      "                                                                 sequential[2][0]                 \n",
      "__________________________________________________________________________________________________\n",
      "dense (Dense)                   (None, 1)            2           lambda[0][0]                     \n",
      "==================================================================================================\n",
      "Total params: 14,748,997\n",
      "Trainable params: 20,482\n",
      "Non-trainable params: 14,728,515\n",
      "__________________________________________________________________________________________________\n",
      "Train on 54 samples, validate on 54 samples\n",
      "Epoch 1/175\n",
      "53/54 [============================>.] - ETA: 0s - loss: 0.2480 - acc: 0.5283\n",
      "Epoch 00001: val_loss improved from inf to 0.33371, saving model to siamese_network.h5\n",
      "54/54 [==============================] - 8s 155ms/sample - loss: 0.2443 - acc: 0.5370 - val_loss: 0.3337 - val_acc: 0.5741\n",
      "Epoch 2/175\n",
      "53/54 [============================>.] - ETA: 0s - loss: 0.2195 - acc: 0.5472\n",
      "Epoch 00002: val_loss improved from 0.33371 to 0.30880, saving model to siamese_network.h5\n",
      "54/54 [==============================] - 7s 123ms/sample - loss: 0.2207 - acc: 0.5370 - val_loss: 0.3088 - val_acc: 0.5741\n",
      "Epoch 3/175\n",
      "53/54 [============================>.] - ETA: 0s - loss: 0.2032 - acc: 0.5472\n",
      "Epoch 00003: val_loss improved from 0.30880 to 0.28505, saving model to siamese_network.h5\n",
      "54/54 [==============================] - 6s 119ms/sample - loss: 0.1999 - acc: 0.5556 - val_loss: 0.2850 - val_acc: 0.5741\n",
      "Epoch 4/175\n",
      "53/54 [============================>.] - ETA: 0s - loss: 0.1841 - acc: 0.5660\n",
      "Epoch 00004: val_loss improved from 0.28505 to 0.26444, saving model to siamese_network.h5\n",
      "54/54 [==============================] - 7s 122ms/sample - loss: 0.1811 - acc: 0.5741 - val_loss: 0.2644 - val_acc: 0.6111\n",
      "Epoch 5/175\n",
      "53/54 [============================>.] - ETA: 0s - loss: 0.1633 - acc: 0.6604\n",
      "Epoch 00005: val_loss improved from 0.26444 to 0.24478, saving model to siamese_network.h5\n",
      "54/54 [==============================] - 6s 118ms/sample - loss: 0.1660 - acc: 0.6481 - val_loss: 0.2448 - val_acc: 0.6296\n",
      "Epoch 6/175\n",
      "53/54 [============================>.] - ETA: 0s - loss: 0.1561 - acc: 0.6792\n",
      "Epoch 00006: val_loss improved from 0.24478 to 0.22903, saving model to siamese_network.h5\n",
      "54/54 [==============================] - 7s 122ms/sample - loss: 0.1534 - acc: 0.6852 - val_loss: 0.2290 - val_acc: 0.6296\n",
      "Epoch 7/175\n",
      "53/54 [============================>.] - ETA: 0s - loss: 0.1471 - acc: 0.7547\n",
      "Epoch 00007: val_loss improved from 0.22903 to 0.20803, saving model to siamese_network.h5\n",
      "54/54 [==============================] - 7s 123ms/sample - loss: 0.1445 - acc: 0.7593 - val_loss: 0.2080 - val_acc: 0.6296\n",
      "Epoch 8/175\n",
      "53/54 [============================>.] - ETA: 0s - loss: 0.1399 - acc: 0.8113\n",
      "Epoch 00008: val_loss improved from 0.20803 to 0.19120, saving model to siamese_network.h5\n",
      "54/54 [==============================] - 7s 124ms/sample - loss: 0.1375 - acc: 0.8148 - val_loss: 0.1912 - val_acc: 0.6852\n",
      "Epoch 9/175\n",
      "53/54 [============================>.] - ETA: 0s - loss: 0.1319 - acc: 0.8302\n",
      "Epoch 00009: val_loss improved from 0.19120 to 0.18587, saving model to siamese_network.h5\n",
      "54/54 [==============================] - 7s 134ms/sample - loss: 0.1340 - acc: 0.8333 - val_loss: 0.1859 - val_acc: 0.7222\n",
      "Epoch 10/175\n",
      "53/54 [============================>.] - ETA: 0s - loss: 0.1299 - acc: 0.8491\n",
      "Epoch 00010: val_loss improved from 0.18587 to 0.18180, saving model to siamese_network.h5\n",
      "54/54 [==============================] - 6s 119ms/sample - loss: 0.1327 - acc: 0.8333 - val_loss: 0.1818 - val_acc: 0.7222\n",
      "Epoch 11/175\n",
      "53/54 [============================>.] - ETA: 0s - loss: 0.1338 - acc: 0.8302\n",
      "Epoch 00011: val_loss improved from 0.18180 to 0.17109, saving model to siamese_network.h5\n",
      "54/54 [==============================] - 7s 121ms/sample - loss: 0.1314 - acc: 0.8333 - val_loss: 0.1711 - val_acc: 0.7222\n",
      "Epoch 12/175\n",
      "53/54 [============================>.] - ETA: 0s - loss: 0.1277 - acc: 0.8491\n",
      "Epoch 00012: val_loss did not improve from 0.17109\n",
      "54/54 [==============================] - 6s 120ms/sample - loss: 0.1305 - acc: 0.8333 - val_loss: 0.1768 - val_acc: 0.7222\n",
      "Epoch 13/175\n",
      "53/54 [============================>.] - ETA: 0s - loss: 0.1268 - acc: 0.8868\n",
      "Epoch 00013: val_loss improved from 0.17109 to 0.16889, saving model to siamese_network.h5\n",
      "54/54 [==============================] - 6s 117ms/sample - loss: 0.1296 - acc: 0.8704 - val_loss: 0.1689 - val_acc: 0.7222\n",
      "Epoch 14/175\n",
      "53/54 [============================>.] - ETA: 0s - loss: 0.1308 - acc: 0.8491\n",
      "Epoch 00014: val_loss did not improve from 0.16889\n",
      "54/54 [==============================] - 7s 121ms/sample - loss: 0.1285 - acc: 0.8519 - val_loss: 0.1871 - val_acc: 0.7222\n",
      "Epoch 15/175\n",
      "53/54 [============================>.] - ETA: 0s - loss: 0.1306 - acc: 0.8491\n",
      "Epoch 00015: val_loss did not improve from 0.16889\n",
      "54/54 [==============================] - 6s 118ms/sample - loss: 0.1283 - acc: 0.8519 - val_loss: 0.1788 - val_acc: 0.7222\n",
      "Epoch 16/175\n",
      "53/54 [============================>.] - ETA: 0s - loss: 0.1251 - acc: 0.8679\n",
      "Epoch 00016: val_loss improved from 0.16889 to 0.16863, saving model to siamese_network.h5\n",
      "54/54 [==============================] - 6s 119ms/sample - loss: 0.1272 - acc: 0.8704 - val_loss: 0.1686 - val_acc: 0.7222\n",
      "Epoch 17/175\n",
      "53/54 [============================>.] - ETA: 0s - loss: 0.1246 - acc: 0.8679\n",
      "Epoch 00017: val_loss did not improve from 0.16863\n",
      "54/54 [==============================] - 6s 120ms/sample - loss: 0.1267 - acc: 0.8704 - val_loss: 0.1863 - val_acc: 0.7222\n",
      "Epoch 18/175\n",
      "53/54 [============================>.] - ETA: 0s - loss: 0.1289 - acc: 0.8679\n",
      "Epoch 00018: val_loss did not improve from 0.16863\n",
      "54/54 [==============================] - 6s 120ms/sample - loss: 0.1265 - acc: 0.8704 - val_loss: 0.1808 - val_acc: 0.7222\n",
      "Epoch 19/175\n",
      "53/54 [============================>.] - ETA: 0s - loss: 0.1234 - acc: 0.8868\n",
      "Epoch 00019: val_loss improved from 0.16863 to 0.16465, saving model to siamese_network.h5\n",
      "54/54 [==============================] - 7s 126ms/sample - loss: 0.1255 - acc: 0.8889 - val_loss: 0.1646 - val_acc: 0.7222\n",
      "Epoch 20/175\n",
      "53/54 [============================>.] - ETA: 0s - loss: 0.1273 - acc: 0.8868\n",
      "Epoch 00020: val_loss did not improve from 0.16465\n",
      "54/54 [==============================] - 6s 116ms/sample - loss: 0.1250 - acc: 0.8889 - val_loss: 0.1749 - val_acc: 0.7222\n",
      "Epoch 21/175\n",
      "53/54 [============================>.] - ETA: 0s - loss: 0.1268 - acc: 0.8868\n",
      "Epoch 00021: val_loss did not improve from 0.16465\n",
      "54/54 [==============================] - 6s 116ms/sample - loss: 0.1245 - acc: 0.8889 - val_loss: 0.1718 - val_acc: 0.7222\n",
      "Epoch 22/175\n",
      "53/54 [============================>.] - ETA: 0s - loss: 0.1257 - acc: 0.8868\n",
      "Epoch 00022: val_loss improved from 0.16465 to 0.16397, saving model to siamese_network.h5\n",
      "54/54 [==============================] - 6s 119ms/sample - loss: 0.1235 - acc: 0.8889 - val_loss: 0.1640 - val_acc: 0.7222\n",
      "Epoch 23/175\n"
     ]
    },
    {
     "name": "stdout",
     "output_type": "stream",
     "text": [
      "53/54 [============================>.] - ETA: 0s - loss: 0.1252 - acc: 0.8868\n",
      "Epoch 00023: val_loss improved from 0.16397 to 0.16348, saving model to siamese_network.h5\n",
      "54/54 [==============================] - 6s 120ms/sample - loss: 0.1230 - acc: 0.8889 - val_loss: 0.1635 - val_acc: 0.7222\n",
      "Epoch 24/175\n",
      "53/54 [============================>.] - ETA: 0s - loss: 0.1245 - acc: 0.8868\n",
      "Epoch 00024: val_loss did not improve from 0.16348\n",
      "54/54 [==============================] - 7s 124ms/sample - loss: 0.1222 - acc: 0.8889 - val_loss: 0.1736 - val_acc: 0.7222\n",
      "Epoch 25/175\n",
      "53/54 [============================>.] - ETA: 0s - loss: 0.1244 - acc: 0.8868\n",
      "Epoch 00025: val_loss did not improve from 0.16348\n",
      "54/54 [==============================] - 7s 121ms/sample - loss: 0.1222 - acc: 0.8889 - val_loss: 0.1703 - val_acc: 0.7222\n",
      "Epoch 26/175\n",
      "53/54 [============================>.] - ETA: 0s - loss: 0.1192 - acc: 0.8868\n",
      "Epoch 00026: val_loss did not improve from 0.16348\n",
      "54/54 [==============================] - 6s 117ms/sample - loss: 0.1213 - acc: 0.8889 - val_loss: 0.1699 - val_acc: 0.7222\n",
      "Epoch 27/175\n",
      "53/54 [============================>.] - ETA: 0s - loss: 0.1186 - acc: 0.8868\n",
      "Epoch 00027: val_loss improved from 0.16348 to 0.16048, saving model to siamese_network.h5\n",
      "54/54 [==============================] - 6s 117ms/sample - loss: 0.1208 - acc: 0.8889 - val_loss: 0.1605 - val_acc: 0.7222\n",
      "Epoch 28/175\n",
      "53/54 [============================>.] - ETA: 0s - loss: 0.1225 - acc: 0.8868\n",
      "Epoch 00028: val_loss did not improve from 0.16048\n",
      "54/54 [==============================] - 6s 120ms/sample - loss: 0.1203 - acc: 0.8889 - val_loss: 0.1772 - val_acc: 0.7222\n",
      "Epoch 29/175\n",
      "53/54 [============================>.] - ETA: 0s - loss: 0.1222 - acc: 0.8868\n",
      "Epoch 00029: val_loss did not improve from 0.16048\n",
      "54/54 [==============================] - 6s 118ms/sample - loss: 0.1200 - acc: 0.8889 - val_loss: 0.1638 - val_acc: 0.7963\n",
      "Epoch 30/175\n",
      "53/54 [============================>.] - ETA: 0s - loss: 0.1223 - acc: 0.8868\n",
      "Epoch 00030: val_loss did not improve from 0.16048\n",
      "54/54 [==============================] - 6s 115ms/sample - loss: 0.1201 - acc: 0.8889 - val_loss: 0.1622 - val_acc: 0.7222\n",
      "Epoch 31/175\n",
      "53/54 [============================>.] - ETA: 0s - loss: 0.1169 - acc: 0.9057\n",
      "Epoch 00031: val_loss did not improve from 0.16048\n",
      "54/54 [==============================] - 6s 117ms/sample - loss: 0.1189 - acc: 0.9074 - val_loss: 0.1690 - val_acc: 0.7778\n",
      "Epoch 32/175\n",
      "53/54 [============================>.] - ETA: 0s - loss: 0.1163 - acc: 0.9057\n",
      "Epoch 00032: val_loss did not improve from 0.16048\n",
      "54/54 [==============================] - 7s 133ms/sample - loss: 0.1183 - acc: 0.9074 - val_loss: 0.1655 - val_acc: 0.7778\n",
      "Epoch 33/175\n",
      "53/54 [============================>.] - ETA: 0s - loss: 0.1198 - acc: 0.9057\n",
      "Epoch 00033: val_loss did not improve from 0.16048\n",
      "54/54 [==============================] - 7s 130ms/sample - loss: 0.1177 - acc: 0.9074 - val_loss: 0.1618 - val_acc: 0.7778\n",
      "Epoch 34/175\n",
      "53/54 [============================>.] - ETA: 0s - loss: 0.1157 - acc: 0.9057\n",
      "Epoch 00034: val_loss did not improve from 0.16048\n",
      "54/54 [==============================] - 6s 118ms/sample - loss: 0.1176 - acc: 0.9074 - val_loss: 0.1635 - val_acc: 0.7778\n",
      "Epoch 35/175\n",
      "53/54 [============================>.] - ETA: 0s - loss: 0.1155 - acc: 0.9057\n",
      "Epoch 00035: val_loss did not improve from 0.16048\n",
      "54/54 [==============================] - 6s 114ms/sample - loss: 0.1175 - acc: 0.9074 - val_loss: 0.1626 - val_acc: 0.7778\n",
      "Epoch 36/175\n",
      "53/54 [============================>.] - ETA: 0s - loss: 0.1154 - acc: 0.9057\n",
      "Epoch 00036: val_loss improved from 0.16048 to 0.16022, saving model to siamese_network.h5\n",
      "54/54 [==============================] - 6s 119ms/sample - loss: 0.1174 - acc: 0.9074 - val_loss: 0.1602 - val_acc: 0.7778\n",
      "Epoch 37/175\n",
      "53/54 [============================>.] - ETA: 0s - loss: 0.1196 - acc: 0.9057\n",
      "Epoch 00037: val_loss improved from 0.16022 to 0.15994, saving model to siamese_network.h5\n",
      "54/54 [==============================] - 6s 120ms/sample - loss: 0.1174 - acc: 0.9074 - val_loss: 0.1599 - val_acc: 0.7778\n",
      "Epoch 38/175\n",
      "53/54 [============================>.] - ETA: 0s - loss: 0.1153 - acc: 0.9057\n",
      "Epoch 00038: val_loss did not improve from 0.15994\n",
      "54/54 [==============================] - 6s 115ms/sample - loss: 0.1173 - acc: 0.9074 - val_loss: 0.1609 - val_acc: 0.7778\n",
      "Epoch 39/175\n",
      "53/54 [============================>.] - ETA: 0s - loss: 0.1152 - acc: 0.9057\n",
      "Epoch 00039: val_loss did not improve from 0.15994\n",
      "54/54 [==============================] - 6s 119ms/sample - loss: 0.1172 - acc: 0.9074 - val_loss: 0.1627 - val_acc: 0.7778\n",
      "Epoch 40/175\n",
      "53/54 [============================>.] - ETA: 0s - loss: 0.1151 - acc: 0.9057\n",
      "Epoch 00040: val_loss did not improve from 0.15994\n",
      "54/54 [==============================] - 6s 115ms/sample - loss: 0.1171 - acc: 0.9074 - val_loss: 0.1609 - val_acc: 0.7778\n",
      "Epoch 41/175\n",
      "53/54 [============================>.] - ETA: 0s - loss: 0.1191 - acc: 0.9057\n",
      "Epoch 00041: val_loss did not improve from 0.15994\n",
      "54/54 [==============================] - 6s 116ms/sample - loss: 0.1170 - acc: 0.9074 - val_loss: 0.1612 - val_acc: 0.7778\n",
      "Epoch 42/175\n",
      "53/54 [============================>.] - ETA: 0s - loss: 0.1143 - acc: 0.9245\n",
      "Epoch 00042: val_loss did not improve from 0.15994\n",
      "54/54 [==============================] - 6s 114ms/sample - loss: 0.1168 - acc: 0.9074 - val_loss: 0.1601 - val_acc: 0.7778\n",
      "Epoch 43/175\n",
      "53/54 [============================>.] - ETA: 0s - loss: 0.1144 - acc: 0.9057\n",
      "Epoch 00043: val_loss did not improve from 0.15994\n",
      "54/54 [==============================] - 6s 113ms/sample - loss: 0.1167 - acc: 0.9074 - val_loss: 0.1603 - val_acc: 0.7963\n",
      "Epoch 44/175\n",
      "53/54 [============================>.] - ETA: 0s - loss: 0.1147 - acc: 0.9057\n",
      "Epoch 00044: val_loss did not improve from 0.15994\n",
      "54/54 [==============================] - 7s 120ms/sample - loss: 0.1167 - acc: 0.9074 - val_loss: 0.1607 - val_acc: 0.7963\n",
      "Epoch 45/175\n",
      "53/54 [============================>.] - ETA: 0s - loss: 0.1187 - acc: 0.9057\n",
      "Epoch 00045: val_loss did not improve from 0.15994\n",
      "54/54 [==============================] - 6s 114ms/sample - loss: 0.1166 - acc: 0.9074 - val_loss: 0.1607 - val_acc: 0.7963\n",
      "Epoch 46/175\n",
      "53/54 [============================>.] - ETA: 0s - loss: 0.1187 - acc: 0.9057\n",
      "Epoch 00046: val_loss did not improve from 0.15994\n",
      "54/54 [==============================] - 6s 117ms/sample - loss: 0.1166 - acc: 0.9074 - val_loss: 0.1613 - val_acc: 0.7778\n",
      "Epoch 47/175\n",
      "53/54 [============================>.] - ETA: 0s - loss: 0.1140 - acc: 0.9245\n",
      "Epoch 00047: val_loss did not improve from 0.15994\n",
      "54/54 [==============================] - 6s 115ms/sample - loss: 0.1165 - acc: 0.9074 - val_loss: 0.1609 - val_acc: 0.7778\n",
      "Epoch 00047: early stopping\n"
     ]
    }
   ],
   "source": [
    "\"\"\" train the model \"\"\"\n",
    "\n",
    "optimizer = Adam(learning_rate=0.0001)\n",
    "siamese.compile(loss=utils.loss(1), optimizer=optimizer, metrics=[\"accuracy\"])\n",
    "# siamese.compile(loss='sparse_categorical_crossentropy', optimizer=optimizer, metrics=[\"accuracy\"])\n",
    "\n",
    "siamese.summary()\n",
    "history = siamese.fit([x_train_1, x_train_2],\n",
    "    labels_train,\n",
    "    validation_data=([x_val_1, x_val_2], labels_val),\n",
    "    batch_size=1,\n",
    "    epochs=175,   # 175 for contrastive 100 for cross ent\n",
    "    callbacks = [checkpointer, early_stopping, reduce_lr]\n",
    ")"
   ]
  },
  {
   "cell_type": "code",
   "execution_count": 8,
   "id": "5219b8e7",
   "metadata": {},
   "outputs": [
    {
     "data": {
      "image/png": "[encoded data removed]",
      "text/plain": [
       "<Figure size 432x288 with 1 Axes>"
      ]
     },
     "metadata": {
      "needs_background": "light"
     },
     "output_type": "display_data"
    }
   ],
   "source": [
    "# Plot the accuracy\n",
    "utils.plt_metric(history=history.history, metric=\"acc\", title=\"Model accuracy\")"
   ]
  },
  {
   "cell_type": "code",
   "execution_count": 9,
   "id": "bdb37692",
   "metadata": {},
   "outputs": [
    {
     "data": {
      "image/png": "[encoded data removed]",
      "text/plain": [
       "<Figure size 432x288 with 1 Axes>"
      ]
     },
     "metadata": {
      "needs_background": "light"
     },
     "output_type": "display_data"
    }
   ],
   "source": [
    "# Plot the constrastive loss\n",
    "utils.plt_metric(history=history.history, metric=\"loss\", title=\"Constrastive Loss\")"
   ]
  },
  {
   "cell_type": "code",
   "execution_count": 10,
   "id": "9ebb1ff4",
   "metadata": {},
   "outputs": [
    {
     "name": "stdout",
     "output_type": "stream",
     "text": [
      "1296/1296 [==============================] - 52s 40ms/sample - loss: 0.1311 - acc: 0.8827\n",
      "test loss, test acc: [0.131064461429178, 0.88271606]\n"
     ]
    }
   ],
   "source": [
    "\"\"\" Test the model \"\"\"\n",
    "results = siamese.evaluate([x_test_1, x_test_2], labels_test)\n",
    "print(\"test loss, test acc:\", results)"
   ]
  },
  {
   "cell_type": "code",
   "execution_count": 11,
   "id": "be00d433",
   "metadata": {},
   "outputs": [
    {
     "data": {
      "text/plain": [
       "array([0.24401946, 0.05478877, 0.5270554 , ..., 0.0450366 , 0.5236762 ,\n",
       "       0.05199946], dtype=float32)"
      ]
     },
     "execution_count": 11,
     "metadata": {},
     "output_type": "execute_result"
    }
   ],
   "source": [
    "Y_pred = siamese.predict([x_test_1, x_test_2]).squeeze()\n",
    "Y_pred"
   ]
  },
  {
   "cell_type": "code",
   "execution_count": 18,
   "id": "e4ec4ccb",
   "metadata": {},
   "outputs": [
    {
     "data": {
      "text/plain": [
       "array([False, False,  True, ..., False,  True, False])"
      ]
     },
     "execution_count": 18,
     "metadata": {},
     "output_type": "execute_result"
    }
   ],
   "source": [
    "# y_pred = np.argmax(Y_pred, axis=1)\n",
    "y_pred = Y_pred > .5\n",
    "y_pred"
   ]
  },
  {
   "cell_type": "code",
   "execution_count": 19,
   "id": "6f3303c6",
   "metadata": {},
   "outputs": [
    {
     "data": {
      "text/plain": [
       "array([1., 0., 1., ..., 0., 1., 0.], dtype=float32)"
      ]
     },
     "execution_count": 19,
     "metadata": {},
     "output_type": "execute_result"
    }
   ],
   "source": [
    "y_test = labels_test\n",
    "y_test"
   ]
  },
  {
   "cell_type": "code",
   "execution_count": 20,
   "id": "2c08c7b8",
   "metadata": {},
   "outputs": [
    {
     "name": "stdout",
     "output_type": "stream",
     "text": [
      "\n",
      "Evaluate on test data\n",
      "Accuracy: 0.8827160493827161\n",
      "Precision: 0.9043844551136878\n",
      "Recall: 0.8827160493827161\n",
      "ROC AUC: 0.882716049382716\n",
      "F1: 0.88112359062371\n"
     ]
    }
   ],
   "source": [
    "print(\"\\nEvaluate on test data\")\n",
    "print(\"Accuracy:\", accuracy_score(y_test, y_pred))\n",
    "print(\"Precision:\", precision_score(y_test, y_pred, average='weighted'))\n",
    "print(\"Recall:\", recall_score(y_test, y_pred, average='weighted'))\n",
    "print(\"ROC AUC:\", roc_auc_score(y_test, y_pred, average='weighted'))\n",
    "print(\"F1:\", f1_score(y_test, y_pred, average='weighted'))"
   ]
  },
  {
   "cell_type": "code",
   "execution_count": 21,
   "id": "3661b5ee",
   "metadata": {},
   "outputs": [
    {
     "name": "stdout",
     "output_type": "stream",
     "text": [
      "Specificity: 0.9984567901234568\n"
     ]
    }
   ],
   "source": [
    "cm = confusion_matrix(y_test, y_pred)    \n",
    "# cm_display = ConfusionMatrixDisplay(cm, labels_test).plot()\n",
    "\n",
    "tn, fp, fn, tp = cm.ravel()\n",
    "specificity = tn / (tn+fp)\n",
    "print(\"Specificity:\", specificity)"
   ]
  },
  {
   "cell_type": "code",
   "execution_count": 17,
   "id": "10419799",
   "metadata": {},
   "outputs": [],
   "source": [
    "tf.keras.backend.clear_session()"
   ]
  },
  {
   "cell_type": "code",
   "execution_count": null,
   "id": "fc7ff4ae",
   "metadata": {},
   "outputs": [],
   "source": []
  }
 ],
 "metadata": {
  "kernelspec": {
   "display_name": "Python 3",
   "language": "python",
   "name": "python3"
  },
  "language_info": {
   "codemirror_mode": {
    "name": "ipython",
    "version": 3
   },
   "file_extension": ".py",
   "mimetype": "text/x-python",
   "name": "python",
   "nbconvert_exporter": "python",
   "pygments_lexer": "ipython3",
   "version": "3.6.13"
  },
  "toc": {
   "base_numbering": 1,
   "nav_menu": {},
   "number_sections": true,
   "sideBar": true,
   "skip_h1_title": false,
   "title_cell": "Table of Contents",
   "title_sidebar": "Contents",
   "toc_cell": false,
   "toc_position": {},
   "toc_section_display": true,
   "toc_window_display": false
  },
  "varInspector": {
   "cols": {
    "lenName": 16,
    "lenType": 16,
    "lenVar": 40
   },
   "kernels_config": {
    "python": {
     "delete_cmd_postfix": "",
     "delete_cmd_prefix": "del ",
     "library": "var_list.py",
     "varRefreshCmd": "print(var_dic_list())"
    },
    "r": {
     "delete_cmd_postfix": ") ",
     "delete_cmd_prefix": "rm(",
     "library": "var_list.r",
     "varRefreshCmd": "cat(var_dic_list()) "
    }
   },
   "types_to_exclude": [
    "module",
    "function",
    "builtin_function_or_method",
    "instance",
    "_Feature"
   ],
   "window_display": false
  }
 },
 "nbformat": 4,
 "nbformat_minor": 5
}
