{
 "cells": [
  {
   "cell_type": "code",
   "execution_count": 1,
   "id": "3c9bc068",
   "metadata": {},
   "outputs": [],
   "source": [
    "import utils\n",
    "\n",
    "import tensorflow as tf\n",
    "from tensorflow.keras.layers import Dense, Input, Flatten, Lambda\n",
    "from tensorflow.keras.models import Model\n",
    "from tensorflow.keras.optimizers import Adam\n",
    "from sklearn.metrics import confusion_matrix, ConfusionMatrixDisplay, accuracy_score, precision_score, recall_score, roc_auc_score, f1_score\n",
    "\n",
    "import numpy as np\n",
    "import os\n",
    "\n",
    "from tensorflow.keras.callbacks import EarlyStopping, ModelCheckpoint, ReduceLROnPlateau\n",
    "\n",
    "import logging"
   ]
  },
  {
   "cell_type": "code",
   "execution_count": 2,
   "id": "e0927a79",
   "metadata": {},
   "outputs": [
    {
     "name": "stdout",
     "output_type": "stream",
     "text": [
      "Using:\n",
      "\t• TensorFlow version: 1.15.5\n",
      "\t• tf.keras version: 2.2.4-tf\n",
      "\t• Running on GPU\n"
     ]
    }
   ],
   "source": [
    "logger = tf.get_logger()\n",
    "logger.setLevel(logging.ERROR)\n",
    "\n",
    "print('Using:')\n",
    "print('\\t\\u2022 TensorFlow version:', tf.__version__)\n",
    "print('\\t\\u2022 tf.keras version:', tf.keras.__version__)\n",
    "print('\\t\\u2022 Running on GPU' if tf.test.is_gpu_available() else '\\t\\u2022 GPU device not found. Running on CPU')"
   ]
  },
  {
   "cell_type": "code",
   "execution_count": 3,
   "id": "73f60667",
   "metadata": {},
   "outputs": [
    {
     "name": "stdout",
     "output_type": "stream",
     "text": [
      "Found 30 images belonging to 3 classes.\n",
      "The train set contains 30\n",
      "Found 30 images belonging to 3 classes.\n",
      "The valid set contains 30\n",
      "Found 648 images belonging to 3 classes.\n",
      "The test set contains 648\n"
     ]
    }
   ],
   "source": [
    "basedir = os.path.join(\"C:\\\\Users\\\\manos\\\\git\\\\metacovid-siamese-neural-network\", \"dataset\", \"siamese\") \n",
    "\n",
    "train_image_list, train_y_list = utils.load_images(basedir, 'train', (100,100))\n",
    "print(\"The train set contains\",len(train_image_list)) \n",
    "\n",
    "valid_image_list, valid_y_list = utils.load_images(basedir, 'validation', (100,100))   \n",
    "print(\"The valid set contains\", len(valid_image_list))  \n",
    "\n",
    "test_image_list, test_y_list = utils.load_images(basedir, 'test', (100,100))   \n",
    "print(\"The test set contains\", len(test_image_list)) "
   ]
  },
  {
   "cell_type": "code",
   "execution_count": 4,
   "id": "a873fba7",
   "metadata": {},
   "outputs": [
    {
     "name": "stdout",
     "output_type": "stream",
     "text": [
      "number of pairs for training 60\n",
      "number of pairs for validation 60\n",
      "number of pairs for test 1296\n"
     ]
    }
   ],
   "source": [
    "# make train pairs\n",
    "pairs_train, labels_train = utils.make_pairs(train_image_list, train_y_list)\n",
    "\n",
    "# make validation pairs\n",
    "pairs_val, labels_val = utils.make_pairs(valid_image_list, valid_y_list)\n",
    "\n",
    "# make test pairs\n",
    "pairs_test, labels_test = utils.make_pairs(test_image_list, test_y_list)\n",
    "\n",
    "x_train_1 = pairs_train[:, 0]  \n",
    "x_train_2 = pairs_train[:, 1]\n",
    "print(\"number of pairs for training\", np.shape(x_train_1)[0]) \n",
    "\n",
    "x_val_1 = pairs_val[:, 0] \n",
    "x_val_2 = pairs_val[:, 1]\n",
    "print(\"number of pairs for validation\", np.shape(x_val_1)[0]) \n",
    "\n",
    "x_test_1 = pairs_test[:, 0] \n",
    "x_test_2 = pairs_test[:, 1]\n",
    "print(\"number of pairs for test\", np.shape(x_test_1)[0]) "
   ]
  },
  {
   "cell_type": "code",
   "execution_count": 5,
   "id": "8b9dade0",
   "metadata": {},
   "outputs": [
    {
     "name": "stdout",
     "output_type": "stream",
     "text": [
      "Model: \"model\"\n",
      "__________________________________________________________________________________________________\n",
      "Layer (type)                    Output Shape         Param #     Connected to                     \n",
      "==================================================================================================\n",
      "input_1 (InputLayer)            [(None, 100, 100, 3) 0                                            \n",
      "__________________________________________________________________________________________________\n",
      "input_2 (InputLayer)            [(None, 100, 100, 3) 0                                            \n",
      "__________________________________________________________________________________________________\n",
      "sequential (Sequential)         (None, 5120)         14748995    input_1[0][0]                    \n",
      "                                                                 input_2[0][0]                    \n",
      "__________________________________________________________________________________________________\n",
      "lambda (Lambda)                 (None, 1)            0           sequential[1][0]                 \n",
      "                                                                 sequential[2][0]                 \n",
      "__________________________________________________________________________________________________\n",
      "dense (Dense)                   (None, 1)            2           lambda[0][0]                     \n",
      "==================================================================================================\n",
      "Total params: 14,748,997\n",
      "Trainable params: 20,482\n",
      "Non-trainable params: 14,728,515\n",
      "__________________________________________________________________________________________________\n"
     ]
    }
   ],
   "source": [
    "tf.compat.v1.reset_default_graph()\n",
    "\n",
    "SIAMESE_MODEL_FNAME = 'siamese_network.h5'\n",
    "EMBEDDING_MODEL_FNAME = 'embedding_network.h5'\n",
    "\n",
    "input_1 = Input((100,100,3))\n",
    "input_2 = Input((100,100,3))\n",
    "\n",
    "embedding_network = tf.keras.models.load_model(EMBEDDING_MODEL_FNAME)\n",
    "embedding_network.trainable = False\n",
    "\n",
    "model = tf.keras.Sequential() \n",
    "for layer in embedding_network.layers:  \n",
    "    model.add(layer) \n",
    "\n",
    "model.add(Flatten(name='flat'))\n",
    "model.add(Dense(5120, name='den', activation='sigmoid', kernel_regularizer='l2')) \n",
    " \n",
    "output_1 = model(input_1) \n",
    "output_2 = model(input_2) \n",
    " \n",
    "merge_layer = Lambda(utils.manhattan_distance)([output_1, output_2]) \n",
    "output_layer = Dense(1, activation=\"sigmoid\")(merge_layer) \n",
    "siamese = Model(inputs=[input_1, input_2], outputs=output_layer) \n",
    "siamese.summary()"
   ]
  },
  {
   "cell_type": "code",
   "execution_count": 6,
   "id": "c8b4a648",
   "metadata": {},
   "outputs": [],
   "source": [
    "\"\"\" callbacks \"\"\"\n",
    "\n",
    "reduce_lr = ReduceLROnPlateau(monitor='val_loss', factor=0.2, patience=5, min_lr=0.00001)\n",
    "\n",
    "early_stopping = EarlyStopping(monitor='val_loss', patience=10, verbose=1)\n",
    "\n",
    "checkpointer = ModelCheckpoint(filepath='siamese_network.h5', verbose=1, \n",
    "                                save_best_only=True)"
   ]
  },
  {
   "cell_type": "code",
   "execution_count": 7,
   "id": "e5b21af7",
   "metadata": {},
   "outputs": [
    {
     "name": "stdout",
     "output_type": "stream",
     "text": [
      "Model: \"model\"\n",
      "__________________________________________________________________________________________________\n",
      "Layer (type)                    Output Shape         Param #     Connected to                     \n",
      "==================================================================================================\n",
      "input_1 (InputLayer)            [(None, 100, 100, 3) 0                                            \n",
      "__________________________________________________________________________________________________\n",
      "input_2 (InputLayer)            [(None, 100, 100, 3) 0                                            \n",
      "__________________________________________________________________________________________________\n",
      "sequential (Sequential)         (None, 5120)         14748995    input_1[0][0]                    \n",
      "                                                                 input_2[0][0]                    \n",
      "__________________________________________________________________________________________________\n",
      "lambda (Lambda)                 (None, 1)            0           sequential[1][0]                 \n",
      "                                                                 sequential[2][0]                 \n",
      "__________________________________________________________________________________________________\n",
      "dense (Dense)                   (None, 1)            2           lambda[0][0]                     \n",
      "==================================================================================================\n",
      "Total params: 14,748,997\n",
      "Trainable params: 20,482\n",
      "Non-trainable params: 14,728,515\n",
      "__________________________________________________________________________________________________\n",
      "Train on 60 samples, validate on 60 samples\n",
      "Epoch 1/175\n",
      "59/60 [============================>.] - ETA: 0s - loss: 0.2302 - acc: 0.5932\n",
      "Epoch 00001: val_loss improved from inf to 0.33302, saving model to siamese_network.h5\n",
      "60/60 [==============================] - 10s 166ms/sample - loss: 0.2270 - acc: 0.6000 - val_loss: 0.3330 - val_acc: 0.5500\n",
      "Epoch 2/175\n",
      "59/60 [============================>.] - ETA: 0s - loss: 0.2001 - acc: 0.6102\n",
      "Epoch 00002: val_loss improved from 0.33302 to 0.30165, saving model to siamese_network.h5\n",
      "60/60 [==============================] - 8s 125ms/sample - loss: 0.2021 - acc: 0.6000 - val_loss: 0.3017 - val_acc: 0.5500\n",
      "Epoch 3/175\n",
      "59/60 [============================>.] - ETA: 0s - loss: 0.1851 - acc: 0.6102\n",
      "Epoch 00003: val_loss improved from 0.30165 to 0.27196, saving model to siamese_network.h5\n",
      "60/60 [==============================] - 7s 124ms/sample - loss: 0.1823 - acc: 0.6167 - val_loss: 0.2720 - val_acc: 0.5500\n",
      "Epoch 4/175\n",
      "59/60 [============================>.] - ETA: 0s - loss: 0.1679 - acc: 0.6610\n",
      "Epoch 00004: val_loss improved from 0.27196 to 0.24551, saving model to siamese_network.h5\n",
      "60/60 [==============================] - 7s 120ms/sample - loss: 0.1653 - acc: 0.6667 - val_loss: 0.2455 - val_acc: 0.5667\n",
      "Epoch 5/175\n",
      "59/60 [============================>.] - ETA: 0s - loss: 0.1546 - acc: 0.7119\n",
      "Epoch 00005: val_loss improved from 0.24551 to 0.22060, saving model to siamese_network.h5\n",
      "60/60 [==============================] - 7s 119ms/sample - loss: 0.1522 - acc: 0.7167 - val_loss: 0.2206 - val_acc: 0.5833\n",
      "Epoch 6/175\n",
      "59/60 [============================>.] - ETA: 0s - loss: 0.1404 - acc: 0.7627\n",
      "Epoch 00006: val_loss improved from 0.22060 to 0.19764, saving model to siamese_network.h5\n",
      "60/60 [==============================] - 8s 125ms/sample - loss: 0.1426 - acc: 0.7500 - val_loss: 0.1976 - val_acc: 0.6333\n",
      "Epoch 7/175\n",
      "59/60 [============================>.] - ETA: 0s - loss: 0.1334 - acc: 0.8475\n",
      "Epoch 00007: val_loss improved from 0.19764 to 0.17748, saving model to siamese_network.h5\n",
      "60/60 [==============================] - 7s 118ms/sample - loss: 0.1355 - acc: 0.8333 - val_loss: 0.1775 - val_acc: 0.6667\n",
      "Epoch 8/175\n",
      "59/60 [============================>.] - ETA: 0s - loss: 0.1335 - acc: 0.8814\n",
      "Epoch 00008: val_loss improved from 0.17748 to 0.16583, saving model to siamese_network.h5\n",
      "60/60 [==============================] - 7s 122ms/sample - loss: 0.1313 - acc: 0.8833 - val_loss: 0.1658 - val_acc: 0.7000\n",
      "Epoch 9/175\n",
      "59/60 [============================>.] - ETA: 0s - loss: 0.1274 - acc: 0.8983\n",
      "Epoch 00009: val_loss improved from 0.16583 to 0.16037, saving model to siamese_network.h5\n",
      "60/60 [==============================] - 7s 120ms/sample - loss: 0.1294 - acc: 0.9000 - val_loss: 0.1604 - val_acc: 0.7500\n",
      "Epoch 10/175\n",
      "59/60 [============================>.] - ETA: 0s - loss: 0.1259 - acc: 0.8983\n",
      "Epoch 00010: val_loss did not improve from 0.16037\n",
      "60/60 [==============================] - 7s 119ms/sample - loss: 0.1285 - acc: 0.8833 - val_loss: 0.1629 - val_acc: 0.7000\n",
      "Epoch 11/175\n",
      "59/60 [============================>.] - ETA: 0s - loss: 0.1253 - acc: 0.8983\n",
      "Epoch 00011: val_loss did not improve from 0.16037\n",
      "60/60 [==============================] - 7s 114ms/sample - loss: 0.1273 - acc: 0.9000 - val_loss: 0.1608 - val_acc: 0.7500\n",
      "Epoch 12/175\n",
      "59/60 [============================>.] - ETA: 0s - loss: 0.1287 - acc: 0.9153\n",
      "Epoch 00012: val_loss improved from 0.16037 to 0.15981, saving model to siamese_network.h5\n",
      "60/60 [==============================] - 7s 120ms/sample - loss: 0.1266 - acc: 0.9167 - val_loss: 0.1598 - val_acc: 0.7500\n",
      "Epoch 13/175\n",
      "59/60 [============================>.] - ETA: 0s - loss: 0.1222 - acc: 0.9153\n",
      "Epoch 00013: val_loss improved from 0.15981 to 0.15731, saving model to siamese_network.h5\n",
      "60/60 [==============================] - 7s 118ms/sample - loss: 0.1256 - acc: 0.9000 - val_loss: 0.1573 - val_acc: 0.7500\n",
      "Epoch 14/175\n",
      "59/60 [============================>.] - ETA: 0s - loss: 0.1227 - acc: 0.9153\n",
      "Epoch 00014: val_loss did not improve from 0.15731\n",
      "60/60 [==============================] - 7s 117ms/sample - loss: 0.1249 - acc: 0.9167 - val_loss: 0.1799 - val_acc: 0.6833\n",
      "Epoch 15/175\n",
      "59/60 [============================>.] - ETA: 0s - loss: 0.1291 - acc: 0.8983\n",
      "Epoch 00015: val_loss did not improve from 0.15731\n",
      "60/60 [==============================] - 7s 122ms/sample - loss: 0.1270 - acc: 0.9000 - val_loss: 0.1595 - val_acc: 0.7500\n",
      "Epoch 16/175\n",
      "59/60 [============================>.] - ETA: 0s - loss: 0.1253 - acc: 0.9153\n",
      "Epoch 00016: val_loss improved from 0.15731 to 0.15460, saving model to siamese_network.h5\n",
      "60/60 [==============================] - 7s 118ms/sample - loss: 0.1233 - acc: 0.9167 - val_loss: 0.1546 - val_acc: 0.7500\n",
      "Epoch 17/175\n",
      "59/60 [============================>.] - ETA: 0s - loss: 0.1209 - acc: 0.9153\n",
      "Epoch 00017: val_loss improved from 0.15460 to 0.15048, saving model to siamese_network.h5\n",
      "60/60 [==============================] - 8s 125ms/sample - loss: 0.1228 - acc: 0.9167 - val_loss: 0.1505 - val_acc: 0.7500\n",
      "Epoch 18/175\n",
      "59/60 [============================>.] - ETA: 0s - loss: 0.1250 - acc: 0.9322\n",
      "Epoch 00018: val_loss did not improve from 0.15048\n",
      "60/60 [==============================] - 7s 120ms/sample - loss: 0.1229 - acc: 0.9333 - val_loss: 0.1576 - val_acc: 0.7500\n",
      "Epoch 19/175\n",
      "59/60 [============================>.] - ETA: 0s - loss: 0.1188 - acc: 0.9322\n",
      "Epoch 00019: val_loss did not improve from 0.15048\n",
      "60/60 [==============================] - 7s 119ms/sample - loss: 0.1215 - acc: 0.9167 - val_loss: 0.1600 - val_acc: 0.7500\n",
      "Epoch 20/175\n",
      "59/60 [============================>.] - ETA: 0s - loss: 0.1191 - acc: 0.9322\n",
      "Epoch 00020: val_loss did not improve from 0.15048\n",
      "60/60 [==============================] - 7s 115ms/sample - loss: 0.1209 - acc: 0.9333 - val_loss: 0.1603 - val_acc: 0.7500\n",
      "Epoch 21/175\n",
      "59/60 [============================>.] - ETA: 0s - loss: 0.1224 - acc: 0.9322\n",
      "Epoch 00021: val_loss did not improve from 0.15048\n",
      "60/60 [==============================] - 7s 117ms/sample - loss: 0.1204 - acc: 0.9333 - val_loss: 0.1510 - val_acc: 0.7500\n",
      "Epoch 22/175\n",
      "59/60 [============================>.] - ETA: 0s - loss: 0.1218 - acc: 0.9322\n",
      "Epoch 00022: val_loss did not improve from 0.15048\n",
      "60/60 [==============================] - 7s 117ms/sample - loss: 0.1198 - acc: 0.9333 - val_loss: 0.1526 - val_acc: 0.7500\n",
      "Epoch 23/175\n",
      "59/60 [============================>.] - ETA: 0s - loss: 0.1170 - acc: 0.9322\n",
      "Epoch 00023: val_loss did not improve from 0.15048\n",
      "60/60 [==============================] - 7s 119ms/sample - loss: 0.1189 - acc: 0.9333 - val_loss: 0.1530 - val_acc: 0.7500\n"
     ]
    },
    {
     "name": "stdout",
     "output_type": "stream",
     "text": [
      "Epoch 24/175\n",
      "59/60 [============================>.] - ETA: 0s - loss: 0.1207 - acc: 0.9322- ETA: 1s - loss: 0.1 - ETA: 0s - loss: 0.1124 - a\n",
      "Epoch 00024: val_loss did not improve from 0.15048\n",
      "60/60 [==============================] - 7s 119ms/sample - loss: 0.1188 - acc: 0.9333 - val_loss: 0.1522 - val_acc: 0.7500\n",
      "Epoch 25/175\n",
      "59/60 [============================>.] - ETA: 0s - loss: 0.1205 - acc: 0.9322\n",
      "Epoch 00025: val_loss did not improve from 0.15048\n",
      "60/60 [==============================] - 7s 115ms/sample - loss: 0.1185 - acc: 0.9333 - val_loss: 0.1525 - val_acc: 0.7500\n",
      "Epoch 26/175\n",
      "59/60 [============================>.] - ETA: 0s - loss: 0.1204 - acc: 0.9322\n",
      "Epoch 00026: val_loss did not improve from 0.15048\n",
      "60/60 [==============================] - 7s 119ms/sample - loss: 0.1184 - acc: 0.9333 - val_loss: 0.1518 - val_acc: 0.7500\n",
      "Epoch 27/175\n",
      "59/60 [============================>.] - ETA: 0s - loss: 0.1165 - acc: 0.9322\n",
      "Epoch 00027: val_loss did not improve from 0.15048\n",
      "60/60 [==============================] - 7s 117ms/sample - loss: 0.1183 - acc: 0.9333 - val_loss: 0.1514 - val_acc: 0.7500\n",
      "Epoch 00027: early stopping\n"
     ]
    }
   ],
   "source": [
    "\"\"\" train the model \"\"\"\n",
    "\n",
    "optimizer = Adam(learning_rate=0.0001)\n",
    "siamese.compile(loss=utils.loss(1), optimizer=optimizer, metrics=[\"accuracy\"])\n",
    "# siamese.compile(loss='sparse_categorical_crossentropy', optimizer=optimizer, metrics=[\"accuracy\"])\n",
    "\n",
    "siamese.summary()\n",
    "history = siamese.fit([x_train_1, x_train_2],\n",
    "    labels_train,\n",
    "    validation_data=([x_val_1, x_val_2], labels_val),\n",
    "    batch_size=1,\n",
    "    epochs=175,   # 175 for contrastive 100 for cross ent\n",
    "    callbacks = [checkpointer, early_stopping, reduce_lr]\n",
    ")"
   ]
  },
  {
   "cell_type": "code",
   "execution_count": 8,
   "id": "5219b8e7",
   "metadata": {},
   "outputs": [
    {
     "data": {
      "image/png": "[encoded data removed]",
      "text/plain": [
       "<Figure size 432x288 with 1 Axes>"
      ]
     },
     "metadata": {
      "needs_background": "light"
     },
     "output_type": "display_data"
    }
   ],
   "source": [
    "# Plot the accuracy\n",
    "utils.plt_metric(history=history.history, metric=\"acc\", title=\"Model accuracy\")"
   ]
  },
  {
   "cell_type": "code",
   "execution_count": 9,
   "id": "bdb37692",
   "metadata": {},
   "outputs": [
    {
     "data": {
      "image/png": "[encoded data removed]",
      "text/plain": [
       "<Figure size 432x288 with 1 Axes>"
      ]
     },
     "metadata": {
      "needs_background": "light"
     },
     "output_type": "display_data"
    }
   ],
   "source": [
    "# Plot the constrastive loss\n",
    "utils.plt_metric(history=history.history, metric=\"loss\", title=\"Constrastive Loss\")"
   ]
  },
  {
   "cell_type": "code",
   "execution_count": 10,
   "id": "9ebb1ff4",
   "metadata": {},
   "outputs": [
    {
     "name": "stdout",
     "output_type": "stream",
     "text": [
      "1296/1296 [==============================] - 52s 40ms/sample - loss: 0.1368 - acc: 0.8488\n",
      "test loss, test acc: [0.13682321394667213, 0.84876543]\n"
     ]
    }
   ],
   "source": [
    "\"\"\" Test the model \"\"\"\n",
    "results = siamese.evaluate([x_test_1, x_test_2], labels_test)\n",
    "print(\"test loss, test acc:\", results)"
   ]
  },
  {
   "cell_type": "code",
   "execution_count": 11,
   "id": "be00d433",
   "metadata": {},
   "outputs": [
    {
     "data": {
      "text/plain": [
       "array([0.22735491, 0.12145612, 0.5236469 , ..., 0.05660461, 0.5098656 ,\n",
       "       0.02015333], dtype=float32)"
      ]
     },
     "execution_count": 11,
     "metadata": {},
     "output_type": "execute_result"
    }
   ],
   "source": [
    "Y_pred = siamese.predict([x_test_1, x_test_2]).squeeze()\n",
    "Y_pred"
   ]
  },
  {
   "cell_type": "code",
   "execution_count": 12,
   "id": "e4ec4ccb",
   "metadata": {},
   "outputs": [
    {
     "data": {
      "text/plain": [
       "array([False, False,  True, ..., False,  True, False])"
      ]
     },
     "execution_count": 12,
     "metadata": {},
     "output_type": "execute_result"
    }
   ],
   "source": [
    "# y_pred = np.argmax(Y_pred, axis=1)\n",
    "y_pred = Y_pred > .5\n",
    "y_pred"
   ]
  },
  {
   "cell_type": "code",
   "execution_count": 13,
   "id": "6f3303c6",
   "metadata": {},
   "outputs": [
    {
     "data": {
      "text/plain": [
       "array([1., 0., 1., ..., 0., 1., 0.], dtype=float32)"
      ]
     },
     "execution_count": 13,
     "metadata": {},
     "output_type": "execute_result"
    }
   ],
   "source": [
    "y_test = labels_test\n",
    "y_test"
   ]
  },
  {
   "cell_type": "code",
   "execution_count": 14,
   "id": "2c08c7b8",
   "metadata": {},
   "outputs": [
    {
     "name": "stdout",
     "output_type": "stream",
     "text": [
      "\n",
      "Evaluate on test data\n",
      "Accuracy: 0.8487654320987654\n",
      "Precision: 0.8838862559241706\n",
      "Recall: 0.8487654320987654\n",
      "ROC AUC: 0.8487654320987654\n",
      "F1: 0.8452254447964903\n"
     ]
    }
   ],
   "source": [
    "print(\"\\nEvaluate on test data\")\n",
    "print(\"Accuracy:\", accuracy_score(y_test, y_pred))\n",
    "print(\"Precision:\", precision_score(y_test, y_pred, average='weighted'))\n",
    "print(\"Recall:\", recall_score(y_test, y_pred, average='weighted'))\n",
    "print(\"ROC AUC:\", roc_auc_score(y_test, y_pred, average='weighted'))\n",
    "print(\"F1:\", f1_score(y_test, y_pred, average='weighted'))"
   ]
  },
  {
   "cell_type": "code",
   "execution_count": 15,
   "id": "3661b5ee",
   "metadata": {},
   "outputs": [
    {
     "name": "stdout",
     "output_type": "stream",
     "text": [
      "Specificity: 1.0\n"
     ]
    }
   ],
   "source": [
    "cm = confusion_matrix(y_test, y_pred)    \n",
    "# cm_display = ConfusionMatrixDisplay(cm, labels_test).plot()\n",
    "\n",
    "tn, fp, fn, tp = cm.ravel()\n",
    "specificity = tn / (tn+fp)\n",
    "print(\"Specificity:\", specificity)"
   ]
  },
  {
   "cell_type": "code",
   "execution_count": 16,
   "id": "10419799",
   "metadata": {},
   "outputs": [],
   "source": [
    "tf.keras.backend.clear_session()"
   ]
  },
  {
   "cell_type": "code",
   "execution_count": null,
   "id": "fc7ff4ae",
   "metadata": {},
   "outputs": [],
   "source": []
  }
 ],
 "metadata": {
  "kernelspec": {
   "display_name": "Python 3",
   "language": "python",
   "name": "python3"
  },
  "language_info": {
   "codemirror_mode": {
    "name": "ipython",
    "version": 3
   },
   "file_extension": ".py",
   "mimetype": "text/x-python",
   "name": "python",
   "nbconvert_exporter": "python",
   "pygments_lexer": "ipython3",
   "version": "3.6.13"
  },
  "toc": {
   "base_numbering": 1,
   "nav_menu": {},
   "number_sections": true,
   "sideBar": true,
   "skip_h1_title": false,
   "title_cell": "Table of Contents",
   "title_sidebar": "Contents",
   "toc_cell": false,
   "toc_position": {},
   "toc_section_display": true,
   "toc_window_display": false
  },
  "varInspector": {
   "cols": {
    "lenName": 16,
    "lenType": 16,
    "lenVar": 40
   },
   "kernels_config": {
    "python": {
     "delete_cmd_postfix": "",
     "delete_cmd_prefix": "del ",
     "library": "var_list.py",
     "varRefreshCmd": "print(var_dic_list())"
    },
    "r": {
     "delete_cmd_postfix": ") ",
     "delete_cmd_prefix": "rm(",
     "library": "var_list.r",
     "varRefreshCmd": "cat(var_dic_list()) "
    }
   },
   "types_to_exclude": [
    "module",
    "function",
    "builtin_function_or_method",
    "instance",
    "_Feature"
   ],
   "window_display": false
  }
 },
 "nbformat": 4,
 "nbformat_minor": 5
}
