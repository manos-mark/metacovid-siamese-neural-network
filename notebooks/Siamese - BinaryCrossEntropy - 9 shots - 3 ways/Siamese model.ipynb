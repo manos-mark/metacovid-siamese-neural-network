{
 "cells": [
  {
   "cell_type": "code",
   "execution_count": 1,
   "id": "fc42bd44",
   "metadata": {},
   "outputs": [],
   "source": [
    "import utils\n",
    "\n",
    "import tensorflow as tf\n",
    "from tensorflow.keras.layers import Dense, Input, Flatten, Lambda\n",
    "from tensorflow.keras.models import Model\n",
    "from tensorflow.keras.optimizers import Adam\n",
    "from sklearn.metrics import confusion_matrix, ConfusionMatrixDisplay, accuracy_score, precision_score, recall_score, roc_auc_score, f1_score\n",
    "\n",
    "import numpy as np\n",
    "import os\n",
    "\n",
    "from tensorflow.keras.callbacks import EarlyStopping, ModelCheckpoint, ReduceLROnPlateau\n",
    "\n",
    "import logging"
   ]
  },
  {
   "cell_type": "code",
   "execution_count": 2,
   "id": "fde1ea84",
   "metadata": {},
   "outputs": [
    {
     "name": "stdout",
     "output_type": "stream",
     "text": [
      "Using:\n",
      "\t• TensorFlow version: 2.1.0\n",
      "\t• tf.keras version: 2.2.4-tf\n",
      "\t• Running on GPU\n"
     ]
    }
   ],
   "source": [
    "logger = tf.get_logger()\n",
    "logger.setLevel(logging.ERROR)\n",
    "\n",
    "print('Using:')\n",
    "print('\\t\\u2022 TensorFlow version:', tf.__version__)\n",
    "print('\\t\\u2022 tf.keras version:', tf.keras.__version__)\n",
    "print('\\t\\u2022 Running on GPU' if tf.test.is_gpu_available() else '\\t\\u2022 GPU device not found. Running on CPU')"
   ]
  },
  {
   "cell_type": "code",
   "execution_count": 3,
   "id": "51e983b7",
   "metadata": {},
   "outputs": [
    {
     "name": "stdout",
     "output_type": "stream",
     "text": [
      "Found 27 images belonging to 3 classes.\n",
      "The train set contains 27\n",
      "Found 27 images belonging to 3 classes.\n",
      "The valid set contains 27\n",
      "Found 648 images belonging to 3 classes.\n",
      "The test set contains 648\n"
     ]
    }
   ],
   "source": [
    "basedir = os.path.join(\"C:\\\\Users\\\\aktas\\\\Desktop\\\\VIBOT\\\\3.semester\\\\Meta-Learning\\\\project_final\\\\metacovid-siamese-neural-network\", \"dataset\", \"siamese\") \n",
    "\n",
    "train_image_list, train_y_list = utils.load_images(basedir, 'train', (100,100))\n",
    "print(\"The train set contains\",len(train_image_list)) \n",
    "\n",
    "valid_image_list, valid_y_list = utils.load_images(basedir, 'validation', (100,100))   \n",
    "print(\"The valid set contains\", len(valid_image_list))  \n",
    "\n",
    "test_image_list, test_y_list = utils.load_images(basedir, 'test', (100,100))   \n",
    "print(\"The test set contains\", len(test_image_list)) "
   ]
  },
  {
   "cell_type": "code",
   "execution_count": 4,
   "id": "b9e510ea",
   "metadata": {},
   "outputs": [
    {
     "name": "stdout",
     "output_type": "stream",
     "text": [
      "number of pairs for training 54\n",
      "number of pairs for validation 54\n",
      "number of pairs for test 1296\n"
     ]
    }
   ],
   "source": [
    "# make train pairs\n",
    "pairs_train, labels_train = utils.make_pairs(train_image_list, train_y_list)\n",
    "\n",
    "# make validation pairs\n",
    "pairs_val, labels_val = utils.make_pairs(valid_image_list, valid_y_list)\n",
    "\n",
    "# make test pairs\n",
    "pairs_test, labels_test = utils.make_pairs(test_image_list, test_y_list)\n",
    "\n",
    "x_train_1 = pairs_train[:, 0]  \n",
    "x_train_2 = pairs_train[:, 1]\n",
    "print(\"number of pairs for training\", np.shape(x_train_1)[0]) \n",
    "\n",
    "x_val_1 = pairs_val[:, 0] \n",
    "x_val_2 = pairs_val[:, 1]\n",
    "print(\"number of pairs for validation\", np.shape(x_val_1)[0]) \n",
    "\n",
    "x_test_1 = pairs_test[:, 0] \n",
    "x_test_2 = pairs_test[:, 1]\n",
    "print(\"number of pairs for test\", np.shape(x_test_1)[0]) "
   ]
  },
  {
   "cell_type": "code",
   "execution_count": 5,
   "id": "0ab81282",
   "metadata": {},
   "outputs": [
    {
     "name": "stdout",
     "output_type": "stream",
     "text": [
      "Model: \"model\"\n",
      "__________________________________________________________________________________________________\n",
      "Layer (type)                    Output Shape         Param #     Connected to                     \n",
      "==================================================================================================\n",
      "input_1 (InputLayer)            [(None, 100, 100, 3) 0                                            \n",
      "__________________________________________________________________________________________________\n",
      "input_2 (InputLayer)            [(None, 100, 100, 3) 0                                            \n",
      "__________________________________________________________________________________________________\n",
      "sequential (Sequential)         (None, 5120)         14748995    input_1[0][0]                    \n",
      "                                                                 input_2[0][0]                    \n",
      "__________________________________________________________________________________________________\n",
      "lambda (Lambda)                 (None, 1)            0           sequential[1][0]                 \n",
      "                                                                 sequential[2][0]                 \n",
      "__________________________________________________________________________________________________\n",
      "dense (Dense)                   (None, 1)            2           lambda[0][0]                     \n",
      "==================================================================================================\n",
      "Total params: 14,748,997\n",
      "Trainable params: 20,482\n",
      "Non-trainable params: 14,728,515\n",
      "__________________________________________________________________________________________________\n"
     ]
    }
   ],
   "source": [
    "tf.compat.v1.reset_default_graph()\n",
    "\n",
    "SIAMESE_MODEL_FNAME = 'siamese_network.h5'\n",
    "EMBEDDING_MODEL_FNAME = 'embedding_network.h5'\n",
    "\n",
    "input_1 = Input((100,100,3))\n",
    "input_2 = Input((100,100,3))\n",
    "\n",
    "embedding_network = tf.keras.models.load_model(EMBEDDING_MODEL_FNAME)\n",
    "embedding_network.trainable = False\n",
    "\n",
    "model = tf.keras.Sequential() \n",
    "for layer in embedding_network.layers:  \n",
    "    model.add(layer) \n",
    "\n",
    "model.add(Flatten(name='flat'))\n",
    "model.add(Dense(5120, name='den', activation='sigmoid', kernel_regularizer='l2')) \n",
    " \n",
    "output_1 = model(input_1) \n",
    "output_2 = model(input_2) \n",
    " \n",
    "merge_layer = Lambda(utils.manhattan_distance)([output_1, output_2]) \n",
    "output_layer = Dense(1, activation=\"sigmoid\")(merge_layer) \n",
    "siamese = Model(inputs=[input_1, input_2], outputs=output_layer) \n",
    "siamese.summary()"
   ]
  },
  {
   "cell_type": "code",
   "execution_count": 6,
   "id": "84bde165",
   "metadata": {},
   "outputs": [],
   "source": [
    "\"\"\" callbacks \"\"\"\n",
    "\n",
    "reduce_lr = ReduceLROnPlateau(monitor='val_loss', factor=0.2, patience=5, min_lr=0.00001)\n",
    "\n",
    "early_stopping = EarlyStopping(monitor='val_loss', patience=10, verbose=1, min_delta=0.0001)\n",
    "\n",
    "checkpointer = ModelCheckpoint(filepath='siamese_network.h5', verbose=1, \n",
    "                                save_best_only=True)"
   ]
  },
  {
   "cell_type": "code",
   "execution_count": 7,
   "id": "4aa63961",
   "metadata": {},
   "outputs": [
    {
     "name": "stdout",
     "output_type": "stream",
     "text": [
      "Model: \"model\"\n",
      "__________________________________________________________________________________________________\n",
      "Layer (type)                    Output Shape         Param #     Connected to                     \n",
      "==================================================================================================\n",
      "input_1 (InputLayer)            [(None, 100, 100, 3) 0                                            \n",
      "__________________________________________________________________________________________________\n",
      "input_2 (InputLayer)            [(None, 100, 100, 3) 0                                            \n",
      "__________________________________________________________________________________________________\n",
      "sequential (Sequential)         (None, 5120)         14748995    input_1[0][0]                    \n",
      "                                                                 input_2[0][0]                    \n",
      "__________________________________________________________________________________________________\n",
      "lambda (Lambda)                 (None, 1)            0           sequential[1][0]                 \n",
      "                                                                 sequential[2][0]                 \n",
      "__________________________________________________________________________________________________\n",
      "dense (Dense)                   (None, 1)            2           lambda[0][0]                     \n",
      "==================================================================================================\n",
      "Total params: 14,748,997\n",
      "Trainable params: 20,482\n",
      "Non-trainable params: 14,728,515\n",
      "__________________________________________________________________________________________________\n",
      "Train on 54 samples, validate on 54 samples\n",
      "Epoch 1/100\n",
      "48/54 [=========================>....] - ETA: 0s - loss: 0.6540 - accuracy: 0.5625\n",
      "Epoch 00001: val_loss improved from inf to 0.67159, saving model to siamese_network.h5\n",
      "54/54 [==============================] - 4s 71ms/sample - loss: 0.6478 - accuracy: 0.5556 - val_loss: 0.6716 - val_accuracy: 0.5370\n",
      "Epoch 2/100\n",
      "49/54 [==========================>...] - ETA: 0s - loss: 0.6268 - accuracy: 0.5510\n",
      "Epoch 00002: val_loss improved from 0.67159 to 0.65225, saving model to siamese_network.h5\n",
      "54/54 [==============================] - 1s 19ms/sample - loss: 0.6272 - accuracy: 0.5741 - val_loss: 0.6523 - val_accuracy: 0.5370\n",
      "Epoch 3/100\n",
      "49/54 [==========================>...] - ETA: 0s - loss: 0.6106 - accuracy: 0.5918\n",
      "Epoch 00003: val_loss improved from 0.65225 to 0.63764, saving model to siamese_network.h5\n",
      "54/54 [==============================] - 1s 19ms/sample - loss: 0.6121 - accuracy: 0.5926 - val_loss: 0.6376 - val_accuracy: 0.5370\n",
      "Epoch 4/100\n",
      "49/54 [==========================>...] - ETA: 0s - loss: 0.6089 - accuracy: 0.6531\n",
      "Epoch 00004: val_loss improved from 0.63764 to 0.62660, saving model to siamese_network.h5\n",
      "54/54 [==============================] - 1s 19ms/sample - loss: 0.6014 - accuracy: 0.6296 - val_loss: 0.6266 - val_accuracy: 0.5741\n",
      "Epoch 5/100\n",
      "49/54 [==========================>...] - ETA: 0s - loss: 0.5880 - accuracy: 0.6735\n",
      "Epoch 00005: val_loss improved from 0.62660 to 0.61817, saving model to siamese_network.h5\n",
      "54/54 [==============================] - 1s 20ms/sample - loss: 0.5941 - accuracy: 0.7037 - val_loss: 0.6182 - val_accuracy: 0.6111\n",
      "Epoch 6/100\n",
      "49/54 [==========================>...] - ETA: 0s - loss: 0.5925 - accuracy: 0.7143\n",
      "Epoch 00006: val_loss improved from 0.61817 to 0.61352, saving model to siamese_network.h5\n",
      "54/54 [==============================] - 1s 20ms/sample - loss: 0.5899 - accuracy: 0.7407 - val_loss: 0.6135 - val_accuracy: 0.6296\n",
      "Epoch 7/100\n",
      "49/54 [==========================>...] - ETA: 0s - loss: 0.5903 - accuracy: 0.8367\n",
      "Epoch 00007: val_loss improved from 0.61352 to 0.61204, saving model to siamese_network.h5\n",
      "54/54 [==============================] - 1s 20ms/sample - loss: 0.5883 - accuracy: 0.8333 - val_loss: 0.6120 - val_accuracy: 0.6296\n",
      "Epoch 8/100\n",
      "49/54 [==========================>...] - ETA: 0s - loss: 0.5900 - accuracy: 0.8163\n",
      "Epoch 00008: val_loss improved from 0.61204 to 0.61198, saving model to siamese_network.h5\n",
      "54/54 [==============================] - 1s 19ms/sample - loss: 0.5874 - accuracy: 0.8333 - val_loss: 0.6120 - val_accuracy: 0.6296\n",
      "Epoch 9/100\n",
      "49/54 [==========================>...] - ETA: 0s - loss: 0.5758 - accuracy: 0.8163\n",
      "Epoch 00009: val_loss improved from 0.61198 to 0.61139, saving model to siamese_network.h5\n",
      "54/54 [==============================] - 1s 20ms/sample - loss: 0.5870 - accuracy: 0.8333 - val_loss: 0.6114 - val_accuracy: 0.6667\n",
      "Epoch 10/100\n",
      "49/54 [==========================>...] - ETA: 0s - loss: 0.5844 - accuracy: 0.8571\n",
      "Epoch 00010: val_loss improved from 0.61139 to 0.61045, saving model to siamese_network.h5\n",
      "54/54 [==============================] - 1s 20ms/sample - loss: 0.5865 - accuracy: 0.8519 - val_loss: 0.6104 - val_accuracy: 0.6667\n",
      "Epoch 11/100\n",
      "49/54 [==========================>...] - ETA: 0s - loss: 0.5880 - accuracy: 0.8571\n",
      "Epoch 00011: val_loss improved from 0.61045 to 0.61022, saving model to siamese_network.h5\n",
      "54/54 [==============================] - 1s 20ms/sample - loss: 0.5860 - accuracy: 0.8519 - val_loss: 0.6102 - val_accuracy: 0.6667\n",
      "Epoch 12/100\n",
      "49/54 [==========================>...] - ETA: 0s - loss: 0.5884 - accuracy: 0.8776\n",
      "Epoch 00012: val_loss did not improve from 0.61022\n",
      "54/54 [==============================] - 1s 19ms/sample - loss: 0.5860 - accuracy: 0.8704 - val_loss: 0.6112 - val_accuracy: 0.6667\n",
      "Epoch 13/100\n",
      "49/54 [==========================>...] - ETA: 0s - loss: 0.5878 - accuracy: 0.8980\n",
      "Epoch 00013: val_loss did not improve from 0.61022\n",
      "54/54 [==============================] - 1s 18ms/sample - loss: 0.5857 - accuracy: 0.8889 - val_loss: 0.6107 - val_accuracy: 0.6667\n",
      "Epoch 14/100\n",
      "49/54 [==========================>...] - ETA: 0s - loss: 0.5918 - accuracy: 0.9184\n",
      "Epoch 00014: val_loss improved from 0.61022 to 0.60997, saving model to siamese_network.h5\n",
      "54/54 [==============================] - 1s 20ms/sample - loss: 0.5854 - accuracy: 0.8889 - val_loss: 0.6100 - val_accuracy: 0.6667\n",
      "Epoch 15/100\n",
      "49/54 [==========================>...] - ETA: 0s - loss: 0.5831 - accuracy: 0.8776\n",
      "Epoch 00015: val_loss improved from 0.60997 to 0.60950, saving model to siamese_network.h5\n",
      "54/54 [==============================] - 1s 20ms/sample - loss: 0.5852 - accuracy: 0.8889 - val_loss: 0.6095 - val_accuracy: 0.6667\n",
      "Epoch 16/100\n",
      "49/54 [==========================>...] - ETA: 0s - loss: 0.5784 - accuracy: 0.8776\n",
      "Epoch 00016: val_loss did not improve from 0.60950\n",
      "54/54 [==============================] - 1s 18ms/sample - loss: 0.5850 - accuracy: 0.8889 - val_loss: 0.6097 - val_accuracy: 0.6667\n",
      "Epoch 17/100\n",
      "49/54 [==========================>...] - ETA: 0s - loss: 0.5868 - accuracy: 0.9184\n",
      "Epoch 00017: val_loss improved from 0.60950 to 0.60929, saving model to siamese_network.h5\n",
      "54/54 [==============================] - 1s 20ms/sample - loss: 0.5848 - accuracy: 0.8889 - val_loss: 0.6093 - val_accuracy: 0.7037\n",
      "Epoch 18/100\n",
      "49/54 [==========================>...] - ETA: 0s - loss: 0.5825 - accuracy: 0.8776\n",
      "Epoch 00018: val_loss improved from 0.60929 to 0.60914, saving model to siamese_network.h5\n",
      "54/54 [==============================] - 1s 20ms/sample - loss: 0.5846 - accuracy: 0.8889 - val_loss: 0.6091 - val_accuracy: 0.7037\n",
      "Epoch 19/100\n",
      "49/54 [==========================>...] - ETA: 0s - loss: 0.5824 - accuracy: 0.8776\n",
      "Epoch 00019: val_loss did not improve from 0.60914\n",
      "54/54 [==============================] - 1s 18ms/sample - loss: 0.5844 - accuracy: 0.8889 - val_loss: 0.6092 - val_accuracy: 0.7037\n",
      "Epoch 20/100\n",
      "48/54 [=========================>....] - ETA: 0s - loss: 0.5706 - accuracy: 0.8750\n",
      "Epoch 00020: val_loss did not improve from 0.60914\n",
      "54/54 [==============================] - 1s 19ms/sample - loss: 0.5844 - accuracy: 0.8889 - val_loss: 0.6094 - val_accuracy: 0.7222\n",
      "Epoch 21/100\n",
      "49/54 [==========================>...] - ETA: 0s - loss: 0.5822 - accuracy: 0.8776\n",
      "Epoch 00021: val_loss did not improve from 0.60914\n",
      "54/54 [==============================] - 1s 19ms/sample - loss: 0.5842 - accuracy: 0.8889 - val_loss: 0.6095 - val_accuracy: 0.7222\n",
      "Epoch 22/100\n"
     ]
    },
    {
     "name": "stdout",
     "output_type": "stream",
     "text": [
      "49/54 [==========================>...] - ETA: 0s - loss: 0.5911 - accuracy: 0.8776\n",
      "Epoch 00022: val_loss improved from 0.60914 to 0.60805, saving model to siamese_network.h5\n",
      "54/54 [==============================] - 1s 20ms/sample - loss: 0.5839 - accuracy: 0.8889 - val_loss: 0.6081 - val_accuracy: 0.7222\n",
      "Epoch 23/100\n",
      "49/54 [==========================>...] - ETA: 0s - loss: 0.5771 - accuracy: 0.8776\n",
      "Epoch 00023: val_loss did not improve from 0.60805\n",
      "54/54 [==============================] - 1s 18ms/sample - loss: 0.5838 - accuracy: 0.8889 - val_loss: 0.6087 - val_accuracy: 0.7222\n",
      "Epoch 24/100\n",
      "49/54 [==========================>...] - ETA: 0s - loss: 0.5907 - accuracy: 0.8980\n",
      "Epoch 00024: val_loss did not improve from 0.60805\n",
      "54/54 [==============================] - 1s 18ms/sample - loss: 0.5837 - accuracy: 0.8889 - val_loss: 0.6090 - val_accuracy: 0.7222\n",
      "Epoch 25/100\n",
      "49/54 [==========================>...] - ETA: 0s - loss: 0.5810 - accuracy: 0.8980\n",
      "Epoch 00025: val_loss did not improve from 0.60805\n",
      "54/54 [==============================] - 1s 18ms/sample - loss: 0.5836 - accuracy: 0.8889 - val_loss: 0.6084 - val_accuracy: 0.7222\n",
      "Epoch 26/100\n",
      "49/54 [==========================>...] - ETA: 0s - loss: 0.5858 - accuracy: 0.8776\n",
      "Epoch 00026: val_loss did not improve from 0.60805\n",
      "54/54 [==============================] - 1s 19ms/sample - loss: 0.5832 - accuracy: 0.8889 - val_loss: 0.6084 - val_accuracy: 0.7222\n",
      "Epoch 27/100\n",
      "49/54 [==========================>...] - ETA: 0s - loss: 0.5719 - accuracy: 0.9184\n",
      "Epoch 00027: val_loss did not improve from 0.60805\n",
      "54/54 [==============================] - 1s 18ms/sample - loss: 0.5832 - accuracy: 0.9259 - val_loss: 0.6096 - val_accuracy: 0.7222\n",
      "Epoch 28/100\n",
      "49/54 [==========================>...] - ETA: 0s - loss: 0.5765 - accuracy: 0.8776\n",
      "Epoch 00028: val_loss did not improve from 0.60805\n",
      "54/54 [==============================] - 1s 18ms/sample - loss: 0.5832 - accuracy: 0.8889 - val_loss: 0.6088 - val_accuracy: 0.7222\n",
      "Epoch 29/100\n",
      "49/54 [==========================>...] - ETA: 0s - loss: 0.5757 - accuracy: 0.8980\n",
      "Epoch 00029: val_loss did not improve from 0.60805\n",
      "54/54 [==============================] - 1s 18ms/sample - loss: 0.5829 - accuracy: 0.8889 - val_loss: 0.6082 - val_accuracy: 0.7222\n",
      "Epoch 30/100\n",
      "49/54 [==========================>...] - ETA: 0s - loss: 0.5900 - accuracy: 0.8980\n",
      "Epoch 00030: val_loss improved from 0.60805 to 0.60780, saving model to siamese_network.h5\n",
      "54/54 [==============================] - 1s 20ms/sample - loss: 0.5828 - accuracy: 0.9074 - val_loss: 0.6078 - val_accuracy: 0.7222\n",
      "Epoch 31/100\n",
      "49/54 [==========================>...] - ETA: 0s - loss: 0.5894 - accuracy: 0.9388\n",
      "Epoch 00031: val_loss improved from 0.60780 to 0.60766, saving model to siamese_network.h5\n",
      "54/54 [==============================] - 1s 20ms/sample - loss: 0.5827 - accuracy: 0.9259 - val_loss: 0.6077 - val_accuracy: 0.7222\n",
      "Epoch 32/100\n",
      "49/54 [==========================>...] - ETA: 0s - loss: 0.5805 - accuracy: 0.9184\n",
      "Epoch 00032: val_loss improved from 0.60766 to 0.60761, saving model to siamese_network.h5\n",
      "54/54 [==============================] - 1s 20ms/sample - loss: 0.5827 - accuracy: 0.9259 - val_loss: 0.6076 - val_accuracy: 0.7222\n",
      "Epoch 33/100\n",
      "49/54 [==========================>...] - ETA: 0s - loss: 0.5852 - accuracy: 0.9184\n",
      "Epoch 00033: val_loss did not improve from 0.60761\n",
      "54/54 [==============================] - 1s 19ms/sample - loss: 0.5826 - accuracy: 0.9259 - val_loss: 0.6076 - val_accuracy: 0.7222\n",
      "Epoch 34/100\n",
      "49/54 [==========================>...] - ETA: 0s - loss: 0.5758 - accuracy: 0.9184\n",
      "Epoch 00034: val_loss improved from 0.60761 to 0.60745, saving model to siamese_network.h5\n",
      "54/54 [==============================] - 1s 20ms/sample - loss: 0.5826 - accuracy: 0.9259 - val_loss: 0.6075 - val_accuracy: 0.7222\n",
      "Epoch 35/100\n",
      "49/54 [==========================>...] - ETA: 0s - loss: 0.5804 - accuracy: 0.9184\n",
      "Epoch 00035: val_loss did not improve from 0.60745\n",
      "54/54 [==============================] - 1s 18ms/sample - loss: 0.5826 - accuracy: 0.9259 - val_loss: 0.6075 - val_accuracy: 0.7222\n",
      "Epoch 36/100\n",
      "49/54 [==========================>...] - ETA: 0s - loss: 0.5851 - accuracy: 0.9184\n",
      "Epoch 00036: val_loss did not improve from 0.60745\n",
      "54/54 [==============================] - 1s 18ms/sample - loss: 0.5825 - accuracy: 0.9259 - val_loss: 0.6075 - val_accuracy: 0.7222\n",
      "Epoch 37/100\n",
      "49/54 [==========================>...] - ETA: 0s - loss: 0.5939 - accuracy: 0.9388\n",
      "Epoch 00037: val_loss did not improve from 0.60745\n",
      "54/54 [==============================] - 1s 18ms/sample - loss: 0.5825 - accuracy: 0.9259 - val_loss: 0.6075 - val_accuracy: 0.7222\n",
      "Epoch 38/100\n",
      "49/54 [==========================>...] - ETA: 0s - loss: 0.5846 - accuracy: 0.9388\n",
      "Epoch 00038: val_loss improved from 0.60745 to 0.60736, saving model to siamese_network.h5\n",
      "54/54 [==============================] - 1s 20ms/sample - loss: 0.5824 - accuracy: 0.9259 - val_loss: 0.6074 - val_accuracy: 0.7222\n",
      "Epoch 39/100\n",
      "49/54 [==========================>...] - ETA: 0s - loss: 0.5709 - accuracy: 0.9184\n",
      "Epoch 00039: val_loss improved from 0.60736 to 0.60730, saving model to siamese_network.h5\n",
      "54/54 [==============================] - 1s 20ms/sample - loss: 0.5824 - accuracy: 0.9259 - val_loss: 0.6073 - val_accuracy: 0.7222\n",
      "Epoch 40/100\n",
      "49/54 [==========================>...] - ETA: 0s - loss: 0.5892 - accuracy: 0.9388\n",
      "Epoch 00040: val_loss did not improve from 0.60730\n",
      "54/54 [==============================] - 1s 19ms/sample - loss: 0.5824 - accuracy: 0.9259 - val_loss: 0.6075 - val_accuracy: 0.7222\n",
      "Epoch 41/100\n",
      "49/54 [==========================>...] - ETA: 0s - loss: 0.5802 - accuracy: 0.9184\n",
      "Epoch 00041: val_loss did not improve from 0.60730\n",
      "54/54 [==============================] - 1s 19ms/sample - loss: 0.5823 - accuracy: 0.9259 - val_loss: 0.6074 - val_accuracy: 0.7222\n",
      "Epoch 42/100\n",
      "49/54 [==========================>...] - ETA: 0s - loss: 0.5943 - accuracy: 0.9184\n",
      "Epoch 00042: val_loss did not improve from 0.60730\n",
      "54/54 [==============================] - 1s 19ms/sample - loss: 0.5823 - accuracy: 0.9259 - val_loss: 0.6074 - val_accuracy: 0.7222\n",
      "Epoch 43/100\n",
      "49/54 [==========================>...] - ETA: 0s - loss: 0.5802 - accuracy: 0.9184\n",
      "Epoch 00043: val_loss did not improve from 0.60730\n",
      "54/54 [==============================] - 1s 19ms/sample - loss: 0.5823 - accuracy: 0.9259 - val_loss: 0.6073 - val_accuracy: 0.7222\n",
      "Epoch 44/100\n",
      "49/54 [==========================>...] - ETA: 0s - loss: 0.5801 - accuracy: 0.9184\n",
      "Epoch 00044: val_loss did not improve from 0.60730\n",
      "54/54 [==============================] - 1s 19ms/sample - loss: 0.5822 - accuracy: 0.9259 - val_loss: 0.6073 - val_accuracy: 0.7222\n",
      "Epoch 45/100\n",
      "49/54 [==========================>...] - ETA: 0s - loss: 0.5847 - accuracy: 0.9184\n",
      "Epoch 00045: val_loss did not improve from 0.60730\n",
      "54/54 [==============================] - 1s 18ms/sample - loss: 0.5822 - accuracy: 0.9259 - val_loss: 0.6073 - val_accuracy: 0.7222\n",
      "Epoch 46/100\n",
      "49/54 [==========================>...] - ETA: 0s - loss: 0.5838 - accuracy: 0.9592\n",
      "Epoch 00046: val_loss improved from 0.60730 to 0.60729, saving model to siamese_network.h5\n",
      "54/54 [==============================] - 1s 20ms/sample - loss: 0.5822 - accuracy: 0.9259 - val_loss: 0.6073 - val_accuracy: 0.7222\n",
      "Epoch 47/100\n",
      "49/54 [==========================>...] - ETA: 0s - loss: 0.5845 - accuracy: 0.9184\n",
      "Epoch 00047: val_loss improved from 0.60729 to 0.60726, saving model to siamese_network.h5\n",
      "54/54 [==============================] - 1s 20ms/sample - loss: 0.5822 - accuracy: 0.9259 - val_loss: 0.6073 - val_accuracy: 0.7222\n",
      "Epoch 48/100\n",
      "49/54 [==========================>...] - ETA: 0s - loss: 0.5892 - accuracy: 0.9184\n",
      "Epoch 00048: val_loss improved from 0.60726 to 0.60724, saving model to siamese_network.h5\n",
      "54/54 [==============================] - 1s 20ms/sample - loss: 0.5821 - accuracy: 0.9259 - val_loss: 0.6072 - val_accuracy: 0.7222\n",
      "Epoch 49/100\n",
      "49/54 [==========================>...] - ETA: 0s - loss: 0.5842 - accuracy: 0.9388\n",
      "Epoch 00049: val_loss improved from 0.60724 to 0.60722, saving model to siamese_network.h5\n",
      "54/54 [==============================] - 1s 20ms/sample - loss: 0.5821 - accuracy: 0.9259 - val_loss: 0.6072 - val_accuracy: 0.7222\n"
     ]
    },
    {
     "name": "stdout",
     "output_type": "stream",
     "text": [
      "Epoch 00049: early stopping\n"
     ]
    }
   ],
   "source": [
    "\"\"\" train the model \"\"\"\n",
    "\n",
    "optimizer = Adam(learning_rate=0.0001)\n",
    "siamese.compile(loss=tf.keras.losses.BinaryCrossentropy(from_logits=True), optimizer=optimizer, metrics=[\"accuracy\"])\n",
    "# siamese.compile(loss='sparse_categorical_crossentropy', optimizer=optimizer, metrics=[\"accuracy\"])\n",
    "\n",
    "siamese.summary()\n",
    "history = siamese.fit([x_train_1, x_train_2],\n",
    "    labels_train,\n",
    "    validation_data=([x_val_1, x_val_2], labels_val),\n",
    "    batch_size=1,\n",
    "    epochs=100,   # 175 for contrastive 100 for cross ent\n",
    "    callbacks = [checkpointer, early_stopping, reduce_lr]\n",
    ")"
   ]
  },
  {
   "cell_type": "code",
   "execution_count": 8,
   "id": "929bb5c9",
   "metadata": {},
   "outputs": [
    {
     "data": {
      "image/png": "[encoded data removed]",
      "text/plain": [
       "<Figure size 432x288 with 1 Axes>"
      ]
     },
     "metadata": {
      "needs_background": "light"
     },
     "output_type": "display_data"
    }
   ],
   "source": [
    "# Plot the accuracy\n",
    "utils.plt_metric(history=history.history, metric=\"accuracy\", title=\"Model accuracy\")"
   ]
  },
  {
   "cell_type": "code",
   "execution_count": 9,
   "id": "61c90ddf",
   "metadata": {},
   "outputs": [
    {
     "data": {
      "image/png": "[encoded data removed]",
      "text/plain": [
       "<Figure size 432x288 with 1 Axes>"
      ]
     },
     "metadata": {
      "needs_background": "light"
     },
     "output_type": "display_data"
    }
   ],
   "source": [
    "# Plot the cross entropy binary loss\n",
    "utils.plt_metric(history=history.history, metric=\"loss\", title=\"Binary Loss\")"
   ]
  },
  {
   "cell_type": "code",
   "execution_count": 10,
   "id": "3064505e",
   "metadata": {},
   "outputs": [
    {
     "name": "stdout",
     "output_type": "stream",
     "text": [
      "1296/1296 [==============================] - 5s 4ms/sample - loss: 0.5929 - accuracy: 0.8264\n",
      "test loss, test acc: [0.592858608858085, 0.8263889]\n"
     ]
    }
   ],
   "source": [
    "\"\"\" Test the model \"\"\"\n",
    "results = siamese.evaluate([x_test_1, x_test_2], labels_test)\n",
    "print(\"test loss, test acc:\", results)"
   ]
  },
  {
   "cell_type": "code",
   "execution_count": 11,
   "id": "4ce353a7",
   "metadata": {},
   "outputs": [
    {
     "data": {
      "text/plain": [
       "array([0.08170491, 0.02208808, 0.52711093, ..., 0.00543953, 0.5165871 ,\n",
       "       0.00352451], dtype=float32)"
      ]
     },
     "execution_count": 11,
     "metadata": {},
     "output_type": "execute_result"
    }
   ],
   "source": [
    "Y_pred = siamese.predict([x_test_1, x_test_2]).squeeze()\n",
    "Y_pred"
   ]
  },
  {
   "cell_type": "code",
   "execution_count": 12,
   "id": "36581777",
   "metadata": {},
   "outputs": [
    {
     "data": {
      "text/plain": [
       "0.23415902"
      ]
     },
     "execution_count": 12,
     "metadata": {},
     "output_type": "execute_result"
    }
   ],
   "source": [
    "Y_pred.mean()"
   ]
  },
  {
   "cell_type": "code",
   "execution_count": 18,
   "id": "d1a7a1ac",
   "metadata": {},
   "outputs": [
    {
     "data": {
      "text/plain": [
       "array([False, False,  True, ..., False,  True, False])"
      ]
     },
     "execution_count": 18,
     "metadata": {},
     "output_type": "execute_result"
    }
   ],
   "source": [
    "# y_pred = np.argmax(Y_pred, axis=1)\n",
    "y_pred = Y_pred > 0.5\n",
    "y_pred"
   ]
  },
  {
   "cell_type": "code",
   "execution_count": 19,
   "id": "934e3302",
   "metadata": {},
   "outputs": [
    {
     "data": {
      "text/plain": [
       "array([1., 0., 1., ..., 0., 1., 0.], dtype=float32)"
      ]
     },
     "execution_count": 19,
     "metadata": {},
     "output_type": "execute_result"
    }
   ],
   "source": [
    "y_test = labels_test\n",
    "y_test"
   ]
  },
  {
   "cell_type": "code",
   "execution_count": 20,
   "id": "b3151112",
   "metadata": {},
   "outputs": [
    {
     "name": "stdout",
     "output_type": "stream",
     "text": [
      "\n",
      "Evaluate on test data\n",
      "Accuracy: 0.8263888888888888\n",
      "Precision: 0.8711340206185566\n",
      "Recall: 0.8263888888888888\n",
      "ROC AUC: 0.8263888888888888\n",
      "F1: 0.8209934861518572\n"
     ]
    }
   ],
   "source": [
    "print(\"\\nEvaluate on test data\")\n",
    "print(\"Accuracy:\", accuracy_score(y_test, y_pred))\n",
    "print(\"Precision:\", precision_score(y_test, y_pred, average='weighted'))\n",
    "print(\"Recall:\", recall_score(y_test, y_pred, average='weighted'))\n",
    "print(\"ROC AUC:\", roc_auc_score(y_test, y_pred, average='weighted'))\n",
    "print(\"F1:\", f1_score(y_test, y_pred, average='weighted'))"
   ]
  },
  {
   "cell_type": "code",
   "execution_count": 21,
   "id": "f2089133",
   "metadata": {},
   "outputs": [
    {
     "name": "stdout",
     "output_type": "stream",
     "text": [
      "Specificity: 1.0\n"
     ]
    }
   ],
   "source": [
    "cm = confusion_matrix(y_test, y_pred)    \n",
    "# cm_display = ConfusionMatrixDisplay(cm, labels_test).plot()\n",
    "\n",
    "tn, fp, fn, tp = cm.ravel()\n",
    "specificity = tn / (tn+fp)\n",
    "print(\"Specificity:\", specificity)"
   ]
  },
  {
   "cell_type": "code",
   "execution_count": 22,
   "id": "a10b0a3d",
   "metadata": {},
   "outputs": [],
   "source": [
    "tf.keras.backend.clear_session()"
   ]
  },
  {
   "cell_type": "code",
   "execution_count": null,
   "id": "9ca300cd",
   "metadata": {},
   "outputs": [],
   "source": []
  }
 ],
 "metadata": {
  "kernelspec": {
   "display_name": "Python 3 (ipykernel)",
   "language": "python",
   "name": "python3"
  },
  "language_info": {
   "codemirror_mode": {
    "name": "ipython",
    "version": 3
   },
   "file_extension": ".py",
   "mimetype": "text/x-python",
   "name": "python",
   "nbconvert_exporter": "python",
   "pygments_lexer": "ipython3",
   "version": "3.7.10"
  },
  "toc": {
   "base_numbering": 1,
   "nav_menu": {},
   "number_sections": true,
   "sideBar": true,
   "skip_h1_title": false,
   "title_cell": "Table of Contents",
   "title_sidebar": "Contents",
   "toc_cell": false,
   "toc_position": {},
   "toc_section_display": true,
   "toc_window_display": false
  },
  "varInspector": {
   "cols": {
    "lenName": 16,
    "lenType": 16,
    "lenVar": 40
   },
   "kernels_config": {
    "python": {
     "delete_cmd_postfix": "",
     "delete_cmd_prefix": "del ",
     "library": "var_list.py",
     "varRefreshCmd": "print(var_dic_list())"
    },
    "r": {
     "delete_cmd_postfix": ") ",
     "delete_cmd_prefix": "rm(",
     "library": "var_list.r",
     "varRefreshCmd": "cat(var_dic_list()) "
    }
   },
   "types_to_exclude": [
    "module",
    "function",
    "builtin_function_or_method",
    "instance",
    "_Feature"
   ],
   "window_display": false
  }
 },
 "nbformat": 4,
 "nbformat_minor": 5
}
