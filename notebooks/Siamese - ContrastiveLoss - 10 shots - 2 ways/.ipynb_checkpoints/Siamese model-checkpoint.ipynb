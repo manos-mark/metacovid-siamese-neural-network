{
 "cells": [
  {
   "cell_type": "code",
   "execution_count": 1,
   "id": "3c9bc068",
   "metadata": {},
   "outputs": [],
   "source": [
    "import utils\n",
    "\n",
    "import tensorflow as tf\n",
    "from tensorflow.keras.layers import Dense, Input, Flatten, Lambda\n",
    "from tensorflow.keras.models import Model\n",
    "from tensorflow.keras.optimizers import Adam\n",
    "from sklearn.metrics import confusion_matrix, ConfusionMatrixDisplay, accuracy_score, precision_score, recall_score, roc_auc_score, f1_score\n",
    "\n",
    "import numpy as np\n",
    "import os\n",
    "\n",
    "from tensorflow.keras.callbacks import EarlyStopping, ModelCheckpoint, ReduceLROnPlateau\n",
    "\n",
    "import logging"
   ]
  },
  {
   "cell_type": "code",
   "execution_count": 2,
   "id": "e0927a79",
   "metadata": {},
   "outputs": [
    {
     "name": "stdout",
     "output_type": "stream",
     "text": [
      "Using:\n",
      "\t• TensorFlow version: 2.1.0\n",
      "\t• tf.keras version: 2.2.4-tf\n",
      "\t• Running on GPU\n"
     ]
    }
   ],
   "source": [
    "logger = tf.get_logger()\n",
    "logger.setLevel(logging.ERROR)\n",
    "\n",
    "print('Using:')\n",
    "print('\\t\\u2022 TensorFlow version:', tf.__version__)\n",
    "print('\\t\\u2022 tf.keras version:', tf.keras.__version__)\n",
    "print('\\t\\u2022 Running on GPU' if tf.test.is_gpu_available() else '\\t\\u2022 GPU device not found. Running on CPU')"
   ]
  },
  {
   "cell_type": "code",
   "execution_count": 3,
   "id": "73f60667",
   "metadata": {},
   "outputs": [
    {
     "name": "stdout",
     "output_type": "stream",
     "text": [
      "Found 30 images belonging to 3 classes.\n",
      "The train set contains 30\n",
      "Found 30 images belonging to 3 classes.\n",
      "The valid set contains 30\n",
      "Found 648 images belonging to 3 classes.\n",
      "The test set contains 648\n"
     ]
    }
   ],
   "source": [
    "basedir = os.path.join(\"C:\\\\Users\\\\aktas\\\\Desktop\\\\VIBOT\\\\3.semester\\\\Meta-Learning\\\\project_final\\\\metacovid-siamese-neural-network\", \"dataset\", \"siamese\") \n",
    "\n",
    "train_image_list, train_y_list = utils.load_images(basedir, 'train', (100,100))\n",
    "print(\"The train set contains\",len(train_image_list)) \n",
    "\n",
    "valid_image_list, valid_y_list = utils.load_images(basedir, 'validation', (100,100))   \n",
    "print(\"The valid set contains\", len(valid_image_list))  \n",
    "\n",
    "test_image_list, test_y_list = utils.load_images(basedir, 'test', (100,100))   \n",
    "print(\"The test set contains\", len(test_image_list)) "
   ]
  },
  {
   "cell_type": "code",
   "execution_count": 4,
   "id": "a873fba7",
   "metadata": {},
   "outputs": [
    {
     "name": "stdout",
     "output_type": "stream",
     "text": [
      "number of pairs for training 60\n",
      "number of pairs for validation 60\n",
      "number of pairs for test 1296\n"
     ]
    }
   ],
   "source": [
    "# make train pairs\n",
    "pairs_train, labels_train = utils.make_pairs(train_image_list, train_y_list)\n",
    "\n",
    "# make validation pairs\n",
    "pairs_val, labels_val = utils.make_pairs(valid_image_list, valid_y_list)\n",
    "\n",
    "# make test pairs\n",
    "pairs_test, labels_test = utils.make_pairs(test_image_list, test_y_list)\n",
    "\n",
    "x_train_1 = pairs_train[:, 0]  \n",
    "x_train_2 = pairs_train[:, 1]\n",
    "print(\"number of pairs for training\", np.shape(x_train_1)[0]) \n",
    "\n",
    "x_val_1 = pairs_val[:, 0] \n",
    "x_val_2 = pairs_val[:, 1]\n",
    "print(\"number of pairs for validation\", np.shape(x_val_1)[0]) \n",
    "\n",
    "x_test_1 = pairs_test[:, 0] \n",
    "x_test_2 = pairs_test[:, 1]\n",
    "print(\"number of pairs for test\", np.shape(x_test_1)[0]) "
   ]
  },
  {
   "cell_type": "code",
   "execution_count": 5,
   "id": "8b9dade0",
   "metadata": {},
   "outputs": [
    {
     "name": "stdout",
     "output_type": "stream",
     "text": [
      "Model: \"model\"\n",
      "__________________________________________________________________________________________________\n",
      "Layer (type)                    Output Shape         Param #     Connected to                     \n",
      "==================================================================================================\n",
      "input_1 (InputLayer)            [(None, 100, 100, 3) 0                                            \n",
      "__________________________________________________________________________________________________\n",
      "input_2 (InputLayer)            [(None, 100, 100, 3) 0                                            \n",
      "__________________________________________________________________________________________________\n",
      "sequential (Sequential)         (None, 5120)         14748995    input_1[0][0]                    \n",
      "                                                                 input_2[0][0]                    \n",
      "__________________________________________________________________________________________________\n",
      "lambda (Lambda)                 (None, 1)            0           sequential[1][0]                 \n",
      "                                                                 sequential[2][0]                 \n",
      "__________________________________________________________________________________________________\n",
      "dense (Dense)                   (None, 1)            2           lambda[0][0]                     \n",
      "==================================================================================================\n",
      "Total params: 14,748,997\n",
      "Trainable params: 20,482\n",
      "Non-trainable params: 14,728,515\n",
      "__________________________________________________________________________________________________\n"
     ]
    }
   ],
   "source": [
    "tf.compat.v1.reset_default_graph()\n",
    "\n",
    "SIAMESE_MODEL_FNAME = 'siamese_network.h5'\n",
    "EMBEDDING_MODEL_FNAME = 'embedding_network2w.h5'\n",
    "\n",
    "input_1 = Input((100,100,3))\n",
    "input_2 = Input((100,100,3))\n",
    "\n",
    "embedding_network = tf.keras.models.load_model(EMBEDDING_MODEL_FNAME)\n",
    "embedding_network.trainable = False\n",
    "\n",
    "model = tf.keras.Sequential() \n",
    "for layer in embedding_network.layers:  \n",
    "    model.add(layer) \n",
    "\n",
    "model.add(Flatten(name='flat'))\n",
    "model.add(Dense(5120, name='den', activation='sigmoid', kernel_regularizer='l2')) \n",
    " \n",
    "output_1 = model(input_1) \n",
    "output_2 = model(input_2) \n",
    " \n",
    "merge_layer = Lambda(utils.manhattan_distance)([output_1, output_2]) \n",
    "output_layer = Dense(1, activation=\"sigmoid\")(merge_layer) \n",
    "siamese = Model(inputs=[input_1, input_2], outputs=output_layer) \n",
    "siamese.summary()"
   ]
  },
  {
   "cell_type": "code",
   "execution_count": 6,
   "id": "c8b4a648",
   "metadata": {},
   "outputs": [],
   "source": [
    "\"\"\" callbacks \"\"\"\n",
    "\n",
    "reduce_lr = ReduceLROnPlateau(monitor='val_loss', factor=0.2, patience=5, min_lr=0.00001)\n",
    "\n",
    "early_stopping = EarlyStopping(monitor='val_loss', patience=10, verbose=1, min_delta=0.0001)\n",
    "\n",
    "checkpointer = ModelCheckpoint(filepath='siamese_network.h5', verbose=1, \n",
    "                                save_best_only=True)"
   ]
  },
  {
   "cell_type": "code",
   "execution_count": 7,
   "id": "e5b21af7",
   "metadata": {},
   "outputs": [
    {
     "name": "stdout",
     "output_type": "stream",
     "text": [
      "Model: \"model\"\n",
      "__________________________________________________________________________________________________\n",
      "Layer (type)                    Output Shape         Param #     Connected to                     \n",
      "==================================================================================================\n",
      "input_1 (InputLayer)            [(None, 100, 100, 3) 0                                            \n",
      "__________________________________________________________________________________________________\n",
      "input_2 (InputLayer)            [(None, 100, 100, 3) 0                                            \n",
      "__________________________________________________________________________________________________\n",
      "sequential (Sequential)         (None, 5120)         14748995    input_1[0][0]                    \n",
      "                                                                 input_2[0][0]                    \n",
      "__________________________________________________________________________________________________\n",
      "lambda (Lambda)                 (None, 1)            0           sequential[1][0]                 \n",
      "                                                                 sequential[2][0]                 \n",
      "__________________________________________________________________________________________________\n",
      "dense (Dense)                   (None, 1)            2           lambda[0][0]                     \n",
      "==================================================================================================\n",
      "Total params: 14,748,997\n",
      "Trainable params: 20,482\n",
      "Non-trainable params: 14,728,515\n",
      "__________________________________________________________________________________________________\n",
      "Train on 60 samples, validate on 60 samples\n",
      "Epoch 1/175\n",
      "54/60 [==========================>...] - ETA: 0s - loss: 0.2280 - accuracy: 0.5741\n",
      "Epoch 00001: val_loss improved from inf to 0.31372, saving model to siamese_network.h5\n",
      "60/60 [==============================] - 4s 66ms/sample - loss: 0.2181 - accuracy: 0.6000 - val_loss: 0.3137 - val_accuracy: 0.5500\n",
      "Epoch 2/175\n",
      "54/60 [==========================>...] - ETA: 0s - loss: 0.1994 - accuracy: 0.5926\n",
      "Epoch 00002: val_loss improved from 0.31372 to 0.28498, saving model to siamese_network.h5\n",
      "60/60 [==============================] - 1s 21ms/sample - loss: 0.1955 - accuracy: 0.6167 - val_loss: 0.2850 - val_accuracy: 0.5500\n",
      "Epoch 3/175\n",
      "58/60 [============================>.] - ETA: 0s - loss: 0.1824 - accuracy: 0.6379\n",
      "Epoch 00003: val_loss improved from 0.28498 to 0.25892, saving model to siamese_network.h5\n",
      "60/60 [==============================] - 1s 21ms/sample - loss: 0.1770 - accuracy: 0.6500 - val_loss: 0.2589 - val_accuracy: 0.5667\n",
      "Epoch 4/175\n",
      "59/60 [============================>.] - ETA: 0s - loss: 0.1648 - accuracy: 0.6610\n",
      "Epoch 00004: val_loss improved from 0.25892 to 0.23773, saving model to siamese_network.h5\n",
      "60/60 [==============================] - 1s 22ms/sample - loss: 0.1623 - accuracy: 0.6667 - val_loss: 0.2377 - val_accuracy: 0.5667\n",
      "Epoch 5/175\n",
      "56/60 [===========================>..] - ETA: 0s - loss: 0.1475 - accuracy: 0.7500\n",
      "Epoch 00005: val_loss improved from 0.23773 to 0.21738, saving model to siamese_network.h5\n",
      "60/60 [==============================] - 1s 23ms/sample - loss: 0.1507 - accuracy: 0.7500 - val_loss: 0.2174 - val_accuracy: 0.5667\n",
      "Epoch 6/175\n",
      "56/60 [===========================>..] - ETA: 0s - loss: 0.1370 - accuracy: 0.8036\n",
      "Epoch 00006: val_loss improved from 0.21738 to 0.19809, saving model to siamese_network.h5\n",
      "60/60 [==============================] - 1s 22ms/sample - loss: 0.1417 - accuracy: 0.8000 - val_loss: 0.1981 - val_accuracy: 0.5833\n",
      "Epoch 7/175\n",
      "54/60 [==========================>...] - ETA: 0s - loss: 0.1396 - accuracy: 0.8519\n",
      "Epoch 00007: val_loss improved from 0.19809 to 0.18039, saving model to siamese_network.h5\n",
      "60/60 [==============================] - 1s 21ms/sample - loss: 0.1349 - accuracy: 0.8500 - val_loss: 0.1804 - val_accuracy: 0.6667\n",
      "Epoch 8/175\n",
      "59/60 [============================>.] - ETA: 0s - loss: 0.1293 - accuracy: 0.8814\n",
      "Epoch 00008: val_loss improved from 0.18039 to 0.16893, saving model to siamese_network.h5\n",
      "60/60 [==============================] - 1s 21ms/sample - loss: 0.1312 - accuracy: 0.8833 - val_loss: 0.1689 - val_accuracy: 0.7000\n",
      "Epoch 9/175\n",
      "55/60 [==========================>...] - ETA: 0s - loss: 0.1367 - accuracy: 0.9091\n",
      "Epoch 00009: val_loss did not improve from 0.16893\n",
      "60/60 [==============================] - 1s 20ms/sample - loss: 0.1296 - accuracy: 0.9167 - val_loss: 0.1727 - val_accuracy: 0.7000\n",
      "Epoch 10/175\n",
      "54/60 [==========================>...] - ETA: 0s - loss: 0.1332 - accuracy: 0.9259\n",
      "Epoch 00010: val_loss did not improve from 0.16893\n",
      "60/60 [==============================] - 1s 19ms/sample - loss: 0.1288 - accuracy: 0.9167 - val_loss: 0.1715 - val_accuracy: 0.7000\n",
      "Epoch 11/175\n",
      "58/60 [============================>.] - ETA: 0s - loss: 0.1278 - accuracy: 0.9138\n",
      "Epoch 00011: val_loss improved from 0.16893 to 0.16165, saving model to siamese_network.h5\n",
      "60/60 [==============================] - 1s 21ms/sample - loss: 0.1276 - accuracy: 0.9167 - val_loss: 0.1616 - val_accuracy: 0.7167\n",
      "Epoch 12/175\n",
      "57/60 [===========================>..] - ETA: 0s - loss: 0.1289 - accuracy: 0.9123\n",
      "Epoch 00012: val_loss improved from 0.16165 to 0.16120, saving model to siamese_network.h5\n",
      "60/60 [==============================] - 1s 21ms/sample - loss: 0.1265 - accuracy: 0.9167 - val_loss: 0.1612 - val_accuracy: 0.7167\n",
      "Epoch 13/175\n",
      "59/60 [============================>.] - ETA: 0s - loss: 0.1280 - accuracy: 0.9153\n",
      "Epoch 00013: val_loss did not improve from 0.16120\n",
      "60/60 [==============================] - 1s 20ms/sample - loss: 0.1259 - accuracy: 0.9167 - val_loss: 0.1715 - val_accuracy: 0.7167\n",
      "Epoch 14/175\n",
      "54/60 [==========================>...] - ETA: 0s - loss: 0.1252 - accuracy: 0.9259\n",
      "Epoch 00014: val_loss did not improve from 0.16120\n",
      "60/60 [==============================] - 1s 19ms/sample - loss: 0.1255 - accuracy: 0.9167 - val_loss: 0.1680 - val_accuracy: 0.7167\n",
      "Epoch 15/175\n",
      "55/60 [==========================>...] - ETA: 0s - loss: 0.1186 - accuracy: 0.9091\n",
      "Epoch 00015: val_loss did not improve from 0.16120\n",
      "60/60 [==============================] - 1s 19ms/sample - loss: 0.1245 - accuracy: 0.9167 - val_loss: 0.1634 - val_accuracy: 0.7167\n",
      "Epoch 16/175\n",
      "55/60 [==========================>...] - ETA: 0s - loss: 0.1256 - accuracy: 0.9273\n",
      "Epoch 00016: val_loss improved from 0.16120 to 0.16098, saving model to siamese_network.h5\n",
      "60/60 [==============================] - 1s 21ms/sample - loss: 0.1237 - accuracy: 0.9167 - val_loss: 0.1610 - val_accuracy: 0.7167\n",
      "Epoch 17/175\n",
      "55/60 [==========================>...] - ETA: 0s - loss: 0.1249 - accuracy: 0.9273\n",
      "Epoch 00017: val_loss improved from 0.16098 to 0.15977, saving model to siamese_network.h5\n",
      "60/60 [==============================] - 1s 21ms/sample - loss: 0.1231 - accuracy: 0.9167 - val_loss: 0.1598 - val_accuracy: 0.7167\n",
      "Epoch 18/175\n",
      "54/60 [==========================>...] - ETA: 0s - loss: 0.1231 - accuracy: 0.9074\n",
      "Epoch 00018: val_loss did not improve from 0.15977\n",
      "60/60 [==============================] - 1s 20ms/sample - loss: 0.1226 - accuracy: 0.9167 - val_loss: 0.1629 - val_accuracy: 0.7167\n",
      "Epoch 19/175\n",
      "59/60 [============================>.] - ETA: 0s - loss: 0.1203 - accuracy: 0.9153\n",
      "Epoch 00019: val_loss improved from 0.15977 to 0.15844, saving model to siamese_network.h5\n",
      "60/60 [==============================] - 1s 21ms/sample - loss: 0.1222 - accuracy: 0.9167 - val_loss: 0.1584 - val_accuracy: 0.7333\n",
      "Epoch 20/175\n",
      "58/60 [============================>.] - ETA: 0s - loss: 0.1211 - accuracy: 0.9310\n",
      "Epoch 00020: val_loss did not improve from 0.15844\n",
      "60/60 [==============================] - 1s 20ms/sample - loss: 0.1215 - accuracy: 0.9167 - val_loss: 0.1595 - val_accuracy: 0.7167\n",
      "Epoch 21/175\n",
      "56/60 [===========================>..] - ETA: 0s - loss: 0.1204 - accuracy: 0.9286\n",
      "Epoch 00021: val_loss did not improve from 0.15844\n",
      "60/60 [==============================] - 1s 20ms/sample - loss: 0.1208 - accuracy: 0.9167 - val_loss: 0.1614 - val_accuracy: 0.7167\n",
      "Epoch 22/175\n",
      "58/60 [============================>.] - ETA: 0s - loss: 0.1200 - accuracy: 0.9310\n",
      "Epoch 00022: val_loss did not improve from 0.15844\n",
      "60/60 [==============================] - 1s 20ms/sample - loss: 0.1206 - accuracy: 0.9167 - val_loss: 0.1658 - val_accuracy: 0.7167\n"
     ]
    },
    {
     "name": "stdout",
     "output_type": "stream",
     "text": [
      "Epoch 23/175\n",
      "59/60 [============================>.] - ETA: 0s - loss: 0.1222 - accuracy: 0.9153\n",
      "Epoch 00023: val_loss improved from 0.15844 to 0.15662, saving model to siamese_network.h5\n",
      "60/60 [==============================] - 1s 21ms/sample - loss: 0.1201 - accuracy: 0.9167 - val_loss: 0.1566 - val_accuracy: 0.7333\n",
      "Epoch 24/175\n",
      "56/60 [===========================>..] - ETA: 0s - loss: 0.1150 - accuracy: 0.9286\n",
      "Epoch 00024: val_loss did not improve from 0.15662\n",
      "60/60 [==============================] - 1s 20ms/sample - loss: 0.1193 - accuracy: 0.9167 - val_loss: 0.1589 - val_accuracy: 0.7500\n",
      "Epoch 25/175\n",
      "59/60 [============================>.] - ETA: 0s - loss: 0.1208 - accuracy: 0.9153\n",
      "Epoch 00025: val_loss improved from 0.15662 to 0.15613, saving model to siamese_network.h5\n",
      "60/60 [==============================] - 1s 21ms/sample - loss: 0.1188 - accuracy: 0.9167 - val_loss: 0.1561 - val_accuracy: 0.7500\n",
      "Epoch 26/175\n",
      "54/60 [==========================>...] - ETA: 0s - loss: 0.1147 - accuracy: 0.9074\n",
      "Epoch 00026: val_loss improved from 0.15613 to 0.15344, saving model to siamese_network.h5\n",
      "60/60 [==============================] - 1s 21ms/sample - loss: 0.1183 - accuracy: 0.9167 - val_loss: 0.1534 - val_accuracy: 0.7833\n",
      "Epoch 27/175\n",
      "54/60 [==========================>...] - ETA: 0s - loss: 0.1180 - accuracy: 0.9074\n",
      "Epoch 00027: val_loss did not improve from 0.15344\n",
      "60/60 [==============================] - 1s 20ms/sample - loss: 0.1176 - accuracy: 0.9167 - val_loss: 0.1596 - val_accuracy: 0.7500\n",
      "Epoch 28/175\n",
      "57/60 [===========================>..] - ETA: 0s - loss: 0.1194 - accuracy: 0.9123\n",
      "Epoch 00028: val_loss did not improve from 0.15344\n",
      "60/60 [==============================] - 1s 20ms/sample - loss: 0.1172 - accuracy: 0.9167 - val_loss: 0.1552 - val_accuracy: 0.7833\n",
      "Epoch 29/175\n",
      "56/60 [===========================>..] - ETA: 0s - loss: 0.1148 - accuracy: 0.9464\n",
      "Epoch 00029: val_loss did not improve from 0.15344\n",
      "60/60 [==============================] - 1s 20ms/sample - loss: 0.1167 - accuracy: 0.9167 - val_loss: 0.1554 - val_accuracy: 0.7833\n",
      "Epoch 30/175\n",
      "54/60 [==========================>...] - ETA: 0s - loss: 0.1208 - accuracy: 0.9074\n",
      "Epoch 00030: val_loss did not improve from 0.15344\n",
      "60/60 [==============================] - 1s 20ms/sample - loss: 0.1164 - accuracy: 0.9167 - val_loss: 0.1555 - val_accuracy: 0.7833\n",
      "Epoch 31/175\n",
      "57/60 [===========================>..] - ETA: 0s - loss: 0.1182 - accuracy: 0.9123\n",
      "Epoch 00031: val_loss did not improve from 0.15344\n",
      "60/60 [==============================] - 1s 20ms/sample - loss: 0.1160 - accuracy: 0.9167 - val_loss: 0.1551 - val_accuracy: 0.7833\n",
      "Epoch 32/175\n",
      "54/60 [==========================>...] - ETA: 0s - loss: 0.1109 - accuracy: 0.9259\n",
      "Epoch 00032: val_loss did not improve from 0.15344\n",
      "60/60 [==============================] - 1s 20ms/sample - loss: 0.1151 - accuracy: 0.9333 - val_loss: 0.1545 - val_accuracy: 0.7833\n",
      "Epoch 33/175\n",
      "57/60 [===========================>..] - ETA: 0s - loss: 0.1171 - accuracy: 0.9298\n",
      "Epoch 00033: val_loss did not improve from 0.15344\n",
      "60/60 [==============================] - 1s 20ms/sample - loss: 0.1150 - accuracy: 0.9333 - val_loss: 0.1536 - val_accuracy: 0.8000\n",
      "Epoch 34/175\n",
      "54/60 [==========================>...] - ETA: 0s - loss: 0.1072 - accuracy: 0.9259\n",
      "Epoch 00034: val_loss improved from 0.15344 to 0.15314, saving model to siamese_network.h5\n",
      "60/60 [==============================] - 1s 21ms/sample - loss: 0.1149 - accuracy: 0.9333 - val_loss: 0.1531 - val_accuracy: 0.8000\n",
      "Epoch 35/175\n",
      "58/60 [============================>.] - ETA: 0s - loss: 0.1187 - accuracy: 0.9310\n",
      "Epoch 00035: val_loss did not improve from 0.15314\n",
      "60/60 [==============================] - 1s 19ms/sample - loss: 0.1148 - accuracy: 0.9333 - val_loss: 0.1532 - val_accuracy: 0.8000\n",
      "Epoch 36/175\n",
      "59/60 [============================>.] - ETA: 0s - loss: 0.1167 - accuracy: 0.9322\n",
      "Epoch 00036: val_loss improved from 0.15314 to 0.15310, saving model to siamese_network.h5\n",
      "60/60 [==============================] - 1s 21ms/sample - loss: 0.1147 - accuracy: 0.9333 - val_loss: 0.1531 - val_accuracy: 0.8000\n",
      "Epoch 37/175\n",
      "59/60 [============================>.] - ETA: 0s - loss: 0.1165 - accuracy: 0.9322\n",
      "Epoch 00037: val_loss improved from 0.15310 to 0.15306, saving model to siamese_network.h5\n",
      "60/60 [==============================] - 1s 21ms/sample - loss: 0.1146 - accuracy: 0.9333 - val_loss: 0.1531 - val_accuracy: 0.8000\n",
      "Epoch 38/175\n",
      "57/60 [===========================>..] - ETA: 0s - loss: 0.1128 - accuracy: 0.9298\n",
      "Epoch 00038: val_loss did not improve from 0.15306\n",
      "60/60 [==============================] - 1s 20ms/sample - loss: 0.1145 - accuracy: 0.9333 - val_loss: 0.1536 - val_accuracy: 0.8000\n",
      "Epoch 39/175\n",
      "57/60 [===========================>..] - ETA: 0s - loss: 0.1107 - accuracy: 0.9649\n",
      "Epoch 00039: val_loss did not improve from 0.15306\n",
      "60/60 [==============================] - 1s 20ms/sample - loss: 0.1145 - accuracy: 0.9333 - val_loss: 0.1538 - val_accuracy: 0.8000\n",
      "Epoch 40/175\n",
      "56/60 [===========================>..] - ETA: 0s - loss: 0.1146 - accuracy: 0.9286\n",
      "Epoch 00040: val_loss improved from 0.15306 to 0.15244, saving model to siamese_network.h5\n",
      "60/60 [==============================] - 1s 22ms/sample - loss: 0.1143 - accuracy: 0.9333 - val_loss: 0.1524 - val_accuracy: 0.8000\n",
      "Epoch 41/175\n",
      "57/60 [===========================>..] - ETA: 0s - loss: 0.1164 - accuracy: 0.9298\n",
      "Epoch 00041: val_loss did not improve from 0.15244\n",
      "60/60 [==============================] - 1s 20ms/sample - loss: 0.1142 - accuracy: 0.9333 - val_loss: 0.1525 - val_accuracy: 0.8000\n",
      "Epoch 42/175\n",
      "55/60 [==========================>...] - ETA: 0s - loss: 0.1165 - accuracy: 0.9273\n",
      "Epoch 00042: val_loss improved from 0.15244 to 0.15216, saving model to siamese_network.h5\n",
      "60/60 [==============================] - 1s 21ms/sample - loss: 0.1142 - accuracy: 0.9333 - val_loss: 0.1522 - val_accuracy: 0.8000\n",
      "Epoch 43/175\n",
      "55/60 [==========================>...] - ETA: 0s - loss: 0.1110 - accuracy: 0.9455\n",
      "Epoch 00043: val_loss did not improve from 0.15216\n",
      "60/60 [==============================] - 1s 19ms/sample - loss: 0.1142 - accuracy: 0.9333 - val_loss: 0.1531 - val_accuracy: 0.8000\n",
      "Epoch 44/175\n",
      "54/60 [==========================>...] - ETA: 0s - loss: 0.1225 - accuracy: 0.9259\n",
      "Epoch 00044: val_loss did not improve from 0.15216\n",
      "60/60 [==============================] - 1s 20ms/sample - loss: 0.1141 - accuracy: 0.9333 - val_loss: 0.1523 - val_accuracy: 0.8000\n",
      "Epoch 45/175\n",
      "58/60 [============================>.] - ETA: 0s - loss: 0.1105 - accuracy: 0.9310\n",
      "Epoch 00045: val_loss did not improve from 0.15216\n",
      "60/60 [==============================] - 1s 20ms/sample - loss: 0.1141 - accuracy: 0.9333 - val_loss: 0.1525 - val_accuracy: 0.8000\n",
      "Epoch 46/175\n",
      "59/60 [============================>.] - ETA: 0s - loss: 0.1159 - accuracy: 0.9322\n",
      "Epoch 00046: val_loss did not improve from 0.15216\n",
      "60/60 [==============================] - 1s 19ms/sample - loss: 0.1140 - accuracy: 0.9333 - val_loss: 0.1523 - val_accuracy: 0.8000\n",
      "Epoch 47/175\n",
      "57/60 [===========================>..] - ETA: 0s - loss: 0.1122 - accuracy: 0.9298\n",
      "Epoch 00047: val_loss did not improve from 0.15216\n",
      "60/60 [==============================] - 1s 20ms/sample - loss: 0.1140 - accuracy: 0.9333 - val_loss: 0.1524 - val_accuracy: 0.8000\n",
      "Epoch 48/175\n",
      "57/60 [===========================>..] - ETA: 0s - loss: 0.1123 - accuracy: 0.9474\n",
      "Epoch 00048: val_loss did not improve from 0.15216\n",
      "60/60 [==============================] - 1s 20ms/sample - loss: 0.1139 - accuracy: 0.9500 - val_loss: 0.1524 - val_accuracy: 0.8000\n",
      "Epoch 49/175\n",
      "58/60 [============================>.] - ETA: 0s - loss: 0.1097 - accuracy: 0.9483\n",
      "Epoch 00049: val_loss did not improve from 0.15216\n",
      "60/60 [==============================] - 1s 20ms/sample - loss: 0.1139 - accuracy: 0.9333 - val_loss: 0.1525 - val_accuracy: 0.8000\n",
      "Epoch 50/175\n",
      "59/60 [============================>.] - ETA: 0s - loss: 0.1157 - accuracy: 0.9322\n",
      "Epoch 00050: val_loss improved from 0.15216 to 0.15194, saving model to siamese_network.h5\n",
      "60/60 [==============================] - 1s 21ms/sample - loss: 0.1138 - accuracy: 0.9333 - val_loss: 0.1519 - val_accuracy: 0.8000\n",
      "Epoch 51/175\n",
      "59/60 [============================>.] - ETA: 0s - loss: 0.1157 - accuracy: 0.9492\n",
      "Epoch 00051: val_loss did not improve from 0.15194\n",
      "60/60 [==============================] - 1s 19ms/sample - loss: 0.1138 - accuracy: 0.9500 - val_loss: 0.1520 - val_accuracy: 0.8000\n",
      "Epoch 52/175\n",
      "57/60 [===========================>..] - ETA: 0s - loss: 0.1115 - accuracy: 0.9474\n",
      "Epoch 00052: val_loss did not improve from 0.15194\n",
      "60/60 [==============================] - 1s 20ms/sample - loss: 0.1137 - accuracy: 0.9500 - val_loss: 0.1521 - val_accuracy: 0.8000\n",
      "Epoch 53/175\n",
      "57/60 [===========================>..] - ETA: 0s - loss: 0.1196 - accuracy: 0.9474\n",
      "Epoch 00053: val_loss did not improve from 0.15194\n",
      "60/60 [==============================] - 1s 20ms/sample - loss: 0.1137 - accuracy: 0.9500 - val_loss: 0.1520 - val_accuracy: 0.8000\n",
      "Epoch 54/175\n",
      "54/60 [==========================>...] - ETA: 0s - loss: 0.1215 - accuracy: 0.9630\n",
      "Epoch 00054: val_loss improved from 0.15194 to 0.15191, saving model to siamese_network.h5\n",
      "60/60 [==============================] - 1s 21ms/sample - loss: 0.1136 - accuracy: 0.9667 - val_loss: 0.1519 - val_accuracy: 0.8000\n",
      "Epoch 55/175\n",
      "58/60 [============================>.] - ETA: 0s - loss: 0.1174 - accuracy: 0.9655\n",
      "Epoch 00055: val_loss did not improve from 0.15191\n",
      "60/60 [==============================] - 1s 20ms/sample - loss: 0.1136 - accuracy: 0.9667 - val_loss: 0.1520 - val_accuracy: 0.8000\n",
      "Epoch 56/175\n",
      "59/60 [============================>.] - ETA: 0s - loss: 0.1118 - accuracy: 0.9492\n",
      "Epoch 00056: val_loss improved from 0.15191 to 0.15160, saving model to siamese_network.h5\n",
      "60/60 [==============================] - 1s 21ms/sample - loss: 0.1135 - accuracy: 0.9500 - val_loss: 0.1516 - val_accuracy: 0.8000\n",
      "Epoch 57/175\n",
      "58/60 [============================>.] - ETA: 0s - loss: 0.1136 - accuracy: 0.9483\n",
      "Epoch 00057: val_loss did not improve from 0.15160\n",
      "60/60 [==============================] - 1s 20ms/sample - loss: 0.1135 - accuracy: 0.9500 - val_loss: 0.1516 - val_accuracy: 0.8000\n",
      "Epoch 58/175\n",
      "58/60 [============================>.] - ETA: 0s - loss: 0.1173 - accuracy: 0.9655\n",
      "Epoch 00058: val_loss did not improve from 0.15160\n",
      "60/60 [==============================] - 1s 20ms/sample - loss: 0.1134 - accuracy: 0.9667 - val_loss: 0.1517 - val_accuracy: 0.8000\n",
      "Epoch 59/175\n",
      "54/60 [==========================>...] - ETA: 0s - loss: 0.1132 - accuracy: 0.9444\n",
      "Epoch 00059: val_loss did not improve from 0.15160\n",
      "60/60 [==============================] - 1s 20ms/sample - loss: 0.1134 - accuracy: 0.9500 - val_loss: 0.1516 - val_accuracy: 0.8000\n",
      "Epoch 60/175\n",
      "58/60 [============================>.] - ETA: 0s - loss: 0.1135 - accuracy: 0.9483\n",
      "Epoch 00060: val_loss did not improve from 0.15160\n",
      "60/60 [==============================] - 1s 19ms/sample - loss: 0.1134 - accuracy: 0.9500 - val_loss: 0.1517 - val_accuracy: 0.8000\n",
      "Epoch 61/175\n",
      "59/60 [============================>.] - ETA: 0s - loss: 0.1115 - accuracy: 0.9661\n",
      "Epoch 00061: val_loss did not improve from 0.15160\n",
      "60/60 [==============================] - 1s 20ms/sample - loss: 0.1133 - accuracy: 0.9667 - val_loss: 0.1521 - val_accuracy: 0.8000\n",
      "Epoch 62/175\n",
      "58/60 [============================>.] - ETA: 0s - loss: 0.1134 - accuracy: 0.9655\n",
      "Epoch 00062: val_loss improved from 0.15160 to 0.15129, saving model to siamese_network.h5\n",
      "60/60 [==============================] - 1s 21ms/sample - loss: 0.1132 - accuracy: 0.9667 - val_loss: 0.1513 - val_accuracy: 0.8000\n",
      "Epoch 63/175\n",
      "54/60 [==========================>...] - ETA: 0s - loss: 0.1096 - accuracy: 0.9630\n",
      "Epoch 00063: val_loss did not improve from 0.15129\n",
      "60/60 [==============================] - 1s 20ms/sample - loss: 0.1132 - accuracy: 0.9667 - val_loss: 0.1515 - val_accuracy: 0.8000\n",
      "Epoch 64/175\n",
      "57/60 [===========================>..] - ETA: 0s - loss: 0.1152 - accuracy: 0.9649\n",
      "Epoch 00064: val_loss did not improve from 0.15129\n",
      "60/60 [==============================] - 1s 20ms/sample - loss: 0.1131 - accuracy: 0.9667 - val_loss: 0.1515 - val_accuracy: 0.8000\n",
      "Epoch 65/175\n",
      "57/60 [===========================>..] - ETA: 0s - loss: 0.1190 - accuracy: 0.9474\n",
      "Epoch 00065: val_loss did not improve from 0.15129\n",
      "60/60 [==============================] - 1s 20ms/sample - loss: 0.1131 - accuracy: 0.9500 - val_loss: 0.1513 - val_accuracy: 0.8000\n",
      "Epoch 66/175\n",
      "58/60 [============================>.] - ETA: 0s - loss: 0.1131 - accuracy: 0.9655\n",
      "Epoch 00066: val_loss did not improve from 0.15129\n",
      "60/60 [==============================] - 1s 20ms/sample - loss: 0.1130 - accuracy: 0.9667 - val_loss: 0.1514 - val_accuracy: 0.8000\n",
      "Epoch 67/175\n",
      "59/60 [============================>.] - ETA: 0s - loss: 0.1113 - accuracy: 0.9661\n",
      "Epoch 00067: val_loss improved from 0.15129 to 0.15129, saving model to siamese_network.h5\n",
      "60/60 [==============================] - 1s 21ms/sample - loss: 0.1130 - accuracy: 0.9667 - val_loss: 0.1513 - val_accuracy: 0.8000\n",
      "Epoch 68/175\n",
      "54/60 [==========================>...] - ETA: 0s - loss: 0.1079 - accuracy: 0.9815\n",
      "Epoch 00068: val_loss did not improve from 0.15129\n",
      "60/60 [==============================] - 1s 20ms/sample - loss: 0.1130 - accuracy: 0.9667 - val_loss: 0.1516 - val_accuracy: 0.8000\n",
      "Epoch 69/175\n",
      "59/60 [============================>.] - ETA: 0s - loss: 0.1112 - accuracy: 0.9661\n",
      "Epoch 00069: val_loss did not improve from 0.15129\n",
      "60/60 [==============================] - 1s 20ms/sample - loss: 0.1129 - accuracy: 0.9667 - val_loss: 0.1514 - val_accuracy: 0.8000\n",
      "Epoch 70/175\n",
      "59/60 [============================>.] - ETA: 0s - loss: 0.1147 - accuracy: 0.9661\n",
      "Epoch 00070: val_loss improved from 0.15129 to 0.15083, saving model to siamese_network.h5\n",
      "60/60 [==============================] - 1s 21ms/sample - loss: 0.1129 - accuracy: 0.9667 - val_loss: 0.1508 - val_accuracy: 0.8000\n",
      "Epoch 71/175\n",
      "59/60 [============================>.] - ETA: 0s - loss: 0.1111 - accuracy: 0.9661\n",
      "Epoch 00071: val_loss did not improve from 0.15083\n",
      "60/60 [==============================] - 1s 20ms/sample - loss: 0.1128 - accuracy: 0.9667 - val_loss: 0.1510 - val_accuracy: 0.8000\n",
      "Epoch 72/175\n",
      "57/60 [===========================>..] - ETA: 0s - loss: 0.1149 - accuracy: 0.9649\n",
      "Epoch 00072: val_loss did not improve from 0.15083\n",
      "60/60 [==============================] - 1s 20ms/sample - loss: 0.1128 - accuracy: 0.9667 - val_loss: 0.1509 - val_accuracy: 0.8000\n",
      "Epoch 73/175\n",
      "59/60 [============================>.] - ETA: 0s - loss: 0.1104 - accuracy: 0.9661\n",
      "Epoch 00073: val_loss did not improve from 0.15083\n",
      "60/60 [==============================] - 1s 19ms/sample - loss: 0.1127 - accuracy: 0.9667 - val_loss: 0.1517 - val_accuracy: 0.8000\n",
      "Epoch 74/175\n",
      "54/60 [==========================>...] - ETA: 0s - loss: 0.1131 - accuracy: 0.9630\n",
      "Epoch 00074: val_loss improved from 0.15083 to 0.15063, saving model to siamese_network.h5\n",
      "60/60 [==============================] - 1s 21ms/sample - loss: 0.1127 - accuracy: 0.9667 - val_loss: 0.1506 - val_accuracy: 0.8000\n",
      "Epoch 75/175\n",
      "54/60 [==========================>...] - ETA: 0s - loss: 0.1091 - accuracy: 0.9630\n",
      "Epoch 00075: val_loss did not improve from 0.15063\n",
      "60/60 [==============================] - 1s 20ms/sample - loss: 0.1126 - accuracy: 0.9667 - val_loss: 0.1508 - val_accuracy: 0.8000\n",
      "Epoch 76/175\n",
      "57/60 [===========================>..] - ETA: 0s - loss: 0.1108 - accuracy: 0.9649\n",
      "Epoch 00076: val_loss did not improve from 0.15063\n",
      "60/60 [==============================] - 1s 20ms/sample - loss: 0.1126 - accuracy: 0.9667 - val_loss: 0.1511 - val_accuracy: 0.8000\n",
      "Epoch 77/175\n",
      "55/60 [==========================>...] - ETA: 0s - loss: 0.1097 - accuracy: 0.9636\n",
      "Epoch 00077: val_loss did not improve from 0.15063\n",
      "60/60 [==============================] - 1s 20ms/sample - loss: 0.1125 - accuracy: 0.9667 - val_loss: 0.1509 - val_accuracy: 0.8000\n",
      "Epoch 78/175\n",
      "58/60 [============================>.] - ETA: 0s - loss: 0.1126 - accuracy: 0.9655\n",
      "Epoch 00078: val_loss improved from 0.15063 to 0.15061, saving model to siamese_network.h5\n",
      "60/60 [==============================] - 1s 21ms/sample - loss: 0.1125 - accuracy: 0.9667 - val_loss: 0.1506 - val_accuracy: 0.8000\n",
      "Epoch 79/175\n",
      "56/60 [===========================>..] - ETA: 0s - loss: 0.1090 - accuracy: 0.9643\n",
      "Epoch 00079: val_loss did not improve from 0.15061\n",
      "60/60 [==============================] - 1s 20ms/sample - loss: 0.1124 - accuracy: 0.9667 - val_loss: 0.1508 - val_accuracy: 0.8000\n"
     ]
    },
    {
     "name": "stdout",
     "output_type": "stream",
     "text": [
      "Epoch 80/175\n",
      "55/60 [==========================>...] - ETA: 0s - loss: 0.1147 - accuracy: 0.9636\n",
      "Epoch 00080: val_loss did not improve from 0.15061\n",
      "60/60 [==============================] - 1s 20ms/sample - loss: 0.1124 - accuracy: 0.9667 - val_loss: 0.1511 - val_accuracy: 0.8000\n",
      "Epoch 81/175\n",
      "54/60 [==========================>...] - ETA: 0s - loss: 0.1192 - accuracy: 0.9815\n",
      "Epoch 00081: val_loss did not improve from 0.15061\n",
      "60/60 [==============================] - 1s 20ms/sample - loss: 0.1123 - accuracy: 0.9667 - val_loss: 0.1514 - val_accuracy: 0.8000\n",
      "Epoch 82/175\n",
      "58/60 [============================>.] - ETA: 0s - loss: 0.1124 - accuracy: 0.9655\n",
      "Epoch 00082: val_loss did not improve from 0.15061\n",
      "60/60 [==============================] - 1s 20ms/sample - loss: 0.1123 - accuracy: 0.9667 - val_loss: 0.1507 - val_accuracy: 0.8000\n",
      "Epoch 83/175\n",
      "57/60 [===========================>..] - ETA: 0s - loss: 0.1142 - accuracy: 0.9649\n",
      "Epoch 00083: val_loss improved from 0.15061 to 0.15034, saving model to siamese_network.h5\n",
      "60/60 [==============================] - 1s 21ms/sample - loss: 0.1122 - accuracy: 0.9667 - val_loss: 0.1503 - val_accuracy: 0.8000\n",
      "Epoch 84/175\n",
      "59/60 [============================>.] - ETA: 0s - loss: 0.1104 - accuracy: 0.9661\n",
      "Epoch 00084: val_loss did not improve from 0.15034\n",
      "60/60 [==============================] - 1s 20ms/sample - loss: 0.1122 - accuracy: 0.9667 - val_loss: 0.1514 - val_accuracy: 0.8000\n",
      "Epoch 85/175\n",
      "54/60 [==========================>...] - ETA: 0s - loss: 0.1158 - accuracy: 0.9630\n",
      "Epoch 00085: val_loss did not improve from 0.15034\n",
      "60/60 [==============================] - 1s 20ms/sample - loss: 0.1121 - accuracy: 0.9667 - val_loss: 0.1506 - val_accuracy: 0.8000\n",
      "Epoch 86/175\n",
      "59/60 [============================>.] - ETA: 0s - loss: 0.1102 - accuracy: 0.9661\n",
      "Epoch 00086: val_loss did not improve from 0.15034\n",
      "60/60 [==============================] - 1s 20ms/sample - loss: 0.1121 - accuracy: 0.9667 - val_loss: 0.1504 - val_accuracy: 0.8000\n",
      "Epoch 87/175\n",
      "56/60 [===========================>..] - ETA: 0s - loss: 0.1085 - accuracy: 0.9643\n",
      "Epoch 00087: val_loss did not improve from 0.15034\n",
      "60/60 [==============================] - 1s 20ms/sample - loss: 0.1120 - accuracy: 0.9667 - val_loss: 0.1505 - val_accuracy: 0.8000\n",
      "Epoch 88/175\n",
      "58/60 [============================>.] - ETA: 0s - loss: 0.1158 - accuracy: 0.9655\n",
      "Epoch 00088: val_loss improved from 0.15034 to 0.15024, saving model to siamese_network.h5\n",
      "60/60 [==============================] - 1s 21ms/sample - loss: 0.1120 - accuracy: 0.9667 - val_loss: 0.1502 - val_accuracy: 0.8000\n",
      "Epoch 89/175\n",
      "58/60 [============================>.] - ETA: 0s - loss: 0.1121 - accuracy: 0.9655\n",
      "Epoch 00089: val_loss did not improve from 0.15024\n",
      "60/60 [==============================] - 1s 20ms/sample - loss: 0.1120 - accuracy: 0.9667 - val_loss: 0.1507 - val_accuracy: 0.8000\n",
      "Epoch 90/175\n",
      "59/60 [============================>.] - ETA: 0s - loss: 0.1097 - accuracy: 0.9661\n",
      "Epoch 00090: val_loss did not improve from 0.15024\n",
      "60/60 [==============================] - 1s 20ms/sample - loss: 0.1119 - accuracy: 0.9667 - val_loss: 0.1512 - val_accuracy: 0.8000\n",
      "Epoch 91/175\n",
      "55/60 [==========================>...] - ETA: 0s - loss: 0.1180 - accuracy: 0.9636\n",
      "Epoch 00091: val_loss improved from 0.15024 to 0.14999, saving model to siamese_network.h5\n",
      "60/60 [==============================] - 1s 21ms/sample - loss: 0.1118 - accuracy: 0.9667 - val_loss: 0.1500 - val_accuracy: 0.8000\n",
      "Epoch 92/175\n",
      "56/60 [===========================>..] - ETA: 0s - loss: 0.1152 - accuracy: 0.9643\n",
      "Epoch 00092: val_loss did not improve from 0.14999\n",
      "60/60 [==============================] - 1s 20ms/sample - loss: 0.1118 - accuracy: 0.9667 - val_loss: 0.1500 - val_accuracy: 0.8000\n",
      "Epoch 93/175\n",
      "55/60 [==========================>...] - ETA: 0s - loss: 0.1063 - accuracy: 0.9636\n",
      "Epoch 00093: val_loss improved from 0.14999 to 0.14989, saving model to siamese_network.h5\n",
      "60/60 [==============================] - 1s 21ms/sample - loss: 0.1118 - accuracy: 0.9667 - val_loss: 0.1499 - val_accuracy: 0.8000\n",
      "Epoch 94/175\n",
      "55/60 [==========================>...] - ETA: 0s - loss: 0.1140 - accuracy: 0.9636\n",
      "Epoch 00094: val_loss improved from 0.14989 to 0.14982, saving model to siamese_network.h5\n",
      "60/60 [==============================] - 1s 21ms/sample - loss: 0.1117 - accuracy: 0.9667 - val_loss: 0.1498 - val_accuracy: 0.8000\n",
      "Epoch 95/175\n",
      "55/60 [==========================>...] - ETA: 0s - loss: 0.1139 - accuracy: 0.9636\n",
      "Epoch 00095: val_loss did not improve from 0.14982\n",
      "60/60 [==============================] - 1s 20ms/sample - loss: 0.1116 - accuracy: 0.9667 - val_loss: 0.1499 - val_accuracy: 0.8000\n",
      "Epoch 96/175\n",
      "57/60 [===========================>..] - ETA: 0s - loss: 0.1100 - accuracy: 0.9649\n",
      "Epoch 00096: val_loss did not improve from 0.14982\n",
      "60/60 [==============================] - 1s 20ms/sample - loss: 0.1116 - accuracy: 0.9667 - val_loss: 0.1499 - val_accuracy: 0.8000\n",
      "Epoch 97/175\n",
      "55/60 [==========================>...] - ETA: 0s - loss: 0.1138 - accuracy: 0.9636\n",
      "Epoch 00097: val_loss did not improve from 0.14982\n",
      "60/60 [==============================] - 1s 20ms/sample - loss: 0.1116 - accuracy: 0.9667 - val_loss: 0.1501 - val_accuracy: 0.8000\n",
      "Epoch 98/175\n",
      "54/60 [==========================>...] - ETA: 0s - loss: 0.1040 - accuracy: 0.9630\n",
      "Epoch 00098: val_loss did not improve from 0.14982\n",
      "60/60 [==============================] - 1s 20ms/sample - loss: 0.1115 - accuracy: 0.9667 - val_loss: 0.1501 - val_accuracy: 0.8000\n",
      "Epoch 99/175\n",
      "59/60 [============================>.] - ETA: 0s - loss: 0.1092 - accuracy: 0.9661\n",
      "Epoch 00099: val_loss did not improve from 0.14982\n",
      "60/60 [==============================] - 1s 20ms/sample - loss: 0.1115 - accuracy: 0.9667 - val_loss: 0.1501 - val_accuracy: 0.8000\n",
      "Epoch 100/175\n",
      "57/60 [===========================>..] - ETA: 0s - loss: 0.1060 - accuracy: 0.9649\n",
      "Epoch 00100: val_loss improved from 0.14982 to 0.14969, saving model to siamese_network.h5\n",
      "60/60 [==============================] - 1s 21ms/sample - loss: 0.1114 - accuracy: 0.9667 - val_loss: 0.1497 - val_accuracy: 0.8000\n",
      "Epoch 101/175\n",
      "54/60 [==========================>...] - ETA: 0s - loss: 0.1190 - accuracy: 0.9630\n",
      "Epoch 00101: val_loss improved from 0.14969 to 0.14956, saving model to siamese_network.h5\n",
      "60/60 [==============================] - 1s 21ms/sample - loss: 0.1114 - accuracy: 0.9667 - val_loss: 0.1496 - val_accuracy: 0.8000\n",
      "Epoch 102/175\n",
      "56/60 [===========================>..] - ETA: 0s - loss: 0.1110 - accuracy: 0.9643\n",
      "Epoch 00102: val_loss did not improve from 0.14956\n",
      "60/60 [==============================] - 1s 20ms/sample - loss: 0.1113 - accuracy: 0.9667 - val_loss: 0.1497 - val_accuracy: 0.8000\n",
      "Epoch 103/175\n",
      "58/60 [============================>.] - ETA: 0s - loss: 0.1077 - accuracy: 0.9655\n",
      "Epoch 00103: val_loss did not improve from 0.14956\n",
      "60/60 [==============================] - 1s 20ms/sample - loss: 0.1113 - accuracy: 0.9667 - val_loss: 0.1498 - val_accuracy: 0.8000\n",
      "Epoch 104/175\n",
      "54/60 [==========================>...] - ETA: 0s - loss: 0.1031 - accuracy: 0.9815\n",
      "Epoch 00104: val_loss did not improve from 0.14956\n",
      "60/60 [==============================] - 1s 20ms/sample - loss: 0.1112 - accuracy: 0.9833 - val_loss: 0.1497 - val_accuracy: 0.8000\n",
      "Epoch 105/175\n",
      "57/60 [===========================>..] - ETA: 0s - loss: 0.1095 - accuracy: 0.9825\n",
      "Epoch 00105: val_loss improved from 0.14956 to 0.14949, saving model to siamese_network.h5\n",
      "60/60 [==============================] - 1s 21ms/sample - loss: 0.1112 - accuracy: 0.9833 - val_loss: 0.1495 - val_accuracy: 0.8000\n",
      "Epoch 106/175\n",
      "56/60 [===========================>..] - ETA: 0s - loss: 0.1069 - accuracy: 0.9821\n",
      "Epoch 00106: val_loss did not improve from 0.14949\n",
      "60/60 [==============================] - 1s 20ms/sample - loss: 0.1111 - accuracy: 0.9667 - val_loss: 0.1495 - val_accuracy: 0.8000\n",
      "Epoch 107/175\n",
      "58/60 [============================>.] - ETA: 0s - loss: 0.1112 - accuracy: 0.9828\n",
      "Epoch 00107: val_loss improved from 0.14949 to 0.14948, saving model to siamese_network.h5\n",
      "60/60 [==============================] - 1s 21ms/sample - loss: 0.1111 - accuracy: 0.9833 - val_loss: 0.1495 - val_accuracy: 0.8000\n",
      "Epoch 108/175\n"
     ]
    },
    {
     "name": "stdout",
     "output_type": "stream",
     "text": [
      "55/60 [==========================>...] - ETA: 0s - loss: 0.1171 - accuracy: 0.9818\n",
      "Epoch 00108: val_loss did not improve from 0.14948\n",
      "60/60 [==============================] - 1s 20ms/sample - loss: 0.1110 - accuracy: 0.9833 - val_loss: 0.1495 - val_accuracy: 0.8000\n",
      "Epoch 109/175\n",
      "57/60 [===========================>..] - ETA: 0s - loss: 0.1130 - accuracy: 0.9649\n",
      "Epoch 00109: val_loss did not improve from 0.14948\n",
      "60/60 [==============================] - 1s 20ms/sample - loss: 0.1110 - accuracy: 0.9667 - val_loss: 0.1496 - val_accuracy: 0.8000\n",
      "Epoch 110/175\n",
      "55/60 [==========================>...] - ETA: 0s - loss: 0.1086 - accuracy: 0.9818\n",
      "Epoch 00110: val_loss did not improve from 0.14948\n",
      "60/60 [==============================] - 1s 20ms/sample - loss: 0.1109 - accuracy: 0.9667 - val_loss: 0.1497 - val_accuracy: 0.8000\n",
      "Epoch 111/175\n",
      "54/60 [==========================>...] - ETA: 0s - loss: 0.1028 - accuracy: 0.9815\n",
      "Epoch 00111: val_loss did not improve from 0.14948\n",
      "60/60 [==============================] - 1s 20ms/sample - loss: 0.1109 - accuracy: 0.9833 - val_loss: 0.1496 - val_accuracy: 0.8000\n",
      "Epoch 00111: early stopping\n"
     ]
    }
   ],
   "source": [
    "\"\"\" train the model \"\"\"\n",
    "\n",
    "optimizer = Adam(learning_rate=0.0001)\n",
    "siamese.compile(loss=utils.loss(1), optimizer=optimizer, metrics=[\"accuracy\"])\n",
    "# siamese.compile(loss='sparse_categorical_crossentropy', optimizer=optimizer, metrics=[\"accuracy\"])\n",
    "\n",
    "siamese.summary()\n",
    "history = siamese.fit([x_train_1, x_train_2],\n",
    "    labels_train,\n",
    "    validation_data=([x_val_1, x_val_2], labels_val),\n",
    "    batch_size=1,\n",
    "    epochs=175,   # 175 for contrastive 100 for cross ent\n",
    "    callbacks = [checkpointer, early_stopping, reduce_lr]\n",
    ")"
   ]
  },
  {
   "cell_type": "code",
   "execution_count": 8,
   "id": "5219b8e7",
   "metadata": {},
   "outputs": [
    {
     "data": {
      "image/png": "[encoded data removed]",
      "text/plain": [
       "<Figure size 432x288 with 1 Axes>"
      ]
     },
     "metadata": {
      "needs_background": "light"
     },
     "output_type": "display_data"
    }
   ],
   "source": [
    "# Plot the accuracy\n",
    "utils.plt_metric(history=history.history, metric=\"accuracy\", title=\"Model accuracy\")"
   ]
  },
  {
   "cell_type": "code",
   "execution_count": 9,
   "id": "bdb37692",
   "metadata": {},
   "outputs": [
    {
     "data": {
      "image/png": "[encoded data removed]",
      "text/plain": [
       "<Figure size 432x288 with 1 Axes>"
      ]
     },
     "metadata": {
      "needs_background": "light"
     },
     "output_type": "display_data"
    }
   ],
   "source": [
    "# Plot the constrastive loss\n",
    "utils.plt_metric(history=history.history, metric=\"loss\", title=\"Constrastive Loss\")"
   ]
  },
  {
   "cell_type": "code",
   "execution_count": 10,
   "id": "9ebb1ff4",
   "metadata": {},
   "outputs": [
    {
     "name": "stdout",
     "output_type": "stream",
     "text": [
      "1296/1296 [==============================] - 5s 4ms/sample - loss: 0.1266 - accuracy: 0.9066\n",
      "test loss, test acc: [0.1266104229438452, 0.9066358]\n"
     ]
    }
   ],
   "source": [
    "\"\"\" Test the model \"\"\"\n",
    "results = siamese.evaluate([x_test_1, x_test_2], labels_test)\n",
    "print(\"test loss, test acc:\", results)"
   ]
  },
  {
   "cell_type": "code",
   "execution_count": 11,
   "id": "be00d433",
   "metadata": {},
   "outputs": [
    {
     "data": {
      "text/plain": [
       "array([0.25254148, 0.16936485, 0.54041904, ..., 0.08060395, 0.5334354 ,\n",
       "       0.03527433], dtype=float32)"
      ]
     },
     "execution_count": 11,
     "metadata": {},
     "output_type": "execute_result"
    }
   ],
   "source": [
    "Y_pred = siamese.predict([x_test_1, x_test_2]).squeeze()\n",
    "Y_pred"
   ]
  },
  {
   "cell_type": "code",
   "execution_count": 12,
   "id": "e4ec4ccb",
   "metadata": {},
   "outputs": [
    {
     "data": {
      "text/plain": [
       "array([False, False,  True, ..., False,  True, False])"
      ]
     },
     "execution_count": 12,
     "metadata": {},
     "output_type": "execute_result"
    }
   ],
   "source": [
    "# y_pred = np.argmax(Y_pred, axis=1)\n",
    "y_pred = Y_pred > .5\n",
    "y_pred"
   ]
  },
  {
   "cell_type": "code",
   "execution_count": 13,
   "id": "6f3303c6",
   "metadata": {},
   "outputs": [
    {
     "data": {
      "text/plain": [
       "array([1., 0., 1., ..., 0., 1., 0.], dtype=float32)"
      ]
     },
     "execution_count": 13,
     "metadata": {},
     "output_type": "execute_result"
    }
   ],
   "source": [
    "y_test = labels_test\n",
    "y_test"
   ]
  },
  {
   "cell_type": "code",
   "execution_count": 14,
   "id": "2c08c7b8",
   "metadata": {},
   "outputs": [
    {
     "name": "stdout",
     "output_type": "stream",
     "text": [
      "\n",
      "Evaluate on test data\n",
      "Accuracy: 0.9066358024691358\n",
      "Precision: 0.9213263979193758\n",
      "Recall: 0.9066358024691358\n",
      "ROC AUC: 0.9066358024691358\n",
      "F1: 0.9058148020240544\n"
     ]
    }
   ],
   "source": [
    "print(\"\\nEvaluate on test data\")\n",
    "print(\"Accuracy:\", accuracy_score(y_test, y_pred))\n",
    "print(\"Precision:\", precision_score(y_test, y_pred, average='weighted'))\n",
    "print(\"Recall:\", recall_score(y_test, y_pred, average='weighted'))\n",
    "print(\"ROC AUC:\", roc_auc_score(y_test, y_pred, average='weighted'))\n",
    "print(\"F1:\", f1_score(y_test, y_pred, average='weighted'))"
   ]
  },
  {
   "cell_type": "code",
   "execution_count": 15,
   "id": "3661b5ee",
   "metadata": {},
   "outputs": [
    {
     "name": "stdout",
     "output_type": "stream",
     "text": [
      "Specificity: 1.0\n"
     ]
    }
   ],
   "source": [
    "cm = confusion_matrix(y_test, y_pred)    \n",
    "# cm_display = ConfusionMatrixDisplay(cm, labels_test).plot()\n",
    "\n",
    "tn, fp, fn, tp = cm.ravel()\n",
    "specificity = tn / (tn+fp)\n",
    "print(\"Specificity:\", specificity)"
   ]
  },
  {
   "cell_type": "code",
   "execution_count": 16,
   "id": "10419799",
   "metadata": {},
   "outputs": [],
   "source": [
    "tf.keras.backend.clear_session()"
   ]
  },
  {
   "cell_type": "code",
   "execution_count": null,
   "id": "fc7ff4ae",
   "metadata": {},
   "outputs": [],
   "source": []
  }
 ],
 "metadata": {
  "kernelspec": {
   "display_name": "Python 3 (ipykernel)",
   "language": "python",
   "name": "python3"
  },
  "language_info": {
   "codemirror_mode": {
    "name": "ipython",
    "version": 3
   },
   "file_extension": ".py",
   "mimetype": "text/x-python",
   "name": "python",
   "nbconvert_exporter": "python",
   "pygments_lexer": "ipython3",
   "version": "3.7.10"
  },
  "toc": {
   "base_numbering": 1,
   "nav_menu": {},
   "number_sections": true,
   "sideBar": true,
   "skip_h1_title": false,
   "title_cell": "Table of Contents",
   "title_sidebar": "Contents",
   "toc_cell": false,
   "toc_position": {},
   "toc_section_display": true,
   "toc_window_display": false
  },
  "varInspector": {
   "cols": {
    "lenName": 16,
    "lenType": 16,
    "lenVar": 40
   },
   "kernels_config": {
    "python": {
     "delete_cmd_postfix": "",
     "delete_cmd_prefix": "del ",
     "library": "var_list.py",
     "varRefreshCmd": "print(var_dic_list())"
    },
    "r": {
     "delete_cmd_postfix": ") ",
     "delete_cmd_prefix": "rm(",
     "library": "var_list.r",
     "varRefreshCmd": "cat(var_dic_list()) "
    }
   },
   "types_to_exclude": [
    "module",
    "function",
    "builtin_function_or_method",
    "instance",
    "_Feature"
   ],
   "window_display": false
  }
 },
 "nbformat": 4,
 "nbformat_minor": 5
}
