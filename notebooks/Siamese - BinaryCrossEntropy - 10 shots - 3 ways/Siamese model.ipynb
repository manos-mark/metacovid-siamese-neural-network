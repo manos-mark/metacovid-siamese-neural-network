{
 "cells": [
  {
   "cell_type": "code",
   "execution_count": 1,
   "id": "3c9bc068",
   "metadata": {},
   "outputs": [],
   "source": [
    "import utils\n",
    "\n",
    "import tensorflow as tf\n",
    "from tensorflow.keras.layers import Dense, Input, Flatten, Lambda\n",
    "from tensorflow.keras.models import Model\n",
    "from tensorflow.keras.optimizers import Adam\n",
    "from sklearn.metrics import confusion_matrix, ConfusionMatrixDisplay, accuracy_score, precision_score, recall_score, roc_auc_score, f1_score\n",
    "\n",
    "import numpy as np\n",
    "import os\n",
    "\n",
    "from tensorflow.keras.callbacks import EarlyStopping, ModelCheckpoint, ReduceLROnPlateau\n",
    "\n",
    "import logging"
   ]
  },
  {
   "cell_type": "code",
   "execution_count": 2,
   "id": "e0927a79",
   "metadata": {},
   "outputs": [
    {
     "name": "stdout",
     "output_type": "stream",
     "text": [
      "Using:\n",
      "\t• TensorFlow version: 2.1.0\n",
      "\t• tf.keras version: 2.2.4-tf\n",
      "\t• Running on GPU\n"
     ]
    }
   ],
   "source": [
    "logger = tf.get_logger()\n",
    "logger.setLevel(logging.ERROR)\n",
    "\n",
    "print('Using:')\n",
    "print('\\t\\u2022 TensorFlow version:', tf.__version__)\n",
    "print('\\t\\u2022 tf.keras version:', tf.keras.__version__)\n",
    "print('\\t\\u2022 Running on GPU' if tf.test.is_gpu_available() else '\\t\\u2022 GPU device not found. Running on CPU')"
   ]
  },
  {
   "cell_type": "code",
   "execution_count": 4,
   "id": "73f60667",
   "metadata": {},
   "outputs": [
    {
     "name": "stdout",
     "output_type": "stream",
     "text": [
      "Found 30 images belonging to 3 classes.\n",
      "The train set contains 30\n",
      "Found 30 images belonging to 3 classes.\n",
      "The valid set contains 30\n",
      "Found 648 images belonging to 3 classes.\n",
      "The test set contains 648\n"
     ]
    }
   ],
   "source": [
    "basedir = os.path.join(\"C:\\\\Users\\\\aktas\\\\Desktop\\\\VIBOT\\\\3.semester\\\\Meta-Learning\\\\project_final\\\\metacovid-siamese-neural-network\", \"dataset\", \"siamese\") \n",
    "\n",
    "train_image_list, train_y_list = utils.load_images(basedir, 'train', (100,100))\n",
    "print(\"The train set contains\",len(train_image_list)) \n",
    "\n",
    "valid_image_list, valid_y_list = utils.load_images(basedir, 'validation', (100,100))   \n",
    "print(\"The valid set contains\", len(valid_image_list))  \n",
    "\n",
    "test_image_list, test_y_list = utils.load_images(basedir, 'test', (100,100))   \n",
    "print(\"The test set contains\", len(test_image_list)) "
   ]
  },
  {
   "cell_type": "code",
   "execution_count": 5,
   "id": "a873fba7",
   "metadata": {},
   "outputs": [
    {
     "name": "stdout",
     "output_type": "stream",
     "text": [
      "number of pairs for training 60\n",
      "number of pairs for validation 60\n",
      "number of pairs for test 1296\n"
     ]
    }
   ],
   "source": [
    "# make train pairs\n",
    "pairs_train, labels_train = utils.make_pairs(train_image_list, train_y_list)\n",
    "\n",
    "# make validation pairs\n",
    "pairs_val, labels_val = utils.make_pairs(valid_image_list, valid_y_list)\n",
    "\n",
    "# make test pairs\n",
    "pairs_test, labels_test = utils.make_pairs(test_image_list, test_y_list)\n",
    "\n",
    "x_train_1 = pairs_train[:, 0]  \n",
    "x_train_2 = pairs_train[:, 1]\n",
    "print(\"number of pairs for training\", np.shape(x_train_1)[0]) \n",
    "\n",
    "x_val_1 = pairs_val[:, 0] \n",
    "x_val_2 = pairs_val[:, 1]\n",
    "print(\"number of pairs for validation\", np.shape(x_val_1)[0]) \n",
    "\n",
    "x_test_1 = pairs_test[:, 0] \n",
    "x_test_2 = pairs_test[:, 1]\n",
    "print(\"number of pairs for test\", np.shape(x_test_1)[0]) "
   ]
  },
  {
   "cell_type": "code",
   "execution_count": 6,
   "id": "8b9dade0",
   "metadata": {},
   "outputs": [
    {
     "name": "stdout",
     "output_type": "stream",
     "text": [
      "Model: \"model\"\n",
      "__________________________________________________________________________________________________\n",
      "Layer (type)                    Output Shape         Param #     Connected to                     \n",
      "==================================================================================================\n",
      "input_1 (InputLayer)            [(None, 100, 100, 3) 0                                            \n",
      "__________________________________________________________________________________________________\n",
      "input_2 (InputLayer)            [(None, 100, 100, 3) 0                                            \n",
      "__________________________________________________________________________________________________\n",
      "sequential (Sequential)         (None, 5120)         14748995    input_1[0][0]                    \n",
      "                                                                 input_2[0][0]                    \n",
      "__________________________________________________________________________________________________\n",
      "lambda (Lambda)                 (None, 1)            0           sequential[1][0]                 \n",
      "                                                                 sequential[2][0]                 \n",
      "__________________________________________________________________________________________________\n",
      "dense (Dense)                   (None, 1)            2           lambda[0][0]                     \n",
      "==================================================================================================\n",
      "Total params: 14,748,997\n",
      "Trainable params: 20,482\n",
      "Non-trainable params: 14,728,515\n",
      "__________________________________________________________________________________________________\n"
     ]
    }
   ],
   "source": [
    "tf.compat.v1.reset_default_graph()\n",
    "\n",
    "SIAMESE_MODEL_FNAME = 'siamese_network.h5'\n",
    "EMBEDDING_MODEL_FNAME = 'embedding_network.h5'\n",
    "\n",
    "input_1 = Input((100,100,3))\n",
    "input_2 = Input((100,100,3))\n",
    "\n",
    "embedding_network = tf.keras.models.load_model(EMBEDDING_MODEL_FNAME)\n",
    "embedding_network.trainable = False\n",
    "\n",
    "model = tf.keras.Sequential() \n",
    "for layer in embedding_network.layers:  \n",
    "    model.add(layer) \n",
    "\n",
    "model.add(Flatten(name='flat'))\n",
    "model.add(Dense(5120, name='den', activation='sigmoid', kernel_regularizer='l2')) \n",
    " \n",
    "output_1 = model(input_1) \n",
    "output_2 = model(input_2) \n",
    " \n",
    "merge_layer = Lambda(utils.manhattan_distance)([output_1, output_2]) \n",
    "output_layer = Dense(1, activation=\"sigmoid\")(merge_layer) \n",
    "siamese = Model(inputs=[input_1, input_2], outputs=output_layer) \n",
    "siamese.summary()"
   ]
  },
  {
   "cell_type": "code",
   "execution_count": 7,
   "id": "c8b4a648",
   "metadata": {},
   "outputs": [],
   "source": [
    "\"\"\" callbacks \"\"\"\n",
    "\n",
    "reduce_lr = ReduceLROnPlateau(monitor='val_loss', factor=0.2, patience=5, min_lr=0.00001)\n",
    "\n",
    "early_stopping = EarlyStopping(monitor='val_loss', patience=10, verbose=1, min_delta=0.0001)\n",
    "\n",
    "checkpointer = ModelCheckpoint(filepath='siamese_network.h5', verbose=1, \n",
    "                                save_best_only=True)"
   ]
  },
  {
   "cell_type": "code",
   "execution_count": 10,
   "id": "e5b21af7",
   "metadata": {},
   "outputs": [
    {
     "name": "stdout",
     "output_type": "stream",
     "text": [
      "Model: \"model\"\n",
      "__________________________________________________________________________________________________\n",
      "Layer (type)                    Output Shape         Param #     Connected to                     \n",
      "==================================================================================================\n",
      "input_1 (InputLayer)            [(None, 100, 100, 3) 0                                            \n",
      "__________________________________________________________________________________________________\n",
      "input_2 (InputLayer)            [(None, 100, 100, 3) 0                                            \n",
      "__________________________________________________________________________________________________\n",
      "sequential (Sequential)         (None, 5120)         14748995    input_1[0][0]                    \n",
      "                                                                 input_2[0][0]                    \n",
      "__________________________________________________________________________________________________\n",
      "lambda (Lambda)                 (None, 1)            0           sequential[1][0]                 \n",
      "                                                                 sequential[2][0]                 \n",
      "__________________________________________________________________________________________________\n",
      "dense (Dense)                   (None, 1)            2           lambda[0][0]                     \n",
      "==================================================================================================\n",
      "Total params: 14,748,997\n",
      "Trainable params: 20,482\n",
      "Non-trainable params: 14,728,515\n",
      "__________________________________________________________________________________________________\n",
      "Train on 60 samples, validate on 60 samples\n",
      "Epoch 1/100\n",
      "55/60 [==========================>...] - ETA: 0s - loss: 0.6382 - accuracy: 0.5636\n",
      "Epoch 00001: val_loss improved from inf to 0.63120, saving model to siamese_network.h5\n",
      "60/60 [==============================] - 4s 67ms/sample - loss: 0.6350 - accuracy: 0.5500 - val_loss: 0.6312 - val_accuracy: 0.6000\n",
      "Epoch 2/100\n",
      "55/60 [==========================>...] - ETA: 0s - loss: 0.6118 - accuracy: 0.6727\n",
      "Epoch 00002: val_loss improved from 0.63120 to 0.61951, saving model to siamese_network.h5\n",
      "60/60 [==============================] - 1s 21ms/sample - loss: 0.6175 - accuracy: 0.6833 - val_loss: 0.6195 - val_accuracy: 0.6500\n",
      "Epoch 3/100\n",
      "54/60 [==========================>...] - ETA: 0s - loss: 0.6094 - accuracy: 0.7407\n",
      "Epoch 00003: val_loss improved from 0.61951 to 0.61371, saving model to siamese_network.h5\n",
      "60/60 [==============================] - 1s 20ms/sample - loss: 0.6090 - accuracy: 0.7500 - val_loss: 0.6137 - val_accuracy: 0.7000\n",
      "Epoch 4/100\n",
      "55/60 [==========================>...] - ETA: 0s - loss: 0.6068 - accuracy: 0.8364\n",
      "Epoch 00004: val_loss improved from 0.61371 to 0.61057, saving model to siamese_network.h5\n",
      "60/60 [==============================] - 1s 21ms/sample - loss: 0.6048 - accuracy: 0.8333 - val_loss: 0.6106 - val_accuracy: 0.7000\n",
      "Epoch 5/100\n",
      "58/60 [============================>.] - ETA: 0s - loss: 0.6066 - accuracy: 0.8621\n",
      "Epoch 00005: val_loss improved from 0.61057 to 0.60875, saving model to siamese_network.h5\n",
      "60/60 [==============================] - 1s 21ms/sample - loss: 0.6025 - accuracy: 0.8667 - val_loss: 0.6087 - val_accuracy: 0.7167\n",
      "Epoch 6/100\n",
      "55/60 [==========================>...] - ETA: 0s - loss: 0.6118 - accuracy: 0.8909\n",
      "Epoch 00006: val_loss improved from 0.60875 to 0.60774, saving model to siamese_network.h5\n",
      "60/60 [==============================] - 1s 21ms/sample - loss: 0.6011 - accuracy: 0.8667 - val_loss: 0.6077 - val_accuracy: 0.7333\n",
      "Epoch 7/100\n",
      "55/60 [==========================>...] - ETA: 0s - loss: 0.5975 - accuracy: 0.9091\n",
      "Epoch 00007: val_loss improved from 0.60774 to 0.60690, saving model to siamese_network.h5\n",
      "60/60 [==============================] - 1s 21ms/sample - loss: 0.6001 - accuracy: 0.9000 - val_loss: 0.6069 - val_accuracy: 0.7333\n",
      "Epoch 8/100\n",
      "59/60 [============================>.] - ETA: 0s - loss: 0.5974 - accuracy: 0.8983\n",
      "Epoch 00008: val_loss improved from 0.60690 to 0.60632, saving model to siamese_network.h5\n",
      "60/60 [==============================] - 1s 21ms/sample - loss: 0.5994 - accuracy: 0.9000 - val_loss: 0.6063 - val_accuracy: 0.7833\n",
      "Epoch 9/100\n",
      "55/60 [==========================>...] - ETA: 0s - loss: 0.5884 - accuracy: 0.8909\n",
      "Epoch 00009: val_loss improved from 0.60632 to 0.60590, saving model to siamese_network.h5\n",
      "60/60 [==============================] - 1s 21ms/sample - loss: 0.5989 - accuracy: 0.9000 - val_loss: 0.6059 - val_accuracy: 0.7833\n",
      "Epoch 10/100\n",
      "59/60 [============================>.] - ETA: 0s - loss: 0.5964 - accuracy: 0.9153\n",
      "Epoch 00010: val_loss improved from 0.60590 to 0.60536, saving model to siamese_network.h5\n",
      "60/60 [==============================] - 1s 21ms/sample - loss: 0.5983 - accuracy: 0.9167 - val_loss: 0.6054 - val_accuracy: 0.8000\n",
      "Epoch 11/100\n",
      "58/60 [============================>.] - ETA: 0s - loss: 0.5980 - accuracy: 0.9138\n",
      "Epoch 00011: val_loss improved from 0.60536 to 0.60495, saving model to siamese_network.h5\n",
      "60/60 [==============================] - 1s 21ms/sample - loss: 0.5979 - accuracy: 0.9167 - val_loss: 0.6050 - val_accuracy: 0.8000\n",
      "Epoch 12/100\n",
      "56/60 [===========================>..] - ETA: 0s - loss: 0.5975 - accuracy: 0.9107\n",
      "Epoch 00012: val_loss improved from 0.60495 to 0.60459, saving model to siamese_network.h5\n",
      "60/60 [==============================] - 1s 21ms/sample - loss: 0.5975 - accuracy: 0.9167 - val_loss: 0.6046 - val_accuracy: 0.8000\n",
      "Epoch 13/100\n",
      "59/60 [============================>.] - ETA: 0s - loss: 0.5951 - accuracy: 0.9153\n",
      "Epoch 00013: val_loss improved from 0.60459 to 0.60418, saving model to siamese_network.h5\n",
      "60/60 [==============================] - 1s 21ms/sample - loss: 0.5970 - accuracy: 0.9167 - val_loss: 0.6042 - val_accuracy: 0.8167\n",
      "Epoch 14/100\n",
      "54/60 [==========================>...] - ETA: 0s - loss: 0.6098 - accuracy: 0.9074\n",
      "Epoch 00014: val_loss improved from 0.60418 to 0.60388, saving model to siamese_network.h5\n",
      "60/60 [==============================] - 1s 21ms/sample - loss: 0.5967 - accuracy: 0.9167 - val_loss: 0.6039 - val_accuracy: 0.8333\n",
      "Epoch 15/100\n",
      "54/60 [==========================>...] - ETA: 0s - loss: 0.5967 - accuracy: 0.9074\n",
      "Epoch 00015: val_loss improved from 0.60388 to 0.60339, saving model to siamese_network.h5\n",
      "60/60 [==============================] - 1s 21ms/sample - loss: 0.5965 - accuracy: 0.9167 - val_loss: 0.6034 - val_accuracy: 0.8333\n",
      "Epoch 16/100\n",
      "57/60 [===========================>..] - ETA: 0s - loss: 0.5942 - accuracy: 0.9123\n",
      "Epoch 00016: val_loss improved from 0.60339 to 0.60326, saving model to siamese_network.h5\n",
      "60/60 [==============================] - 1s 21ms/sample - loss: 0.5960 - accuracy: 0.9167 - val_loss: 0.6033 - val_accuracy: 0.8333\n",
      "Epoch 17/100\n",
      "57/60 [===========================>..] - ETA: 0s - loss: 0.5978 - accuracy: 0.9298\n",
      "Epoch 00017: val_loss improved from 0.60326 to 0.60285, saving model to siamese_network.h5\n",
      "60/60 [==============================] - 1s 21ms/sample - loss: 0.5956 - accuracy: 0.9333 - val_loss: 0.6029 - val_accuracy: 0.8333\n",
      "Epoch 18/100\n",
      "59/60 [============================>.] - ETA: 0s - loss: 0.5934 - accuracy: 0.9322\n",
      "Epoch 00018: val_loss improved from 0.60285 to 0.60234, saving model to siamese_network.h5\n",
      "60/60 [==============================] - 1s 21ms/sample - loss: 0.5953 - accuracy: 0.9333 - val_loss: 0.6023 - val_accuracy: 0.8333\n",
      "Epoch 19/100\n",
      "57/60 [===========================>..] - ETA: 0s - loss: 0.6012 - accuracy: 0.9298\n",
      "Epoch 00019: val_loss improved from 0.60234 to 0.60217, saving model to siamese_network.h5\n",
      "60/60 [==============================] - 1s 21ms/sample - loss: 0.5950 - accuracy: 0.9333 - val_loss: 0.6022 - val_accuracy: 0.8333\n",
      "Epoch 20/100\n",
      "57/60 [===========================>..] - ETA: 0s - loss: 0.5927 - accuracy: 0.9298\n",
      "Epoch 00020: val_loss improved from 0.60217 to 0.60182, saving model to siamese_network.h5\n",
      "60/60 [==============================] - 1s 21ms/sample - loss: 0.5947 - accuracy: 0.9333 - val_loss: 0.6018 - val_accuracy: 0.8333\n",
      "Epoch 21/100\n",
      "57/60 [===========================>..] - ETA: 0s - loss: 0.5923 - accuracy: 0.9298\n",
      "Epoch 00021: val_loss improved from 0.60182 to 0.60146, saving model to siamese_network.h5\n",
      "60/60 [==============================] - 1s 21ms/sample - loss: 0.5943 - accuracy: 0.9333 - val_loss: 0.6015 - val_accuracy: 0.8333\n"
     ]
    },
    {
     "name": "stdout",
     "output_type": "stream",
     "text": [
      "Epoch 22/100\n",
      "59/60 [============================>.] - ETA: 0s - loss: 0.5920 - accuracy: 0.9322\n",
      "Epoch 00022: val_loss improved from 0.60146 to 0.60117, saving model to siamese_network.h5\n",
      "60/60 [==============================] - 1s 21ms/sample - loss: 0.5940 - accuracy: 0.9333 - val_loss: 0.6012 - val_accuracy: 0.8333\n",
      "Epoch 23/100\n",
      "55/60 [==========================>...] - ETA: 0s - loss: 0.5909 - accuracy: 0.9636\n",
      "Epoch 00023: val_loss improved from 0.60117 to 0.60078, saving model to siamese_network.h5\n",
      "60/60 [==============================] - 1s 22ms/sample - loss: 0.5938 - accuracy: 0.9333 - val_loss: 0.6008 - val_accuracy: 0.8333\n",
      "Epoch 24/100\n",
      "58/60 [============================>.] - ETA: 0s - loss: 0.5935 - accuracy: 0.9310\n",
      "Epoch 00024: val_loss improved from 0.60078 to 0.60058, saving model to siamese_network.h5\n",
      "60/60 [==============================] - 1s 21ms/sample - loss: 0.5934 - accuracy: 0.9333 - val_loss: 0.6006 - val_accuracy: 0.8333\n",
      "Epoch 25/100\n",
      "54/60 [==========================>...] - ETA: 0s - loss: 0.6020 - accuracy: 0.9259\n",
      "Epoch 00025: val_loss improved from 0.60058 to 0.60013, saving model to siamese_network.h5\n",
      "60/60 [==============================] - 1s 21ms/sample - loss: 0.5931 - accuracy: 0.9333 - val_loss: 0.6001 - val_accuracy: 0.8333\n",
      "Epoch 26/100\n",
      "58/60 [============================>.] - ETA: 0s - loss: 0.5929 - accuracy: 0.9310\n",
      "Epoch 00026: val_loss improved from 0.60013 to 0.59993, saving model to siamese_network.h5\n",
      "60/60 [==============================] - 1s 21ms/sample - loss: 0.5928 - accuracy: 0.9333 - val_loss: 0.5999 - val_accuracy: 0.8333\n",
      "Epoch 27/100\n",
      "54/60 [==========================>...] - ETA: 0s - loss: 0.5919 - accuracy: 0.9444\n",
      "Epoch 00027: val_loss improved from 0.59993 to 0.59955, saving model to siamese_network.h5\n",
      "60/60 [==============================] - 1s 21ms/sample - loss: 0.5925 - accuracy: 0.9333 - val_loss: 0.5996 - val_accuracy: 0.8333\n",
      "Epoch 28/100\n",
      "57/60 [===========================>..] - ETA: 0s - loss: 0.5903 - accuracy: 0.9298\n",
      "Epoch 00028: val_loss did not improve from 0.59955\n",
      "60/60 [==============================] - 1s 20ms/sample - loss: 0.5922 - accuracy: 0.9333 - val_loss: 0.5997 - val_accuracy: 0.8500\n",
      "Epoch 29/100\n",
      "58/60 [============================>.] - ETA: 0s - loss: 0.5921 - accuracy: 0.9310\n",
      "Epoch 00029: val_loss improved from 0.59955 to 0.59913, saving model to siamese_network.h5\n",
      "60/60 [==============================] - 1s 21ms/sample - loss: 0.5921 - accuracy: 0.9333 - val_loss: 0.5991 - val_accuracy: 0.8333\n",
      "Epoch 30/100\n",
      "55/60 [==========================>...] - ETA: 0s - loss: 0.5855 - accuracy: 0.9273\n",
      "Epoch 00030: val_loss improved from 0.59913 to 0.59873, saving model to siamese_network.h5\n",
      "60/60 [==============================] - 1s 21ms/sample - loss: 0.5918 - accuracy: 0.9333 - val_loss: 0.5987 - val_accuracy: 0.8500\n",
      "Epoch 31/100\n",
      "59/60 [============================>.] - ETA: 0s - loss: 0.5895 - accuracy: 0.9322\n",
      "Epoch 00031: val_loss improved from 0.59873 to 0.59833, saving model to siamese_network.h5\n",
      "60/60 [==============================] - 1s 21ms/sample - loss: 0.5914 - accuracy: 0.9333 - val_loss: 0.5983 - val_accuracy: 0.8333\n",
      "Epoch 32/100\n",
      "58/60 [============================>.] - ETA: 0s - loss: 0.5950 - accuracy: 0.9483\n",
      "Epoch 00032: val_loss improved from 0.59833 to 0.59823, saving model to siamese_network.h5\n",
      "60/60 [==============================] - 1s 21ms/sample - loss: 0.5911 - accuracy: 0.9333 - val_loss: 0.5982 - val_accuracy: 0.8500\n",
      "Epoch 33/100\n",
      "57/60 [===========================>..] - ETA: 0s - loss: 0.5929 - accuracy: 0.9474\n",
      "Epoch 00033: val_loss improved from 0.59823 to 0.59796, saving model to siamese_network.h5\n",
      "60/60 [==============================] - 1s 21ms/sample - loss: 0.5909 - accuracy: 0.9333 - val_loss: 0.5980 - val_accuracy: 0.8500\n",
      "Epoch 34/100\n",
      "55/60 [==========================>...] - ETA: 0s - loss: 0.5929 - accuracy: 0.9273\n",
      "Epoch 00034: val_loss improved from 0.59796 to 0.59767, saving model to siamese_network.h5\n",
      "60/60 [==============================] - 1s 21ms/sample - loss: 0.5905 - accuracy: 0.9333 - val_loss: 0.5977 - val_accuracy: 0.8500\n",
      "Epoch 35/100\n",
      "56/60 [===========================>..] - ETA: 0s - loss: 0.5903 - accuracy: 0.9286\n",
      "Epoch 00035: val_loss improved from 0.59767 to 0.59740, saving model to siamese_network.h5\n",
      "60/60 [==============================] - 1s 21ms/sample - loss: 0.5902 - accuracy: 0.9333 - val_loss: 0.5974 - val_accuracy: 0.8500\n",
      "Epoch 36/100\n",
      "55/60 [==========================>...] - ETA: 0s - loss: 0.5924 - accuracy: 0.9273\n",
      "Epoch 00036: val_loss improved from 0.59740 to 0.59711, saving model to siamese_network.h5\n",
      "60/60 [==============================] - 1s 21ms/sample - loss: 0.5900 - accuracy: 0.9333 - val_loss: 0.5971 - val_accuracy: 0.8500\n",
      "Epoch 37/100\n",
      "57/60 [===========================>..] - ETA: 0s - loss: 0.5878 - accuracy: 0.9298\n",
      "Epoch 00037: val_loss improved from 0.59711 to 0.59687, saving model to siamese_network.h5\n",
      "60/60 [==============================] - 1s 21ms/sample - loss: 0.5897 - accuracy: 0.9333 - val_loss: 0.5969 - val_accuracy: 0.8500\n",
      "Epoch 38/100\n",
      "58/60 [============================>.] - ETA: 0s - loss: 0.5936 - accuracy: 0.9310\n",
      "Epoch 00038: val_loss improved from 0.59687 to 0.59665, saving model to siamese_network.h5\n",
      "60/60 [==============================] - 1s 21ms/sample - loss: 0.5894 - accuracy: 0.9333 - val_loss: 0.5967 - val_accuracy: 0.8667\n",
      "Epoch 39/100\n",
      "57/60 [===========================>..] - ETA: 0s - loss: 0.5871 - accuracy: 0.9298\n",
      "Epoch 00039: val_loss improved from 0.59665 to 0.59648, saving model to siamese_network.h5\n",
      "60/60 [==============================] - 1s 21ms/sample - loss: 0.5892 - accuracy: 0.9333 - val_loss: 0.5965 - val_accuracy: 0.8667\n",
      "Epoch 40/100\n",
      "54/60 [==========================>...] - ETA: 0s - loss: 0.5935 - accuracy: 0.9259\n",
      "Epoch 00040: val_loss improved from 0.59648 to 0.59624, saving model to siamese_network.h5\n",
      "60/60 [==============================] - 1s 21ms/sample - loss: 0.5889 - accuracy: 0.9333 - val_loss: 0.5962 - val_accuracy: 0.8667\n",
      "Epoch 41/100\n",
      "55/60 [==========================>...] - ETA: 0s - loss: 0.5867 - accuracy: 0.9273\n",
      "Epoch 00041: val_loss improved from 0.59624 to 0.59584, saving model to siamese_network.h5\n",
      "60/60 [==============================] - 1s 21ms/sample - loss: 0.5887 - accuracy: 0.9333 - val_loss: 0.5958 - val_accuracy: 0.8667\n",
      "Epoch 42/100\n",
      "59/60 [============================>.] - ETA: 0s - loss: 0.5897 - accuracy: 0.9492\n",
      "Epoch 00042: val_loss improved from 0.59584 to 0.59557, saving model to siamese_network.h5\n",
      "60/60 [==============================] - 1s 21ms/sample - loss: 0.5884 - accuracy: 0.9333 - val_loss: 0.5956 - val_accuracy: 0.8667\n",
      "Epoch 43/100\n",
      "59/60 [============================>.] - ETA: 0s - loss: 0.5902 - accuracy: 0.9322\n",
      "Epoch 00043: val_loss improved from 0.59557 to 0.59539, saving model to siamese_network.h5\n",
      "60/60 [==============================] - 1s 21ms/sample - loss: 0.5881 - accuracy: 0.9333 - val_loss: 0.5954 - val_accuracy: 0.8667\n",
      "Epoch 44/100\n",
      "58/60 [============================>.] - ETA: 0s - loss: 0.5911 - accuracy: 0.9655\n",
      "Epoch 00044: val_loss improved from 0.59539 to 0.59533, saving model to siamese_network.h5\n",
      "60/60 [==============================] - 1s 21ms/sample - loss: 0.5879 - accuracy: 0.9333 - val_loss: 0.5953 - val_accuracy: 0.8667\n",
      "Epoch 45/100\n",
      "54/60 [==========================>...] - ETA: 0s - loss: 0.5834 - accuracy: 0.9259\n",
      "Epoch 00045: val_loss improved from 0.59533 to 0.59507, saving model to siamese_network.h5\n",
      "60/60 [==============================] - 1s 21ms/sample - loss: 0.5877 - accuracy: 0.9333 - val_loss: 0.5951 - val_accuracy: 0.8667\n",
      "Epoch 46/100\n",
      "57/60 [===========================>..] - ETA: 0s - loss: 0.5853 - accuracy: 0.9298\n",
      "Epoch 00046: val_loss improved from 0.59507 to 0.59461, saving model to siamese_network.h5\n",
      "60/60 [==============================] - 1s 21ms/sample - loss: 0.5874 - accuracy: 0.9333 - val_loss: 0.5946 - val_accuracy: 0.8667\n",
      "Epoch 47/100\n",
      "57/60 [===========================>..] - ETA: 0s - loss: 0.5885 - accuracy: 0.9474\n",
      "Epoch 00047: val_loss improved from 0.59461 to 0.59431, saving model to siamese_network.h5\n",
      "60/60 [==============================] - 1s 21ms/sample - loss: 0.5872 - accuracy: 0.9333 - val_loss: 0.5943 - val_accuracy: 0.8667\n"
     ]
    },
    {
     "name": "stdout",
     "output_type": "stream",
     "text": [
      "Epoch 48/100\n",
      "59/60 [============================>.] - ETA: 0s - loss: 0.5850 - accuracy: 0.9322\n",
      "Epoch 00048: val_loss improved from 0.59431 to 0.59420, saving model to siamese_network.h5\n",
      "60/60 [==============================] - 1s 21ms/sample - loss: 0.5869 - accuracy: 0.9333 - val_loss: 0.5942 - val_accuracy: 0.8667\n",
      "Epoch 49/100\n",
      "54/60 [==========================>...] - ETA: 0s - loss: 0.5906 - accuracy: 0.9444\n",
      "Epoch 00049: val_loss improved from 0.59420 to 0.59364, saving model to siamese_network.h5\n",
      "60/60 [==============================] - 1s 21ms/sample - loss: 0.5867 - accuracy: 0.9333 - val_loss: 0.5936 - val_accuracy: 0.8667\n",
      "Epoch 50/100\n",
      "59/60 [============================>.] - ETA: 0s - loss: 0.5845 - accuracy: 0.9661\n",
      "Epoch 00050: val_loss did not improve from 0.59364\n",
      "60/60 [==============================] - 1s 20ms/sample - loss: 0.5864 - accuracy: 0.9667 - val_loss: 0.5937 - val_accuracy: 0.8667\n",
      "Epoch 51/100\n",
      "58/60 [============================>.] - ETA: 0s - loss: 0.5863 - accuracy: 0.9310\n",
      "Epoch 00051: val_loss improved from 0.59364 to 0.59358, saving model to siamese_network.h5\n",
      "60/60 [==============================] - 1s 21ms/sample - loss: 0.5862 - accuracy: 0.9333 - val_loss: 0.5936 - val_accuracy: 0.8667\n",
      "Epoch 52/100\n",
      "54/60 [==========================>...] - ETA: 0s - loss: 0.5909 - accuracy: 0.9630\n",
      "Epoch 00052: val_loss improved from 0.59358 to 0.59318, saving model to siamese_network.h5\n",
      "60/60 [==============================] - 1s 21ms/sample - loss: 0.5861 - accuracy: 0.9667 - val_loss: 0.5932 - val_accuracy: 0.8667\n",
      "Epoch 53/100\n",
      "55/60 [==========================>...] - ETA: 0s - loss: 0.5969 - accuracy: 0.9273\n",
      "Epoch 00053: val_loss improved from 0.59318 to 0.59311, saving model to siamese_network.h5\n",
      "60/60 [==============================] - 1s 21ms/sample - loss: 0.5857 - accuracy: 0.9333 - val_loss: 0.5931 - val_accuracy: 0.8667\n",
      "Epoch 54/100\n",
      "56/60 [===========================>..] - ETA: 0s - loss: 0.5857 - accuracy: 0.9643\n",
      "Epoch 00054: val_loss improved from 0.59311 to 0.59295, saving model to siamese_network.h5\n",
      "60/60 [==============================] - 1s 21ms/sample - loss: 0.5855 - accuracy: 0.9667 - val_loss: 0.5930 - val_accuracy: 0.8667\n",
      "Epoch 55/100\n",
      "59/60 [============================>.] - ETA: 0s - loss: 0.5833 - accuracy: 0.9661\n",
      "Epoch 00055: val_loss improved from 0.59295 to 0.59266, saving model to siamese_network.h5\n",
      "60/60 [==============================] - 1s 21ms/sample - loss: 0.5853 - accuracy: 0.9667 - val_loss: 0.5927 - val_accuracy: 0.8667\n",
      "Epoch 56/100\n",
      "59/60 [============================>.] - ETA: 0s - loss: 0.5872 - accuracy: 0.9661\n",
      "Epoch 00056: val_loss improved from 0.59266 to 0.59218, saving model to siamese_network.h5\n",
      "60/60 [==============================] - 1s 21ms/sample - loss: 0.5851 - accuracy: 0.9667 - val_loss: 0.5922 - val_accuracy: 0.8667\n",
      "Epoch 57/100\n",
      "56/60 [===========================>..] - ETA: 0s - loss: 0.5884 - accuracy: 0.9821\n",
      "Epoch 00057: val_loss improved from 0.59218 to 0.59211, saving model to siamese_network.h5\n",
      "60/60 [==============================] - 1s 21ms/sample - loss: 0.5848 - accuracy: 0.9667 - val_loss: 0.5921 - val_accuracy: 0.8667\n",
      "Epoch 58/100\n",
      "57/60 [===========================>..] - ETA: 0s - loss: 0.5861 - accuracy: 0.9825\n",
      "Epoch 00058: val_loss improved from 0.59211 to 0.59178, saving model to siamese_network.h5\n",
      "60/60 [==============================] - 1s 21ms/sample - loss: 0.5846 - accuracy: 0.9667 - val_loss: 0.5918 - val_accuracy: 0.8667\n",
      "Epoch 59/100\n",
      "58/60 [============================>.] - ETA: 0s - loss: 0.5844 - accuracy: 0.9655\n",
      "Epoch 00059: val_loss improved from 0.59178 to 0.59176, saving model to siamese_network.h5\n",
      "60/60 [==============================] - 1s 21ms/sample - loss: 0.5843 - accuracy: 0.9667 - val_loss: 0.5918 - val_accuracy: 0.8667\n",
      "Epoch 60/100\n",
      "57/60 [===========================>..] - ETA: 0s - loss: 0.5812 - accuracy: 0.9825\n",
      "Epoch 00060: val_loss improved from 0.59176 to 0.59128, saving model to siamese_network.h5\n",
      "60/60 [==============================] - 1s 21ms/sample - loss: 0.5841 - accuracy: 0.9667 - val_loss: 0.5913 - val_accuracy: 0.8667\n",
      "Epoch 61/100\n",
      "58/60 [============================>.] - ETA: 0s - loss: 0.5839 - accuracy: 0.9655\n",
      "Epoch 00061: val_loss improved from 0.59128 to 0.59122, saving model to siamese_network.h5\n",
      "60/60 [==============================] - 1s 21ms/sample - loss: 0.5838 - accuracy: 0.9667 - val_loss: 0.5912 - val_accuracy: 0.8667\n",
      "Epoch 62/100\n",
      "58/60 [============================>.] - ETA: 0s - loss: 0.5834 - accuracy: 0.9655\n",
      "Epoch 00062: val_loss improved from 0.59122 to 0.59085, saving model to siamese_network.h5\n",
      "60/60 [==============================] - 1s 21ms/sample - loss: 0.5836 - accuracy: 0.9667 - val_loss: 0.5909 - val_accuracy: 0.8667\n",
      "Epoch 63/100\n",
      "56/60 [===========================>..] - ETA: 0s - loss: 0.5922 - accuracy: 0.9643\n",
      "Epoch 00063: val_loss did not improve from 0.59085\n",
      "60/60 [==============================] - 1s 20ms/sample - loss: 0.5834 - accuracy: 0.9667 - val_loss: 0.5910 - val_accuracy: 0.8667\n",
      "Epoch 64/100\n",
      "56/60 [===========================>..] - ETA: 0s - loss: 0.5834 - accuracy: 0.9643\n",
      "Epoch 00064: val_loss improved from 0.59085 to 0.59058, saving model to siamese_network.h5\n",
      "60/60 [==============================] - 1s 21ms/sample - loss: 0.5832 - accuracy: 0.9667 - val_loss: 0.5906 - val_accuracy: 0.8667\n",
      "Epoch 65/100\n",
      "56/60 [===========================>..] - ETA: 0s - loss: 0.5831 - accuracy: 0.9643\n",
      "Epoch 00065: val_loss improved from 0.59058 to 0.59003, saving model to siamese_network.h5\n",
      "60/60 [==============================] - 1s 21ms/sample - loss: 0.5829 - accuracy: 0.9667 - val_loss: 0.5900 - val_accuracy: 0.8667\n",
      "Epoch 66/100\n",
      "59/60 [============================>.] - ETA: 0s - loss: 0.5848 - accuracy: 0.9661\n",
      "Epoch 00066: val_loss did not improve from 0.59003\n",
      "60/60 [==============================] - 1s 20ms/sample - loss: 0.5827 - accuracy: 0.9667 - val_loss: 0.5903 - val_accuracy: 0.8667\n",
      "Epoch 67/100\n",
      "57/60 [===========================>..] - ETA: 0s - loss: 0.5844 - accuracy: 0.9649\n",
      "Epoch 00067: val_loss improved from 0.59003 to 0.58982, saving model to siamese_network.h5\n",
      "60/60 [==============================] - 1s 21ms/sample - loss: 0.5825 - accuracy: 0.9667 - val_loss: 0.5898 - val_accuracy: 0.8667\n",
      "Epoch 68/100\n",
      "57/60 [===========================>..] - ETA: 0s - loss: 0.5886 - accuracy: 0.9649\n",
      "Epoch 00068: val_loss improved from 0.58982 to 0.58971, saving model to siamese_network.h5\n",
      "60/60 [==============================] - 1s 21ms/sample - loss: 0.5823 - accuracy: 0.9667 - val_loss: 0.5897 - val_accuracy: 0.8667\n",
      "Epoch 69/100\n",
      "56/60 [===========================>..] - ETA: 0s - loss: 0.5822 - accuracy: 0.9643\n",
      "Epoch 00069: val_loss improved from 0.58971 to 0.58936, saving model to siamese_network.h5\n",
      "60/60 [==============================] - 1s 21ms/sample - loss: 0.5820 - accuracy: 0.9667 - val_loss: 0.5894 - val_accuracy: 0.8667\n",
      "Epoch 70/100\n",
      "54/60 [==========================>...] - ETA: 0s - loss: 0.5821 - accuracy: 0.9630\n",
      "Epoch 00070: val_loss improved from 0.58936 to 0.58927, saving model to siamese_network.h5\n",
      "60/60 [==============================] - 1s 21ms/sample - loss: 0.5818 - accuracy: 0.9667 - val_loss: 0.5893 - val_accuracy: 0.8667\n",
      "Epoch 71/100\n",
      "58/60 [============================>.] - ETA: 0s - loss: 0.5816 - accuracy: 0.9655\n",
      "Epoch 00071: val_loss did not improve from 0.58927\n",
      "60/60 [==============================] - 1s 20ms/sample - loss: 0.5815 - accuracy: 0.9667 - val_loss: 0.5893 - val_accuracy: 0.8667\n",
      "Epoch 72/100\n",
      "59/60 [============================>.] - ETA: 0s - loss: 0.5793 - accuracy: 0.9661\n",
      "Epoch 00072: val_loss improved from 0.58927 to 0.58870, saving model to siamese_network.h5\n",
      "60/60 [==============================] - 1s 21ms/sample - loss: 0.5814 - accuracy: 0.9667 - val_loss: 0.5887 - val_accuracy: 0.8667\n",
      "Epoch 73/100\n",
      "58/60 [============================>.] - ETA: 0s - loss: 0.5813 - accuracy: 0.9655\n",
      "Epoch 00073: val_loss improved from 0.58870 to 0.58832, saving model to siamese_network.h5\n",
      "60/60 [==============================] - 1s 21ms/sample - loss: 0.5811 - accuracy: 0.9667 - val_loss: 0.5883 - val_accuracy: 0.8667\n",
      "Epoch 74/100\n"
     ]
    },
    {
     "name": "stdout",
     "output_type": "stream",
     "text": [
      "58/60 [============================>.] - ETA: 0s - loss: 0.5845 - accuracy: 0.9828\n",
      "Epoch 00074: val_loss improved from 0.58832 to 0.58822, saving model to siamese_network.h5\n",
      "60/60 [==============================] - 1s 21ms/sample - loss: 0.5810 - accuracy: 0.9667 - val_loss: 0.5882 - val_accuracy: 0.8667\n",
      "Epoch 75/100\n",
      "58/60 [============================>.] - ETA: 0s - loss: 0.5851 - accuracy: 0.9655\n",
      "Epoch 00075: val_loss improved from 0.58822 to 0.58801, saving model to siamese_network.h5\n",
      "60/60 [==============================] - 1s 21ms/sample - loss: 0.5807 - accuracy: 0.9667 - val_loss: 0.5880 - val_accuracy: 0.8667\n",
      "Epoch 76/100\n",
      "56/60 [===========================>..] - ETA: 0s - loss: 0.5763 - accuracy: 0.9643\n",
      "Epoch 00076: val_loss improved from 0.58801 to 0.58771, saving model to siamese_network.h5\n",
      "60/60 [==============================] - 1s 21ms/sample - loss: 0.5805 - accuracy: 0.9667 - val_loss: 0.5877 - val_accuracy: 0.8667\n",
      "Epoch 77/100\n",
      "59/60 [============================>.] - ETA: 0s - loss: 0.5824 - accuracy: 0.9661\n",
      "Epoch 00077: val_loss improved from 0.58771 to 0.58747, saving model to siamese_network.h5\n",
      "60/60 [==============================] - 1s 21ms/sample - loss: 0.5802 - accuracy: 0.9667 - val_loss: 0.5875 - val_accuracy: 0.8667\n",
      "Epoch 78/100\n",
      "56/60 [===========================>..] - ETA: 0s - loss: 0.5847 - accuracy: 0.9643\n",
      "Epoch 00078: val_loss improved from 0.58747 to 0.58711, saving model to siamese_network.h5\n",
      "60/60 [==============================] - 1s 21ms/sample - loss: 0.5801 - accuracy: 0.9667 - val_loss: 0.5871 - val_accuracy: 0.8667\n",
      "Epoch 79/100\n",
      "59/60 [============================>.] - ETA: 0s - loss: 0.5820 - accuracy: 0.9661\n",
      "Epoch 00079: val_loss did not improve from 0.58711\n",
      "60/60 [==============================] - 1s 20ms/sample - loss: 0.5798 - accuracy: 0.9667 - val_loss: 0.5874 - val_accuracy: 0.9000\n",
      "Epoch 80/100\n",
      "58/60 [============================>.] - ETA: 0s - loss: 0.5797 - accuracy: 0.9655\n",
      "Epoch 00080: val_loss improved from 0.58711 to 0.58707, saving model to siamese_network.h5\n",
      "60/60 [==============================] - 1s 21ms/sample - loss: 0.5796 - accuracy: 0.9667 - val_loss: 0.5871 - val_accuracy: 0.9000\n",
      "Epoch 81/100\n",
      "54/60 [==========================>...] - ETA: 0s - loss: 0.5749 - accuracy: 0.9630\n",
      "Epoch 00081: val_loss improved from 0.58707 to 0.58677, saving model to siamese_network.h5\n",
      "60/60 [==============================] - 1s 21ms/sample - loss: 0.5794 - accuracy: 0.9667 - val_loss: 0.5868 - val_accuracy: 0.9500\n",
      "Epoch 82/100\n",
      "56/60 [===========================>..] - ETA: 0s - loss: 0.5830 - accuracy: 0.9821\n",
      "Epoch 00082: val_loss improved from 0.58677 to 0.58663, saving model to siamese_network.h5\n",
      "60/60 [==============================] - 1s 21ms/sample - loss: 0.5792 - accuracy: 0.9667 - val_loss: 0.5866 - val_accuracy: 0.8667\n",
      "Epoch 83/100\n",
      "59/60 [============================>.] - ETA: 0s - loss: 0.5811 - accuracy: 0.9661\n",
      "Epoch 00083: val_loss improved from 0.58663 to 0.58659, saving model to siamese_network.h5\n",
      "60/60 [==============================] - 1s 21ms/sample - loss: 0.5789 - accuracy: 0.9667 - val_loss: 0.5866 - val_accuracy: 0.9333\n",
      "Epoch 84/100\n",
      "58/60 [============================>.] - ETA: 0s - loss: 0.5745 - accuracy: 0.9655\n",
      "Epoch 00084: val_loss improved from 0.58659 to 0.58601, saving model to siamese_network.h5\n",
      "60/60 [==============================] - 1s 21ms/sample - loss: 0.5788 - accuracy: 0.9667 - val_loss: 0.5860 - val_accuracy: 0.9500\n",
      "Epoch 85/100\n",
      "56/60 [===========================>..] - ETA: 0s - loss: 0.5784 - accuracy: 0.9643\n",
      "Epoch 00085: val_loss improved from 0.58601 to 0.58587, saving model to siamese_network.h5\n",
      "60/60 [==============================] - 1s 21ms/sample - loss: 0.5785 - accuracy: 0.9667 - val_loss: 0.5859 - val_accuracy: 0.9500\n",
      "Epoch 86/100\n",
      "58/60 [============================>.] - ETA: 0s - loss: 0.5829 - accuracy: 0.9655\n",
      "Epoch 00086: val_loss improved from 0.58587 to 0.58574, saving model to siamese_network.h5\n",
      "60/60 [==============================] - 1s 21ms/sample - loss: 0.5785 - accuracy: 0.9667 - val_loss: 0.5857 - val_accuracy: 0.9000\n",
      "Epoch 87/100\n",
      "57/60 [===========================>..] - ETA: 0s - loss: 0.5796 - accuracy: 0.9825\n",
      "Epoch 00087: val_loss improved from 0.58574 to 0.58560, saving model to siamese_network.h5\n",
      "60/60 [==============================] - 1s 21ms/sample - loss: 0.5782 - accuracy: 0.9667 - val_loss: 0.5856 - val_accuracy: 0.9333\n",
      "Epoch 88/100\n",
      "54/60 [==========================>...] - ETA: 0s - loss: 0.5736 - accuracy: 0.9630\n",
      "Epoch 00088: val_loss did not improve from 0.58560\n",
      "60/60 [==============================] - 1s 20ms/sample - loss: 0.5779 - accuracy: 0.9667 - val_loss: 0.5857 - val_accuracy: 0.9500\n",
      "Epoch 89/100\n",
      "57/60 [===========================>..] - ETA: 0s - loss: 0.5836 - accuracy: 0.9825\n",
      "Epoch 00089: val_loss improved from 0.58560 to 0.58514, saving model to siamese_network.h5\n",
      "60/60 [==============================] - 1s 21ms/sample - loss: 0.5777 - accuracy: 0.9667 - val_loss: 0.5851 - val_accuracy: 0.9500\n",
      "Epoch 90/100\n",
      "58/60 [============================>.] - ETA: 0s - loss: 0.5732 - accuracy: 0.9655\n",
      "Epoch 00090: val_loss did not improve from 0.58514\n",
      "60/60 [==============================] - 1s 20ms/sample - loss: 0.5775 - accuracy: 0.9667 - val_loss: 0.5852 - val_accuracy: 0.9500\n",
      "Epoch 91/100\n",
      "55/60 [==========================>...] - ETA: 0s - loss: 0.5798 - accuracy: 0.9636\n",
      "Epoch 00091: val_loss improved from 0.58514 to 0.58481, saving model to siamese_network.h5\n",
      "60/60 [==============================] - 1s 21ms/sample - loss: 0.5773 - accuracy: 0.9667 - val_loss: 0.5848 - val_accuracy: 0.9500\n",
      "Epoch 92/100\n",
      "58/60 [============================>.] - ETA: 0s - loss: 0.5728 - accuracy: 0.9655\n",
      "Epoch 00092: val_loss improved from 0.58481 to 0.58432, saving model to siamese_network.h5\n",
      "60/60 [==============================] - 1s 21ms/sample - loss: 0.5771 - accuracy: 0.9667 - val_loss: 0.5843 - val_accuracy: 0.9500\n",
      "Epoch 93/100\n",
      "59/60 [============================>.] - ETA: 0s - loss: 0.5749 - accuracy: 0.9661\n",
      "Epoch 00093: val_loss did not improve from 0.58432\n",
      "60/60 [==============================] - 1s 20ms/sample - loss: 0.5770 - accuracy: 0.9667 - val_loss: 0.5844 - val_accuracy: 0.9500\n",
      "Epoch 94/100\n",
      "59/60 [============================>.] - ETA: 0s - loss: 0.5789 - accuracy: 0.9661\n",
      "Epoch 00094: val_loss improved from 0.58432 to 0.58399, saving model to siamese_network.h5\n",
      "60/60 [==============================] - 1s 21ms/sample - loss: 0.5767 - accuracy: 0.9667 - val_loss: 0.5840 - val_accuracy: 0.9500\n",
      "Epoch 95/100\n",
      "57/60 [===========================>..] - ETA: 0s - loss: 0.5699 - accuracy: 0.9649\n",
      "Epoch 00095: val_loss did not improve from 0.58399\n",
      "60/60 [==============================] - 1s 20ms/sample - loss: 0.5765 - accuracy: 0.9667 - val_loss: 0.5844 - val_accuracy: 0.9500\n",
      "Epoch 96/100\n",
      "59/60 [============================>.] - ETA: 0s - loss: 0.5742 - accuracy: 0.9661\n",
      "Epoch 00096: val_loss improved from 0.58399 to 0.58383, saving model to siamese_network.h5\n",
      "60/60 [==============================] - 1s 21ms/sample - loss: 0.5764 - accuracy: 0.9667 - val_loss: 0.5838 - val_accuracy: 0.9500\n",
      "Epoch 97/100\n",
      "57/60 [===========================>..] - ETA: 0s - loss: 0.5741 - accuracy: 0.9649\n",
      "Epoch 00097: val_loss improved from 0.58383 to 0.58351, saving model to siamese_network.h5\n",
      "60/60 [==============================] - 1s 21ms/sample - loss: 0.5762 - accuracy: 0.9667 - val_loss: 0.5835 - val_accuracy: 0.9500\n",
      "Epoch 98/100\n",
      "56/60 [===========================>..] - ETA: 0s - loss: 0.5798 - accuracy: 0.9821\n",
      "Epoch 00098: val_loss improved from 0.58351 to 0.58327, saving model to siamese_network.h5\n",
      "60/60 [==============================] - 1s 21ms/sample - loss: 0.5759 - accuracy: 0.9667 - val_loss: 0.5833 - val_accuracy: 0.9500\n",
      "Epoch 99/100\n",
      "55/60 [==========================>...] - ETA: 0s - loss: 0.5783 - accuracy: 0.9636\n",
      "Epoch 00099: val_loss improved from 0.58327 to 0.58325, saving model to siamese_network.h5\n",
      "60/60 [==============================] - 1s 21ms/sample - loss: 0.5757 - accuracy: 0.9667 - val_loss: 0.5833 - val_accuracy: 0.9500\n",
      "Epoch 100/100\n",
      "56/60 [===========================>..] - ETA: 0s - loss: 0.5665 - accuracy: 0.9643\n",
      "Epoch 00100: val_loss improved from 0.58325 to 0.58323, saving model to siamese_network.h5\n",
      "60/60 [==============================] - 1s 22ms/sample - loss: 0.5755 - accuracy: 0.9667 - val_loss: 0.5832 - val_accuracy: 0.9500\n"
     ]
    }
   ],
   "source": [
    "\"\"\" train the model \"\"\"\n",
    "\n",
    "optimizer = Adam(learning_rate=0.0001)\n",
    "siamese.compile(loss=tf.keras.losses.BinaryCrossentropy(from_logits=True), optimizer=optimizer, metrics=[\"accuracy\"])\n",
    "# siamese.compile(loss='sparse_categorical_crossentropy', optimizer=optimizer, metrics=[\"accuracy\"])\n",
    "\n",
    "siamese.summary()\n",
    "history = siamese.fit([x_train_1, x_train_2],\n",
    "    labels_train,\n",
    "    validation_data=([x_val_1, x_val_2], labels_val),\n",
    "    batch_size=1,\n",
    "    epochs=100,   # 175 for contrastive 100 for cross ent\n",
    "    callbacks = [checkpointer, early_stopping, reduce_lr]\n",
    ")"
   ]
  },
  {
   "cell_type": "code",
   "execution_count": 22,
   "id": "5219b8e7",
   "metadata": {},
   "outputs": [
    {
     "data": {
      "image/png": "[encoded data removed]",
      "text/plain": [
       "<Figure size 432x288 with 1 Axes>"
      ]
     },
     "metadata": {
      "needs_background": "light"
     },
     "output_type": "display_data"
    }
   ],
   "source": [
    "# Plot the accuracy\n",
    "utils.plt_metric(history=history.history, metric=\"accuracy\", title=\"Model accuracy\")"
   ]
  },
  {
   "cell_type": "code",
   "execution_count": 23,
   "id": "bdb37692",
   "metadata": {},
   "outputs": [
    {
     "data": {
      "image/png": "[encoded data removed]",
      "text/plain": [
       "<Figure size 432x288 with 1 Axes>"
      ]
     },
     "metadata": {
      "needs_background": "light"
     },
     "output_type": "display_data"
    }
   ],
   "source": [
    "# Plot the cross entropy binary loss\n",
    "utils.plt_metric(history=history.history, metric=\"loss\", title=\"Binary Loss\")"
   ]
  },
  {
   "cell_type": "code",
   "execution_count": 24,
   "id": "9ebb1ff4",
   "metadata": {},
   "outputs": [
    {
     "name": "stdout",
     "output_type": "stream",
     "text": [
      "1296/1296 [==============================] - 3s 2ms/sample - loss: 0.5848 - accuracy: 0.9290\n",
      "test loss, test acc: [0.5847931128961069, 0.92901236]\n"
     ]
    }
   ],
   "source": [
    "\"\"\" Test the model \"\"\"\n",
    "results = siamese.evaluate([x_test_1, x_test_2], labels_test)\n",
    "print(\"test loss, test acc:\", results)"
   ]
  },
  {
   "cell_type": "code",
   "execution_count": 25,
   "id": "be00d433",
   "metadata": {},
   "outputs": [
    {
     "data": {
      "text/plain": [
       "array([0.35574326, 0.02214266, 0.5947736 , ..., 0.01073599, 0.58562875,\n",
       "       0.0073857 ], dtype=float32)"
      ]
     },
     "execution_count": 25,
     "metadata": {},
     "output_type": "execute_result"
    }
   ],
   "source": [
    "Y_pred = siamese.predict([x_test_1, x_test_2]).squeeze()\n",
    "Y_pred"
   ]
  },
  {
   "cell_type": "code",
   "execution_count": 26,
   "id": "f6adf7a3",
   "metadata": {},
   "outputs": [
    {
     "data": {
      "text/plain": [
       "0.27663705"
      ]
     },
     "execution_count": 26,
     "metadata": {},
     "output_type": "execute_result"
    }
   ],
   "source": [
    "Y_pred.mean()"
   ]
  },
  {
   "cell_type": "code",
   "execution_count": 27,
   "id": "e4ec4ccb",
   "metadata": {},
   "outputs": [
    {
     "data": {
      "text/plain": [
       "array([ True, False,  True, ..., False,  True, False])"
      ]
     },
     "execution_count": 27,
     "metadata": {},
     "output_type": "execute_result"
    }
   ],
   "source": [
    "# y_pred = np.argmax(Y_pred, axis=1)\n",
    "y_pred = Y_pred > Y_pred.mean()\n",
    "y_pred"
   ]
  },
  {
   "cell_type": "code",
   "execution_count": 28,
   "id": "6f3303c6",
   "metadata": {},
   "outputs": [
    {
     "data": {
      "text/plain": [
       "array([1., 0., 1., ..., 0., 1., 0.], dtype=float32)"
      ]
     },
     "execution_count": 28,
     "metadata": {},
     "output_type": "execute_result"
    }
   ],
   "source": [
    "y_test = labels_test\n",
    "y_test"
   ]
  },
  {
   "cell_type": "code",
   "execution_count": 19,
   "id": "2c08c7b8",
   "metadata": {},
   "outputs": [
    {
     "name": "stdout",
     "output_type": "stream",
     "text": [
      "\n",
      "Evaluate on test data\n",
      "Accuracy: 0.9683641975308642\n",
      "Precision: 0.9694385632413001\n",
      "Recall: 0.9683641975308642\n",
      "ROC AUC: 0.9683641975308642\n",
      "F1: 0.9683460865990928\n"
     ]
    }
   ],
   "source": [
    "print(\"\\nEvaluate on test data\")\n",
    "print(\"Accuracy:\", accuracy_score(y_test, y_pred))\n",
    "print(\"Precision:\", precision_score(y_test, y_pred, average='weighted'))\n",
    "print(\"Recall:\", recall_score(y_test, y_pred, average='weighted'))\n",
    "print(\"ROC AUC:\", roc_auc_score(y_test, y_pred, average='weighted'))\n",
    "print(\"F1:\", f1_score(y_test, y_pred, average='weighted'))"
   ]
  },
  {
   "cell_type": "code",
   "execution_count": 29,
   "id": "3661b5ee",
   "metadata": {},
   "outputs": [
    {
     "name": "stdout",
     "output_type": "stream",
     "text": [
      "Specificity: 0.9922839506172839\n"
     ]
    }
   ],
   "source": [
    "cm = confusion_matrix(y_test, y_pred)    \n",
    "# cm_display = ConfusionMatrixDisplay(cm, labels_test).plot()\n",
    "\n",
    "tn, fp, fn, tp = cm.ravel()\n",
    "specificity = tn / (tn+fp)\n",
    "print(\"Specificity:\", specificity)"
   ]
  },
  {
   "cell_type": "code",
   "execution_count": 30,
   "id": "10419799",
   "metadata": {},
   "outputs": [],
   "source": [
    "tf.keras.backend.clear_session()"
   ]
  },
  {
   "cell_type": "code",
   "execution_count": null,
   "id": "fc7ff4ae",
   "metadata": {},
   "outputs": [],
   "source": []
  }
 ],
 "metadata": {
  "kernelspec": {
   "display_name": "Python 3 (ipykernel)",
   "language": "python",
   "name": "python3"
  },
  "language_info": {
   "codemirror_mode": {
    "name": "ipython",
    "version": 3
   },
   "file_extension": ".py",
   "mimetype": "text/x-python",
   "name": "python",
   "nbconvert_exporter": "python",
   "pygments_lexer": "ipython3",
   "version": "3.7.10"
  },
  "toc": {
   "base_numbering": 1,
   "nav_menu": {},
   "number_sections": true,
   "sideBar": true,
   "skip_h1_title": false,
   "title_cell": "Table of Contents",
   "title_sidebar": "Contents",
   "toc_cell": false,
   "toc_position": {},
   "toc_section_display": true,
   "toc_window_display": false
  },
  "varInspector": {
   "cols": {
    "lenName": 16,
    "lenType": 16,
    "lenVar": 40
   },
   "kernels_config": {
    "python": {
     "delete_cmd_postfix": "",
     "delete_cmd_prefix": "del ",
     "library": "var_list.py",
     "varRefreshCmd": "print(var_dic_list())"
    },
    "r": {
     "delete_cmd_postfix": ") ",
     "delete_cmd_prefix": "rm(",
     "library": "var_list.r",
     "varRefreshCmd": "cat(var_dic_list()) "
    }
   },
   "types_to_exclude": [
    "module",
    "function",
    "builtin_function_or_method",
    "instance",
    "_Feature"
   ],
   "window_display": false
  }
 },
 "nbformat": 4,
 "nbformat_minor": 5
}
