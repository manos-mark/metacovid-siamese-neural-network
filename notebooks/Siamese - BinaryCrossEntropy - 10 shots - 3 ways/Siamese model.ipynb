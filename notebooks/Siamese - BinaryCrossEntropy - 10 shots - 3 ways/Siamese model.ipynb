{
 "cells": [
  {
   "cell_type": "code",
   "execution_count": 1,
   "id": "3c9bc068",
   "metadata": {},
   "outputs": [],
   "source": [
    "import utils\n",
    "\n",
    "import tensorflow as tf\n",
    "from tensorflow.keras.layers import Dense, Input, Flatten, Lambda\n",
    "from tensorflow.keras.models import Model\n",
    "from tensorflow.keras.optimizers import Adam\n",
    "from sklearn.metrics import confusion_matrix, ConfusionMatrixDisplay, accuracy_score, precision_score, recall_score, roc_auc_score, f1_score\n",
    "\n",
    "import numpy as np\n",
    "import os\n",
    "\n",
    "from tensorflow.keras.callbacks import EarlyStopping, ModelCheckpoint, ReduceLROnPlateau\n",
    "\n",
    "import logging"
   ]
  },
  {
   "cell_type": "code",
   "execution_count": 2,
   "id": "e0927a79",
   "metadata": {},
   "outputs": [
    {
     "name": "stdout",
     "output_type": "stream",
     "text": [
      "Using:\n",
      "\t• TensorFlow version: 2.1.0\n",
      "\t• tf.keras version: 2.2.4-tf\n",
      "\t• Running on GPU\n"
     ]
    }
   ],
   "source": [
    "logger = tf.get_logger()\n",
    "logger.setLevel(logging.ERROR)\n",
    "\n",
    "print('Using:')\n",
    "print('\\t\\u2022 TensorFlow version:', tf.__version__)\n",
    "print('\\t\\u2022 tf.keras version:', tf.keras.__version__)\n",
    "print('\\t\\u2022 Running on GPU' if tf.test.is_gpu_available() else '\\t\\u2022 GPU device not found. Running on CPU')"
   ]
  },
  {
   "cell_type": "code",
   "execution_count": 3,
   "id": "73f60667",
   "metadata": {},
   "outputs": [
    {
     "name": "stdout",
     "output_type": "stream",
     "text": [
      "Found 27 images belonging to 3 classes.\n",
      "The train set contains 27\n",
      "Found 27 images belonging to 3 classes.\n",
      "The valid set contains 27\n",
      "Found 648 images belonging to 3 classes.\n",
      "The test set contains 648\n"
     ]
    }
   ],
   "source": [
    "basedir = os.path.join(\"C:\\\\Users\\\\aktas\\\\Desktop\\\\VIBOT\\\\3.semester\\\\Meta-Learning\\\\project_final\\\\metacovid-siamese-neural-network\", \"dataset\", \"siamese\") \n",
    "\n",
    "train_image_list, train_y_list = utils.load_images(basedir, 'train', (100,100))\n",
    "print(\"The train set contains\",len(train_image_list)) \n",
    "\n",
    "valid_image_list, valid_y_list = utils.load_images(basedir, 'validation', (100,100))   \n",
    "print(\"The valid set contains\", len(valid_image_list))  \n",
    "\n",
    "test_image_list, test_y_list = utils.load_images(basedir, 'test', (100,100))   \n",
    "print(\"The test set contains\", len(test_image_list)) "
   ]
  },
  {
   "cell_type": "code",
   "execution_count": 4,
   "id": "a873fba7",
   "metadata": {},
   "outputs": [
    {
     "name": "stdout",
     "output_type": "stream",
     "text": [
      "number of pairs for training 54\n",
      "number of pairs for validation 54\n",
      "number of pairs for test 1296\n"
     ]
    }
   ],
   "source": [
    "# make train pairs\n",
    "pairs_train, labels_train = utils.make_pairs(train_image_list, train_y_list)\n",
    "\n",
    "# make validation pairs\n",
    "pairs_val, labels_val = utils.make_pairs(valid_image_list, valid_y_list)\n",
    "\n",
    "# make test pairs\n",
    "pairs_test, labels_test = utils.make_pairs(test_image_list, test_y_list)\n",
    "\n",
    "x_train_1 = pairs_train[:, 0]  \n",
    "x_train_2 = pairs_train[:, 1]\n",
    "print(\"number of pairs for training\", np.shape(x_train_1)[0]) \n",
    "\n",
    "x_val_1 = pairs_val[:, 0] \n",
    "x_val_2 = pairs_val[:, 1]\n",
    "print(\"number of pairs for validation\", np.shape(x_val_1)[0]) \n",
    "\n",
    "x_test_1 = pairs_test[:, 0] \n",
    "x_test_2 = pairs_test[:, 1]\n",
    "print(\"number of pairs for test\", np.shape(x_test_1)[0]) "
   ]
  },
  {
   "cell_type": "code",
   "execution_count": 5,
   "id": "8b9dade0",
   "metadata": {},
   "outputs": [
    {
     "name": "stdout",
     "output_type": "stream",
     "text": [
      "Model: \"model\"\n",
      "__________________________________________________________________________________________________\n",
      "Layer (type)                    Output Shape         Param #     Connected to                     \n",
      "==================================================================================================\n",
      "input_1 (InputLayer)            [(None, 100, 100, 3) 0                                            \n",
      "__________________________________________________________________________________________________\n",
      "input_2 (InputLayer)            [(None, 100, 100, 3) 0                                            \n",
      "__________________________________________________________________________________________________\n",
      "sequential (Sequential)         (None, 5120)         14748995    input_1[0][0]                    \n",
      "                                                                 input_2[0][0]                    \n",
      "__________________________________________________________________________________________________\n",
      "lambda (Lambda)                 (None, 1)            0           sequential[1][0]                 \n",
      "                                                                 sequential[2][0]                 \n",
      "__________________________________________________________________________________________________\n",
      "dense (Dense)                   (None, 1)            2           lambda[0][0]                     \n",
      "==================================================================================================\n",
      "Total params: 14,748,997\n",
      "Trainable params: 20,482\n",
      "Non-trainable params: 14,728,515\n",
      "__________________________________________________________________________________________________\n"
     ]
    }
   ],
   "source": [
    "tf.compat.v1.reset_default_graph()\n",
    "\n",
    "SIAMESE_MODEL_FNAME = 'siamese_network.h5'\n",
    "EMBEDDING_MODEL_FNAME = 'embedding_network.h5'\n",
    "\n",
    "input_1 = Input((100,100,3))\n",
    "input_2 = Input((100,100,3))\n",
    "\n",
    "embedding_network = tf.keras.models.load_model(EMBEDDING_MODEL_FNAME)\n",
    "embedding_network.trainable = False\n",
    "\n",
    "model = tf.keras.Sequential() \n",
    "for layer in embedding_network.layers:  \n",
    "    model.add(layer) \n",
    "\n",
    "model.add(Flatten(name='flat'))\n",
    "model.add(Dense(5120, name='den', activation='sigmoid', kernel_regularizer='l2')) \n",
    " \n",
    "output_1 = model(input_1) \n",
    "output_2 = model(input_2) \n",
    " \n",
    "merge_layer = Lambda(utils.manhattan_distance)([output_1, output_2]) \n",
    "output_layer = Dense(1, activation=\"sigmoid\")(merge_layer) \n",
    "siamese = Model(inputs=[input_1, input_2], outputs=output_layer) \n",
    "siamese.summary()"
   ]
  },
  {
   "cell_type": "code",
   "execution_count": 6,
   "id": "c8b4a648",
   "metadata": {},
   "outputs": [],
   "source": [
    "\"\"\" callbacks \"\"\"\n",
    "\n",
    "reduce_lr = ReduceLROnPlateau(monitor='val_loss', factor=0.2, patience=5, min_lr=0.00001)\n",
    "\n",
    "early_stopping = EarlyStopping(monitor='val_loss', patience=10, verbose=1, min_delta=0.0001)\n",
    "\n",
    "checkpointer = ModelCheckpoint(filepath='siamese_network.h5', verbose=1, \n",
    "                                save_best_only=True)"
   ]
  },
  {
   "cell_type": "code",
   "execution_count": 7,
   "id": "e5b21af7",
   "metadata": {},
   "outputs": [
    {
     "name": "stdout",
     "output_type": "stream",
     "text": [
      "Model: \"model\"\n",
      "__________________________________________________________________________________________________\n",
      "Layer (type)                    Output Shape         Param #     Connected to                     \n",
      "==================================================================================================\n",
      "input_1 (InputLayer)            [(None, 100, 100, 3) 0                                            \n",
      "__________________________________________________________________________________________________\n",
      "input_2 (InputLayer)            [(None, 100, 100, 3) 0                                            \n",
      "__________________________________________________________________________________________________\n",
      "sequential (Sequential)         (None, 5120)         14748995    input_1[0][0]                    \n",
      "                                                                 input_2[0][0]                    \n",
      "__________________________________________________________________________________________________\n",
      "lambda (Lambda)                 (None, 1)            0           sequential[1][0]                 \n",
      "                                                                 sequential[2][0]                 \n",
      "__________________________________________________________________________________________________\n",
      "dense (Dense)                   (None, 1)            2           lambda[0][0]                     \n",
      "==================================================================================================\n",
      "Total params: 14,748,997\n",
      "Trainable params: 20,482\n",
      "Non-trainable params: 14,728,515\n",
      "__________________________________________________________________________________________________\n",
      "Train on 54 samples, validate on 54 samples\n",
      "Epoch 1/100\n",
      "49/54 [==========================>...] - ETA: 0s - loss: 0.6460 - accuracy: 0.5918\n",
      "Epoch 00001: val_loss improved from inf to 0.66142, saving model to siamese_network.h5\n",
      "54/54 [==============================] - 4s 71ms/sample - loss: 0.6462 - accuracy: 0.5926 - val_loss: 0.6614 - val_accuracy: 0.5370\n",
      "Epoch 2/100\n",
      "49/54 [==========================>...] - ETA: 0s - loss: 0.6204 - accuracy: 0.5918\n",
      "Epoch 00002: val_loss improved from 0.66142 to 0.64223, saving model to siamese_network.h5\n",
      "54/54 [==============================] - 1s 20ms/sample - loss: 0.6255 - accuracy: 0.6111 - val_loss: 0.6422 - val_accuracy: 0.5370\n",
      "Epoch 3/100\n",
      "49/54 [==========================>...] - ETA: 0s - loss: 0.6187 - accuracy: 0.6122\n",
      "Epoch 00003: val_loss improved from 0.64223 to 0.62788, saving model to siamese_network.h5\n",
      "54/54 [==============================] - 1s 20ms/sample - loss: 0.6108 - accuracy: 0.6296 - val_loss: 0.6279 - val_accuracy: 0.5370\n",
      "Epoch 4/100\n",
      "49/54 [==========================>...] - ETA: 0s - loss: 0.6080 - accuracy: 0.6735\n",
      "Epoch 00004: val_loss improved from 0.62788 to 0.61697, saving model to siamese_network.h5\n",
      "54/54 [==============================] - 1s 20ms/sample - loss: 0.6005 - accuracy: 0.6667 - val_loss: 0.6170 - val_accuracy: 0.5556\n",
      "Epoch 5/100\n",
      "49/54 [==========================>...] - ETA: 0s - loss: 0.5874 - accuracy: 0.7143\n",
      "Epoch 00005: val_loss improved from 0.61697 to 0.60866, saving model to siamese_network.h5\n",
      "54/54 [==============================] - 1s 20ms/sample - loss: 0.5936 - accuracy: 0.7407 - val_loss: 0.6087 - val_accuracy: 0.5741\n",
      "Epoch 6/100\n",
      "48/54 [=========================>....] - ETA: 0s - loss: 0.5807 - accuracy: 0.8125\n",
      "Epoch 00006: val_loss improved from 0.60866 to 0.60453, saving model to siamese_network.h5\n",
      "54/54 [==============================] - 1s 20ms/sample - loss: 0.5895 - accuracy: 0.8333 - val_loss: 0.6045 - val_accuracy: 0.5926\n",
      "Epoch 7/100\n",
      "49/54 [==========================>...] - ETA: 0s - loss: 0.5853 - accuracy: 0.8776\n",
      "Epoch 00007: val_loss improved from 0.60453 to 0.60237, saving model to siamese_network.h5\n",
      "54/54 [==============================] - 1s 20ms/sample - loss: 0.5878 - accuracy: 0.8704 - val_loss: 0.6024 - val_accuracy: 0.6111\n",
      "Epoch 8/100\n",
      "49/54 [==========================>...] - ETA: 0s - loss: 0.5852 - accuracy: 0.8776\n",
      "Epoch 00008: val_loss improved from 0.60237 to 0.60186, saving model to siamese_network.h5\n",
      "54/54 [==============================] - 1s 20ms/sample - loss: 0.5872 - accuracy: 0.8889 - val_loss: 0.6019 - val_accuracy: 0.6111\n",
      "Epoch 9/100\n",
      "49/54 [==========================>...] - ETA: 0s - loss: 0.5751 - accuracy: 0.8776\n",
      "Epoch 00009: val_loss improved from 0.60186 to 0.60140, saving model to siamese_network.h5\n",
      "54/54 [==============================] - 1s 19ms/sample - loss: 0.5862 - accuracy: 0.8889 - val_loss: 0.6014 - val_accuracy: 0.6111\n",
      "Epoch 10/100\n",
      "49/54 [==========================>...] - ETA: 0s - loss: 0.5930 - accuracy: 0.8776\n",
      "Epoch 00010: val_loss improved from 0.60140 to 0.60092, saving model to siamese_network.h5\n",
      "54/54 [==============================] - 1s 20ms/sample - loss: 0.5860 - accuracy: 0.8889 - val_loss: 0.6009 - val_accuracy: 0.6667\n",
      "Epoch 11/100\n",
      "49/54 [==========================>...] - ETA: 0s - loss: 0.5789 - accuracy: 0.8776\n",
      "Epoch 00011: val_loss improved from 0.60092 to 0.60067, saving model to siamese_network.h5\n",
      "54/54 [==============================] - 1s 20ms/sample - loss: 0.5855 - accuracy: 0.8889 - val_loss: 0.6007 - val_accuracy: 0.7037\n",
      "Epoch 12/100\n",
      "49/54 [==========================>...] - ETA: 0s - loss: 0.5826 - accuracy: 0.8980\n",
      "Epoch 00012: val_loss improved from 0.60067 to 0.60030, saving model to siamese_network.h5\n",
      "54/54 [==============================] - 1s 20ms/sample - loss: 0.5852 - accuracy: 0.8889 - val_loss: 0.6003 - val_accuracy: 0.7037\n",
      "Epoch 13/100\n",
      "49/54 [==========================>...] - ETA: 0s - loss: 0.5958 - accuracy: 0.9184\n",
      "Epoch 00013: val_loss improved from 0.60030 to 0.60018, saving model to siamese_network.h5\n",
      "54/54 [==============================] - 1s 20ms/sample - loss: 0.5852 - accuracy: 0.8889 - val_loss: 0.6002 - val_accuracy: 0.7037\n",
      "Epoch 14/100\n",
      "49/54 [==========================>...] - ETA: 0s - loss: 0.5868 - accuracy: 0.9184\n",
      "Epoch 00014: val_loss did not improve from 0.60018\n",
      "54/54 [==============================] - 1s 18ms/sample - loss: 0.5849 - accuracy: 0.8889 - val_loss: 0.6006 - val_accuracy: 0.7407\n",
      "Epoch 15/100\n",
      "49/54 [==========================>...] - ETA: 0s - loss: 0.5825 - accuracy: 0.9184\n",
      "Epoch 00015: val_loss did not improve from 0.60018\n",
      "54/54 [==============================] - 1s 18ms/sample - loss: 0.5847 - accuracy: 0.9074 - val_loss: 0.6004 - val_accuracy: 0.7407\n",
      "Epoch 16/100\n",
      "49/54 [==========================>...] - ETA: 0s - loss: 0.5864 - accuracy: 0.9184\n",
      "Epoch 00016: val_loss improved from 0.60018 to 0.59974, saving model to siamese_network.h5\n",
      "54/54 [==============================] - 1s 20ms/sample - loss: 0.5844 - accuracy: 0.9074 - val_loss: 0.5997 - val_accuracy: 0.7407\n",
      "Epoch 17/100\n",
      "49/54 [==========================>...] - ETA: 0s - loss: 0.5910 - accuracy: 0.9184\n",
      "Epoch 00017: val_loss improved from 0.59974 to 0.59965, saving model to siamese_network.h5\n",
      "54/54 [==============================] - 1s 20ms/sample - loss: 0.5843 - accuracy: 0.9074 - val_loss: 0.5996 - val_accuracy: 0.7407\n",
      "Epoch 18/100\n",
      "49/54 [==========================>...] - ETA: 0s - loss: 0.5867 - accuracy: 0.8980\n",
      "Epoch 00018: val_loss improved from 0.59965 to 0.59930, saving model to siamese_network.h5\n",
      "54/54 [==============================] - 1s 20ms/sample - loss: 0.5842 - accuracy: 0.9074 - val_loss: 0.5993 - val_accuracy: 0.7593\n",
      "Epoch 19/100\n",
      "49/54 [==========================>...] - ETA: 0s - loss: 0.5766 - accuracy: 0.9184\n",
      "Epoch 00019: val_loss improved from 0.59930 to 0.59921, saving model to siamese_network.h5\n",
      "54/54 [==============================] - 1s 20ms/sample - loss: 0.5838 - accuracy: 0.9074 - val_loss: 0.5992 - val_accuracy: 0.7593\n",
      "Epoch 20/100\n",
      "49/54 [==========================>...] - ETA: 0s - loss: 0.5861 - accuracy: 0.8980\n",
      "Epoch 00020: val_loss did not improve from 0.59921\n",
      "54/54 [==============================] - 1s 19ms/sample - loss: 0.5836 - accuracy: 0.9074 - val_loss: 0.5993 - val_accuracy: 0.7593\n",
      "Epoch 21/100\n",
      "49/54 [==========================>...] - ETA: 0s - loss: 0.5855 - accuracy: 0.9184\n",
      "Epoch 00021: val_loss improved from 0.59921 to 0.59895, saving model to siamese_network.h5\n",
      "54/54 [==============================] - 1s 20ms/sample - loss: 0.5837 - accuracy: 0.9074 - val_loss: 0.5990 - val_accuracy: 0.7778\n"
     ]
    },
    {
     "name": "stdout",
     "output_type": "stream",
     "text": [
      "Epoch 22/100\n",
      "49/54 [==========================>...] - ETA: 0s - loss: 0.5813 - accuracy: 0.8980\n",
      "Epoch 00022: val_loss improved from 0.59895 to 0.59856, saving model to siamese_network.h5\n",
      "54/54 [==============================] - 1s 20ms/sample - loss: 0.5835 - accuracy: 0.9074 - val_loss: 0.5986 - val_accuracy: 0.7963\n",
      "Epoch 23/100\n",
      "49/54 [==========================>...] - ETA: 0s - loss: 0.5856 - accuracy: 0.8980\n",
      "Epoch 00023: val_loss did not improve from 0.59856\n",
      "54/54 [==============================] - 1s 19ms/sample - loss: 0.5832 - accuracy: 0.9074 - val_loss: 0.5991 - val_accuracy: 0.7778\n",
      "Epoch 24/100\n",
      "49/54 [==========================>...] - ETA: 0s - loss: 0.5851 - accuracy: 0.9184\n",
      "Epoch 00024: val_loss did not improve from 0.59856\n",
      "54/54 [==============================] - 1s 19ms/sample - loss: 0.5830 - accuracy: 0.9074 - val_loss: 0.5988 - val_accuracy: 0.7963\n",
      "Epoch 25/100\n",
      "49/54 [==========================>...] - ETA: 0s - loss: 0.5851 - accuracy: 0.9184\n",
      "Epoch 00025: val_loss did not improve from 0.59856\n",
      "54/54 [==============================] - 1s 18ms/sample - loss: 0.5829 - accuracy: 0.9074 - val_loss: 0.5988 - val_accuracy: 0.7963\n",
      "Epoch 26/100\n",
      "49/54 [==========================>...] - ETA: 0s - loss: 0.5800 - accuracy: 0.9184\n",
      "Epoch 00026: val_loss improved from 0.59856 to 0.59810, saving model to siamese_network.h5\n",
      "54/54 [==============================] - 1s 20ms/sample - loss: 0.5826 - accuracy: 0.9074 - val_loss: 0.5981 - val_accuracy: 0.7963\n",
      "Epoch 27/100\n",
      "49/54 [==========================>...] - ETA: 0s - loss: 0.5803 - accuracy: 0.9184\n",
      "Epoch 00027: val_loss improved from 0.59810 to 0.59805, saving model to siamese_network.h5\n",
      "54/54 [==============================] - 1s 20ms/sample - loss: 0.5825 - accuracy: 0.9259 - val_loss: 0.5980 - val_accuracy: 0.7963\n",
      "Epoch 28/100\n",
      "49/54 [==========================>...] - ETA: 0s - loss: 0.5802 - accuracy: 0.9184\n",
      "Epoch 00028: val_loss did not improve from 0.59805\n",
      "54/54 [==============================] - 1s 18ms/sample - loss: 0.5823 - accuracy: 0.9259 - val_loss: 0.5981 - val_accuracy: 0.7963\n",
      "Epoch 29/100\n",
      "49/54 [==========================>...] - ETA: 0s - loss: 0.5801 - accuracy: 0.9184\n",
      "Epoch 00029: val_loss improved from 0.59805 to 0.59793, saving model to siamese_network.h5\n",
      "54/54 [==============================] - 1s 20ms/sample - loss: 0.5822 - accuracy: 0.9259 - val_loss: 0.5979 - val_accuracy: 0.7963\n",
      "Epoch 30/100\n",
      "49/54 [==========================>...] - ETA: 0s - loss: 0.5845 - accuracy: 0.9184\n",
      "Epoch 00030: val_loss improved from 0.59793 to 0.59757, saving model to siamese_network.h5\n",
      "54/54 [==============================] - 1s 20ms/sample - loss: 0.5819 - accuracy: 0.9259 - val_loss: 0.5976 - val_accuracy: 0.7963\n",
      "Epoch 31/100\n",
      "49/54 [==========================>...] - ETA: 0s - loss: 0.5837 - accuracy: 0.9388\n",
      "Epoch 00031: val_loss improved from 0.59757 to 0.59742, saving model to siamese_network.h5\n",
      "54/54 [==============================] - 1s 20ms/sample - loss: 0.5818 - accuracy: 0.9259 - val_loss: 0.5974 - val_accuracy: 0.7963\n",
      "Epoch 32/100\n",
      "49/54 [==========================>...] - ETA: 0s - loss: 0.5841 - accuracy: 0.9184\n",
      "Epoch 00032: val_loss improved from 0.59742 to 0.59714, saving model to siamese_network.h5\n",
      "54/54 [==============================] - 1s 20ms/sample - loss: 0.5816 - accuracy: 0.9259 - val_loss: 0.5971 - val_accuracy: 0.7963\n",
      "Epoch 33/100\n",
      "49/54 [==========================>...] - ETA: 0s - loss: 0.5794 - accuracy: 0.9184\n",
      "Epoch 00033: val_loss improved from 0.59714 to 0.59706, saving model to siamese_network.h5\n",
      "54/54 [==============================] - 1s 20ms/sample - loss: 0.5815 - accuracy: 0.9259 - val_loss: 0.5971 - val_accuracy: 0.7963\n",
      "Epoch 34/100\n",
      "49/54 [==========================>...] - ETA: 0s - loss: 0.5828 - accuracy: 0.9592\n",
      "Epoch 00034: val_loss improved from 0.59706 to 0.59703, saving model to siamese_network.h5\n",
      "54/54 [==============================] - 1s 20ms/sample - loss: 0.5813 - accuracy: 0.9259 - val_loss: 0.5970 - val_accuracy: 0.7963\n",
      "Epoch 35/100\n",
      "49/54 [==========================>...] - ETA: 0s - loss: 0.5791 - accuracy: 0.9184\n",
      "Epoch 00035: val_loss improved from 0.59703 to 0.59685, saving model to siamese_network.h5\n",
      "54/54 [==============================] - 1s 20ms/sample - loss: 0.5812 - accuracy: 0.9259 - val_loss: 0.5968 - val_accuracy: 0.7963\n",
      "Epoch 36/100\n",
      "49/54 [==========================>...] - ETA: 0s - loss: 0.5738 - accuracy: 0.9388\n",
      "Epoch 00036: val_loss improved from 0.59685 to 0.59653, saving model to siamese_network.h5\n",
      "54/54 [==============================] - 1s 20ms/sample - loss: 0.5810 - accuracy: 0.9259 - val_loss: 0.5965 - val_accuracy: 0.7963\n",
      "Epoch 37/100\n",
      "49/54 [==========================>...] - ETA: 0s - loss: 0.5872 - accuracy: 0.9388\n",
      "Epoch 00037: val_loss improved from 0.59653 to 0.59636, saving model to siamese_network.h5\n",
      "54/54 [==============================] - 1s 20ms/sample - loss: 0.5806 - accuracy: 0.9259 - val_loss: 0.5964 - val_accuracy: 0.7963\n",
      "Epoch 38/100\n",
      "49/54 [==========================>...] - ETA: 0s - loss: 0.5928 - accuracy: 0.9184\n",
      "Epoch 00038: val_loss did not improve from 0.59636\n",
      "54/54 [==============================] - 1s 19ms/sample - loss: 0.5815 - accuracy: 0.9074 - val_loss: 0.5968 - val_accuracy: 0.7963\n",
      "Epoch 39/100\n",
      "49/54 [==========================>...] - ETA: 0s - loss: 0.5832 - accuracy: 0.9184\n",
      "Epoch 00039: val_loss improved from 0.59636 to 0.59634, saving model to siamese_network.h5\n",
      "54/54 [==============================] - 1s 20ms/sample - loss: 0.5805 - accuracy: 0.9259 - val_loss: 0.5963 - val_accuracy: 0.7963\n",
      "Epoch 40/100\n",
      "49/54 [==========================>...] - ETA: 0s - loss: 0.5923 - accuracy: 0.9184\n",
      "Epoch 00040: val_loss improved from 0.59634 to 0.59614, saving model to siamese_network.h5\n",
      "54/54 [==============================] - 1s 20ms/sample - loss: 0.5802 - accuracy: 0.9259 - val_loss: 0.5961 - val_accuracy: 0.7963\n",
      "Epoch 41/100\n",
      "49/54 [==========================>...] - ETA: 0s - loss: 0.5870 - accuracy: 0.9388\n",
      "Epoch 00041: val_loss did not improve from 0.59614\n",
      "54/54 [==============================] - 1s 19ms/sample - loss: 0.5803 - accuracy: 0.9259 - val_loss: 0.5963 - val_accuracy: 0.7963\n",
      "Epoch 42/100\n",
      "49/54 [==========================>...] - ETA: 0s - loss: 0.5777 - accuracy: 0.9184\n",
      "Epoch 00042: val_loss improved from 0.59614 to 0.59570, saving model to siamese_network.h5\n",
      "54/54 [==============================] - 1s 20ms/sample - loss: 0.5800 - accuracy: 0.9259 - val_loss: 0.5957 - val_accuracy: 0.7963\n",
      "Epoch 43/100\n",
      "49/54 [==========================>...] - ETA: 0s - loss: 0.5861 - accuracy: 0.9592\n",
      "Epoch 00043: val_loss improved from 0.59570 to 0.59557, saving model to siamese_network.h5\n",
      "54/54 [==============================] - 1s 20ms/sample - loss: 0.5798 - accuracy: 0.9259 - val_loss: 0.5956 - val_accuracy: 0.7963\n",
      "Epoch 44/100\n",
      "49/54 [==========================>...] - ETA: 0s - loss: 0.5820 - accuracy: 0.9184\n",
      "Epoch 00044: val_loss did not improve from 0.59557\n",
      "54/54 [==============================] - 1s 18ms/sample - loss: 0.5795 - accuracy: 0.9259 - val_loss: 0.5959 - val_accuracy: 0.7963\n",
      "Epoch 45/100\n",
      "49/54 [==========================>...] - ETA: 0s - loss: 0.5770 - accuracy: 0.9184\n",
      "Epoch 00045: val_loss improved from 0.59557 to 0.59546, saving model to siamese_network.h5\n",
      "54/54 [==============================] - 1s 20ms/sample - loss: 0.5795 - accuracy: 0.9259 - val_loss: 0.5955 - val_accuracy: 0.7963\n",
      "Epoch 46/100\n",
      "49/54 [==========================>...] - ETA: 0s - loss: 0.5772 - accuracy: 0.9184\n",
      "Epoch 00046: val_loss improved from 0.59546 to 0.59533, saving model to siamese_network.h5\n",
      "54/54 [==============================] - 1s 20ms/sample - loss: 0.5794 - accuracy: 0.9259 - val_loss: 0.5953 - val_accuracy: 0.7963\n",
      "Epoch 47/100\n",
      "49/54 [==========================>...] - ETA: 0s - loss: 0.5864 - accuracy: 0.9184\n",
      "Epoch 00047: val_loss improved from 0.59533 to 0.59505, saving model to siamese_network.h5\n",
      "54/54 [==============================] - 1s 20ms/sample - loss: 0.5790 - accuracy: 0.9259 - val_loss: 0.5950 - val_accuracy: 0.8148\n",
      "Epoch 48/100\n",
      "49/54 [==========================>...] - ETA: 0s - loss: 0.5907 - accuracy: 0.9388\n",
      "Epoch 00048: val_loss improved from 0.59505 to 0.59480, saving model to siamese_network.h5\n",
      "54/54 [==============================] - 1s 20ms/sample - loss: 0.5790 - accuracy: 0.9259 - val_loss: 0.5948 - val_accuracy: 0.8148\n"
     ]
    },
    {
     "name": "stdout",
     "output_type": "stream",
     "text": [
      "Epoch 49/100\n",
      "49/54 [==========================>...] - ETA: 0s - loss: 0.5856 - accuracy: 0.9388\n",
      "Epoch 00049: val_loss improved from 0.59480 to 0.59452, saving model to siamese_network.h5\n",
      "54/54 [==============================] - 1s 20ms/sample - loss: 0.5787 - accuracy: 0.9259 - val_loss: 0.5945 - val_accuracy: 0.8148\n",
      "Epoch 50/100\n",
      "49/54 [==========================>...] - ETA: 0s - loss: 0.5763 - accuracy: 0.9388\n",
      "Epoch 00050: val_loss did not improve from 0.59452\n",
      "54/54 [==============================] - 1s 19ms/sample - loss: 0.5785 - accuracy: 0.9444 - val_loss: 0.5948 - val_accuracy: 0.7963\n",
      "Epoch 51/100\n",
      "49/54 [==========================>...] - ETA: 0s - loss: 0.5715 - accuracy: 0.9184\n",
      "Epoch 00051: val_loss did not improve from 0.59452\n",
      "54/54 [==============================] - 1s 18ms/sample - loss: 0.5785 - accuracy: 0.9259 - val_loss: 0.5955 - val_accuracy: 0.7963\n",
      "Epoch 52/100\n",
      "49/54 [==========================>...] - ETA: 0s - loss: 0.5805 - accuracy: 0.9388\n",
      "Epoch 00052: val_loss improved from 0.59452 to 0.59401, saving model to siamese_network.h5\n",
      "54/54 [==============================] - 1s 20ms/sample - loss: 0.5782 - accuracy: 0.9444 - val_loss: 0.5940 - val_accuracy: 0.8148\n",
      "Epoch 53/100\n",
      "49/54 [==========================>...] - ETA: 0s - loss: 0.5759 - accuracy: 0.9184\n",
      "Epoch 00053: val_loss did not improve from 0.59401\n",
      "54/54 [==============================] - 1s 18ms/sample - loss: 0.5781 - accuracy: 0.9259 - val_loss: 0.5942 - val_accuracy: 0.8148\n",
      "Epoch 54/100\n",
      "49/54 [==========================>...] - ETA: 0s - loss: 0.5752 - accuracy: 0.9592\n",
      "Epoch 00054: val_loss did not improve from 0.59401\n",
      "54/54 [==============================] - 1s 19ms/sample - loss: 0.5779 - accuracy: 0.9444 - val_loss: 0.5941 - val_accuracy: 0.8148\n",
      "Epoch 55/100\n",
      "49/54 [==========================>...] - ETA: 0s - loss: 0.5842 - accuracy: 0.9592\n",
      "Epoch 00055: val_loss improved from 0.59401 to 0.59380, saving model to siamese_network.h5\n",
      "54/54 [==============================] - 1s 20ms/sample - loss: 0.5778 - accuracy: 0.9259 - val_loss: 0.5938 - val_accuracy: 0.8148\n",
      "Epoch 56/100\n",
      "49/54 [==========================>...] - ETA: 0s - loss: 0.5851 - accuracy: 0.9388\n",
      "Epoch 00056: val_loss did not improve from 0.59380\n",
      "54/54 [==============================] - 1s 18ms/sample - loss: 0.5777 - accuracy: 0.9444 - val_loss: 0.5946 - val_accuracy: 0.8148\n",
      "Epoch 57/100\n",
      "49/54 [==========================>...] - ETA: 0s - loss: 0.5753 - accuracy: 0.9388\n",
      "Epoch 00057: val_loss improved from 0.59380 to 0.59325, saving model to siamese_network.h5\n",
      "54/54 [==============================] - 1s 20ms/sample - loss: 0.5775 - accuracy: 0.9444 - val_loss: 0.5932 - val_accuracy: 0.8148\n",
      "Epoch 58/100\n",
      "49/54 [==========================>...] - ETA: 0s - loss: 0.5799 - accuracy: 0.9388\n",
      "Epoch 00058: val_loss did not improve from 0.59325\n",
      "54/54 [==============================] - 1s 19ms/sample - loss: 0.5775 - accuracy: 0.9444 - val_loss: 0.5933 - val_accuracy: 0.8148\n",
      "Epoch 59/100\n",
      "49/54 [==========================>...] - ETA: 0s - loss: 0.5743 - accuracy: 0.9592\n",
      "Epoch 00059: val_loss improved from 0.59325 to 0.59315, saving model to siamese_network.h5\n",
      "54/54 [==============================] - 1s 20ms/sample - loss: 0.5771 - accuracy: 0.9444 - val_loss: 0.5931 - val_accuracy: 0.8148\n",
      "Epoch 60/100\n",
      "49/54 [==========================>...] - ETA: 0s - loss: 0.5736 - accuracy: 0.9796\n",
      "Epoch 00060: val_loss improved from 0.59315 to 0.59287, saving model to siamese_network.h5\n",
      "54/54 [==============================] - 1s 20ms/sample - loss: 0.5767 - accuracy: 0.9444 - val_loss: 0.5929 - val_accuracy: 0.8148\n",
      "Epoch 61/100\n",
      "49/54 [==========================>...] - ETA: 0s - loss: 0.5844 - accuracy: 0.9388\n",
      "Epoch 00061: val_loss improved from 0.59287 to 0.59272, saving model to siamese_network.h5\n",
      "54/54 [==============================] - 1s 20ms/sample - loss: 0.5768 - accuracy: 0.9444 - val_loss: 0.5927 - val_accuracy: 0.8148\n",
      "Epoch 62/100\n",
      "49/54 [==========================>...] - ETA: 0s - loss: 0.5837 - accuracy: 0.9592\n",
      "Epoch 00062: val_loss did not improve from 0.59272\n",
      "54/54 [==============================] - 1s 19ms/sample - loss: 0.5766 - accuracy: 0.9444 - val_loss: 0.5935 - val_accuracy: 0.8148\n",
      "Epoch 63/100\n",
      "49/54 [==========================>...] - ETA: 0s - loss: 0.5742 - accuracy: 0.9388\n",
      "Epoch 00063: val_loss improved from 0.59272 to 0.59245, saving model to siamese_network.h5\n",
      "54/54 [==============================] - 1s 20ms/sample - loss: 0.5764 - accuracy: 0.9444 - val_loss: 0.5925 - val_accuracy: 0.8333\n",
      "Epoch 64/100\n",
      "49/54 [==========================>...] - ETA: 0s - loss: 0.5834 - accuracy: 0.9592\n",
      "Epoch 00064: val_loss did not improve from 0.59245\n",
      "54/54 [==============================] - 1s 19ms/sample - loss: 0.5764 - accuracy: 0.9444 - val_loss: 0.5929 - val_accuracy: 0.8148\n",
      "Epoch 65/100\n",
      "48/54 [=========================>....] - ETA: 0s - loss: 0.5707 - accuracy: 0.9583\n",
      "Epoch 00065: val_loss improved from 0.59245 to 0.59227, saving model to siamese_network.h5\n",
      "54/54 [==============================] - 1s 20ms/sample - loss: 0.5759 - accuracy: 0.9630 - val_loss: 0.5923 - val_accuracy: 0.8333\n",
      "Epoch 66/100\n",
      "49/54 [==========================>...] - ETA: 0s - loss: 0.5737 - accuracy: 0.9388\n",
      "Epoch 00066: val_loss improved from 0.59227 to 0.59215, saving model to siamese_network.h5\n",
      "54/54 [==============================] - 1s 20ms/sample - loss: 0.5761 - accuracy: 0.9444 - val_loss: 0.5921 - val_accuracy: 0.8333\n",
      "Epoch 67/100\n",
      "49/54 [==========================>...] - ETA: 0s - loss: 0.5732 - accuracy: 0.9796\n",
      "Epoch 00067: val_loss improved from 0.59215 to 0.59193, saving model to siamese_network.h5\n",
      "54/54 [==============================] - 1s 20ms/sample - loss: 0.5756 - accuracy: 0.9815 - val_loss: 0.5919 - val_accuracy: 0.8333\n",
      "Epoch 68/100\n",
      "49/54 [==========================>...] - ETA: 0s - loss: 0.5680 - accuracy: 0.9592\n",
      "Epoch 00068: val_loss did not improve from 0.59193\n",
      "54/54 [==============================] - 1s 19ms/sample - loss: 0.5756 - accuracy: 0.9630 - val_loss: 0.5924 - val_accuracy: 0.8333\n",
      "Epoch 69/100\n",
      "49/54 [==========================>...] - ETA: 0s - loss: 0.5778 - accuracy: 0.9388\n",
      "Epoch 00069: val_loss did not improve from 0.59193\n",
      "54/54 [==============================] - 1s 19ms/sample - loss: 0.5756 - accuracy: 0.9444 - val_loss: 0.5920 - val_accuracy: 0.8519\n",
      "Epoch 70/100\n",
      "49/54 [==========================>...] - ETA: 0s - loss: 0.5773 - accuracy: 0.9592\n",
      "Epoch 00070: val_loss improved from 0.59193 to 0.59143, saving model to siamese_network.h5\n",
      "54/54 [==============================] - 1s 20ms/sample - loss: 0.5752 - accuracy: 0.9630 - val_loss: 0.5914 - val_accuracy: 0.8333\n",
      "Epoch 71/100\n",
      "49/54 [==========================>...] - ETA: 0s - loss: 0.5729 - accuracy: 0.9592\n",
      "Epoch 00071: val_loss did not improve from 0.59143\n",
      "54/54 [==============================] - 1s 19ms/sample - loss: 0.5752 - accuracy: 0.9630 - val_loss: 0.5915 - val_accuracy: 0.8519\n",
      "Epoch 72/100\n",
      "49/54 [==========================>...] - ETA: 0s - loss: 0.5677 - accuracy: 0.9592\n",
      "Epoch 00072: val_loss improved from 0.59143 to 0.59122, saving model to siamese_network.h5\n",
      "54/54 [==============================] - 1s 20ms/sample - loss: 0.5750 - accuracy: 0.9630 - val_loss: 0.5912 - val_accuracy: 0.8333\n",
      "Epoch 73/100\n",
      "49/54 [==========================>...] - ETA: 0s - loss: 0.5817 - accuracy: 0.9796\n",
      "Epoch 00073: val_loss did not improve from 0.59122\n",
      "54/54 [==============================] - 1s 18ms/sample - loss: 0.5747 - accuracy: 0.9630 - val_loss: 0.5913 - val_accuracy: 0.8333\n",
      "Epoch 74/100\n",
      "49/54 [==========================>...] - ETA: 0s - loss: 0.5765 - accuracy: 0.9796\n",
      "Epoch 00074: val_loss improved from 0.59122 to 0.59114, saving model to siamese_network.h5\n",
      "54/54 [==============================] - 1s 20ms/sample - loss: 0.5745 - accuracy: 0.9630 - val_loss: 0.5911 - val_accuracy: 0.8333\n",
      "Epoch 75/100\n",
      "49/54 [==========================>...] - ETA: 0s - loss: 0.5722 - accuracy: 0.9796\n",
      "Epoch 00075: val_loss improved from 0.59114 to 0.59076, saving model to siamese_network.h5\n",
      "54/54 [==============================] - 1s 20ms/sample - loss: 0.5745 - accuracy: 0.9815 - val_loss: 0.5908 - val_accuracy: 0.8519\n",
      "Epoch 76/100\n"
     ]
    },
    {
     "name": "stdout",
     "output_type": "stream",
     "text": [
      "49/54 [==========================>...] - ETA: 0s - loss: 0.5617 - accuracy: 0.9796\n",
      "Epoch 00076: val_loss improved from 0.59076 to 0.59044, saving model to siamese_network.h5\n",
      "54/54 [==============================] - 1s 20ms/sample - loss: 0.5742 - accuracy: 0.9815 - val_loss: 0.5904 - val_accuracy: 0.8519\n",
      "Epoch 77/100\n",
      "49/54 [==========================>...] - ETA: 0s - loss: 0.5765 - accuracy: 0.9796\n",
      "Epoch 00077: val_loss improved from 0.59044 to 0.59035, saving model to siamese_network.h5\n",
      "54/54 [==============================] - 1s 20ms/sample - loss: 0.5740 - accuracy: 0.9815 - val_loss: 0.5903 - val_accuracy: 0.8519\n",
      "Epoch 78/100\n",
      "49/54 [==========================>...] - ETA: 0s - loss: 0.5761 - accuracy: 1.0000\n",
      "Epoch 00078: val_loss did not improve from 0.59035\n",
      "54/54 [==============================] - 1s 19ms/sample - loss: 0.5740 - accuracy: 0.9815 - val_loss: 0.5912 - val_accuracy: 0.8519\n",
      "Epoch 79/100\n",
      "49/54 [==========================>...] - ETA: 0s - loss: 0.5715 - accuracy: 0.9796\n",
      "Epoch 00079: val_loss improved from 0.59035 to 0.58992, saving model to siamese_network.h5\n",
      "54/54 [==============================] - 1s 20ms/sample - loss: 0.5738 - accuracy: 0.9815 - val_loss: 0.5899 - val_accuracy: 0.8519\n",
      "Epoch 80/100\n",
      "49/54 [==========================>...] - ETA: 0s - loss: 0.5706 - accuracy: 1.0000\n",
      "Epoch 00080: val_loss did not improve from 0.58992\n",
      "54/54 [==============================] - 1s 19ms/sample - loss: 0.5737 - accuracy: 1.0000 - val_loss: 0.5906 - val_accuracy: 0.8519\n",
      "Epoch 81/100\n",
      "49/54 [==========================>...] - ETA: 0s - loss: 0.5709 - accuracy: 0.9796\n",
      "Epoch 00081: val_loss improved from 0.58992 to 0.58970, saving model to siamese_network.h5\n",
      "54/54 [==============================] - 1s 20ms/sample - loss: 0.5734 - accuracy: 0.9815 - val_loss: 0.5897 - val_accuracy: 0.8519\n",
      "Epoch 82/100\n",
      "49/54 [==========================>...] - ETA: 0s - loss: 0.5704 - accuracy: 0.9796\n",
      "Epoch 00082: val_loss improved from 0.58970 to 0.58963, saving model to siamese_network.h5\n",
      "54/54 [==============================] - 1s 20ms/sample - loss: 0.5732 - accuracy: 0.9815 - val_loss: 0.5896 - val_accuracy: 0.8519\n",
      "Epoch 83/100\n",
      "49/54 [==========================>...] - ETA: 0s - loss: 0.5707 - accuracy: 1.0000\n",
      "Epoch 00083: val_loss did not improve from 0.58963\n",
      "54/54 [==============================] - 1s 19ms/sample - loss: 0.5730 - accuracy: 1.0000 - val_loss: 0.5898 - val_accuracy: 0.8519\n",
      "Epoch 84/100\n",
      "49/54 [==========================>...] - ETA: 0s - loss: 0.5757 - accuracy: 0.9796\n",
      "Epoch 00084: val_loss improved from 0.58963 to 0.58942, saving model to siamese_network.h5\n",
      "54/54 [==============================] - 1s 20ms/sample - loss: 0.5730 - accuracy: 0.9815 - val_loss: 0.5894 - val_accuracy: 0.8519\n",
      "Epoch 85/100\n",
      "49/54 [==========================>...] - ETA: 0s - loss: 0.5705 - accuracy: 1.0000\n",
      "Epoch 00085: val_loss did not improve from 0.58942\n",
      "54/54 [==============================] - 1s 18ms/sample - loss: 0.5728 - accuracy: 1.0000 - val_loss: 0.5896 - val_accuracy: 0.8519\n",
      "Epoch 86/100\n",
      "49/54 [==========================>...] - ETA: 0s - loss: 0.5697 - accuracy: 1.0000\n",
      "Epoch 00086: val_loss improved from 0.58942 to 0.58936, saving model to siamese_network.h5\n",
      "54/54 [==============================] - 1s 20ms/sample - loss: 0.5726 - accuracy: 1.0000 - val_loss: 0.5894 - val_accuracy: 0.8519\n",
      "Epoch 87/100\n",
      "49/54 [==========================>...] - ETA: 0s - loss: 0.5700 - accuracy: 1.0000\n",
      "Epoch 00087: val_loss improved from 0.58936 to 0.58907, saving model to siamese_network.h5\n",
      "54/54 [==============================] - 1s 20ms/sample - loss: 0.5724 - accuracy: 1.0000 - val_loss: 0.5891 - val_accuracy: 0.8519\n",
      "Epoch 88/100\n",
      "49/54 [==========================>...] - ETA: 0s - loss: 0.5745 - accuracy: 0.9796\n",
      "Epoch 00088: val_loss improved from 0.58907 to 0.58885, saving model to siamese_network.h5\n",
      "54/54 [==============================] - 1s 20ms/sample - loss: 0.5722 - accuracy: 0.9815 - val_loss: 0.5889 - val_accuracy: 0.8519\n",
      "Epoch 89/100\n",
      "49/54 [==========================>...] - ETA: 0s - loss: 0.5745 - accuracy: 1.0000\n",
      "Epoch 00089: val_loss did not improve from 0.58885\n",
      "54/54 [==============================] - 1s 19ms/sample - loss: 0.5722 - accuracy: 1.0000 - val_loss: 0.5896 - val_accuracy: 0.8519\n",
      "Epoch 90/100\n",
      "49/54 [==========================>...] - ETA: 0s - loss: 0.5747 - accuracy: 0.9796\n",
      "Epoch 00090: val_loss improved from 0.58885 to 0.58836, saving model to siamese_network.h5\n",
      "54/54 [==============================] - 1s 20ms/sample - loss: 0.5720 - accuracy: 0.9815 - val_loss: 0.5884 - val_accuracy: 0.8519\n",
      "Epoch 91/100\n",
      "49/54 [==========================>...] - ETA: 0s - loss: 0.5738 - accuracy: 1.0000\n",
      "Epoch 00091: val_loss improved from 0.58836 to 0.58818, saving model to siamese_network.h5\n",
      "54/54 [==============================] - 1s 20ms/sample - loss: 0.5718 - accuracy: 1.0000 - val_loss: 0.5882 - val_accuracy: 0.8519\n",
      "Epoch 92/100\n",
      "49/54 [==========================>...] - ETA: 0s - loss: 0.5744 - accuracy: 1.0000\n",
      "Epoch 00092: val_loss did not improve from 0.58818\n",
      "54/54 [==============================] - 1s 18ms/sample - loss: 0.5716 - accuracy: 1.0000 - val_loss: 0.5882 - val_accuracy: 0.8519\n",
      "Epoch 93/100\n",
      "49/54 [==========================>...] - ETA: 0s - loss: 0.5741 - accuracy: 1.0000\n",
      "Epoch 00093: val_loss improved from 0.58818 to 0.58788, saving model to siamese_network.h5\n",
      "54/54 [==============================] - 1s 20ms/sample - loss: 0.5714 - accuracy: 1.0000 - val_loss: 0.5879 - val_accuracy: 0.8889\n",
      "Epoch 94/100\n",
      "49/54 [==========================>...] - ETA: 0s - loss: 0.5688 - accuracy: 1.0000\n",
      "Epoch 00094: val_loss did not improve from 0.58788\n",
      "54/54 [==============================] - 1s 18ms/sample - loss: 0.5712 - accuracy: 1.0000 - val_loss: 0.5880 - val_accuracy: 0.8519\n",
      "Epoch 95/100\n",
      "49/54 [==========================>...] - ETA: 0s - loss: 0.5683 - accuracy: 1.0000\n",
      "Epoch 00095: val_loss improved from 0.58788 to 0.58783, saving model to siamese_network.h5\n",
      "54/54 [==============================] - 1s 20ms/sample - loss: 0.5711 - accuracy: 1.0000 - val_loss: 0.5878 - val_accuracy: 0.8519\n",
      "Epoch 96/100\n",
      "49/54 [==========================>...] - ETA: 0s - loss: 0.5728 - accuracy: 1.0000\n",
      "Epoch 00096: val_loss did not improve from 0.58783\n",
      "54/54 [==============================] - 1s 18ms/sample - loss: 0.5711 - accuracy: 1.0000 - val_loss: 0.5892 - val_accuracy: 0.8519\n",
      "Epoch 97/100\n",
      "49/54 [==========================>...] - ETA: 0s - loss: 0.5732 - accuracy: 1.0000\n",
      "Epoch 00097: val_loss improved from 0.58783 to 0.58767, saving model to siamese_network.h5\n",
      "54/54 [==============================] - 1s 20ms/sample - loss: 0.5709 - accuracy: 1.0000 - val_loss: 0.5877 - val_accuracy: 0.8519\n",
      "Epoch 98/100\n",
      "49/54 [==========================>...] - ETA: 0s - loss: 0.5683 - accuracy: 1.0000\n",
      "Epoch 00098: val_loss improved from 0.58767 to 0.58764, saving model to siamese_network.h5\n",
      "54/54 [==============================] - 1s 20ms/sample - loss: 0.5706 - accuracy: 1.0000 - val_loss: 0.5876 - val_accuracy: 0.8889\n",
      "Epoch 99/100\n",
      "49/54 [==========================>...] - ETA: 0s - loss: 0.5678 - accuracy: 1.0000\n",
      "Epoch 00099: val_loss improved from 0.58764 to 0.58701, saving model to siamese_network.h5\n",
      "54/54 [==============================] - 1s 20ms/sample - loss: 0.5705 - accuracy: 1.0000 - val_loss: 0.5870 - val_accuracy: 0.9074\n",
      "Epoch 100/100\n",
      "49/54 [==========================>...] - ETA: 0s - loss: 0.5731 - accuracy: 1.0000\n",
      "Epoch 00100: val_loss did not improve from 0.58701\n",
      "54/54 [==============================] - 1s 18ms/sample - loss: 0.5703 - accuracy: 1.0000 - val_loss: 0.5871 - val_accuracy: 0.8889\n"
     ]
    }
   ],
   "source": [
    "\"\"\" train the model \"\"\"\n",
    "\n",
    "optimizer = Adam(learning_rate=0.0001)\n",
    "siamese.compile(loss=tf.keras.losses.BinaryCrossentropy(from_logits=True), optimizer=optimizer, metrics=[\"accuracy\"])\n",
    "# siamese.compile(loss='sparse_categorical_crossentropy', optimizer=optimizer, metrics=[\"accuracy\"])\n",
    "\n",
    "siamese.summary()\n",
    "history = siamese.fit([x_train_1, x_train_2],\n",
    "    labels_train,\n",
    "    validation_data=([x_val_1, x_val_2], labels_val),\n",
    "    batch_size=1,\n",
    "    epochs=100,   # 175 for contrastive 100 for cross ent\n",
    "    callbacks = [checkpointer, early_stopping, reduce_lr]\n",
    ")"
   ]
  },
  {
   "cell_type": "code",
   "execution_count": 8,
   "id": "5219b8e7",
   "metadata": {},
   "outputs": [
    {
     "data": {
      "image/png": "[encoded data removed]",
      "text/plain": [
       "<Figure size 432x288 with 1 Axes>"
      ]
     },
     "metadata": {
      "needs_background": "light"
     },
     "output_type": "display_data"
    }
   ],
   "source": [
    "# Plot the accuracy\n",
    "utils.plt_metric(history=history.history, metric=\"accuracy\", title=\"Model accuracy\")"
   ]
  },
  {
   "cell_type": "code",
   "execution_count": 9,
   "id": "bdb37692",
   "metadata": {},
   "outputs": [
    {
     "data": {
      "image/png": "[encoded data removed]",
      "text/plain": [
       "<Figure size 432x288 with 1 Axes>"
      ]
     },
     "metadata": {
      "needs_background": "light"
     },
     "output_type": "display_data"
    }
   ],
   "source": [
    "# Plot the cross entropy binary loss\n",
    "utils.plt_metric(history=history.history, metric=\"loss\", title=\"Binary Loss\")"
   ]
  },
  {
   "cell_type": "code",
   "execution_count": 10,
   "id": "9ebb1ff4",
   "metadata": {},
   "outputs": [
    {
     "name": "stdout",
     "output_type": "stream",
     "text": [
      "1296/1296 [==============================] - 5s 4ms/sample - loss: 0.5797 - accuracy: 0.9159\n",
      "test loss, test acc: [0.579667329788208, 0.91589504]\n"
     ]
    }
   ],
   "source": [
    "\"\"\" Test the model \"\"\"\n",
    "results = siamese.evaluate([x_test_1, x_test_2], labels_test)\n",
    "print(\"test loss, test acc:\", results)"
   ]
  },
  {
   "cell_type": "code",
   "execution_count": 11,
   "id": "be00d433",
   "metadata": {},
   "outputs": [
    {
     "data": {
      "text/plain": [
       "array([0.06016368, 0.01508129, 0.56957614, ..., 0.00358473, 0.58168554,\n",
       "       0.00262036], dtype=float32)"
      ]
     },
     "execution_count": 11,
     "metadata": {},
     "output_type": "execute_result"
    }
   ],
   "source": [
    "Y_pred = siamese.predict([x_test_1, x_test_2]).squeeze()\n",
    "Y_pred"
   ]
  },
  {
   "cell_type": "code",
   "execution_count": 12,
   "id": "f6adf7a3",
   "metadata": {},
   "outputs": [
    {
     "data": {
      "text/plain": [
       "0.26945505"
      ]
     },
     "execution_count": 12,
     "metadata": {},
     "output_type": "execute_result"
    }
   ],
   "source": [
    "Y_pred.mean()"
   ]
  },
  {
   "cell_type": "code",
   "execution_count": 13,
   "id": "e4ec4ccb",
   "metadata": {},
   "outputs": [
    {
     "data": {
      "text/plain": [
       "array([False, False,  True, ..., False,  True, False])"
      ]
     },
     "execution_count": 13,
     "metadata": {},
     "output_type": "execute_result"
    }
   ],
   "source": [
    "# y_pred = np.argmax(Y_pred, axis=1)\n",
    "y_pred = Y_pred > 0.5\n",
    "y_pred"
   ]
  },
  {
   "cell_type": "code",
   "execution_count": 14,
   "id": "6f3303c6",
   "metadata": {},
   "outputs": [
    {
     "data": {
      "text/plain": [
       "array([1., 0., 1., ..., 0., 1., 0.], dtype=float32)"
      ]
     },
     "execution_count": 14,
     "metadata": {},
     "output_type": "execute_result"
    }
   ],
   "source": [
    "y_test = labels_test\n",
    "y_test"
   ]
  },
  {
   "cell_type": "code",
   "execution_count": 15,
   "id": "2c08c7b8",
   "metadata": {},
   "outputs": [
    {
     "name": "stdout",
     "output_type": "stream",
     "text": [
      "\n",
      "Evaluate on test data\n",
      "Accuracy: 0.9158950617283951\n",
      "Precision: 0.928005284015852\n",
      "Recall: 0.9158950617283951\n",
      "ROC AUC: 0.9158950617283951\n",
      "F1: 0.9152958953310928\n"
     ]
    }
   ],
   "source": [
    "print(\"\\nEvaluate on test data\")\n",
    "print(\"Accuracy:\", accuracy_score(y_test, y_pred))\n",
    "print(\"Precision:\", precision_score(y_test, y_pred, average='weighted'))\n",
    "print(\"Recall:\", recall_score(y_test, y_pred, average='weighted'))\n",
    "print(\"ROC AUC:\", roc_auc_score(y_test, y_pred, average='weighted'))\n",
    "print(\"F1:\", f1_score(y_test, y_pred, average='weighted'))"
   ]
  },
  {
   "cell_type": "code",
   "execution_count": 16,
   "id": "3661b5ee",
   "metadata": {},
   "outputs": [
    {
     "name": "stdout",
     "output_type": "stream",
     "text": [
      "Specificity: 1.0\n"
     ]
    }
   ],
   "source": [
    "cm = confusion_matrix(y_test, y_pred)    \n",
    "# cm_display = ConfusionMatrixDisplay(cm, labels_test).plot()\n",
    "\n",
    "tn, fp, fn, tp = cm.ravel()\n",
    "specificity = tn / (tn+fp)\n",
    "print(\"Specificity:\", specificity)"
   ]
  },
  {
   "cell_type": "code",
   "execution_count": 17,
   "id": "10419799",
   "metadata": {},
   "outputs": [],
   "source": [
    "tf.keras.backend.clear_session()"
   ]
  },
  {
   "cell_type": "code",
   "execution_count": null,
   "id": "fc7ff4ae",
   "metadata": {},
   "outputs": [],
   "source": []
  }
 ],
 "metadata": {
  "kernelspec": {
   "display_name": "Python 3 (ipykernel)",
   "language": "python",
   "name": "python3"
  },
  "language_info": {
   "codemirror_mode": {
    "name": "ipython",
    "version": 3
   },
   "file_extension": ".py",
   "mimetype": "text/x-python",
   "name": "python",
   "nbconvert_exporter": "python",
   "pygments_lexer": "ipython3",
   "version": "3.7.10"
  },
  "toc": {
   "base_numbering": 1,
   "nav_menu": {},
   "number_sections": true,
   "sideBar": true,
   "skip_h1_title": false,
   "title_cell": "Table of Contents",
   "title_sidebar": "Contents",
   "toc_cell": false,
   "toc_position": {},
   "toc_section_display": true,
   "toc_window_display": false
  },
  "varInspector": {
   "cols": {
    "lenName": 16,
    "lenType": 16,
    "lenVar": 40
   },
   "kernels_config": {
    "python": {
     "delete_cmd_postfix": "",
     "delete_cmd_prefix": "del ",
     "library": "var_list.py",
     "varRefreshCmd": "print(var_dic_list())"
    },
    "r": {
     "delete_cmd_postfix": ") ",
     "delete_cmd_prefix": "rm(",
     "library": "var_list.r",
     "varRefreshCmd": "cat(var_dic_list()) "
    }
   },
   "types_to_exclude": [
    "module",
    "function",
    "builtin_function_or_method",
    "instance",
    "_Feature"
   ],
   "window_display": false
  }
 },
 "nbformat": 4,
 "nbformat_minor": 5
}
