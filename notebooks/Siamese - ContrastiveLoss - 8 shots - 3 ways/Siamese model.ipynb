{
 "cells": [
  {
   "cell_type": "code",
   "execution_count": 1,
   "id": "3c9bc068",
   "metadata": {},
   "outputs": [],
   "source": [
    "import utils\n",
    "\n",
    "import tensorflow as tf\n",
    "from tensorflow.keras.layers import Dense, Input, Flatten, Lambda\n",
    "from tensorflow.keras.models import Model\n",
    "from tensorflow.keras.optimizers import Adam\n",
    "from sklearn.metrics import confusion_matrix, ConfusionMatrixDisplay, accuracy_score, precision_score, recall_score, roc_auc_score, f1_score\n",
    "\n",
    "import numpy as np\n",
    "import os\n",
    "\n",
    "from tensorflow.keras.callbacks import EarlyStopping, ModelCheckpoint, ReduceLROnPlateau\n",
    "\n",
    "import logging"
   ]
  },
  {
   "cell_type": "code",
   "execution_count": 2,
   "id": "e0927a79",
   "metadata": {},
   "outputs": [
    {
     "name": "stdout",
     "output_type": "stream",
     "text": [
      "Using:\n",
      "\t• TensorFlow version: 2.1.0\n",
      "\t• tf.keras version: 2.2.4-tf\n",
      "\t• Running on GPU\n"
     ]
    }
   ],
   "source": [
    "logger = tf.get_logger()\n",
    "logger.setLevel(logging.ERROR)\n",
    "\n",
    "print('Using:')\n",
    "print('\\t\\u2022 TensorFlow version:', tf.__version__)\n",
    "print('\\t\\u2022 tf.keras version:', tf.keras.__version__)\n",
    "print('\\t\\u2022 Running on GPU' if tf.test.is_gpu_available() else '\\t\\u2022 GPU device not found. Running on CPU')"
   ]
  },
  {
   "cell_type": "code",
   "execution_count": 3,
   "id": "73f60667",
   "metadata": {},
   "outputs": [
    {
     "name": "stdout",
     "output_type": "stream",
     "text": [
      "Found 24 images belonging to 3 classes.\n",
      "The train set contains 24\n",
      "Found 24 images belonging to 3 classes.\n",
      "The valid set contains 24\n",
      "Found 648 images belonging to 3 classes.\n",
      "The test set contains 648\n"
     ]
    }
   ],
   "source": [
    "basedir = os.path.join(\"C:\\\\Users\\\\aktas\\\\Desktop\\\\VIBOT\\\\3.semester\\\\Meta-Learning\\\\project_final\\\\metacovid-siamese-neural-network\", \"dataset\", \"siamese\") \n",
    "\n",
    "train_image_list, train_y_list = utils.load_images(basedir, 'train', (100,100))\n",
    "print(\"The train set contains\",len(train_image_list)) \n",
    "\n",
    "valid_image_list, valid_y_list = utils.load_images(basedir, 'validation', (100,100))   \n",
    "print(\"The valid set contains\", len(valid_image_list))  \n",
    "\n",
    "test_image_list, test_y_list = utils.load_images(basedir, 'test', (100,100))   \n",
    "print(\"The test set contains\", len(test_image_list)) "
   ]
  },
  {
   "cell_type": "code",
   "execution_count": 4,
   "id": "a873fba7",
   "metadata": {},
   "outputs": [
    {
     "name": "stdout",
     "output_type": "stream",
     "text": [
      "number of pairs for training 48\n",
      "number of pairs for validation 48\n",
      "number of pairs for test 1296\n"
     ]
    }
   ],
   "source": [
    "# make train pairs\n",
    "pairs_train, labels_train = utils.make_pairs(train_image_list, train_y_list)\n",
    "\n",
    "# make validation pairs\n",
    "pairs_val, labels_val = utils.make_pairs(valid_image_list, valid_y_list)\n",
    "\n",
    "# make test pairs\n",
    "pairs_test, labels_test = utils.make_pairs(test_image_list, test_y_list)\n",
    "\n",
    "x_train_1 = pairs_train[:, 0]  \n",
    "x_train_2 = pairs_train[:, 1]\n",
    "print(\"number of pairs for training\", np.shape(x_train_1)[0]) \n",
    "\n",
    "x_val_1 = pairs_val[:, 0] \n",
    "x_val_2 = pairs_val[:, 1]\n",
    "print(\"number of pairs for validation\", np.shape(x_val_1)[0]) \n",
    "\n",
    "x_test_1 = pairs_test[:, 0] \n",
    "x_test_2 = pairs_test[:, 1]\n",
    "print(\"number of pairs for test\", np.shape(x_test_1)[0]) "
   ]
  },
  {
   "cell_type": "code",
   "execution_count": 5,
   "id": "8b9dade0",
   "metadata": {},
   "outputs": [
    {
     "name": "stdout",
     "output_type": "stream",
     "text": [
      "Model: \"model\"\n",
      "__________________________________________________________________________________________________\n",
      "Layer (type)                    Output Shape         Param #     Connected to                     \n",
      "==================================================================================================\n",
      "input_1 (InputLayer)            [(None, 100, 100, 3) 0                                            \n",
      "__________________________________________________________________________________________________\n",
      "input_2 (InputLayer)            [(None, 100, 100, 3) 0                                            \n",
      "__________________________________________________________________________________________________\n",
      "sequential (Sequential)         (None, 5120)         14748995    input_1[0][0]                    \n",
      "                                                                 input_2[0][0]                    \n",
      "__________________________________________________________________________________________________\n",
      "lambda (Lambda)                 (None, 1)            0           sequential[1][0]                 \n",
      "                                                                 sequential[2][0]                 \n",
      "__________________________________________________________________________________________________\n",
      "dense (Dense)                   (None, 1)            2           lambda[0][0]                     \n",
      "==================================================================================================\n",
      "Total params: 14,748,997\n",
      "Trainable params: 20,482\n",
      "Non-trainable params: 14,728,515\n",
      "__________________________________________________________________________________________________\n"
     ]
    }
   ],
   "source": [
    "tf.compat.v1.reset_default_graph()\n",
    "\n",
    "SIAMESE_MODEL_FNAME = 'siamese_network.h5'\n",
    "EMBEDDING_MODEL_FNAME = 'embedding_network.h5'\n",
    "\n",
    "input_1 = Input((100,100,3))\n",
    "input_2 = Input((100,100,3))\n",
    "\n",
    "embedding_network = tf.keras.models.load_model(EMBEDDING_MODEL_FNAME)\n",
    "embedding_network.trainable = False\n",
    "\n",
    "model = tf.keras.Sequential() \n",
    "for layer in embedding_network.layers:  \n",
    "    model.add(layer) \n",
    "\n",
    "model.add(Flatten(name='flat'))\n",
    "model.add(Dense(5120, name='den', activation='sigmoid', kernel_regularizer='l2')) \n",
    " \n",
    "output_1 = model(input_1) \n",
    "output_2 = model(input_2) \n",
    " \n",
    "merge_layer = Lambda(utils.manhattan_distance)([output_1, output_2]) \n",
    "output_layer = Dense(1, activation=\"sigmoid\")(merge_layer) \n",
    "siamese = Model(inputs=[input_1, input_2], outputs=output_layer) \n",
    "siamese.summary()"
   ]
  },
  {
   "cell_type": "code",
   "execution_count": 6,
   "id": "c8b4a648",
   "metadata": {},
   "outputs": [],
   "source": [
    "\"\"\" callbacks \"\"\"\n",
    "\n",
    "reduce_lr = ReduceLROnPlateau(monitor='val_loss', factor=0.2, patience=5, min_lr=0.00001)\n",
    "\n",
    "early_stopping = EarlyStopping(monitor='val_loss', patience=10, verbose=1, min_delta=0.0001)\n",
    "\n",
    "checkpointer = ModelCheckpoint(filepath='siamese_network.h5', verbose=1, \n",
    "                                save_best_only=True)"
   ]
  },
  {
   "cell_type": "code",
   "execution_count": 7,
   "id": "e5b21af7",
   "metadata": {},
   "outputs": [
    {
     "name": "stdout",
     "output_type": "stream",
     "text": [
      "Model: \"model\"\n",
      "__________________________________________________________________________________________________\n",
      "Layer (type)                    Output Shape         Param #     Connected to                     \n",
      "==================================================================================================\n",
      "input_1 (InputLayer)            [(None, 100, 100, 3) 0                                            \n",
      "__________________________________________________________________________________________________\n",
      "input_2 (InputLayer)            [(None, 100, 100, 3) 0                                            \n",
      "__________________________________________________________________________________________________\n",
      "sequential (Sequential)         (None, 5120)         14748995    input_1[0][0]                    \n",
      "                                                                 input_2[0][0]                    \n",
      "__________________________________________________________________________________________________\n",
      "lambda (Lambda)                 (None, 1)            0           sequential[1][0]                 \n",
      "                                                                 sequential[2][0]                 \n",
      "__________________________________________________________________________________________________\n",
      "dense (Dense)                   (None, 1)            2           lambda[0][0]                     \n",
      "==================================================================================================\n",
      "Total params: 14,748,997\n",
      "Trainable params: 20,482\n",
      "Non-trainable params: 14,728,515\n",
      "__________________________________________________________________________________________________\n",
      "Train on 48 samples, validate on 48 samples\n",
      "Epoch 1/175\n",
      "42/48 [=========================>....] - ETA: 0s - loss: 0.2651 - accuracy: 0.5714\n",
      "Epoch 00001: val_loss improved from inf to 0.36601, saving model to siamese_network.h5\n",
      "48/48 [==============================] - 4s 77ms/sample - loss: 0.2683 - accuracy: 0.5208 - val_loss: 0.3660 - val_accuracy: 0.5417\n",
      "Epoch 2/175\n",
      "43/48 [=========================>....] - ETA: 0s - loss: 0.2598 - accuracy: 0.5116\n",
      "Epoch 00002: val_loss improved from 0.36601 to 0.34285, saving model to siamese_network.h5\n",
      "48/48 [==============================] - 1s 21ms/sample - loss: 0.2468 - accuracy: 0.5417 - val_loss: 0.3428 - val_accuracy: 0.5625\n",
      "Epoch 3/175\n",
      "43/48 [=========================>....] - ETA: 0s - loss: 0.2167 - accuracy: 0.5581\n",
      "Epoch 00003: val_loss improved from 0.34285 to 0.32140, saving model to siamese_network.h5\n",
      "48/48 [==============================] - 1s 21ms/sample - loss: 0.2245 - accuracy: 0.5417 - val_loss: 0.3214 - val_accuracy: 0.5625\n",
      "Epoch 4/175\n",
      "43/48 [=========================>....] - ETA: 0s - loss: 0.1913 - accuracy: 0.6279\n",
      "Epoch 00004: val_loss improved from 0.32140 to 0.29744, saving model to siamese_network.h5\n",
      "48/48 [==============================] - 1s 21ms/sample - loss: 0.2033 - accuracy: 0.5833 - val_loss: 0.2974 - val_accuracy: 0.5833\n",
      "Epoch 5/175\n",
      "42/48 [=========================>....] - ETA: 0s - loss: 0.1939 - accuracy: 0.6190\n",
      "Epoch 00005: val_loss improved from 0.29744 to 0.27508, saving model to siamese_network.h5\n",
      "48/48 [==============================] - 1s 21ms/sample - loss: 0.1839 - accuracy: 0.6250 - val_loss: 0.2751 - val_accuracy: 0.5833\n",
      "Epoch 6/175\n",
      "47/48 [============================>.] - ETA: 0s - loss: 0.1702 - accuracy: 0.6809\n",
      "Epoch 00006: val_loss improved from 0.27508 to 0.25411, saving model to siamese_network.h5\n",
      "48/48 [==============================] - 1s 21ms/sample - loss: 0.1669 - accuracy: 0.6875 - val_loss: 0.2541 - val_accuracy: 0.5833\n",
      "Epoch 7/175\n",
      "46/48 [===========================>..] - ETA: 0s - loss: 0.1518 - accuracy: 0.7174\n",
      "Epoch 00007: val_loss improved from 0.25411 to 0.23395, saving model to siamese_network.h5\n",
      "48/48 [==============================] - 1s 21ms/sample - loss: 0.1538 - accuracy: 0.7083 - val_loss: 0.2340 - val_accuracy: 0.5833\n",
      "Epoch 8/175\n",
      "43/48 [=========================>....] - ETA: 0s - loss: 0.1369 - accuracy: 0.7907\n",
      "Epoch 00008: val_loss improved from 0.23395 to 0.20563, saving model to siamese_network.h5\n",
      "48/48 [==============================] - 1s 21ms/sample - loss: 0.1453 - accuracy: 0.7708 - val_loss: 0.2056 - val_accuracy: 0.6667\n",
      "Epoch 9/175\n",
      "42/48 [=========================>....] - ETA: 0s - loss: 0.1387 - accuracy: 0.8095\n",
      "Epoch 00009: val_loss improved from 0.20563 to 0.18780, saving model to siamese_network.h5\n",
      "48/48 [==============================] - 1s 21ms/sample - loss: 0.1388 - accuracy: 0.8125 - val_loss: 0.1878 - val_accuracy: 0.6875\n",
      "Epoch 10/175\n",
      "42/48 [=========================>....] - ETA: 0s - loss: 0.1464 - accuracy: 0.8333\n",
      "Epoch 00010: val_loss improved from 0.18780 to 0.18345, saving model to siamese_network.h5\n",
      "48/48 [==============================] - 1s 21ms/sample - loss: 0.1357 - accuracy: 0.8333 - val_loss: 0.1834 - val_accuracy: 0.7083\n",
      "Epoch 11/175\n",
      "47/48 [============================>.] - ETA: 0s - loss: 0.1319 - accuracy: 0.8298\n",
      "Epoch 00011: val_loss improved from 0.18345 to 0.17230, saving model to siamese_network.h5\n",
      "48/48 [==============================] - 1s 21ms/sample - loss: 0.1344 - accuracy: 0.8333 - val_loss: 0.1723 - val_accuracy: 0.7083\n",
      "Epoch 12/175\n",
      "43/48 [=========================>....] - ETA: 0s - loss: 0.1428 - accuracy: 0.8140\n",
      "Epoch 00012: val_loss did not improve from 0.17230\n",
      "48/48 [==============================] - 1s 19ms/sample - loss: 0.1339 - accuracy: 0.8333 - val_loss: 0.1764 - val_accuracy: 0.7083\n",
      "Epoch 13/175\n",
      "43/48 [=========================>....] - ETA: 0s - loss: 0.1183 - accuracy: 0.8372\n",
      "Epoch 00013: val_loss did not improve from 0.17230\n",
      "48/48 [==============================] - 1s 19ms/sample - loss: 0.1327 - accuracy: 0.8333 - val_loss: 0.1744 - val_accuracy: 0.7083\n",
      "Epoch 14/175\n",
      "47/48 [============================>.] - ETA: 0s - loss: 0.1345 - accuracy: 0.8298\n",
      "Epoch 00014: val_loss improved from 0.17230 to 0.17127, saving model to siamese_network.h5\n",
      "48/48 [==============================] - 1s 21ms/sample - loss: 0.1320 - accuracy: 0.8333 - val_loss: 0.1713 - val_accuracy: 0.7083\n",
      "Epoch 15/175\n",
      "44/48 [==========================>...] - ETA: 0s - loss: 0.1314 - accuracy: 0.8409\n",
      "Epoch 00015: val_loss did not improve from 0.17127\n",
      "48/48 [==============================] - 1s 20ms/sample - loss: 0.1309 - accuracy: 0.8542 - val_loss: 0.1811 - val_accuracy: 0.7083\n",
      "Epoch 16/175\n",
      "42/48 [=========================>....] - ETA: 0s - loss: 0.1296 - accuracy: 0.8333\n",
      "Epoch 00016: val_loss did not improve from 0.17127\n",
      "48/48 [==============================] - 1s 20ms/sample - loss: 0.1305 - accuracy: 0.8333 - val_loss: 0.1740 - val_accuracy: 0.7083\n",
      "Epoch 17/175\n",
      "46/48 [===========================>..] - ETA: 0s - loss: 0.1244 - accuracy: 0.8478\n",
      "Epoch 00017: val_loss improved from 0.17127 to 0.17086, saving model to siamese_network.h5\n",
      "48/48 [==============================] - 1s 21ms/sample - loss: 0.1301 - accuracy: 0.8333 - val_loss: 0.1709 - val_accuracy: 0.7083\n",
      "Epoch 18/175\n",
      "42/48 [=========================>....] - ETA: 0s - loss: 0.1298 - accuracy: 0.8095\n",
      "Epoch 00018: val_loss did not improve from 0.17086\n",
      "48/48 [==============================] - 1s 20ms/sample - loss: 0.1289 - accuracy: 0.8333 - val_loss: 0.1756 - val_accuracy: 0.7083\n",
      "Epoch 19/175\n",
      "46/48 [===========================>..] - ETA: 0s - loss: 0.1272 - accuracy: 0.8478\n",
      "Epoch 00019: val_loss did not improve from 0.17086\n",
      "48/48 [==============================] - 1s 20ms/sample - loss: 0.1289 - accuracy: 0.8333 - val_loss: 0.1750 - val_accuracy: 0.7083\n",
      "Epoch 20/175\n",
      "47/48 [============================>.] - ETA: 0s - loss: 0.1298 - accuracy: 0.8298\n",
      "Epoch 00020: val_loss improved from 0.17086 to 0.16442, saving model to siamese_network.h5\n",
      "48/48 [==============================] - 1s 21ms/sample - loss: 0.1272 - accuracy: 0.8333 - val_loss: 0.1644 - val_accuracy: 0.7500\n",
      "Epoch 21/175\n",
      "47/48 [============================>.] - ETA: 0s - loss: 0.1283 - accuracy: 0.8723\n",
      "Epoch 00021: val_loss did not improve from 0.16442\n",
      "48/48 [==============================] - 1s 20ms/sample - loss: 0.1306 - accuracy: 0.8750 - val_loss: 0.1840 - val_accuracy: 0.7083\n",
      "Epoch 22/175\n"
     ]
    },
    {
     "name": "stdout",
     "output_type": "stream",
     "text": [
      "43/48 [=========================>....] - ETA: 0s - loss: 0.1303 - accuracy: 0.8605\n",
      "Epoch 00022: val_loss did not improve from 0.16442\n",
      "48/48 [==============================] - 1s 20ms/sample - loss: 0.1269 - accuracy: 0.8750 - val_loss: 0.1725 - val_accuracy: 0.7083\n",
      "Epoch 23/175\n",
      "43/48 [=========================>....] - ETA: 0s - loss: 0.1308 - accuracy: 0.8605\n",
      "Epoch 00023: val_loss did not improve from 0.16442\n",
      "48/48 [==============================] - 1s 20ms/sample - loss: 0.1271 - accuracy: 0.8750 - val_loss: 0.1860 - val_accuracy: 0.7083\n",
      "Epoch 24/175\n",
      "47/48 [============================>.] - ETA: 0s - loss: 0.1251 - accuracy: 0.8298\n",
      "Epoch 00024: val_loss improved from 0.16442 to 0.16385, saving model to siamese_network.h5\n",
      "48/48 [==============================] - 1s 21ms/sample - loss: 0.1274 - accuracy: 0.8333 - val_loss: 0.1639 - val_accuracy: 0.7292\n",
      "Epoch 25/175\n",
      "46/48 [===========================>..] - ETA: 0s - loss: 0.1253 - accuracy: 0.8913\n",
      "Epoch 00025: val_loss did not improve from 0.16385\n",
      "48/48 [==============================] - 1s 20ms/sample - loss: 0.1252 - accuracy: 0.8958 - val_loss: 0.1667 - val_accuracy: 0.7292\n",
      "Epoch 26/175\n",
      "47/48 [============================>.] - ETA: 0s - loss: 0.1219 - accuracy: 0.8936\n",
      "Epoch 00026: val_loss did not improve from 0.16385\n",
      "48/48 [==============================] - 1s 20ms/sample - loss: 0.1242 - accuracy: 0.8958 - val_loss: 0.1705 - val_accuracy: 0.7083\n",
      "Epoch 27/175\n",
      "45/48 [===========================>..] - ETA: 0s - loss: 0.1213 - accuracy: 0.9111\n",
      "Epoch 00027: val_loss did not improve from 0.16385\n",
      "48/48 [==============================] - 1s 20ms/sample - loss: 0.1241 - accuracy: 0.8958 - val_loss: 0.1647 - val_accuracy: 0.7500\n",
      "Epoch 28/175\n",
      "45/48 [===========================>..] - ETA: 0s - loss: 0.1311 - accuracy: 0.9111\n",
      "Epoch 00028: val_loss did not improve from 0.16385\n",
      "48/48 [==============================] - 1s 20ms/sample - loss: 0.1231 - accuracy: 0.9167 - val_loss: 0.1687 - val_accuracy: 0.7292\n",
      "Epoch 29/175\n",
      "43/48 [=========================>....] - ETA: 0s - loss: 0.1309 - accuracy: 0.9070\n",
      "Epoch 00029: val_loss did not improve from 0.16385\n",
      "48/48 [==============================] - 1s 20ms/sample - loss: 0.1227 - accuracy: 0.9167 - val_loss: 0.1684 - val_accuracy: 0.7292\n",
      "Epoch 30/175\n",
      "43/48 [=========================>....] - ETA: 0s - loss: 0.1178 - accuracy: 0.9302\n",
      "Epoch 00030: val_loss did not improve from 0.16385\n",
      "48/48 [==============================] - 1s 20ms/sample - loss: 0.1218 - accuracy: 0.8958 - val_loss: 0.1690 - val_accuracy: 0.7292\n",
      "Epoch 31/175\n",
      "46/48 [===========================>..] - ETA: 0s - loss: 0.1269 - accuracy: 0.9348\n",
      "Epoch 00031: val_loss did not improve from 0.16385\n",
      "48/48 [==============================] - 1s 20ms/sample - loss: 0.1216 - accuracy: 0.9375 - val_loss: 0.1665 - val_accuracy: 0.7292\n",
      "Epoch 32/175\n",
      "46/48 [===========================>..] - ETA: 0s - loss: 0.1264 - accuracy: 0.9348\n",
      "Epoch 00032: val_loss did not improve from 0.16385\n",
      "48/48 [==============================] - 1s 20ms/sample - loss: 0.1215 - accuracy: 0.9375 - val_loss: 0.1658 - val_accuracy: 0.7500\n",
      "Epoch 33/175\n",
      "47/48 [============================>.] - ETA: 0s - loss: 0.1240 - accuracy: 0.9362\n",
      "Epoch 00033: val_loss did not improve from 0.16385\n",
      "48/48 [==============================] - 1s 20ms/sample - loss: 0.1214 - accuracy: 0.9375 - val_loss: 0.1683 - val_accuracy: 0.7292\n",
      "Epoch 34/175\n",
      "45/48 [===========================>..] - ETA: 0s - loss: 0.1182 - accuracy: 0.9333\n",
      "Epoch 00034: val_loss did not improve from 0.16385\n",
      "48/48 [==============================] - 1s 20ms/sample - loss: 0.1214 - accuracy: 0.9167 - val_loss: 0.1673 - val_accuracy: 0.7292\n",
      "Epoch 00034: early stopping\n"
     ]
    }
   ],
   "source": [
    "\"\"\" train the model \"\"\"\n",
    "\n",
    "optimizer = Adam(learning_rate=0.0001)\n",
    "siamese.compile(loss=utils.loss(1), optimizer=optimizer, metrics=[\"accuracy\"])\n",
    "# siamese.compile(loss='sparse_categorical_crossentropy', optimizer=optimizer, metrics=[\"accuracy\"])\n",
    "\n",
    "siamese.summary()\n",
    "history = siamese.fit([x_train_1, x_train_2],\n",
    "    labels_train,\n",
    "    validation_data=([x_val_1, x_val_2], labels_val),\n",
    "    batch_size=1,\n",
    "    epochs=175,   # 175 for contrastive 100 for cross ent\n",
    "    callbacks = [checkpointer, early_stopping, reduce_lr]\n",
    ")"
   ]
  },
  {
   "cell_type": "code",
   "execution_count": 9,
   "id": "5219b8e7",
   "metadata": {},
   "outputs": [
    {
     "data": {
      "image/png": "[encoded data removed]",
      "text/plain": [
       "<Figure size 432x288 with 1 Axes>"
      ]
     },
     "metadata": {
      "needs_background": "light"
     },
     "output_type": "display_data"
    }
   ],
   "source": [
    "# Plot the accuracy\n",
    "utils.plt_metric(history=history.history, metric=\"accuracy\", title=\"Model accuracy\")"
   ]
  },
  {
   "cell_type": "code",
   "execution_count": 10,
   "id": "bdb37692",
   "metadata": {},
   "outputs": [
    {
     "data": {
      "image/png": "[encoded data removed]",
      "text/plain": [
       "<Figure size 432x288 with 1 Axes>"
      ]
     },
     "metadata": {
      "needs_background": "light"
     },
     "output_type": "display_data"
    }
   ],
   "source": [
    "# Plot the constrastive loss\n",
    "utils.plt_metric(history=history.history, metric=\"loss\", title=\"Constrastive Loss\")"
   ]
  },
  {
   "cell_type": "code",
   "execution_count": 11,
   "id": "9ebb1ff4",
   "metadata": {},
   "outputs": [
    {
     "name": "stdout",
     "output_type": "stream",
     "text": [
      "1296/1296 [==============================] - 5s 4ms/sample - loss: 0.1365 - accuracy: 0.8642\n",
      "test loss, test acc: [0.1365442211613243, 0.86419755]\n"
     ]
    }
   ],
   "source": [
    "\"\"\" Test the model \"\"\"\n",
    "results = siamese.evaluate([x_test_1, x_test_2], labels_test)\n",
    "print(\"test loss, test acc:\", results)"
   ]
  },
  {
   "cell_type": "code",
   "execution_count": 12,
   "id": "be00d433",
   "metadata": {},
   "outputs": [
    {
     "data": {
      "text/plain": [
       "array([0.2801596 , 0.08263765, 0.5158076 , ..., 0.05681348, 0.51679474,\n",
       "       0.01069612], dtype=float32)"
      ]
     },
     "execution_count": 12,
     "metadata": {},
     "output_type": "execute_result"
    }
   ],
   "source": [
    "Y_pred = siamese.predict([x_test_1, x_test_2]).squeeze()\n",
    "Y_pred"
   ]
  },
  {
   "cell_type": "code",
   "execution_count": 13,
   "id": "e4ec4ccb",
   "metadata": {},
   "outputs": [
    {
     "data": {
      "text/plain": [
       "array([False, False,  True, ..., False,  True, False])"
      ]
     },
     "execution_count": 13,
     "metadata": {},
     "output_type": "execute_result"
    }
   ],
   "source": [
    "# y_pred = np.argmax(Y_pred, axis=1)\n",
    "y_pred = Y_pred > .5\n",
    "y_pred"
   ]
  },
  {
   "cell_type": "code",
   "execution_count": 14,
   "id": "6f3303c6",
   "metadata": {},
   "outputs": [
    {
     "data": {
      "text/plain": [
       "array([1., 0., 1., ..., 0., 1., 0.], dtype=float32)"
      ]
     },
     "execution_count": 14,
     "metadata": {},
     "output_type": "execute_result"
    }
   ],
   "source": [
    "y_test = labels_test\n",
    "y_test"
   ]
  },
  {
   "cell_type": "code",
   "execution_count": 15,
   "id": "2c08c7b8",
   "metadata": {},
   "outputs": [
    {
     "name": "stdout",
     "output_type": "stream",
     "text": [
      "\n",
      "Evaluate on test data\n",
      "Accuracy: 0.8641975308641975\n",
      "Precision: 0.8932038834951456\n",
      "Recall: 0.8641975308641975\n",
      "ROC AUC: 0.8641975308641976\n",
      "F1: 0.8616459627329193\n"
     ]
    }
   ],
   "source": [
    "print(\"\\nEvaluate on test data\")\n",
    "print(\"Accuracy:\", accuracy_score(y_test, y_pred))\n",
    "print(\"Precision:\", precision_score(y_test, y_pred, average='weighted'))\n",
    "print(\"Recall:\", recall_score(y_test, y_pred, average='weighted'))\n",
    "print(\"ROC AUC:\", roc_auc_score(y_test, y_pred, average='weighted'))\n",
    "print(\"F1:\", f1_score(y_test, y_pred, average='weighted'))"
   ]
  },
  {
   "cell_type": "code",
   "execution_count": 16,
   "id": "3661b5ee",
   "metadata": {},
   "outputs": [
    {
     "name": "stdout",
     "output_type": "stream",
     "text": [
      "Specificity: 1.0\n"
     ]
    }
   ],
   "source": [
    "cm = confusion_matrix(y_test, y_pred)    \n",
    "# cm_display = ConfusionMatrixDisplay(cm, labels_test).plot()\n",
    "\n",
    "tn, fp, fn, tp = cm.ravel()\n",
    "specificity = tn / (tn+fp)\n",
    "print(\"Specificity:\", specificity)"
   ]
  },
  {
   "cell_type": "code",
   "execution_count": 17,
   "id": "10419799",
   "metadata": {},
   "outputs": [],
   "source": [
    "tf.keras.backend.clear_session()"
   ]
  },
  {
   "cell_type": "code",
   "execution_count": null,
   "id": "fc7ff4ae",
   "metadata": {},
   "outputs": [],
   "source": []
  }
 ],
 "metadata": {
  "kernelspec": {
   "display_name": "Python 3 (ipykernel)",
   "language": "python",
   "name": "python3"
  },
  "language_info": {
   "codemirror_mode": {
    "name": "ipython",
    "version": 3
   },
   "file_extension": ".py",
   "mimetype": "text/x-python",
   "name": "python",
   "nbconvert_exporter": "python",
   "pygments_lexer": "ipython3",
   "version": "3.7.10"
  },
  "toc": {
   "base_numbering": 1,
   "nav_menu": {},
   "number_sections": true,
   "sideBar": true,
   "skip_h1_title": false,
   "title_cell": "Table of Contents",
   "title_sidebar": "Contents",
   "toc_cell": false,
   "toc_position": {},
   "toc_section_display": true,
   "toc_window_display": false
  },
  "varInspector": {
   "cols": {
    "lenName": 16,
    "lenType": 16,
    "lenVar": 40
   },
   "kernels_config": {
    "python": {
     "delete_cmd_postfix": "",
     "delete_cmd_prefix": "del ",
     "library": "var_list.py",
     "varRefreshCmd": "print(var_dic_list())"
    },
    "r": {
     "delete_cmd_postfix": ") ",
     "delete_cmd_prefix": "rm(",
     "library": "var_list.r",
     "varRefreshCmd": "cat(var_dic_list()) "
    }
   },
   "types_to_exclude": [
    "module",
    "function",
    "builtin_function_or_method",
    "instance",
    "_Feature"
   ],
   "window_display": false
  }
 },
 "nbformat": 4,
 "nbformat_minor": 5
}
